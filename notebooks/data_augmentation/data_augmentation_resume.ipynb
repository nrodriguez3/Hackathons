{
 "cells": [
  {
   "cell_type": "markdown",
   "metadata": {},
   "source": [
    "## When Should You Use Data Augmentation?   \n",
    "\n",
    "1. To prevent models from overfitting.\n",
    "2. The initial training set is too small.\n",
    "3. To improve the model accuracy.\n",
    "4. To Reduce the operational cost of labeling and cleaning the raw dataset. \n"
   ]
  },
  {
   "cell_type": "markdown",
   "metadata": {},
   "source": [
    "### Limitations of Data Augmentation\n",
    "\n",
    "1. The biases in the original dataset persist in the augmented data.\n",
    "2. Quality assurance for data augmentation is expensive. \n",
    "3. Research and development are required to build a system with advanced applications. For example, generating high-resolution images using GANs can be challenging.\n",
    "4. Finding an effective data augmentation approach can be challenging. "
   ]
  },
  {
   "cell_type": "markdown",
   "metadata": {},
   "source": [
    "# Ejemplos\n",
    "\n",
    "## Text Data Augmentation \n",
    "1. Word or sentence shuffling: randomly changing the position of a word or sentence. \n",
    "2. Word replacement: replace words with synonyms.\n",
    "3. Syntax-tree manipulation: paraphrase the sentence using the same word.\n",
    "4. Random word insertion: inserts words at random. \n",
    "5. Random word deletion: deletes words at random. \n",
    "\n",
    "\n",
    "## Image Augmentation \n",
    "1. Geometric transformations: randomly flip, crop, rotate, stretch, and zoom images. You need to be careful about applying multiple transformations on the same images, as this can reduce model performance. \n",
    "2. Color space transformations: randomly change RGB color channels, contrast, and brightness.\n",
    "3. Kernel filters: randomly change the sharpness or blurring of the image. \n",
    "4. Random erasing: delete some part of the initial image.\n",
    "5. Mixing images: blending and mixing multiple images. \n",
    "\n",
    "## Audio Data Augmentation \n",
    "1. Noise injection: add gaussian or random noise to the audio dataset to improve the model performance. \n",
    "2. Shifting: shift audio left (fast forward) or right with random seconds.\n",
    "3. Changing the speed: stretches times series by a fixed rate.\n",
    "4. Changing the pitch: randomly change the pitch of the audio. \n",
    "\n",
    "## Advanced Techniques \n",
    "1. Generative adversarial networks (GANs): used to generate new data points or images. It does not require existing data to generate synthetic data. "
   ]
  },
  {
   "cell_type": "markdown",
   "metadata": {},
   "source": [
    "# Aplicaciones\n",
    "\n",
    "1. **Healthcare**: For example, in the case of Pneumonia Classification, you can use random cropping, zooming, stretching, and color space transformation to improve the model performance. However, you need to be careful about certain augmentations as they can result in opposite results. For example, random rotation and reflection along the x-axis are not recommended for the X-ray imaging dataset. \n",
    "\n",
    "2. **Natural Language Processing**: text data augmentation is generally used in situations with limited quality data, and improving the performance metric takes priority. You can apply synonym augmentation, word embedding, character swap, and random insertion and deletion. These techniques are also valuable for low-resource languages.\n",
    "\n"
   ]
  },
  {
   "cell_type": "code",
   "execution_count": null,
   "metadata": {},
   "outputs": [],
   "source": []
  }
 ],
 "metadata": {
  "kernelspec": {
   "display_name": "Python 3",
   "language": "python",
   "name": "python3"
  },
  "language_info": {
   "codemirror_mode": {
    "name": "ipython",
    "version": 3
   },
   "file_extension": ".py",
   "mimetype": "text/x-python",
   "name": "python",
   "nbconvert_exporter": "python",
   "pygments_lexer": "ipython3",
   "version": "3.7.3"
  }
 },
 "nbformat": 4,
 "nbformat_minor": 2
}

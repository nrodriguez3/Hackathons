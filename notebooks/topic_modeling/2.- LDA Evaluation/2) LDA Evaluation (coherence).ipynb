{
 "cells": [
  {
   "cell_type": "markdown",
   "metadata": {},
   "source": [
    "# Evaluate Topic Model in Python: Latent Dirichlet Allocation (LDA)"
   ]
  },
  {
   "cell_type": "markdown",
   "metadata": {},
   "source": [
    "## Model Implementation\n",
    "\n",
    "1. Loading data\n",
    "2. Data Cleaning\n",
    "3. Phrase Modeling: Bi-grams and Tri-grams\n",
    "4. Data transformation: Corpus and Dictionary\n",
    "5. Base Model Performance\n",
    "6. Hyperparameter Tuning\n",
    "7. Final Model\n",
    "8. Visualize Results"
   ]
  },
  {
   "cell_type": "markdown",
   "metadata": {},
   "source": [
    "#### What is topic coherence?\n",
    "Topic Coherence measures score a single topic by measuring the degree of semantic similarity between high scoring words in the topic. These measurements help distinguish between topics that are semantically interpretable topics and topics that are artifacts of statistical inference. But,\n",
    "\n",
    "#### What is coherence?\n",
    "A set of statements or facts is said to be coherent, if they support each other. Thus, a coherent fact set can be interpreted in a context that covers all or most of the facts. An example of a coherent fact set is \"the game is a team sport\", \"the game is played with a ball\", \"the game demands great physical efforts\""
   ]
  },
  {
   "cell_type": "markdown",
   "metadata": {},
   "source": [
    "## 1. Loading Data "
   ]
  },
  {
   "cell_type": "code",
   "execution_count": 4,
   "metadata": {},
   "outputs": [
    {
     "data": {
      "text/html": [
       "<div>\n",
       "<style scoped>\n",
       "    .dataframe tbody tr th:only-of-type {\n",
       "        vertical-align: middle;\n",
       "    }\n",
       "\n",
       "    .dataframe tbody tr th {\n",
       "        vertical-align: top;\n",
       "    }\n",
       "\n",
       "    .dataframe thead th {\n",
       "        text-align: right;\n",
       "    }\n",
       "</style>\n",
       "<table border=\"1\" class=\"dataframe\">\n",
       "  <thead>\n",
       "    <tr style=\"text-align: right;\">\n",
       "      <th></th>\n",
       "      <th>id</th>\n",
       "      <th>year</th>\n",
       "      <th>title</th>\n",
       "      <th>event_type</th>\n",
       "      <th>pdf_name</th>\n",
       "      <th>abstract</th>\n",
       "      <th>paper_text</th>\n",
       "    </tr>\n",
       "  </thead>\n",
       "  <tbody>\n",
       "    <tr>\n",
       "      <th>0</th>\n",
       "      <td>1</td>\n",
       "      <td>1987</td>\n",
       "      <td>Self-Organization of Associative Database and ...</td>\n",
       "      <td>NaN</td>\n",
       "      <td>1-self-organization-of-associative-database-an...</td>\n",
       "      <td>Abstract Missing</td>\n",
       "      <td>767\\n\\nSELF-ORGANIZATION OF ASSOCIATIVE DATABA...</td>\n",
       "    </tr>\n",
       "    <tr>\n",
       "      <th>1</th>\n",
       "      <td>10</td>\n",
       "      <td>1987</td>\n",
       "      <td>A Mean Field Theory of Layer IV of Visual Cort...</td>\n",
       "      <td>NaN</td>\n",
       "      <td>10-a-mean-field-theory-of-layer-iv-of-visual-c...</td>\n",
       "      <td>Abstract Missing</td>\n",
       "      <td>683\\n\\nA MEAN FIELD THEORY OF LAYER IV OF VISU...</td>\n",
       "    </tr>\n",
       "    <tr>\n",
       "      <th>2</th>\n",
       "      <td>100</td>\n",
       "      <td>1988</td>\n",
       "      <td>Storing Covariance by the Associative Long-Ter...</td>\n",
       "      <td>NaN</td>\n",
       "      <td>100-storing-covariance-by-the-associative-long...</td>\n",
       "      <td>Abstract Missing</td>\n",
       "      <td>394\\n\\nSTORING COVARIANCE BY THE ASSOCIATIVE\\n...</td>\n",
       "    </tr>\n",
       "    <tr>\n",
       "      <th>3</th>\n",
       "      <td>1000</td>\n",
       "      <td>1994</td>\n",
       "      <td>Bayesian Query Construction for Neural Network...</td>\n",
       "      <td>NaN</td>\n",
       "      <td>1000-bayesian-query-construction-for-neural-ne...</td>\n",
       "      <td>Abstract Missing</td>\n",
       "      <td>Bayesian Query Construction for Neural\\nNetwor...</td>\n",
       "    </tr>\n",
       "    <tr>\n",
       "      <th>4</th>\n",
       "      <td>1001</td>\n",
       "      <td>1994</td>\n",
       "      <td>Neural Network Ensembles, Cross Validation, an...</td>\n",
       "      <td>NaN</td>\n",
       "      <td>1001-neural-network-ensembles-cross-validation...</td>\n",
       "      <td>Abstract Missing</td>\n",
       "      <td>Neural Network Ensembles, Cross\\nValidation, a...</td>\n",
       "    </tr>\n",
       "  </tbody>\n",
       "</table>\n",
       "</div>"
      ],
      "text/plain": [
       "     id  year                                              title event_type  \\\n",
       "0     1  1987  Self-Organization of Associative Database and ...        NaN   \n",
       "1    10  1987  A Mean Field Theory of Layer IV of Visual Cort...        NaN   \n",
       "2   100  1988  Storing Covariance by the Associative Long-Ter...        NaN   \n",
       "3  1000  1994  Bayesian Query Construction for Neural Network...        NaN   \n",
       "4  1001  1994  Neural Network Ensembles, Cross Validation, an...        NaN   \n",
       "\n",
       "                                            pdf_name          abstract  \\\n",
       "0  1-self-organization-of-associative-database-an...  Abstract Missing   \n",
       "1  10-a-mean-field-theory-of-layer-iv-of-visual-c...  Abstract Missing   \n",
       "2  100-storing-covariance-by-the-associative-long...  Abstract Missing   \n",
       "3  1000-bayesian-query-construction-for-neural-ne...  Abstract Missing   \n",
       "4  1001-neural-network-ensembles-cross-validation...  Abstract Missing   \n",
       "\n",
       "                                          paper_text  \n",
       "0  767\\n\\nSELF-ORGANIZATION OF ASSOCIATIVE DATABA...  \n",
       "1  683\\n\\nA MEAN FIELD THEORY OF LAYER IV OF VISU...  \n",
       "2  394\\n\\nSTORING COVARIANCE BY THE ASSOCIATIVE\\n...  \n",
       "3  Bayesian Query Construction for Neural\\nNetwor...  \n",
       "4  Neural Network Ensembles, Cross\\nValidation, a...  "
      ]
     },
     "execution_count": 4,
     "metadata": {},
     "output_type": "execute_result"
    }
   ],
   "source": [
    "import pandas as pd\n",
    "import os \n",
    "import numpy as np\n",
    "\n",
    "os.chdir('C:/Users/alexa/Desktop/Eiemplos LDA/2.- LDA Evaluation')\n",
    "\n",
    "# Read data into papers\n",
    "papers = pd.read_csv('./data/NIPS Papers/papers.csv')\n",
    "papers.head()"
   ]
  },
  {
   "cell_type": "markdown",
   "metadata": {},
   "source": [
    "## 2. Data Cleaning"
   ]
  },
  {
   "cell_type": "code",
   "execution_count": 5,
   "metadata": {},
   "outputs": [
    {
     "data": {
      "text/html": [
       "<div>\n",
       "<style scoped>\n",
       "    .dataframe tbody tr th:only-of-type {\n",
       "        vertical-align: middle;\n",
       "    }\n",
       "\n",
       "    .dataframe tbody tr th {\n",
       "        vertical-align: top;\n",
       "    }\n",
       "\n",
       "    .dataframe thead th {\n",
       "        text-align: right;\n",
       "    }\n",
       "</style>\n",
       "<table border=\"1\" class=\"dataframe\">\n",
       "  <thead>\n",
       "    <tr style=\"text-align: right;\">\n",
       "      <th></th>\n",
       "      <th>paper_text</th>\n",
       "    </tr>\n",
       "  </thead>\n",
       "  <tbody>\n",
       "    <tr>\n",
       "      <th>2765</th>\n",
       "      <td>Playing Pinball with non-invasive BCI\\n\\nMicha...</td>\n",
       "    </tr>\n",
       "    <tr>\n",
       "      <th>1924</th>\n",
       "      <td>Distributed Occlusion Reasoning for Tracking\\n...</td>\n",
       "    </tr>\n",
       "    <tr>\n",
       "      <th>3352</th>\n",
       "      <td>Semi-Supervised Learning with Adversarially\\nM...</td>\n",
       "    </tr>\n",
       "    <tr>\n",
       "      <th>4636</th>\n",
       "      <td>Action from Still Image Dataset and Inverse Op...</td>\n",
       "    </tr>\n",
       "    <tr>\n",
       "      <th>2043</th>\n",
       "      <td>Computing the Solution Path for the\\nRegulariz...</td>\n",
       "    </tr>\n",
       "  </tbody>\n",
       "</table>\n",
       "</div>"
      ],
      "text/plain": [
       "                                             paper_text\n",
       "2765  Playing Pinball with non-invasive BCI\\n\\nMicha...\n",
       "1924  Distributed Occlusion Reasoning for Tracking\\n...\n",
       "3352  Semi-Supervised Learning with Adversarially\\nM...\n",
       "4636  Action from Still Image Dataset and Inverse Op...\n",
       "2043  Computing the Solution Path for the\\nRegulariz..."
      ]
     },
     "execution_count": 5,
     "metadata": {},
     "output_type": "execute_result"
    }
   ],
   "source": [
    "# Remove the columns\n",
    "papers = papers.drop(columns=['id', 'title', 'abstract', \n",
    "                              'event_type', 'pdf_name', 'year'], axis=1)\n",
    "\n",
    "# sample only 100 papers\n",
    "papers = papers.sample(100)       # <------- sample: Muestra aleatoria\n",
    "\n",
    "# Print out the first rows of papers\n",
    "papers.head()"
   ]
  },
  {
   "cell_type": "code",
   "execution_count": 8,
   "metadata": {},
   "outputs": [
    {
     "data": {
      "text/plain": [
       "'Playing Pinball with non-invasive BCI\\n\\nMichael W. Tangermann\\nMachine Learning Laboratory\\nBerlin Institute of Technology\\nBerlin, Germany\\n\\nMatthias Krauledat\\nMachine Learning Laboratory\\nBerlin Institute of Technology\\nBerlin, Germany\\n\\nschroedm@cs.tu-berlin.de\\n\\nkraulem@cs.tu-berlin.de\\n\\nKonrad Grzeska\\nMachine Learning Laboratory\\nBerlin Institute of Technology\\nBerlin, Germany\\n\\nMax Sagebaum\\nMachine Learning Laboratory\\nBerlin Institute of Technology\\nBerlin, Germany\\n\\nkonradg@cs.tu-berlin.de\\n\\nmax.sagebaum@first.fraunhofer.de\\n\\nCarmen Vidaurre\\nMachine Learning Laboratory\\nBerlin Institute of Technology\\nBerlin, Germany\\n\\nBenjamin Blankertz\\nMachine Learning Laboratory\\nBerlin Institute of Technology\\nBerlin, Germany\\n\\nvidcar@cs.tu-berlin.de\\n\\nblanker@cs.tu-berlin.de\\n\\n?\\nKlaus-Robert Muller\\nMachine Learning Laboratory, Berlin Institute of Technology, Berlin, Germany\\nkrm@cs.tu-berlin.de\\n\\nAbstract\\nCompared to invasive Brain-Computer Interfaces (BCI), non-invasive BCI systems based on Electroencephalogram (EEG) signals have not been applied successfully for precisely timed control tasks. In the present study, however, we\\ndemonstrate and report on the interaction of subjects with a real device: a pinball\\nmachine. Results of this study clearly show that fast and well-timed control well\\nbeyond chance level is possible, even though the environment is extremely rich\\nand requires precisely timed and complex predictive behavior. Using machine\\nlearning methods for mental state decoding, BCI-based pinball control is possible\\nwithin the first session without the necessity to employ lengthy subject training.\\nThe current study shows clearly that very compelling control with excellent timing\\nand dynamics is possible for a non-invasive BCI.\\n\\n1\\n\\nIntroduction\\n\\nBrain computer interfaces (BCI) have seen a rapid development towards faster and more userfriendly systems for thought-based control of devices such as video games, wheel chairs, robotic\\ndevices etc. While a full control of even complex trajectories has become possible for invasive BCIs\\n[1, 2, 3], non-invasive EEG-based systems have been considered hardly able to provide such high\\ninformation transfer rates between man and machine [4, 5].\\nThis paper will show evidence that real-time BCI control of a machine is possible with little subject\\ntraining. The machine studied (a standard pinball machine, see Fig. 1 requires only two classes for\\ncontrol but a very fast and precise reaction; predictive behavior and learning are mandatory. We\\n1\\n\\n\\x0cconsider it a formidable platform for studying timing and dynamics of brain control in real-time interaction with a physical machine. Furthermore this paradigm is well suited for future investigations\\nof mental states during complex real-time tasks and decision-making processes.\\n\\nFigure 1: Left: pinball machine used for the present study. Middle: Close look at the build-in\\ngadgets of the play field. Right: Zoom into the modified parts of the play field (side walls and\\ncentral bump).\\nCompared to highly controlled and simplified lab settings, a pinball machine provides flow (according to the definition in [6]), a rich and complex feedback, acoustic and visual distractors, and a\\nchallenging behavioral task. These components are well-known ingredients for engaging and immersive game environments [7]. In case of the pinball machine model used in this study, this receives\\nfurther evidence from the high sales figures that have made the Addams Family model the all-time\\npopular pinball machine.\\nGiven the reaction-time critical pinball game and the intrinsic delays imposed on the subjects by the\\nBCI technology, it is very interesting to observe that subjects can manage to control and maintain\\nthe necessary timing and dynamics. The prediction of upcoming game situations and behavioral\\nadaptation to the machine and BCI constraints are necessary ingredients to master this difficult task.\\nThe following Sections Sec. 2 and Sec. 3 briefly introduce the used motor paradigm, spatial filter\\nmethods, the experimental paradigm, the decoding and machine learning techniques used, Sec. 4\\nprovides the statistics and results, and finally a brief discussion is given in section Sec. 5.\\n\\n2\\n2.1\\n\\nBackground\\nNeurophysiology\\n\\nMacroscopic brain activity during resting wakefulness contains distinct rhythms located over various\\nbrain areas. Sensorimotor cortices show rhythmic macroscopic EEG oscillations (?-rhythm or sensorimotor rhythm, SMR), with spectral peak energies of about 8?14 Hz (?-band) and/or 16?28 Hz\\n(?-band) localized in the motor and somatosensory cortex ([8]).\\nA large class of EEG-based BCI systems relies on the fact that amplitude modulations of sensorimotor rhythms can be caused, e.g. by imagining movements. For example, the power of the ?-rhythm\\ndecreases during imagined hand movements in the corresponding representation area which is located in the contralateral sensorimotor cortex. This phenomenon is called event-related desynchronization (ERD, [9, 10]), while the increase of band power is termed event-related synchronization\\n(ERS). This may be observed, e.g., during motor imagery over flanking sensorimotor areas, possibly reflecting an ?surround inhibition? enhancing focal cortical activation, see [11, 10]. The exact\\nlocation and the exact frequency band of the sensorimotor rhythm is subject-specific. Hence indi2\\n\\n\\x0cvidually optimized filters can increase the signal-to-noise ratio dramatically [12]. To this end, the\\nCSP technique has proven to be useful.\\n2.2\\n\\nCommon Spatial Pattern (CSP) Analysis\\n\\nCommon Spatial Pattern and its extensions (e.g. [13, 14, 15, 16, 12]) is a technique to analyze\\nmulti-channel data based on recordings from two classes (conditions). It is used e.g. in BCI systems\\nbased on the modulation of brain rhythms. CSP yields a data-driven supervised decomposition of\\nthe signal parameterized by a matrix W ? IRC?C0 (C being the number of channels; C0 ? C) that\\nprojects the signal x(t) ? IRC in the original sensor space to xCSP (t) ? IRC0 , which lives in the\\nsurrogate sensor space, as follows:\\nxCSP (t) = W> x(t).\\nEach column vector of W represents a spatial filter. In particular CSP filters maximize the EEG signal?s variance under one condition while simultaneously minimizing it for the other condition. Since\\nvariance of band-pass filtered signals is equal to band power, CSP analysis is applied to band-pass\\nfiltered signals in order to obtain an effective discrimination of mental states that are characterized\\nby ERD/ERS effects (see above). In the example of left vs. right hand motor imagery, the CSP algorithm will find two groups of spatial filters. The first will show high band power during left hand\\nmotor imagery and low band power during right hand motor imagery, and the second vice versa.\\nLet ?i be the covariance matrix of the trial-concatenated matrix of dimension [C ? T ] (where C is\\nthe number of electrodes and T is the number of concatenated samples) belonging to the respective\\nclass i ? {1, 2}. The CSP analysis consists of calculating a matrix W ? IRC?C and a diagonal\\nmatrix D with elements in [0, 1] such that\\nW> ?1 W = D and W> ?2 W = I ? D\\n(1)\\nwhere I ? IR\\nis the identity matrix. This can be solved as a generalized eigenvalue problem.\\nThe projection that is given by the i-th column of matrix W has a relative variance of di (i-th\\nelement of D) for trials of class 1 and relative variance 1 ? di for trials of class 2. If di is near 1,\\nthe filter given by the i-th column of W (i.e., the ith spatial filter) maximizes the variance for class\\n1, and since 1 ? di is near 0, it also minimizes the variance for class 2. Typically one would retain\\nprojections corresponding to two or three of the highest eigenvalues di , i.e., CSP filters for class 1,\\nand projections corresponding to the two or three lowest eigenvalues, i.e., CSP filters for class 2.\\nFor a detailed review of the CSP technique with respect to the application in BCI see [12].\\nC?C\\n\\n3\\n3.1\\n\\nExperiment\\nParadigm\\n\\nStandard EEG lab experiments typically realize an environment that avoids distractions in order\\nto have maximum control over all parameters of the experiment. Since the subjects respond to a\\nsmall number of artificial stimuli, a stimulus-locked averaging reveals the average characteristics\\nof their brain response. If we are interested in understanding broader behavioral brain responses\\nin cognitively demanding natural environments then stimulus/response-locked averaging may no\\nlonger be easily possible. The complexity in interaction may be caused by (1) a large number of\\npossibilities to respond, (2) a large spread in response times and quality due to a rich environment\\n(e.g. real objects that have a variety of physical properties), (3) a changing environment where the\\nunderlying nonstationarity is caused by a large number of states, and possibly by even more, but\\nunknown influencing factors.\\nWhile the first steps towards complex paradigms use simulators that show an increased complexity\\nbut still allow complete introspection into the system state, it is evident that the interaction with\\nreal physical devices has an even higher complexity but also provides a rich multi-modal sensory\\nexperience for the user. However, gaining even only partial introspection into the system states\\nof complex physical devices and into the interaction processes between the system and the mental\\nprocesses of the user requires a huge effort.\\nHere modern machine learning and signal processing methods (e.g. [17, 18, 19, 20]) are helpful,\\nsince they have been developed to analyze EEG on a single trial basis (e.g. [21, 22]). They can adapt\\n3\\n\\n\\x0cto changing signal characteristics (e.g. [23, 24, 25]) and they can deal with missing and noisy data\\n[26, 27] ? even beyond the field of computational neuroscience and BCI [28].\\n3.2\\n\\nSetup\\n\\nIn this study seven subjects played with the pinball machine. They were known for well-classifiable\\nEEG signals in simple BCI applications. One subject played successfully and enjoyed it, but was\\nexcluded from further analysis as his/her games had not been video-taped. From the remaining six\\nsubjects, three managed to acquire good control, played very successfully and enjoyed this experience. One subject managed to get limited control and reported to enjoy the games although some\\nof his/her scores were close to chance. The performance of these four subjects was measured in\\na rigorous manner. The remaining two subjects could not establish reliable control and were also\\nexcluded from further analysis.\\nAn overview of the technical setup and the data processing steps involved is given by Fig. 2. The experiment was organized in several stages: the calibration of the BCI system (Sec. 3.3), the fine-tuning\\nof parameters in a simple cursor feedback paradigm (Sec. 3.4), the application of the BCI control\\nsystem during pinball games (Sec. 3.5), the pseudo-random control of pinball games (Sec. 3.6), and\\nball insertions without any paddle activity (Sec. 3.7).\\nEEG\\nAmplifier / Digitizer\\nFeedback\\nFilter (FQ / spatial)\\nClassifier\\n\\nPlayer\\n\\nLow-level\\ncontroller\\nPaddle control signal\\n\\nFigure 2: Schematic view of the BCI-controlled pinball machine. The user?s EEG signals upon\\nmotor imagery are amplified, digitized, filtered in the frequency domain and the spatial domain\\nby CSP. Band power features are extracted and classified. The classifier output is translated by a\\nlow-level controller into paddle movements.\\n3.3\\n\\nCalibration of the BCI system\\n\\nThe BCI system was calibrated individually for each of the subjects (VPMa, VPks, VPzq, VPlf ) to\\ndiscriminate two classes of motor imagery (left hand and right hand). The calibration procedure\\nfollowed a standard Berlin BCI (BBCI) paradigm based on spatial filters and oscillatory features\\nthat avoids and prevents the use of class-correlated EOG or EMG artefacts (see [29, 28] for details).\\nVisualizing the spatial filters and the resulting patterns of activity showed that EOG or EMG components were disregarded for the calibration of the BCI system. For the calibration, 100 (VPMa)\\nor 75 (VPks, VPzq, VPlf ) trials of motor imagery were collected for each class. For every trial of\\n4?5s duration, the class of the motor imagery was indicated on a computer screen by visual cues.\\nThe calibration procedure included the determination of a subject-specific frequency band for the\\nmu-rhythm (see Sec. 2.1), filtering the 64-channel EEG-data to this band, the determination of classdiscriminant spatial filters with Common Spatial Pattern (CSP, see Sec. 2.2), and the training of a\\nregularized linear classification method (LDA) based on the power features of the filtered data. All\\nsubjects showed a crossvalidation error below 10% on the calibration data.\\n3.4\\n\\nCursor feedback control by BCI\\n\\nThe bias of the classifier, a gain factor and thresholds for an idle-class (for classifier outputs close\\nto the decision plane) were adapted during a short control task running on a computer screen. The\\nsubject had to control a horizontally moving cursor to a target on the left or right side of the screen\\n4\\n\\n\\x0cfor approximately 2 minutes while fixating a cross in the center. During this procedure the above\\nmentioned parameters were fine-tuned according to the test persons?s ratings. The goals were to\\ndetermine parameter values that translate the classifier output to a suitable range for the final application and ? for the test persons ? to reach a subjective feeling of control. For an exhaustive study on\\nthe role of bias adaptation in BCI, especially in the context of changing from calibration to feedback,\\nsee [30, 24].\\n3.5\\n\\nPinball control by BCI\\n\\nA real, physical pinball machine (in our study an Addams Family model) needs good control in\\nterms of classification accuracy and timing (dynamics).\\nThe subject has to learn the physical properties of the machine to play well. The subject?s expectation needs to be trained as bumpers, magnets like ?The Power? and many other built-in sources of\\nsurprise (see middle image in Fig. 1) can cause the ball to go into rather unpredictable directions.\\nThis interaction with the pinball machine makes the game interesting and challenging. Fast brain\\ndynamics that participate in the eye-hand coordination and visual memory play an essential role to\\ncope with these difficulties. The task difficulty increases further, as with any game, there is a strong\\nemotional engagement of the subject which gives rise to non-stationarities in the statistics. Moreover\\nthe physical machine is very noisy and distracting due to its various sources of visual and auditory\\nstimulation, and only a small percentage of these stimulations is task relevant.\\nThree modifications were implemented in order to reduce the frequency of manual ball launches (1\\nand 3) and to increase the frequency of balls passing the paddle areas (1 and 2). While the original\\ncharacter of the game was not changed, the modifications introduced slight simplification to conduct\\nthe experiment. The right image of Fig. 1 depicts the modifications:\\n1. side limits that prevents balls from exiting without passing the paddles\\n2. a soft central bump in front of the paddles that biases balls to pass one of the paddles rather\\nthan exiting in a perfect vertical trajectory. This is necessary, as the classifier output could\\nnot activate both paddles at exactly the same time.\\n3. a reduced slope of the game field (about half the original slope), that somewhat slows down\\nthe game speed.\\nDuring the BCI-controlled gaming (?bci? control mode), the subject sat in front of the pinball machine, hands resting on the arm rests except for short times when new balls had to be launched\\nwith the pulling lever. The EEG signals recorded in the previous 500ms were translated by the BCI\\nsystem into a control signal. A simple low-level control mechanism was implemented in software\\nthat translated the continuous classifier output by thresholding into a three-class signal (left flipper,\\nidle, right flipper) using the thresholds pre-determined during the cursor control (see Sec. 3.4). Furthermore it introduced a logic that translated a very long lasting control signal for the left or right\\nclass into a hold-and-shoot mechanism. This allowed the user to catch slow balls rolling sideways\\ndown towards a paddle. The user played several games of 10 to 12 balls each. Performance was\\nobserved in terms of the playing time per ball, the score per game and the number of high-quality\\nshots. The latter were defined by the presence of one of the following two conditions, which have\\nbeen evaluated in an offline video analysis of the game: (1) a precisely timed shot that hit the ball\\nby the center of the paddle and drives it into one of the scoring zones of the lower half of the field\\nand (2) a precisely timed shot that drives the ball directly into the upper half of the field.\\n3.6\\n\\nPseudo random control mode\\n\\nThis ?rand? control mode was incorporated into the experimental setup in order to deliver a fair\\nperformance baseline. Here, the BCI system was up and running with the same settings as in the\\nBCI-controlled pinball game, but no player was present. Instead an EEG file previously recorded\\nduring the BCI-controlled pinball game was fed into the BCI system and generated the control signal\\nfor the pinball machine. These signals produced the same statistics of paddle movements as in the\\nreal feedback setting. But as the balls were launched at random time points, the paddle behavior\\nwas not synchronized with the ball positions. Therefore, the pseudo random control mode marks\\n5\\n\\n\\x0cthe chance level of the system. In this mode several games of 10-12 balls each were performed. The\\nsame performance measures were applied as for BCI-controlled gaming.\\n3.7\\n\\nNo control mode\\n\\nFor performance comparisons, two performance ratings (time per ball and points per game) were\\nalso taken for a series of balls that were launched without any paddle movements (?none? control\\nmode).\\n\\n4\\n\\nResults\\n\\nAs video recordings have been available for the four subjects, a detailed analysis of the game performances was possible. It is introduced for the example of the best subject VPMa in Fig. 3. The\\nanalysis compares three different scoring measures for BCI control (bbci), pseudo-random control\\n(rand) and no control (none) and shows the histogram of high-quality shots per ball. The average\\nPerformance Comparison Subject VPMa\\n\\n30\\n20\\n10\\nn=81\\n\\nbbci\\n\\nn=112\\n\\nn=22\\n\\nrand\\nnone\\nControl Mode\\n\\n6\\n5\\n4\\n3\\n2\\n1\\n0\\n\\nn=81\\n\\nbbci\\n\\nn=112\\n\\n40\\n\\nrand\\nnone\\nControl Mode\\n\\nnormalized histograms of\\nbci control\\nrand control\\n\\n50\\n\\n20\\n10\\n0\\n\\nn=22\\n\\n60\\n\\n30\\n\\nPercentage\\n\\n40\\n\\nMillion Points per Game\\n\\nQuality Shots per Ball\\n\\nBall Duration [s]\\n\\n50\\n\\n0\\n\\n70\\n\\n7\\n\\n60\\n\\n40\\n30\\n20\\n10\\n\\nn=10\\n\\nbbci\\n\\nn=10\\n\\nn=12\\n\\nrand\\nnone\\nControl Mode\\n\\n0\\n0\\n\\n1\\n\\n2\\n\\n3\\n\\n4\\n\\n5\\n\\n6\\n\\n7\\n\\nHigh-Quality Shots per Ball\\n\\nFigure 3: Performance comparison for three control modes of the pinball machine and the normalized histograms of high-quality shots per ball for subject VPMa.\\nball duration (median) is significantly higher for the BCI-controlled gaming (average of 15s over 81\\nballs) than for the pseudo-random control (average of 8s over 112 balls). A confidence interval is\\nreflected by the notches above and below the median values in the boxplot of Fig. 3. Boxes whose\\nnotches do not overlap indicate that the medians of the two groups differ at the 5% significance\\nlevel. The increased average ball duration under BCI control is caused by the larger number of highquality shots per ball. While in pseudo-random control only 7% of the balls scored more than one\\nhigh-quality shot per ball, this rate raises drastically to 45% for the BCI control of subject VPMa. A\\ncomparison of the game scores for 10 games of BCI control and 10 games of pseudo-random control\\nshows, that these differ even stronger due to the nonlinear characteristic of the score. The rightmost\\nplot in Fig. 3 shows the normalized histograms of the high-quality shots.\\nThe pooled data of all four subjects in Fig. 4 reflects these performance differences to a large extend. Again, BCI control is significantly superior to the pseudo random control. The difference in\\nnormalized histograms between BCI control and pseudo random control reveals, that even for the\\npooled data BCI-controlled games more often have a larger number of high-quality shots.\\nNot surprisingly, the BCI-controlled games showed a number of paddle movements in moments,\\nwhen no ball was in the vicinity of the paddles. These so-called false hits are indirectly reflected\\nin the performance measures for the pseudo-random control. As pseudo-random control mode was\\nable to gain significantly better results than no control at all (see e.g. modes rand and none in\\nFig. 3), these false hits can not be neglected. In order to study this issue, the pseudo-random control\\nwas based on an EEG file, which had been previously recorded during the BCI-controlled gaming,\\nthe dynamics of the paddle movements was identical during both of these control modes. Under\\nthese very similar conditions, the higher scores of the BCI control must be credited to the control\\nability of the BCI user, especially to the precise timing of a large number of paddle shots.\\nA video of the gaming performance which provides an impression of the astonishing level of timing\\nand dynamical control ? much better than the figures can show ? is available under http://www.\\nbbci.de/supplementary/. It should be added that for this experiment it was very easy to recruit\\nhighly motivated subjects, who enjoyed the session.\\n6\\n\\n\\x0cPerformance Comparison Four Subjects\\n10\\n\\n50\\n40\\n30\\n20\\n10\\n0\\n\\nn=490\\n\\nbbci\\n\\nn=543\\n\\nn=346\\n\\nrand\\nnone\\nControl Mode\\n\\n40\\n5\\n\\n30\\n\\nPercentage\\n\\nMillion Points per Game\\n\\nBall Duration [s]\\n\\n60\\n\\n20\\n10\\n\\n0\\n-5\\n\\nDifference of\\nnormalized histograms:\\n(bci control) - (rand control)\\n\\n-10\\n\\n0\\n\\nn=42\\n\\nn=43\\n\\nn=42\\n-15\\n\\nbbci\\n\\nrand\\nnone\\nControl Mode\\n\\n0\\n\\n1\\n\\n2\\n\\n3\\n\\n4\\n\\n5\\n\\n6\\n\\n7\\n\\nHigh-Quality Shots per Ball\\n\\nFigure 4: Performance comparison for combined data of four subjects (VPMa, VPks, VPzq, VPlf ).\\n\\n5\\n\\nDiscussion\\n\\nTo date, BCI is mainly perceived as an opportunity for the disabled to regain interaction with their\\nenvironment, say, through BCI actuated spelling or other forms of BCI control.\\nThe present study is relevant to rehabilitation since it explores the limits of BCI with respect to\\ntiming, dynamics and speed of interaction in a difficult real-time task. We would, however, like\\nto re-iterate to consider machine learning methods developed in BCI also as novel powerful tools\\nfor the neurosciences ? not only when operated invasively for harvesting on local field potentials\\n(LFP) and on micro electrode array data [1, 2, 3] or for decoding functional MRI [31] ? but also for\\nnon-invasive, low-risk EEG-BCI.\\nAn important novel aspect of our study was to analyze EEG recorded during predictive behavior, in\\nother words we made use of the subject?s expectation and experience of the system delay. Learning\\ncurves and traces of adaptation on the subject side, the use of error potentials as well as emerging\\nsubject specific strategy differences and many other exciting question must remain untouched in this\\nfirst study. Emotion, surprise and other mental states or cognitive processes that play an important\\nrole in such complex real-time paradigms still await their consideration in future studies.\\nAcknowledgments\\nWe thank Brain Products GmbH for funding and for help with the preparation of the pinball machine. Funding by the European Community under the PASCAL Network of Excellence (IST2002-506778) and under the FP7 Programme (TOBI ICT-2007-224631), by the Bundesministerium\\nf?ur Bildung und Forschung (BMBF) (FKZ 01IBE01A and FKZ 16SV2231) and by the Deutsche\\nForschungsgemeinschaft (DFG) (VitalBCI MU 987/3-1) is gratefully acknowledged. Last but not\\nleast, we would like to thank our reviewers for their valuable comments.\\n\\nReferences\\n[1] J. M. Carmena, M. A. Lebedev, R. E. Crist, J. E. O?Doherty, D. M. Santucci, D. F. Dimitrov, P. G. Patil,\\nC. S. Henriquez, and M. A. Nicolelis. Learning to control a brain-machine interface for reaching and\\ngrasping by primates. PLoS Biol, E42, 2003.\\n[2] D. M. Taylor, S. I. Tillery, and A. B. Schwartz. Direct cortical control of 3D neuroprosthetic devices.\\nScience, 296:1829?1832, 2002.\\n[3] L.R. Hochberg, M.D. Serruya, G.M. Friehs, J.A. Mukand, M. Saleh, A.H. Caplan, A. Branner, D. Chen,\\nR.D. Penn, and J.P. Donoghue. Neuronal ensemble control of prosthetic devices by a human with tetraplegia. Nature, 442(7099):164?171, July 2006.\\n[4] J. R. Wolpaw and D. J. McFarland. Control of a two-dimensional movement signal by a noninvasive\\nbrain-computer interface in humans. Proc Natl Acad Sci USA, 101(51):17849?17854, 2004.\\n[5] Andrea K?ubler and Klaus-Robert M?uller. An introduction to brain computer interfacing. In Guido Dornhege et al., editors, Toward Brain-Computer Interfacing, pages 1?25. MIT press, Cambridge, MA, 2007.\\n[6] W. A. IJsselsteijn, H. H. Nap, Y. A. W. de Kort, K. Poels andA. Jurgelionis, and F. Bellotti. Characterizing\\nand measuring user experiences in digital games. In Proceedings of the ACE, Salzburg, 2007.\\n[7] C. Jennett, A. L. Cox, P. Cairns, S. Dhoparee, A. Epps, T. Tijs, and A. Walton. Measuring and defining\\nthe experience of immersion in games. International Journal of Human Computer Studies, 2008.\\n\\n7\\n\\n\\x0c[8] H. Jasper and H.L. Andrews. Normal differentiation of occipital and precentral regions in man. Arch.\\nNeurol. Psychiat. (Chicago), 39:96?115, 1938.\\n[9] Gert Pfurtscheller and F.H. Lopes da Silva. Event-related EEG/MEG synchronization and desynchronization: basic principles. Clin Neurophysiol, 110(11):1842?1857, Nov 1999.\\n[10] G. Pfurtscheller, C. Brunner, A. Schl?ogl, and F.H. Lopes da Silva. Mu rhythm (de)synchronization and\\nEEG single-trial classification of different motor imagery tasks. NeuroImage, 31(1):153?159, 2006.\\n[11] C. Neuper and G. Pfurtscheller. Evidence for distinct beta resonance frequencies in human EEG related\\nto specific sensorimotor cortical areas. Clin Neurophysiol, 112:2084?2097, 2001.\\n[12] Benjamin Blankertz, Ryota Tomioka, Steven Lemm, Motoaki Kawanabe, and Klaus-Robert M?uller. Optimizing spatial filters for robust EEG single-trial analysis. IEEE Signal Proc Magazine, 25(1):41?56,\\nJanuary 2008.\\n[13] Keinosuke Fukunaga. Introduction to statistical pattern recognition. Academic Press, Boston, 2nd edition\\nedition, 1990.\\n[14] Z. J. Koles. The quantitative extraction and topographic mapping of the abnormal components in the\\nclinical EEG. Electroencephalogr Clin Neurophysiol, 79(6):440?447, 1991.\\n[15] Steven Lemm, Benjamin Blankertz, Gabriel Curio, and Klaus-Robert M?uller. Spatio-spectral filters for\\nimproving classification of single trial EEG. IEEE Trans Biomed Eng, 52(9):1541?1548, 2005.\\n[16] Guido Dornhege, Benjamin Blankertz, Matthias Krauledat, Florian Losch, Gabriel Curio, and KlausRobert M?uller. Optimizing spatio-temporal filters for improving brain-computer interfacing. In Advances\\nin Neural Inf. Proc. Systems (NIPS 05), volume 18, pages 315?322, Cambridge, MA, 2006. MIT Press.\\n[17] B. Sch?olkopf and A.J. Smola. Learning with Kernels. MIT Press, Cambridge, MA, 2002.\\n[18] K.-R. M?uller, S. Mika, G. R?atsch, K. Tsuda, and B. Sch?olkopf. An introduction to kernel-based learning\\nalgorithms. IEEE Neural Networks, 12(2):181?201, May 2001.\\n[19] Klaus-Robert M?uller, Charles W. Anderson, and Gary E. Birch. Linear and non-linear methods for braincomputer interfaces. IEEE Trans Neural Sys Rehab Eng, 11(2):165?169, 2003.\\n[20] S. Haykin. Neural Networks : A Comprehensive Foundation. Macmillan, New York, 1994.\\n[21] N.J. Hill, T. N. Lal, M. Tangermann, T. Hinterberger, G. Widman, C. E. Elger, B. Sch?olkopf, and N. Birbaumer. Classifying event-related desynchronization in EEG, ECoG and MEG signals. In Guido Dornhege et al., editors, Toward Brain-Computer Interfacing, pages 235?260. MIT press, Cambridge, MA,\\n2007.\\n[22] Benjamin Blankertz, Florian Losch, Matthias Krauledat, Guido Dornhege, Gabriel Curio, and KlausRobert M?uller. The Berlin Brain-Computer Interface: Accurate performance from first-session in BCInaive subjects. IEEE Trans Biomed Eng, 2008. in press.\\n[23] Matthias Krauledat, Michael Schr?oder, Benjamin Blankertz, and Klaus-Robert M?uller. Reducing calibration time for brain-computer interfaces: A clustering approach. In B. Sch?olkopf, J. Platt, and T. Hoffman,\\neditors, Advances in Neural Information Processing Systems 19, pages 753?760, Cambridge, MA, 2007.\\nMIT Press.\\n[24] Masashi Sugiyama, Matthias Krauledat, and Klaus-Robert M?uller. Covariate shift adaptation by importance weighted cross validation. Journal of Machine Learning Research, 8:1027?1061, 2007.\\n[25] Pradeep Shenoy, Matthias Krauledat, Benjamin Blankertz, Rajesh P. N. Rao, and Klaus-Robert M?uller.\\nTowards adaptive classification for BCI. J Neural Eng, 3(1):R13?R23, 2006.\\n[26] Guido Dornhege, Matthias Krauledat, Klaus-Robert M?uller, and Benjamin Blankertz. General signal\\nprocessing and machine learning tools for BCI. In Guido Dornhege et al., editors, Toward Brain-Computer\\nInterfacing, pages 207?233. MIT Press, Cambridge, MA, 2007.\\n[27] Matthias Krauledat, Guido Dornhege, Benjamin Blankertz, and Klaus-Robert M?uller. Robustifying EEG\\ndata analysis by removing outliers. Chaos and Complexity Letters, 2(3):259?274, 2007.\\n[28] Klaus-Robert M?uller, Michael Tangermann, Guido Dornhege, Matthias Krauledat, Gabriel Curio, and\\nBenjamin Blankertz. Machine learning for real-time single-trial EEG-analysis: From brain-computer\\ninterfacing to mental state monitoring. J Neurosci Methods, 167(1):82?90, 2008.\\n[29] Benjamin Blankertz, Guido Dornhege, Matthias Krauledat, Klaus-Robert M?uller, and Gabriel Curio. The\\nnon-invasive Berlin Brain-Computer Interface: Fast acquisition of effective performance in untrained\\nsubjects. NeuroImage, 37(2):539?550, 2007.\\n[30] Matthias Krauledat, Pradeep Shenoy, Benjamin Blankertz, Rajesh P. N. Rao, and Klaus-Robert M?uller.\\nAdaptation in CSP-based BCI systems. In Guido Dornhege et al., editors, Toward Brain-Computer Interfacing, pages 305?309. MIT Press, Cambridge, MA, 2007.\\n[31] J.D. Haynes and G. Rees. Decoding mental states from brain activity in humans. Nature Reviews Neuroscience, 7:523?534, 2006.\\n\\n8\\n\\n\\x0c'"
      ]
     },
     "execution_count": 8,
     "metadata": {},
     "output_type": "execute_result"
    }
   ],
   "source": [
    "papers['paper_text'][2765]"
   ]
  },
  {
   "cell_type": "markdown",
   "metadata": {},
   "source": [
    "### 2.1. Remove punctuation / lower casing"
   ]
  },
  {
   "cell_type": "code",
   "execution_count": 3,
   "metadata": {},
   "outputs": [
    {
     "data": {
      "text/plain": [
       "4597    neural network routing for random multistage\\n...\n",
       "3463    tiled convolutional neural networks\\nquoc v le...\n",
       "4090    iterative ranking from pair-wise comparisons\\n...\n",
       "4044    priors for diversity in generative\\nlatent var...\n",
       "1731    sub-microwatt analog vlsi\\nsupport vector mach...\n",
       "Name: paper_text_processed, dtype: object"
      ]
     },
     "execution_count": 3,
     "metadata": {},
     "output_type": "execute_result"
    }
   ],
   "source": [
    "# Load the regular expression library\n",
    "import re\n",
    "\n",
    "# Remove punctuation\n",
    "papers['paper_text_processed'] = papers['paper_text'].map(lambda x: re.sub('[,\\.!?]', '', x))\n",
    "\n",
    "# Convert the titles to lowercase\n",
    "papers['paper_text_processed'] = papers['paper_text_processed'].map(lambda x: x.lower())\n",
    "\n",
    "# Print out the first rows of papers\n",
    "papers['paper_text_processed'].head()"
   ]
  },
  {
   "cell_type": "markdown",
   "metadata": {},
   "source": [
    "### 2.2. Tokenize words and further clean-up text"
   ]
  },
  {
   "cell_type": "code",
   "execution_count": 4,
   "metadata": {},
   "outputs": [
    {
     "name": "stdout",
     "output_type": "stream",
     "text": [
      "['neural', 'network', 'routing', 'for', 'random', 'multistage', 'interconnection', 'networks', 'mark', 'goudreau', 'princeton', 'university', 'and', 'nee', 'research', 'institute', 'inc', 'independence', 'way', 'princeton', 'nj', 'lee', 'giles', 'nec', 'research', 'institute', 'inc', 'independence', 'way', 'princeton']\n"
     ]
    }
   ],
   "source": [
    "import gensim \n",
    "from gensim.utils import simple_preprocess\n",
    "\n",
    "def sent_to_words(sentences):\n",
    "    for sentence in sentences: \n",
    "        yield (gensim.utils.simple_preprocess(str(sentence), deacc=True))  #  deacc=True removes punctuaction! \n",
    "\n",
    "data = papers.paper_text_processed.values.tolist()\n",
    "data_words = list(sent_to_words(data))\n",
    "\n",
    "print(data_words[:1][0][:30])"
   ]
  },
  {
   "cell_type": "markdown",
   "metadata": {},
   "source": [
    "## 3.- Phrase Modeling: Bi-grams and Tri-grams"
   ]
  },
  {
   "cell_type": "markdown",
   "metadata": {},
   "source": [
    "Bigrams are two words frequently occurring together in the document. Trigrams are 3 words frequently occurring. Some examples in our example are: 'back_bumper', 'oil_leakage', 'maryland_college_park' etc.\n",
    "\n",
    "Gensim's Phrases model can build and implement the bigrams, trigrams, quadgrams and more. The two important arguments to Phrases are min_count and threshold."
   ]
  },
  {
   "cell_type": "code",
   "execution_count": 5,
   "metadata": {},
   "outputs": [],
   "source": [
    "# Build the bigram and trigram models\n",
    "bigram = gensim.models.Phrases(data_words, min_count=5, threshold=100) # higher threshold fewer phrases.\n",
    "trigram = gensim.models.Phrases(bigram[data_words], threshold=100)  \n",
    "\n",
    "# Faster way to get a sentence clubbed as a trigram/bigram\n",
    "bigram_mod = gensim.models.phrases.Phraser(bigram)\n",
    "trigram_mod = gensim.models.phrases.Phraser(trigram)"
   ]
  },
  {
   "cell_type": "markdown",
   "metadata": {},
   "source": [
    "### 3.1. Remove Stopwords , make Bigrams and Lemmatize "
   ]
  },
  {
   "cell_type": "code",
   "execution_count": 6,
   "metadata": {},
   "outputs": [
    {
     "name": "stderr",
     "output_type": "stream",
     "text": [
      "[nltk_data] Downloading package stopwords to\n",
      "[nltk_data]     C:\\Users\\alexa\\AppData\\Roaming\\nltk_data...\n",
      "[nltk_data]   Unzipping corpora\\stopwords.zip.\n"
     ]
    }
   ],
   "source": [
    "import nltk\n",
    "nltk.download('stopwords')\n",
    "from nltk.corpus import stopwords\n",
    "\n",
    "stop_words = stopwords.words('english')\n",
    "stop_words.extend(['from', 'subject', 're', 'edu', 'use'])"
   ]
  },
  {
   "cell_type": "code",
   "execution_count": 7,
   "metadata": {},
   "outputs": [],
   "source": [
    "# Define functions for stopwords, bigrams, trigrams and lemmatization\n",
    "def remove_stopwords(texts):\n",
    "    return [[word for word in simple_preprocess(str(doc)) if word not in stop_words] for doc in texts] # Devuelve los no stopwords\n",
    "\n",
    "def make_bigrams(texts):\n",
    "    return [bigram_mod[doc] for doc in texts]\n",
    "\n",
    "def make_trigrams(texts):\n",
    "    return [trigram_mod[bigram_mod[doc]] for doc in texts]\n",
    "\n",
    "def lemmatization(texts, allowed_postags=['NOUN', 'ADJ', 'VERB', 'ADV']):\n",
    "    \"\"\"https://spacy.io/api/annotation\"\"\"\n",
    "    texts_out = []\n",
    "    for sent in texts:\n",
    "        doc = nlp(\" \".join(sent)) \n",
    "        texts_out.append([token.lemma_ for token in doc if token.pos_ in allowed_postags])\n",
    "    return texts_out"
   ]
  },
  {
   "cell_type": "code",
   "execution_count": 8,
   "metadata": {},
   "outputs": [
    {
     "name": "stdout",
     "output_type": "stream",
     "text": [
      "['neural', 'network', 'route', 'random', 'network', 'abstract', 'route', 'scheme', 'use', 'neural', 'network', 'develop', 'aid', 'establishing', 'point', 'point', 'communication', 'route', 'network', 'min', 'network', 'type', 'examine', 'hopfield', 'hopfield', 'work', 'problem', 'establish', 'route', 'random']\n",
      "Wall time: 44.9 s\n"
     ]
    }
   ],
   "source": [
    "%%time\n",
    "\n",
    "# Calling those functions in order\n",
    "import spacy\n",
    "\n",
    "# Remove Stop Words\n",
    "data_words_nostops = remove_stopwords(data_words)\n",
    "\n",
    "# Form Bigrams\n",
    "data_words_bigrams = make_bigrams(data_words_nostops)\n",
    "\n",
    "# Initialize spacy 'en' model, keeping only tagger component (for efficiency)\n",
    "nlp = spacy.load(\"en_core_web_sm\", disable=['parser', 'ner'])\n",
    "\n",
    "# Do lemmatization keeping only noun, adj, vb, adv\n",
    "data_lemmatized = lemmatization(data_words_bigrams, allowed_postags=['NOUN', 'ADJ', 'VERB', 'ADV'])\n",
    "\n",
    "print(data_lemmatized[:1][0][:30])"
   ]
  },
  {
   "cell_type": "markdown",
   "metadata": {},
   "source": [
    "## 4.- Data Transformation: Corpus and Dictionary "
   ]
  },
  {
   "cell_type": "markdown",
   "metadata": {},
   "source": [
    "The two main inputs to the LDA topic model are the dictionary(id2word) and the corpus. Let’s create them"
   ]
  },
  {
   "cell_type": "markdown",
   "metadata": {},
   "source": [
    "**doc2bow:** Convert document (a list of words) into the bag-of-words format = list of (token_id, token_count) 2-tuples. Each word is assumed to be a tokenized and normalized string (either unicode or utf8-encoded). No further preprocessing is done on the words in document; apply tokenization, stemming etc. before calling this method."
   ]
  },
  {
   "cell_type": "code",
   "execution_count": 9,
   "metadata": {},
   "outputs": [
    {
     "name": "stdout",
     "output_type": "stream",
     "text": [
      "[(0, 1), (1, 1), (2, 2), (3, 1), (4, 1), (5, 1), (6, 1), (7, 2), (8, 1), (9, 1), (10, 2), (11, 1), (12, 1), (13, 1), (14, 1), (15, 3), (16, 2), (17, 3), (18, 1), (19, 2), (20, 3), (21, 1), (22, 2), (23, 1), (24, 8), (25, 1), (26, 1), (27, 1), (28, 1), (29, 1)]\n"
     ]
    }
   ],
   "source": [
    "import gensim.corpora as corpora\n",
    "\n",
    "# Create Dictionary\n",
    "id2word = corpora.Dictionary(data_lemmatized)\n",
    "\n",
    "# Create Corpus\n",
    "texts = data_lemmatized\n",
    "\n",
    "# Term Document Frequency\n",
    "corpus = [id2word.doc2bow(text) for text in texts] # ----> (token_id, token_count)\n",
    "\n",
    "# View\n",
    "print(corpus[:1][0][:30])"
   ]
  },
  {
   "cell_type": "markdown",
   "metadata": {},
   "source": [
    "### 4.1.- Building the base topic model"
   ]
  },
  {
   "cell_type": "markdown",
   "metadata": {},
   "source": [
    "We have everything required to train the base LDA model. In addition to the corpus and dictionary, you need to provide the number of topics as well. Apart from that, alpha and eta are hyperparameters that affect sparsity of the topics. According to the Gensim docs, both defaults to 1.0/num_topics prior (we'll use default for the base model)"
   ]
  },
  {
   "cell_type": "code",
   "execution_count": 10,
   "metadata": {},
   "outputs": [],
   "source": [
    "# Build LDA model\n",
    "lda_model = gensim.models.LdaMulticore(corpus=corpus,\n",
    "                                       id2word=id2word,\n",
    "                                       num_topics=10, \n",
    "                                       random_state=100,\n",
    "                                       chunksize=100,\n",
    "                                       passes=10,\n",
    "                                       per_word_topics=True)"
   ]
  },
  {
   "cell_type": "markdown",
   "metadata": {},
   "source": [
    "### 4.2.- View the topics in LDA model"
   ]
  },
  {
   "cell_type": "code",
   "execution_count": 11,
   "metadata": {},
   "outputs": [
    {
     "name": "stdout",
     "output_type": "stream",
     "text": [
      "[(0,\n",
      "  '0.015*\"inference\" + 0.014*\"message\" + 0.014*\"variable\" + 0.014*\"learn\" + '\n",
      "  '0.011*\"image\" + 0.009*\"feature\" + 0.008*\"line\" + 0.007*\"set\" + '\n",
      "  '0.007*\"potential\" + 0.007*\"method\"'),\n",
      " (1,\n",
      "  '0.022*\"sample\" + 0.011*\"number\" + 0.011*\"use\" + 0.010*\"approach\" + '\n",
      "  '0.008*\"time\" + 0.008*\"set\" + 0.008*\"classifier\" + 0.008*\"show\" + '\n",
      "  '0.007*\"current\" + 0.007*\"base\"'),\n",
      " (2,\n",
      "  '0.026*\"network\" + 0.015*\"neuron\" + 0.010*\"neural\" + 0.009*\"use\" + '\n",
      "  '0.009*\"image\" + 0.008*\"set\" + 0.007*\"model\" + 0.006*\"value\" + 0.005*\"input\" '\n",
      "  '+ 0.005*\"output\"'),\n",
      " (3,\n",
      "  '0.016*\"model\" + 0.010*\"experiment\" + 0.009*\"image\" + 0.008*\"set\" + '\n",
      "  '0.008*\"number\" + 0.007*\"datum\" + 0.007*\"use\" + 0.007*\"show\" + '\n",
      "  '0.007*\"distribution\" + 0.007*\"order\"'),\n",
      " (4,\n",
      "  '0.011*\"use\" + 0.010*\"image\" + 0.010*\"feature\" + 0.010*\"learn\" + 0.008*\"set\" '\n",
      "  '+ 0.008*\"model\" + 0.008*\"function\" + 0.006*\"datum\" + 0.006*\"problem\" + '\n",
      "  '0.006*\"method\"'),\n",
      " (5,\n",
      "  '0.012*\"model\" + 0.012*\"set\" + 0.008*\"network\" + 0.008*\"function\" + '\n",
      "  '0.008*\"distribution\" + 0.008*\"give\" + 0.007*\"datum\" + 0.007*\"state\" + '\n",
      "  '0.007*\"error\" + 0.007*\"learn\"'),\n",
      " (6,\n",
      "  '0.019*\"model\" + 0.009*\"use\" + 0.008*\"distribution\" + 0.008*\"learn\" + '\n",
      "  '0.007*\"regret\" + 0.007*\"function\" + 0.006*\"result\" + 0.006*\"set\" + '\n",
      "  '0.006*\"parameter\" + 0.006*\"show\"'),\n",
      " (7,\n",
      "  '0.010*\"use\" + 0.010*\"constraint\" + 0.009*\"result\" + 0.009*\"density\" + '\n",
      "  '0.009*\"model\" + 0.007*\"set\" + 0.006*\"show\" + 0.006*\"compute\" + 0.006*\"tree\" '\n",
      "  '+ 0.006*\"give\"'),\n",
      " (8,\n",
      "  '0.013*\"model\" + 0.011*\"function\" + 0.010*\"set\" + 0.010*\"use\" + '\n",
      "  '0.007*\"problem\" + 0.007*\"method\" + 0.006*\"document\" + 0.006*\"signal\" + '\n",
      "  '0.006*\"result\" + 0.005*\"show\"'),\n",
      " (9,\n",
      "  '0.019*\"function\" + 0.018*\"task\" + 0.012*\"model\" + 0.012*\"use\" + '\n",
      "  '0.010*\"optimization\" + 0.009*\"protein\" + 0.009*\"point\" + 0.009*\"set\" + '\n",
      "  '0.009*\"motif\" + 0.008*\"interaction\"')]\n"
     ]
    }
   ],
   "source": [
    "from pprint import pprint\n",
    "\n",
    "# Print the Keyword in the 10 topics\n",
    "pprint(lda_model.print_topics())\n",
    "doc_lda = lda_model[corpus]"
   ]
  },
  {
   "cell_type": "markdown",
   "metadata": {},
   "source": [
    "## 5.- Base Model Performance"
   ]
  },
  {
   "cell_type": "markdown",
   "metadata": {},
   "source": [
    "#### Compute Model Perplexity and Coherence Score\n",
    "\n",
    "Let's calculate the baseline coherence score"
   ]
  },
  {
   "cell_type": "code",
   "execution_count": 12,
   "metadata": {},
   "outputs": [
    {
     "name": "stdout",
     "output_type": "stream",
     "text": [
      "Coherence Score:  0.2503859950174131\n"
     ]
    }
   ],
   "source": [
    "from gensim.models import CoherenceModel\n",
    "\n",
    "# Compute Coherence Score\n",
    "coherence_model_lda = CoherenceModel(model=lda_model, texts=data_lemmatized, dictionary=id2word, coherence='c_v')\n",
    "coherence_lda = coherence_model_lda.get_coherence()\n",
    "print('Coherence Score: ', coherence_lda)"
   ]
  },
  {
   "cell_type": "markdown",
   "metadata": {},
   "source": [
    "## 6.- Hyperparameter Tuning"
   ]
  },
  {
   "cell_type": "markdown",
   "metadata": {},
   "source": [
    "First, let's differentiate between model hyperparameters and model parameters :\n",
    "\n",
    "- `Model hyperparameters` can be thought of as settings for a machine learning algorithm that are tuned by the data scientist before training. Examples would be the number of trees in the random forest, or in our case, number of topics K\n",
    "\n",
    "- `Model parameters` can be thought of as what the model learns during training, such as the weights for each word in a given topic.\n",
    "\n",
    "Now that we have the baseline coherence score for the default LDA model, let's perform a series of sensitivity tests to help determine the following model hyperparameters: \n",
    "- Number of Topics (K)\n",
    "- Dirichlet hyperparameter alpha: Document-Topic Density\n",
    "- Dirichlet hyperparameter beta: Word-Topic Density\n",
    "\n",
    "We'll perform these tests in sequence, one parameter at a time by keeping others constant and run them over the two difference validation corpus sets. We'll use `C_v` as our choice of metric for performance comparison "
   ]
  },
  {
   "cell_type": "code",
   "execution_count": 13,
   "metadata": {},
   "outputs": [],
   "source": [
    "# supporting function\n",
    "def compute_coherence_values(corpus, dictionary, k, a, b):\n",
    "    \n",
    "    lda_model = gensim.models.LdaMulticore(corpus=corpus,\n",
    "                                           id2word=dictionary,\n",
    "                                           num_topics=k, \n",
    "                                           random_state=100,\n",
    "                                           chunksize=100,\n",
    "                                           passes=10,\n",
    "                                           alpha=a,\n",
    "                                           eta=b)\n",
    "    \n",
    "    coherence_model_lda = CoherenceModel(model=lda_model, texts=data_lemmatized, dictionary=id2word, coherence='c_v')\n",
    "    \n",
    "    return coherence_model_lda.get_coherence()"
   ]
  },
  {
   "cell_type": "markdown",
   "metadata": {},
   "source": [
    "**Let's call the function, and iterate it over the range of topics, alpha, and beta parameter values**"
   ]
  },
  {
   "cell_type": "code",
   "execution_count": 14,
   "metadata": {},
   "outputs": [
    {
     "name": "stderr",
     "output_type": "stream",
     "text": [
      "100%|██████████| 270/270 [3:39:46<00:00, 48.84s/it]     "
     ]
    },
    {
     "name": "stdout",
     "output_type": "stream",
     "text": [
      "Wall time: 3h 39min 46s\n"
     ]
    },
    {
     "name": "stderr",
     "output_type": "stream",
     "text": [
      "\n"
     ]
    }
   ],
   "source": [
    "%%time\n",
    "\n",
    "import numpy as np\n",
    "import tqdm \n",
    "\n",
    "#tqdm --> Instantly make your loops show a smart progress meter - just wrap any iterable with tqdm(iterable), and you're done!\n",
    "\n",
    "grid = {}\n",
    "grid['Validation_Set'] = {}\n",
    "\n",
    "# Topics range\n",
    "min_topics = 2\n",
    "max_topics = 11\n",
    "step_size = 1\n",
    "topics_range = range(min_topics, max_topics, step_size)\n",
    "\n",
    "# Alpha parameter\n",
    "alpha = list(np.arange(0.01, 1, 0.3))\n",
    "alpha.append('symmetric')\n",
    "alpha.append('asymmetric')\n",
    "\n",
    "# Beta parameter\n",
    "beta = list(np.arange(0.01, 1, 0.3))\n",
    "beta.append('symmetric')\n",
    "\n",
    "# Validation sets\n",
    "num_of_docs = len(corpus)\n",
    "corpus_sets = [# gensim.utils.ClippedCorpus(corpus, num_of_docs*0.25), \n",
    "               # gensim.utils.ClippedCorpus(corpus, num_of_docs*0.5), \n",
    "               # gensim.utils.ClippedCorpus(corpus, num_of_docs*0.75), \n",
    "               corpus]\n",
    "\n",
    "corpus_title = ['100% Corpus']\n",
    "\n",
    "model_results = {'Validation_Set': [],\n",
    "                 'Topics': [],\n",
    "                 'Alpha': [],\n",
    "                 'Beta': [],\n",
    "                 'Coherence': []\n",
    "                }\n",
    "\n",
    "# Can take a long time to run\n",
    "if 1 == 1:\n",
    "    pbar = tqdm.tqdm(total=(len(beta)*len(alpha)*len(topics_range)*len(corpus_title)))\n",
    "    \n",
    "    # iterate through validation corpuses\n",
    "    for i in range(len(corpus_sets)):\n",
    "        # iterate through number of topics\n",
    "        for k in topics_range:\n",
    "            # iterate through alpha values\n",
    "            for a in alpha:\n",
    "                # iterare through beta values\n",
    "                for b in beta:\n",
    "                    # get the coherence score for the given parameters\n",
    "                    cv = compute_coherence_values(corpus=corpus_sets[i], dictionary=id2word, \n",
    "                                                  k=k, a=a, b=b)\n",
    "                    # Save the model results\n",
    "                    model_results['Validation_Set'].append(corpus_title[i])\n",
    "                    model_results['Topics'].append(k)\n",
    "                    model_results['Alpha'].append(a)\n",
    "                    model_results['Beta'].append(b)\n",
    "                    model_results['Coherence'].append(cv)\n",
    "                    \n",
    "                    pbar.update(1)\n",
    "    pd.DataFrame(model_results).to_csv('lda_tuning_results.csv', index=False)\n",
    "    pbar.close()"
   ]
  },
  {
   "cell_type": "markdown",
   "metadata": {},
   "source": [
    "## 7.- Final Model"
   ]
  },
  {
   "cell_type": "markdown",
   "metadata": {},
   "source": [
    "Based on external evaluation (Code to be added from Excel based analysis), train the final model"
   ]
  },
  {
   "cell_type": "code",
   "execution_count": 15,
   "metadata": {},
   "outputs": [],
   "source": [
    "lda_model = gensim.models.LdaMulticore(corpus=corpus,\n",
    "                                           id2word=id2word,\n",
    "                                           num_topics=8, \n",
    "                                           random_state=100,\n",
    "                                           chunksize=100,\n",
    "                                           passes=10,\n",
    "                                           alpha=0.01,\n",
    "                                           eta=0.9)"
   ]
  },
  {
   "cell_type": "code",
   "execution_count": 16,
   "metadata": {},
   "outputs": [
    {
     "name": "stdout",
     "output_type": "stream",
     "text": [
      "[(0,\n",
      "  '0.000*\"set\" + 0.000*\"use\" + 0.000*\"learn\" + 0.000*\"image\" + 0.000*\"model\" + '\n",
      "  '0.000*\"feature\" + 0.000*\"function\" + 0.000*\"method\" + 0.000*\"problem\" + '\n",
      "  '0.000*\"figure\"'),\n",
      " (1,\n",
      "  '0.010*\"current\" + 0.005*\"voltage\" + 0.003*\"time\" + 0.003*\"dynamic\" + '\n",
      "  '0.003*\"action_potential\" + 0.003*\"constant\" + 0.002*\"cell\" + 0.002*\"unit\" + '\n",
      "  '0.002*\"circuit\" + 0.002*\"chip\"'),\n",
      " (2,\n",
      "  '0.016*\"network\" + 0.010*\"neuron\" + 0.006*\"neural\" + 0.005*\"route\" + '\n",
      "  '0.004*\"template\" + 0.004*\"transformation\" + 0.004*\"firing_rate\" + '\n",
      "  '0.003*\"syllable\" + 0.003*\"face\" + 0.003*\"router\"'),\n",
      " (3,\n",
      "  '0.013*\"model\" + 0.007*\"set\" + 0.006*\"algorithm\" + 0.005*\"order\" + '\n",
      "  '0.005*\"result\" + 0.005*\"show\" + 0.004*\"problem\" + 0.004*\"use\" + 0.004*\"let\" '\n",
      "  '+ 0.004*\"number\"'),\n",
      " (4,\n",
      "  '0.011*\"use\" + 0.010*\"model\" + 0.009*\"image\" + 0.009*\"learn\" + '\n",
      "  '0.009*\"function\" + 0.008*\"set\" + 0.007*\"feature\" + 0.006*\"method\" + '\n",
      "  '0.006*\"show\" + 0.006*\"datum\"'),\n",
      " (5,\n",
      "  '0.010*\"set\" + 0.008*\"cost\" + 0.007*\"function\" + 0.006*\"example\" + '\n",
      "  '0.005*\"label\" + 0.005*\"active\" + 0.005*\"datum\" + 0.005*\"error\" + '\n",
      "  '0.005*\"optimization\" + 0.004*\"problem\"'),\n",
      " (6,\n",
      "  '0.015*\"model\" + 0.007*\"distribution\" + 0.007*\"use\" + 0.006*\"sample\" + '\n",
      "  '0.005*\"learn\" + 0.005*\"regret\" + 0.005*\"result\" + 0.005*\"parameter\" + '\n",
      "  '0.005*\"set\" + 0.004*\"show\"'),\n",
      " (7,\n",
      "  '0.012*\"experiment\" + 0.005*\"policy\" + 0.005*\"schedule\" + 0.004*\"stage\" + '\n",
      "  '0.004*\"lab\" + 0.003*\"number\" + 0.003*\"topological\" + 0.003*\"start\" + '\n",
      "  '0.002*\"select\" + 0.002*\"time\"')]\n"
     ]
    }
   ],
   "source": [
    "from pprint import pprint\n",
    "\n",
    "# Print the Keyword in the 10 topics\n",
    "pprint(lda_model.print_topics())\n",
    "doc_lda = lda_model[corpus]"
   ]
  },
  {
   "cell_type": "markdown",
   "metadata": {},
   "source": [
    "## 8.- Visualize Results"
   ]
  },
  {
   "cell_type": "code",
   "execution_count": 17,
   "metadata": {},
   "outputs": [
    {
     "data": {
      "text/html": [
       "\n",
       "<link rel=\"stylesheet\" type=\"text/css\" href=\"https://cdn.rawgit.com/bmabey/pyLDAvis/files/ldavis.v1.0.0.css\">\n",
       "\n",
       "\n",
       "<div id=\"ldavis_el885214833913745362271077515\"></div>\n",
       "<script type=\"text/javascript\">\n",
       "\n",
       "var ldavis_el885214833913745362271077515_data = {\"mdsDat\": {\"x\": [0.1659300586853203, 0.09265072516237699, 0.06740098090141915, 0.011217737565377549, -0.07104731899815868, -0.054755605696900175, -0.08894080880366981, -0.1224557688157653], \"y\": [0.02942711805326175, -0.005703320645367479, -0.023068473499482448, -0.0429996258203553, 0.06281173001665569, -0.009715012792054452, 0.008853597122820975, -0.019606012435478708], \"topics\": [1, 2, 3, 4, 5, 6, 7, 8], \"cluster\": [1, 1, 1, 1, 1, 1, 1, 1], \"Freq\": [64.06324005126953, 15.418943405151367, 11.029826164245605, 4.514936923980713, 2.1562588214874268, 1.4488810300827026, 1.3673263788223267, 0.0005761478678323328]}, \"tinfo\": {\"Term\": [\"network\", \"experiment\", \"set\", \"model\", \"neural\", \"neuron\", \"cost\", \"function\", \"time\", \"current\", \"image\", \"example\", \"number\", \"problem\", \"algorithm\", \"label\", \"distribution\", \"datum\", \"error\", \"optimization\", \"use\", \"result\", \"learning\", \"give\", \"show\", \"unit\", \"density\", \"learn\", \"sample\", \"base\", \"feature\", \"interaction\", \"image\", \"segmentation\", \"protein\", \"motif\", \"hint\", \"pattern\", \"kernel\", \"prune\", \"pixel\", \"summary\", \"speech\", \"classification\", \"prototype\", \"segment\", \"resolution\", \"validation\", \"proposal\", \"recognition\", \"acquisition\", \"transfer\", \"map\", \"rule\", \"world\", \"text\", \"visual\", \"code\", \"similarity\", \"frame\", \"task\", \"test\", \"training\", \"document\", \"accuracy\", \"spike\", \"potential\", \"input\", \"basis\", \"train\", \"learn\", \"output\", \"use\", \"function\", \"class\", \"classifier\", \"datum\", \"method\", \"figure\", \"space\", \"network\", \"system\", \"set\", \"show\", \"base\", \"error\", \"give\", \"example\", \"model\", \"problem\", \"approach\", \"value\", \"result\", \"time\", \"different\", \"point\", \"number\", \"learning\", \"also\", \"arm\", \"regret\", \"infect\", \"iaf\", \"meanvariance\", \"option\", \"cascade\", \"lwr\", \"wt\", \"pull\", \"baseband\", \"autoregressive\", \"leader\", \"ssgpr\", \"inverse_autoregressive\", \"localization\", \"clv\", \"learner\", \"fade\", \"particle_filter\", \"robot\", \"bandit\", \"adahedge\", \"spatial_frequency\", \"cumulative_mixability\", \"itin\", \"geometric_measure\", \"generative\", \"reshape\", \"rdp\", \"power_law\", \"posterior\", \"norm\", \"patient\", \"round\", \"expert\", \"dynamic\", \"gaussian\", \"topic\", \"sample\", \"distribution\", \"regression\", \"model\", \"variance\", \"update\", \"prior\", \"local\", \"parameter\", \"stochastic\", \"bind\", \"gradient\", \"sampling\", \"rate\", \"constant\", \"bound\", \"follow\", \"result\", \"use\", \"theorem\", \"learn\", \"show\", \"learning\", \"set\", \"time\", \"problem\", \"number\", \"function\", \"algorithm\", \"give\", \"see\", \"also\", \"value\", \"datum\", \"base\", \"mallow\", \"subgraph\", \"cc\", \"ordering\", \"der\", \"ompr\", \"bf\", \"permutation\", \"community\", \"partial_ranking\", \"wolfe\", \"triangulate\", \"acnn\", \"ranking\", \"guess\", \"separator\", \"correspondence\", \"wisdom\", \"crowd\", \"participant\", \"vij\", \"thurstonian\", \"gcc\", \"unchorded\", \"vi_vj\", \"texton\", \"good_major\", \"censor\", \"fujishige\", \"amendment\", \"item\", \"vertex\", \"wavelet\", \"aggregation\", \"individual\", \"child\", \"cycle\", \"rank\", \"graph\", \"let\", \"tree\", \"theorem\", \"order\", \"texture\", \"model\", \"proof\", \"algorithm\", \"group\", \"set\", \"label\", \"prove\", \"state\", \"number\", \"result\", \"level\", \"time\", \"show\", \"problem\", \"probability\", \"follow\", \"method\", \"use\", \"also\", \"base\", \"distribution\", \"case\", \"point\", \"function\", \"figure\", \"cs_em\", \"worker\", \"disagreement\", \"chunky_em\", \"agnostic\", \"master\", \"mpt\", \"doom\", \"refinement\", \"realizable_case\", \"greedy_policie\", \"pointwise\", \"condence_rate\", \"cost_sensitively\", \"submodular_wrt\", \"bootstrap\", \"classication\", \"classier\", \"abstention\", \"centralize\", \"utility\", \"customer\", \"condence_rated\", \"adaboost\", \"target_excess\", \"business\", \"predictor\", \"unlabelle\", \"condence\", \"abstain\", \"realization\", \"asymptotically\", \"submodularity\", \"delay\", \"cost_sensitive\", \"modular\", \"adaptive\", \"policy\", \"budget\", \"active\", \"cost\", \"coverage\", \"partition\", \"query\", \"label\", \"set\", \"complexity\", \"example\", \"guarantee\", \"optimization\", \"function\", \"theorem\", \"error\", \"gradient\", \"submodular\", \"datum\", \"problem\", \"learning\", \"algorithm\", \"give\", \"distribution\", \"result\", \"base\", \"learn\", \"show\", \"syllable\", \"router\", \"song\", \"rmin\", \"convnet\", \"pubfig\", \"signature\", \"tuning_curve\", \"orbit\", \"port\", \"route\", \"face_verification\", \"illumination\", \"neuroscientist\", \"reevaluation\", \"transiently\", \"firing_rate\", \"calcium_imaging\", \"normalized_dot\", \"silent\", \"calcium\", \"production\", \"inhomogeneity\", \"interconnection\", \"oscine\", \"affine_transformations\", \"overlay\", \"affine_transformation\", \"legal\", \"tightly_balance\", \"wild\", \"hopfield\", \"template\", \"neuron\", \"excitation\", \"balanced\", \"network\", \"transformation\", \"neural\", \"face\", \"connectivity\", \"message\", \"temporal\", \"invariance\", \"output\", \"produce\", \"spiking\", \"human\", \"may\", \"image\", \"use\", \"input\", \"time\", \"set\", \"schedule\", \"lab\", \"viterbi\", \"selectbatch\", \"scheduling\", \"safe\", \"scheduler\", \"reduced_cost\", \"racetrack\", \"amise\", \"topological\", \"betti_number\", \"barcode\", \"horizon\", \"safeness\", \"hydrogen\", \"duration\", \"concurrent\", \"topologically\", \"generator\", \"safe_execution\", \"spherical\", \"ftop\", \"bandwidth\", \"policy_switching\", \"bo\", \"anode\", \"intelligently\", \"ofstage\", \"concurrency\", \"finish\", \"display\", \"experiment\", \"stage\", \"offline\", \"primal\", \"policy\", \"oracle\", \"chain\", \"start\", \"select\", \"complete\", \"density\", \"number\", \"inference\", \"consider\", \"dual\", \"time\", \"run\", \"approach\", \"variable\", \"problem\", \"probability\", \"compute\", \"use\", \"action_potential\", \"voltage\", \"permeability\", \"ionic\", \"regenerate\", \"transistor\", \"ion\", \"capacitor\", \"fdkm\", \"membrane\", \"sodium\", \"quadrant\", \"conductance\", \"potassium\", \"inactivation\", \"subthreshold\", \"charge\", \"kinetic\", \"iout\", \"chip\", \"cmo\", \"injection\", \"multiplier\", \"gate\", \"deflection\", \"capacitance\", \"evxj\", \"floating_gate\", \"voltage_dependent\", \"resurgence\", \"load\", \"visible\", \"current\", \"circuit\", \"channel\", \"energy\", \"cell\", \"dynamic\", \"constant\", \"unit\", \"time\", \"fig\", \"minimal\", \"simulation\", \"power\", \"spike\", \"stochastic\", \"continuous\", \"norm\", \"model\", \"implementation\", \"fibre\", \"accumulation\", \"rectifier\", \"energetically\", \"lindstedt\", \"initio\", \"expenditure\", \"giant\", \"thalamocortical\", \"chemistry\", \"secular\", \"destexhe\", \"pna\", \"inject\", \"myelinate\", \"conformational\", \"nervous\", \"inwardly\", \"instantaneously\", \"efflux\", \"gas\", \"latch\", \"ina\", \"flux\", \"abolishe\", \"paradox\", \"hippocampal\", \"premature\", \"gna\", \"evolved\", \"pare\", \"szeg\", \"eager\", \"shekel\", \"experimenter\", \"dji\", \"purposefully\", \"tightly\", \"decremente\", \"npexperimental\", \"burrow\", \"mod\", \"argmaxe\", \"performer\", \"beneficially\", \"motivating\", \"bertsima\", \"annotated\", \"cutdelaye\", \"prescriptive\", \"cp\", \"maxxn\", \"extendable\", \"pivoting\", \"carpediem\", \"getm\", \"coordinate_descent\", \"widerange\", \"governmental\", \"cutting\", \"exactness\", \"restricted_lp\", \"copyright\", \"curacy\", \"exhaustively\", \"sontag\", \"reducedcost\", \"ssl\", \"grandparent\", \"onedirectional\", \"fastest\", \"essage\", \"accuracie\", \"massachusetts\", \"set\", \"use\", \"learn\", \"feature\", \"image\", \"function\", \"model\", \"method\", \"problem\", \"example\", \"variable\", \"figure\", \"lp\", \"number\", \"inference\", \"also\", \"datum\", \"approach\", \"follow\", \"message\", \"viterbi\", \"network\", \"time\", \"line\", \"compute\", \"label\", \"route\", \"give\", \"reduced_cost\", \"vector\", \"algorithm\", \"base\", \"case\", \"training\", \"show\", \"probability\"], \"Freq\": [768.0, 399.0, 1252.0, 1759.0, 341.0, 200.0, 356.0, 1170.0, 701.0, 153.0, 1003.0, 524.0, 630.0, 813.0, 599.0, 308.0, 639.0, 787.0, 459.0, 346.0, 1509.0, 810.0, 483.0, 688.0, 875.0, 196.0, 197.0, 1127.0, 482.0, 678.0, 773.5355224609375, 123.80416107177734, 971.0911254882812, 125.07858276367188, 80.44677734375, 72.378662109375, 65.74954986572266, 154.08628845214844, 140.7339324951172, 83.77427673339844, 70.6827392578125, 81.37837982177734, 81.01895904541016, 219.53175354003906, 42.42549133300781, 78.95161437988281, 48.314517974853516, 58.27159881591797, 52.966365814208984, 108.05320739746094, 41.30684280395508, 50.525447845458984, 203.94976806640625, 139.54336547851562, 76.89558410644531, 77.53935241699219, 110.36827850341797, 113.97605895996094, 70.9019546508789, 53.69389343261719, 409.2998352050781, 419.6611022949219, 410.4440612792969, 231.83067321777344, 182.44223022460938, 124.66744232177734, 174.27284240722656, 415.0099182128906, 148.50265502929688, 191.02981567382812, 952.5621948242188, 290.5323181152344, 1216.428955078125, 945.9842529296875, 265.3573303222656, 137.0035858154297, 639.8699951171875, 644.2687377929688, 543.6424560546875, 319.669921875, 605.9662475585938, 365.2421875, 900.70703125, 640.8331909179688, 513.25830078125, 365.3970947265625, 512.4547119140625, 406.7086486816406, 1106.7860107421875, 585.4755249023438, 416.97625732421875, 430.46990966796875, 560.5892333984375, 485.5250244140625, 365.5223693847656, 354.7449035644531, 427.9390869140625, 358.76287841796875, 376.5793762207031, 81.61101531982422, 134.18458557128906, 27.093585968017578, 21.28645896911621, 19.80055046081543, 34.45182800292969, 14.619344711303711, 14.573585510253906, 13.848652839660645, 19.799081802368164, 10.948358535766602, 17.558807373046875, 10.902802467346191, 10.900579452514648, 10.22961139678955, 23.674509048461914, 10.198078155517578, 23.2390079498291, 9.471726417541504, 9.406793594360352, 24.440824508666992, 18.31995391845703, 10.489628791809082, 8.600297927856445, 9.8064546585083, 8.026939392089844, 8.005528450012207, 38.02701187133789, 7.294426918029785, 7.270156383514404, 12.362643241882324, 70.5958023071289, 86.10098266601562, 13.606433868408203, 33.86233139038086, 26.9403076171875, 60.21198272705078, 77.97283935546875, 73.36424255371094, 168.36618041992188, 193.17933654785156, 58.16896438598633, 393.47259521484375, 59.90828323364258, 75.69898223876953, 78.47024536132812, 84.7038803100586, 128.75411987304688, 60.092342376708984, 74.9817123413086, 76.80628204345703, 50.558448791503906, 77.44367218017578, 64.1736831665039, 66.9394760131836, 100.36074829101562, 130.6011962890625, 177.00277709960938, 62.554473876953125, 134.5768585205078, 118.46597290039062, 86.56976318359375, 122.24082946777344, 97.2761459350586, 101.97557067871094, 92.59241485595703, 107.9734878540039, 89.50859069824219, 92.46176147460938, 75.16880798339844, 80.61280822753906, 80.53264617919922, 79.07512664794922, 75.77971649169922, 24.468769073486328, 22.349714279174805, 19.570363998413086, 32.628807067871094, 15.596323013305664, 18.36031723022461, 15.21745491027832, 26.271387100219727, 66.93719482421875, 12.660293579101562, 16.626848220825195, 15.562952995300293, 12.030269622802734, 15.362869262695312, 18.3730411529541, 17.304960250854492, 34.33087921142578, 8.818970680236816, 8.813813209533691, 14.31750202178955, 11.459416389465332, 8.133439064025879, 8.008118629455566, 7.401095867156982, 7.3871307373046875, 18.687358856201172, 7.2966084480285645, 7.3180766105651855, 7.271812915802002, 6.76544189453125, 67.59797668457031, 72.67024230957031, 18.47422218322754, 14.137582778930664, 56.29987335205078, 18.406814575195312, 28.466115951538086, 47.218631744384766, 70.62553405761719, 81.54041290283203, 76.08977508544922, 65.68895721435547, 93.62924194335938, 37.0491943359375, 239.845947265625, 44.634979248046875, 118.98168182373047, 38.1556282043457, 140.67510986328125, 67.19151306152344, 32.71162796020508, 72.31166076660156, 81.48636627197266, 89.54293060302734, 44.078914642333984, 81.04036712646484, 88.17922973632812, 85.40142822265625, 64.13211059570312, 63.68522262573242, 74.07823944091797, 83.55760955810547, 58.75991439819336, 62.359066009521484, 61.2056999206543, 50.87345886230469, 51.188880920410156, 55.89341735839844, 50.9574089050293, 18.954334259033203, 18.687524795532227, 16.380435943603516, 9.17319393157959, 7.935925483703613, 7.443222522735596, 6.897169589996338, 8.049539566040039, 8.293148040771484, 6.065908908843994, 6.043145179748535, 6.042572021484375, 5.5912370681762695, 5.570129871368408, 5.567374229431152, 18.485151290893555, 5.124963283538818, 5.12119722366333, 4.645261287689209, 4.635110855102539, 30.06512451171875, 4.569870948791504, 4.182387828826904, 9.481101036071777, 3.712425470352173, 4.9680328369140625, 21.999645233154297, 3.24130916595459, 3.2405519485473633, 3.2383077144622803, 11.178375244140625, 8.18748950958252, 22.663728713989258, 22.633075714111328, 7.91938591003418, 16.35839080810547, 28.816041946411133, 33.189186096191406, 19.474346160888672, 37.374900817871094, 65.4070816040039, 12.778766632080078, 27.14807891845703, 22.797590255737305, 38.29396438598633, 78.7481689453125, 23.435039520263672, 45.061031341552734, 23.662134170532227, 35.541229248046875, 54.561851501464844, 26.111968994140625, 35.667945861816406, 25.703840255737305, 19.340696334838867, 36.23649978637695, 34.06111526489258, 28.676307678222656, 29.872665405273438, 27.383625030517578, 26.991865158081055, 23.618783950805664, 22.618450164794922, 22.096811294555664, 20.6146183013916, 12.697295188903809, 10.626463890075684, 8.13023853302002, 6.670608997344971, 7.11899471282959, 5.068054676055908, 8.019149780273438, 5.221116065979004, 6.825527667999268, 4.227259635925293, 20.23860740661621, 3.8618552684783936, 2.649188756942749, 2.642364978790283, 2.6338016986846924, 2.624055862426758, 13.13770580291748, 2.342411756515503, 2.0525786876678467, 2.850457191467285, 2.8698554039001465, 3.570694923400879, 1.9904946088790894, 3.574169874191284, 1.7803094387054443, 1.750483512878418, 1.7458895444869995, 2.289642810821533, 2.0833613872528076, 1.6923846006393433, 2.349958658218384, 4.435072422027588, 13.262392044067383, 36.59388732910156, 2.706444501876831, 3.6987197399139404, 58.30155563354492, 13.141748428344727, 23.992107391357422, 11.8948335647583, 6.7534894943237305, 10.112041473388672, 5.629265308380127, 5.048742771148682, 7.746574401855469, 6.367837429046631, 4.02775764465332, 5.627776145935059, 7.109981536865234, 7.593739032745361, 7.97385311126709, 5.851229667663574, 5.73480749130249, 5.776336193084717, 11.351003646850586, 8.951586723327637, 5.201300621032715, 3.702723979949951, 4.571650505065918, 4.355251789093018, 2.6078362464904785, 2.5823800563812256, 2.9166903495788574, 2.7268717288970947, 7.724999904632568, 1.879408597946167, 1.866250991821289, 4.133638858795166, 1.509950876235962, 1.5092430114746094, 5.652263641357422, 1.7277778387069702, 1.8450961112976074, 2.1493442058563232, 1.2907594442367554, 2.196913242340088, 1.2297295331954956, 5.393465518951416, 1.0719647407531738, 1.0717355012893677, 1.0719358921051025, 1.0717397928237915, 1.0715094804763794, 1.0714095830917358, 2.387108325958252, 3.5323283672332764, 30.333940505981445, 10.030152320861816, 4.181235313415527, 2.7093725204467773, 11.459508895874023, 3.011157274246216, 4.087442874908447, 6.5465087890625, 5.898240566253662, 4.1251220703125, 5.86290979385376, 7.989508628845215, 5.2448930740356445, 5.489116191864014, 3.4829607009887695, 5.891928672790527, 4.522250652313232, 4.255658149719238, 4.032497882843018, 4.205471992492676, 3.959606409072876, 3.797665596008301, 3.8980205059051514, 6.569107532501221, 12.894577980041504, 4.149472236633301, 3.7115001678466797, 3.4901063442230225, 3.470277786254883, 4.807591438293457, 2.6127259731292725, 2.590808868408203, 3.704573392868042, 1.9548791646957397, 2.6039505004882812, 1.7367644309997559, 1.7345314025878906, 1.7343833446502686, 1.7302818298339844, 4.3341755867004395, 1.5147274732589722, 1.5071914196014404, 5.065730094909668, 1.502991795539856, 1.4955631494522095, 1.7292555570602417, 3.4481394290924072, 1.2965691089630127, 1.295765995979309, 1.2926803827285767, 1.2774056196212769, 1.0766913890838623, 1.075730562210083, 1.946911334991455, 2.5630760192871094, 24.78072738647461, 5.383984088897705, 2.5828804969787598, 4.595215797424316, 5.8657073974609375, 6.995889663696289, 5.981585502624512, 5.684097766876221, 8.223408699035645, 4.4483513832092285, 2.749908685684204, 3.2682855129241943, 2.694859027862549, 3.5091981887817383, 3.362621545791626, 2.8011982440948486, 2.726773262023926, 2.7939088344573975, 2.611250400543213, 0.00011199559958186, 0.00011198562424397096, 0.00011199549044249579, 0.00011198983702342957, 0.00011198038555448875, 0.00011198416177649051, 0.00011197888670722023, 0.00011197345156688243, 0.00011198771971976385, 0.00011197726416867226, 0.00011196784907951951, 0.000111990979348775, 0.00011197881394764408, 0.0001119675871450454, 0.00011196832929272205, 0.0001119729713536799, 0.00011197633284609765, 0.00011197535786777735, 0.00011197819549124688, 0.00011196541890967637, 0.0001119790758821182, 0.00011198578431503847, 0.00011197829007869586, 0.00011197749699931592, 0.00011197195999557152, 0.00011197117419214919, 0.00011197903950233012, 0.00011197741696378216, 0.00011197580897714943, 0.00011196850391570479, 0.00011198072752449661, 0.00011203045141883194, 0.00011201239976799116, 0.00011201233428437263, 0.00011201047891518101, 0.0001120130909839645, 0.00011200584413018078, 0.00011200553853996098, 0.00011200558947166428, 0.00011200223525520414, 0.00011200409062439576, 0.00011199706932529807, 0.00011234785779379308, 0.00011199807340744883, 0.00011231563257751986, 0.00011199915752513334, 0.00011231271491851658, 0.00011231409735046327, 0.00011231306416448206, 0.0001123085239669308, 0.00011229859956074506, 0.00011230027303099632, 0.00011229624942643568, 0.00011229296069359407, 0.00011229321535211056, 0.00011228727817069739, 0.00011228847870370373, 0.00011228884977754205, 0.00011228516814298928, 0.00011228567018406466, 0.00011228535731788725, 0.00011228441871935502, 0.00011227781942579895, 0.00011227162758586928, 0.0001122676840168424, 0.00011225859634578228, 0.00011225901107536629, 0.00011225673370063305, 0.00011225607886444777, 0.00011225520574953407, 0.00011225443449802697, 0.00011225596244912595, 0.0001122525500250049, 0.00011225197522435337, 0.00023450044682249427, 0.00022425517090596259, 0.00021151085093151778, 0.00019347839406691492, 0.00019476741726975888, 0.00018878132686950266, 0.00019438090384937823, 0.00018035221728496253, 0.00017889394075609744, 0.00017075164942070842, 0.00016606682038400322, 0.00017223354370798916, 0.00011341429490130395, 0.000168669008417055, 0.00015713048924226314, 0.0001635353110032156, 0.00016756313561927527, 0.00016220545512624085, 0.00016082781075965613, 0.0001456922764191404, 0.00012093633995391428, 0.00016263179713860154, 0.00015969858213793486, 0.00014612906670663506, 0.00014921843830961734, 0.00014937213563825935, 0.0001308452629018575, 0.00015508286014664918, 0.0001158277882495895, 0.00014997758262325078, 0.00015149638056755066, 0.00015191260899882764, 0.00014771430869586766, 0.00014787357940804213, 0.00014901028771419078, 0.00014722193009220064], \"Total\": [768.0, 399.0, 1252.0, 1759.0, 341.0, 200.0, 356.0, 1170.0, 701.0, 153.0, 1003.0, 524.0, 630.0, 813.0, 599.0, 308.0, 639.0, 787.0, 459.0, 346.0, 1509.0, 810.0, 483.0, 688.0, 875.0, 196.0, 197.0, 1127.0, 482.0, 678.0, 794.8190307617188, 127.54000091552734, 1003.5191040039062, 129.4057159423828, 83.29752349853516, 74.99358367919922, 68.281982421875, 160.1078643798828, 147.1675567626953, 88.0506820678711, 74.3075942993164, 85.76197052001953, 85.6546401977539, 232.47409057617188, 44.95901870727539, 83.69110107421875, 51.22311019897461, 61.79393005371094, 56.296932220458984, 114.89234161376953, 43.926334381103516, 53.732662200927734, 216.9971160888672, 148.6677703857422, 81.9476547241211, 82.69880676269531, 117.80242156982422, 121.83879089355469, 75.85196685791016, 57.443782806396484, 439.04278564453125, 451.6524353027344, 443.5899963378906, 251.0858917236328, 197.1235809326172, 133.8378143310547, 188.97146606445312, 462.7568664550781, 160.67501831054688, 209.12893676757812, 1127.8116455078125, 325.3734436035156, 1509.056640625, 1170.4522705078125, 301.8426818847656, 149.380126953125, 787.8734130859375, 804.4583740234375, 672.6278686523438, 375.6353454589844, 768.8007202148438, 442.5833740234375, 1252.4189453125, 875.9094848632812, 678.9843139648438, 459.9206848144531, 688.595458984375, 524.4898071289062, 1759.312744140625, 813.871337890625, 540.6863403320312, 571.9000244140625, 810.7093505859375, 701.9566650390625, 475.46759033203125, 469.7576599121094, 630.1820678710938, 483.7845153808594, 540.1165771484375, 85.90371704101562, 141.84922790527344, 29.86225128173828, 23.953289031982422, 22.466629028320312, 39.12436294555664, 17.30453872680664, 17.328481674194336, 16.580223083496094, 23.776418685913086, 13.591440200805664, 21.89141082763672, 13.626241683959961, 13.63648509979248, 12.868621826171875, 29.796764373779297, 12.867100715637207, 29.63687515258789, 12.111122131347656, 12.136723518371582, 31.565149307250977, 23.89361572265625, 13.761862754821777, 11.386048316955566, 13.004125595092773, 10.651206016540527, 10.642102241516113, 50.82371139526367, 9.919401168823242, 9.902961730957031, 16.91267204284668, 105.2717056274414, 147.5420379638672, 19.165464401245117, 55.79935836791992, 43.341976165771484, 119.88326263427734, 174.78810119628906, 165.12448120117188, 482.1413879394531, 639.5071411132812, 131.2290802001953, 1759.312744140625, 138.28663635253906, 192.7496337890625, 204.43260192871094, 240.77528381347656, 451.4036865234375, 148.34169006347656, 211.06964111328125, 223.9323272705078, 117.9028091430664, 242.27005004882812, 194.50192260742188, 214.48092651367188, 481.6232604980469, 810.7093505859375, 1509.056640625, 204.23794555664062, 1127.8116455078125, 875.9094848632812, 483.7845153808594, 1252.4189453125, 701.9566650390625, 813.871337890625, 630.1820678710938, 1170.4522705078125, 599.4381103515625, 688.595458984375, 341.74920654296875, 540.1165771484375, 571.9000244140625, 787.8734130859375, 678.9843139648438, 27.239988327026367, 25.114456176757812, 22.491859436035156, 38.3099479675293, 18.353036880493164, 21.990617752075195, 18.29058265686035, 31.88787078857422, 81.74006652832031, 15.529109954833984, 20.480886459350586, 19.25213050842285, 14.979328155517578, 19.28079605102539, 23.64339256286621, 22.2872257232666, 44.46538162231445, 11.487031936645508, 11.486830711364746, 18.687637329101562, 15.132454872131348, 10.800283432006836, 10.835749626159668, 10.08514404296875, 10.08858871459961, 25.67906951904297, 10.042802810668945, 10.082793235778809, 10.027328491210938, 9.429847717285156, 96.13687896728516, 107.94220733642578, 26.864072799682617, 20.456605911254883, 106.19669342041016, 28.991594314575195, 49.34125518798828, 105.6858139038086, 210.8404083251953, 259.2738037109375, 240.143310546875, 204.23794555664062, 350.8805847167969, 86.30628204345703, 1759.312744140625, 117.0977783203125, 599.4381103515625, 105.39237213134766, 1252.4189453125, 308.411865234375, 85.12852478027344, 477.7985534667969, 630.1820678710938, 810.7093505859375, 172.69866943359375, 701.9566650390625, 875.9094848632812, 813.871337890625, 479.7677917480469, 481.6232604980469, 804.4583740234375, 1509.056640625, 540.1165771484375, 678.9843139648438, 639.5071411132812, 406.6106262207031, 469.7576599121094, 1170.4522705078125, 672.6278686523438, 22.440593719482422, 23.69356346130371, 21.852018356323242, 12.396074295043945, 10.855976104736328, 10.3655366897583, 9.980157852172852, 11.69927978515625, 12.106844902038574, 8.953276634216309, 8.966438293457031, 8.966678619384766, 8.479569435119629, 8.49411392211914, 8.493678092956543, 28.397666931152344, 8.006359100341797, 8.004411697387695, 7.531452655792236, 7.530966281890869, 49.40818786621094, 7.596141815185547, 7.054380416870117, 16.002567291259766, 6.583072662353516, 9.101605415344238, 40.437076568603516, 6.107473373413086, 6.108902931213379, 6.108606338500977, 21.13006019592285, 15.572164535522461, 44.8736457824707, 47.74385452270508, 15.704367637634277, 37.627662658691406, 82.22010803222656, 117.60671997070312, 56.70671844482422, 146.7823486328125, 356.8186340332031, 33.46894073486328, 122.593505859375, 108.9284896850586, 308.411865234375, 1252.4189453125, 133.49082946777344, 524.4898071289062, 145.1939239501953, 346.88702392578125, 1170.4522705078125, 204.23794555664062, 459.9206848144531, 223.9323272705078, 121.4701919555664, 787.8734130859375, 813.871337890625, 483.7845153808594, 599.4381103515625, 688.595458984375, 639.5071411132812, 810.7093505859375, 678.9843139648438, 1127.8116455078125, 875.9094848632812, 16.038000106811523, 13.727410316467285, 11.41181468963623, 9.725608825683594, 10.65818977355957, 8.349798202514648, 13.340264320373535, 8.804093360900879, 11.734148025512695, 7.271500110626221, 35.320743560791016, 7.091599464416504, 5.852970123291016, 5.861568450927734, 5.876770496368408, 5.899041652679443, 30.60367774963379, 5.54567289352417, 5.2113118171691895, 7.383055210113525, 7.55353307723999, 9.418939590454102, 5.28399133682251, 9.65073013305664, 4.840601921081543, 4.899146556854248, 4.906402111053467, 6.62443208694458, 6.110504150390625, 4.968972682952881, 7.024797439575195, 14.389827728271484, 56.30400085449219, 200.37181091308594, 8.525278091430664, 13.327921867370605, 768.8007202148438, 119.74937438964844, 341.8545227050781, 104.80757904052734, 44.91141891479492, 122.56069946289062, 56.75934600830078, 50.730308532714844, 325.3734436035156, 162.68002319335938, 30.28643035888672, 129.58384704589844, 366.9241943359375, 1003.5191040039062, 1509.056640625, 462.7568664550781, 701.9566650390625, 1252.4189453125, 19.248119354248047, 15.558825492858887, 9.076522827148438, 6.884443283081055, 8.771084785461426, 9.071717262268066, 5.750219345092773, 5.815851211547852, 6.628489971160889, 6.30356502532959, 19.630661010742188, 5.302314758300781, 5.347891807556152, 12.022871971130371, 4.6290283203125, 4.631303787231445, 17.53852653503418, 5.5768327713012695, 6.1522932052612305, 7.273751258850098, 4.402563571929932, 8.096945762634277, 4.601926803588867, 20.38859748840332, 4.176344871520996, 4.176469802856445, 4.17747163772583, 4.177104473114014, 4.1765828132629395, 4.178137302398682, 11.202192306518555, 18.271059036254883, 399.3258361816406, 87.99723815917969, 26.545654296875, 15.129295349121094, 117.60671997070312, 20.025014877319336, 37.48591995239258, 113.68817901611328, 124.29740142822266, 62.13658905029297, 197.80638122558594, 630.1820678710938, 251.64857482910156, 348.27032470703125, 55.34574508666992, 701.9566650390625, 199.66880798339844, 540.6863403320312, 394.449462890625, 813.871337890625, 479.7677917480469, 302.104248046875, 1509.056640625, 10.275978088378906, 21.00950050354004, 7.370818138122559, 6.9033918380737305, 6.698311805725098, 6.725888252258301, 9.479723930358887, 5.775685787200928, 5.8186187744140625, 9.432954788208008, 5.087009906768799, 7.270821571350098, 4.8554534912109375, 4.859509468078613, 4.8639445304870605, 4.8781304359436035, 12.554736137390137, 4.634599685668945, 4.65846586227417, 15.707475662231445, 4.665110111236572, 4.683699131011963, 5.618414402008057, 11.455904006958008, 4.402695655822754, 4.406892776489258, 4.416906833648682, 4.452258110046387, 4.177359104156494, 4.180210113525391, 7.64252233505249, 11.041606903076172, 153.45899963378906, 31.707792282104492, 13.638720512390137, 38.692108154296875, 71.43964385986328, 119.88326263427734, 194.50192260742188, 196.95314025878906, 701.9566650390625, 104.89773559570312, 28.290279388427734, 56.85603332519531, 30.63678741455078, 133.8378143310547, 148.34169006347656, 53.666324615478516, 147.5420379638672, 1759.312744140625, 70.50677490234375, 3.495166540145874, 3.494873046875, 3.4951860904693604, 3.495175361633301, 3.494898557662964, 3.4950759410858154, 3.494940996170044, 3.49485445022583, 3.495314121246338, 3.4950613975524902, 3.49476957321167, 3.4954922199249268, 3.4951164722442627, 3.494819164276123, 3.494894504547119, 3.4950485229492188, 3.4951789379119873, 3.495152473449707, 3.4952802658081055, 3.4949276447296143, 3.4953863620758057, 3.4956319332122803, 3.4954028129577637, 3.495429754257202, 3.4952964782714844, 3.4953365325927734, 3.495588779449463, 3.4955897331237793, 3.4956421852111816, 3.4954233169555664, 3.49580979347229, 3.4979186058044434, 3.498060941696167, 3.4980685710906982, 3.4979825019836426, 3.4982361793518066, 3.4977777004241943, 3.4982423782348633, 3.4983201026916504, 3.4980289936065674, 3.498394250869751, 3.4978466033935547, 3.5457026958465576, 3.4982199668884277, 3.545625925064087, 3.4984495639801025, 3.545646905899048, 3.5461604595184326, 3.546006679534912, 3.5455727577209473, 3.545576572418213, 3.5459818840026855, 3.545762062072754, 3.545774459838867, 3.5461981296539307, 3.5453391075134277, 3.5456156730651855, 3.5457022190093994, 3.5455784797668457, 3.545759439468384, 3.5460712909698486, 3.545919179916382, 3.5455448627471924, 3.5461859703063965, 3.545511484146118, 3.545504331588745, 3.5456933975219727, 3.5453951358795166, 3.5458548069000244, 3.5457184314727783, 3.5456619262695312, 3.5460729598999023, 3.546119451522827, 3.546308755874634, 1252.4189453125, 1509.056640625, 1127.8116455078125, 794.8190307617188, 1003.5191040039062, 1170.4522705078125, 1759.312744140625, 804.4583740234375, 813.871337890625, 524.4898071289062, 394.449462890625, 672.6278686523438, 4.01515007019043, 630.1820678710938, 251.64857482910156, 540.1165771484375, 787.8734130859375, 540.6863403320312, 481.6232604980469, 122.56069946289062, 9.076522827148438, 768.8007202148438, 701.9566650390625, 172.56947326660156, 302.104248046875, 308.411865234375, 35.320743560791016, 688.595458984375, 5.815851211547852, 443.6116027832031, 599.4381103515625, 678.9843139648438, 406.6106262207031, 443.5899963378906, 875.9094848632812, 479.7677917480469], \"Category\": [\"Default\", \"Default\", \"Default\", \"Default\", \"Default\", \"Default\", \"Default\", \"Default\", \"Default\", \"Default\", \"Default\", \"Default\", \"Default\", \"Default\", \"Default\", \"Default\", \"Default\", \"Default\", \"Default\", \"Default\", \"Default\", \"Default\", \"Default\", \"Default\", \"Default\", \"Default\", \"Default\", \"Default\", \"Default\", \"Default\", \"Topic1\", \"Topic1\", \"Topic1\", \"Topic1\", \"Topic1\", \"Topic1\", \"Topic1\", \"Topic1\", \"Topic1\", \"Topic1\", \"Topic1\", \"Topic1\", \"Topic1\", \"Topic1\", \"Topic1\", \"Topic1\", \"Topic1\", \"Topic1\", \"Topic1\", \"Topic1\", \"Topic1\", \"Topic1\", \"Topic1\", \"Topic1\", \"Topic1\", \"Topic1\", \"Topic1\", \"Topic1\", \"Topic1\", \"Topic1\", \"Topic1\", \"Topic1\", \"Topic1\", \"Topic1\", \"Topic1\", \"Topic1\", \"Topic1\", \"Topic1\", \"Topic1\", \"Topic1\", \"Topic1\", \"Topic1\", \"Topic1\", \"Topic1\", \"Topic1\", \"Topic1\", \"Topic1\", \"Topic1\", \"Topic1\", \"Topic1\", \"Topic1\", \"Topic1\", \"Topic1\", \"Topic1\", \"Topic1\", \"Topic1\", \"Topic1\", \"Topic1\", \"Topic1\", \"Topic1\", \"Topic1\", \"Topic1\", \"Topic1\", \"Topic1\", \"Topic1\", \"Topic1\", \"Topic1\", \"Topic1\", \"Topic1\", \"Topic2\", \"Topic2\", \"Topic2\", \"Topic2\", \"Topic2\", \"Topic2\", \"Topic2\", \"Topic2\", \"Topic2\", \"Topic2\", \"Topic2\", \"Topic2\", \"Topic2\", \"Topic2\", \"Topic2\", \"Topic2\", \"Topic2\", \"Topic2\", \"Topic2\", \"Topic2\", \"Topic2\", \"Topic2\", \"Topic2\", \"Topic2\", \"Topic2\", \"Topic2\", \"Topic2\", \"Topic2\", \"Topic2\", \"Topic2\", \"Topic2\", \"Topic2\", \"Topic2\", \"Topic2\", \"Topic2\", \"Topic2\", \"Topic2\", \"Topic2\", \"Topic2\", \"Topic2\", \"Topic2\", \"Topic2\", \"Topic2\", \"Topic2\", \"Topic2\", \"Topic2\", \"Topic2\", \"Topic2\", \"Topic2\", \"Topic2\", \"Topic2\", \"Topic2\", \"Topic2\", \"Topic2\", \"Topic2\", \"Topic2\", \"Topic2\", \"Topic2\", \"Topic2\", \"Topic2\", \"Topic2\", \"Topic2\", \"Topic2\", \"Topic2\", \"Topic2\", \"Topic2\", \"Topic2\", \"Topic2\", \"Topic2\", \"Topic2\", \"Topic2\", \"Topic2\", \"Topic2\", \"Topic2\", \"Topic3\", \"Topic3\", \"Topic3\", \"Topic3\", \"Topic3\", \"Topic3\", \"Topic3\", \"Topic3\", \"Topic3\", \"Topic3\", \"Topic3\", \"Topic3\", \"Topic3\", \"Topic3\", \"Topic3\", \"Topic3\", \"Topic3\", \"Topic3\", \"Topic3\", \"Topic3\", \"Topic3\", \"Topic3\", \"Topic3\", \"Topic3\", \"Topic3\", \"Topic3\", \"Topic3\", \"Topic3\", \"Topic3\", \"Topic3\", \"Topic3\", \"Topic3\", \"Topic3\", \"Topic3\", \"Topic3\", \"Topic3\", \"Topic3\", \"Topic3\", \"Topic3\", \"Topic3\", \"Topic3\", \"Topic3\", \"Topic3\", \"Topic3\", \"Topic3\", \"Topic3\", \"Topic3\", \"Topic3\", \"Topic3\", \"Topic3\", \"Topic3\", \"Topic3\", \"Topic3\", \"Topic3\", \"Topic3\", \"Topic3\", \"Topic3\", \"Topic3\", \"Topic3\", \"Topic3\", \"Topic3\", \"Topic3\", \"Topic3\", \"Topic3\", \"Topic3\", \"Topic3\", \"Topic3\", \"Topic3\", \"Topic3\", \"Topic4\", \"Topic4\", \"Topic4\", \"Topic4\", \"Topic4\", \"Topic4\", \"Topic4\", \"Topic4\", \"Topic4\", \"Topic4\", \"Topic4\", \"Topic4\", \"Topic4\", \"Topic4\", \"Topic4\", \"Topic4\", \"Topic4\", \"Topic4\", \"Topic4\", \"Topic4\", \"Topic4\", \"Topic4\", \"Topic4\", \"Topic4\", \"Topic4\", \"Topic4\", \"Topic4\", \"Topic4\", \"Topic4\", \"Topic4\", \"Topic4\", \"Topic4\", \"Topic4\", \"Topic4\", \"Topic4\", \"Topic4\", \"Topic4\", \"Topic4\", \"Topic4\", \"Topic4\", \"Topic4\", \"Topic4\", \"Topic4\", \"Topic4\", \"Topic4\", \"Topic4\", \"Topic4\", \"Topic4\", \"Topic4\", \"Topic4\", \"Topic4\", \"Topic4\", \"Topic4\", \"Topic4\", \"Topic4\", \"Topic4\", \"Topic4\", \"Topic4\", \"Topic4\", \"Topic4\", \"Topic4\", \"Topic4\", \"Topic4\", \"Topic4\", \"Topic4\", \"Topic5\", \"Topic5\", \"Topic5\", \"Topic5\", \"Topic5\", \"Topic5\", \"Topic5\", \"Topic5\", \"Topic5\", \"Topic5\", \"Topic5\", \"Topic5\", \"Topic5\", \"Topic5\", \"Topic5\", \"Topic5\", \"Topic5\", \"Topic5\", \"Topic5\", \"Topic5\", \"Topic5\", \"Topic5\", \"Topic5\", \"Topic5\", \"Topic5\", \"Topic5\", \"Topic5\", \"Topic5\", \"Topic5\", \"Topic5\", \"Topic5\", \"Topic5\", \"Topic5\", \"Topic5\", \"Topic5\", \"Topic5\", \"Topic5\", \"Topic5\", \"Topic5\", \"Topic5\", \"Topic5\", \"Topic5\", \"Topic5\", \"Topic5\", \"Topic5\", \"Topic5\", \"Topic5\", \"Topic5\", \"Topic5\", \"Topic5\", \"Topic5\", \"Topic5\", \"Topic5\", \"Topic5\", \"Topic6\", \"Topic6\", \"Topic6\", \"Topic6\", \"Topic6\", \"Topic6\", \"Topic6\", \"Topic6\", \"Topic6\", \"Topic6\", \"Topic6\", \"Topic6\", \"Topic6\", \"Topic6\", \"Topic6\", \"Topic6\", \"Topic6\", \"Topic6\", \"Topic6\", \"Topic6\", \"Topic6\", \"Topic6\", \"Topic6\", \"Topic6\", \"Topic6\", \"Topic6\", \"Topic6\", \"Topic6\", \"Topic6\", \"Topic6\", \"Topic6\", \"Topic6\", \"Topic6\", \"Topic6\", \"Topic6\", \"Topic6\", \"Topic6\", \"Topic6\", \"Topic6\", \"Topic6\", \"Topic6\", \"Topic6\", \"Topic6\", \"Topic6\", \"Topic6\", \"Topic6\", \"Topic6\", \"Topic6\", \"Topic6\", \"Topic6\", \"Topic6\", \"Topic6\", \"Topic6\", \"Topic6\", \"Topic6\", \"Topic7\", \"Topic7\", \"Topic7\", \"Topic7\", \"Topic7\", \"Topic7\", \"Topic7\", \"Topic7\", \"Topic7\", \"Topic7\", \"Topic7\", \"Topic7\", \"Topic7\", \"Topic7\", \"Topic7\", \"Topic7\", \"Topic7\", \"Topic7\", \"Topic7\", \"Topic7\", \"Topic7\", \"Topic7\", \"Topic7\", \"Topic7\", \"Topic7\", \"Topic7\", \"Topic7\", \"Topic7\", \"Topic7\", \"Topic7\", \"Topic7\", \"Topic7\", \"Topic7\", \"Topic7\", \"Topic7\", \"Topic7\", \"Topic7\", \"Topic7\", \"Topic7\", \"Topic7\", \"Topic7\", \"Topic7\", \"Topic7\", \"Topic7\", \"Topic7\", \"Topic7\", \"Topic7\", \"Topic7\", \"Topic7\", \"Topic7\", \"Topic7\", \"Topic8\", \"Topic8\", \"Topic8\", \"Topic8\", \"Topic8\", \"Topic8\", \"Topic8\", \"Topic8\", \"Topic8\", \"Topic8\", \"Topic8\", \"Topic8\", \"Topic8\", \"Topic8\", \"Topic8\", \"Topic8\", \"Topic8\", \"Topic8\", \"Topic8\", \"Topic8\", \"Topic8\", \"Topic8\", \"Topic8\", \"Topic8\", \"Topic8\", \"Topic8\", \"Topic8\", \"Topic8\", \"Topic8\", \"Topic8\", \"Topic8\", \"Topic8\", \"Topic8\", \"Topic8\", \"Topic8\", \"Topic8\", \"Topic8\", \"Topic8\", \"Topic8\", \"Topic8\", \"Topic8\", \"Topic8\", \"Topic8\", \"Topic8\", \"Topic8\", \"Topic8\", \"Topic8\", \"Topic8\", \"Topic8\", \"Topic8\", \"Topic8\", \"Topic8\", \"Topic8\", \"Topic8\", \"Topic8\", \"Topic8\", \"Topic8\", \"Topic8\", \"Topic8\", \"Topic8\", \"Topic8\", \"Topic8\", \"Topic8\", \"Topic8\", \"Topic8\", \"Topic8\", \"Topic8\", \"Topic8\", \"Topic8\", \"Topic8\", \"Topic8\", \"Topic8\", \"Topic8\", \"Topic8\", \"Topic8\", \"Topic8\", \"Topic8\", \"Topic8\", \"Topic8\", \"Topic8\", \"Topic8\", \"Topic8\", \"Topic8\", \"Topic8\", \"Topic8\", \"Topic8\", \"Topic8\", \"Topic8\", \"Topic8\", \"Topic8\", \"Topic8\", \"Topic8\", \"Topic8\", \"Topic8\", \"Topic8\", \"Topic8\", \"Topic8\", \"Topic8\", \"Topic8\", \"Topic8\", \"Topic8\", \"Topic8\", \"Topic8\", \"Topic8\", \"Topic8\", \"Topic8\", \"Topic8\", \"Topic8\", \"Topic8\", \"Topic8\"], \"logprob\": [30.0, 29.0, 28.0, 27.0, 26.0, 25.0, 24.0, 23.0, 22.0, 21.0, 20.0, 19.0, 18.0, 17.0, 16.0, 15.0, 14.0, 13.0, 12.0, 11.0, 10.0, 9.0, 8.0, 7.0, 6.0, 5.0, 4.0, 3.0, 2.0, 1.0, -4.968599796295166, -6.800899982452393, -4.741099834442139, -6.790599822998047, -7.23199987411499, -7.337600231170654, -7.433700084686279, -6.581999778747559, -6.672699928283691, -7.191400051116943, -7.361400127410889, -7.220399856567383, -7.224899768829346, -6.228099822998047, -7.871799945831299, -7.250699996948242, -7.741799831390381, -7.5543999671936035, -7.649899959564209, -6.9369001388549805, -7.898499965667725, -7.6971001625061035, -6.301700115203857, -6.68120002746582, -7.277100086212158, -7.268799781799316, -6.9156999588012695, -6.883600234985352, -7.35830020904541, -7.636300086975098, -5.605100154876709, -5.580100059509277, -5.60230016708374, -6.173500061035156, -6.413099765777588, -6.793900012969971, -6.458899974822998, -5.591300010681152, -6.61899995803833, -6.367099761962891, -4.76039981842041, -5.947800159454346, -4.515900135040283, -4.767300128936768, -6.03849983215332, -6.69950008392334, -5.158299922943115, -5.151400089263916, -5.321300029754639, -5.85230016708374, -5.212699890136719, -5.718999862670898, -4.816400051116943, -5.156799793243408, -5.378799915313721, -5.718599796295166, -5.380300045013428, -5.611499786376953, -4.610300064086914, -5.247099876403809, -5.58650016784668, -5.554699897766113, -5.290599822998047, -5.434299945831299, -5.718200206756592, -5.748199939727783, -5.5605998039245605, -5.7368998527526855, -5.688399791717529, -5.793300151824951, -5.29610013961792, -6.895999908447266, -7.137199878692627, -7.20959997177124, -6.655700206756592, -7.512899875640869, -7.51609992980957, -7.5671000480651855, -7.20959997177124, -7.80210018157959, -7.329699993133545, -7.806300163269043, -7.80649995803833, -7.869999885559082, -7.030900001525879, -7.8730998039245605, -7.0493998527526855, -7.947000026702881, -7.953800201416016, -6.999000072479248, -7.287300109863281, -7.844900131225586, -8.043499946594238, -7.912199974060059, -8.112500190734863, -8.115099906921387, -6.557000160217285, -8.208200454711914, -8.21150016784668, -7.680600166320801, -5.938300132751465, -5.739799976348877, -7.584700107574463, -6.672999858856201, -6.901700019836426, -6.097400188446045, -5.838900089263916, -5.899799823760986, -5.0690999031066895, -4.931700229644775, -6.131899833679199, -4.220300197601318, -6.102499961853027, -5.868500232696533, -5.832600116729736, -5.756100177764893, -5.337399959564209, -6.099400043487549, -5.877999782562256, -5.854000091552734, -6.272200107574463, -5.845699787139893, -6.033699989318848, -5.991499900817871, -5.58650016784668, -5.3231000900268555, -5.019100189208984, -6.059199810028076, -5.293099880218506, -5.4207000732421875, -5.734300136566162, -5.3892998695373535, -5.617700099945068, -5.570499897003174, -5.667099952697754, -5.513400077819824, -5.700900077819824, -5.668499946594238, -5.875500202178955, -5.805600166320801, -5.806600093841553, -5.824900150299072, -5.867499828338623, -6.662899971008301, -6.753499984741211, -6.886300086975098, -6.375100135803223, -7.11329984664917, -6.950099945068359, -7.137800216674805, -6.591800212860107, -5.656499862670898, -7.321800231933594, -7.049300193786621, -7.1153998374938965, -7.372900009155273, -7.128300189971924, -6.949399948120117, -7.009300231933594, -6.32420015335083, -7.6834001541137695, -7.684000015258789, -7.198800086975098, -7.421500205993652, -7.7642998695373535, -7.779799938201904, -7.858699798583984, -7.860499858856201, -6.932400226593018, -7.872900009155273, -7.869900226593018, -7.876299858093262, -7.948500156402588, -5.646699905395508, -5.574399948120117, -6.943900108337402, -7.21150016784668, -5.829599857330322, -6.9475998878479, -6.511600017547607, -6.005499839782715, -5.60290002822876, -5.459199905395508, -5.52839994430542, -5.6753997802734375, -5.320899963378906, -6.248000144958496, -4.380300045013428, -6.061800003051758, -5.081299781799316, -6.218599796295166, -4.91379976272583, -5.652699947357178, -6.372600078582764, -5.5792999267578125, -5.45989990234375, -5.365600109100342, -6.0742998123168945, -5.4653000831604, -5.380899906158447, -5.412899971008301, -5.6992998123168945, -5.706299781799316, -5.555200099945068, -5.434800148010254, -5.786799907684326, -5.727399826049805, -5.745999813079834, -5.9309000968933105, -5.924799919128418, -5.8368000984191895, -5.929299831390381, -6.025000095367432, -6.0391998291015625, -6.171000003814697, -6.750800132751465, -6.895699977874756, -6.959799766540527, -7.035999774932861, -6.881499767303467, -6.851600170135498, -7.164400100708008, -7.1682000160217285, -7.1682000160217285, -7.2459001541137695, -7.24970006942749, -7.250199794769287, -6.050099849700928, -7.333000183105469, -7.333700180053711, -7.43120002746582, -7.4334001541137695, -5.563700199127197, -7.4475998878479, -7.536200046539307, -6.717800140380859, -7.655399799346924, -7.364099979400635, -5.875999927520752, -7.791100025177002, -7.791299819946289, -7.791999816894531, -6.553100109100342, -6.864500045776367, -5.84630012512207, -5.847700119018555, -6.897799968719482, -6.172299861907959, -5.606100082397461, -5.464900016784668, -5.998000144958496, -5.346099853515625, -4.786399841308594, -6.419300079345703, -5.665800094604492, -5.840400218963623, -5.321800231933594, -4.600800037384033, -5.81279993057251, -5.15910005569458, -5.803199768066406, -5.396399974822998, -4.967700004577637, -5.704699993133545, -5.3927998542785645, -5.720399856567383, -6.004899978637695, -5.376999855041504, -5.438899993896484, -5.611000061035156, -5.570099830627441, -5.657100200653076, -5.671500205993652, -5.804999828338623, -5.848299980163574, -5.871600151062012, -5.941100120544434, -5.686699867248535, -5.864699840545654, -6.132500171661377, -6.3302998542785645, -6.2652997970581055, -6.605100154876709, -6.146200180053711, -6.575300216674805, -6.307400226593018, -6.786499977111816, -5.2204999923706055, -6.8769001960754395, -7.253799915313721, -7.256400108337402, -7.2596001625061035, -7.263299942016602, -5.652599811553955, -7.3769001960754395, -7.508999824523926, -7.180600166320801, -7.173799991607666, -6.9552998542785645, -7.539700031280518, -6.9542999267578125, -7.651299953460693, -7.6682000160217285, -7.67080020904541, -7.399700164794922, -7.494100093841553, -7.701900005340576, -7.373700141906738, -6.738500118255615, -5.643099784851074, -4.628200054168701, -7.232399940490723, -6.920100212097168, -4.162399768829346, -5.652299880981445, -5.050300121307373, -5.751999855041504, -6.317999839782715, -5.914299964904785, -6.500100135803223, -6.60890007019043, -6.180799961090088, -6.376800060272217, -6.834799766540527, -6.50029993057251, -6.266600131988525, -6.200699806213379, -6.151899814605713, -6.461400032043457, -6.481500148773193, -6.474299907684326, -5.401199817657471, -5.638599872589111, -6.181600093841553, -6.521399974822998, -6.3105998039245605, -6.359099864959717, -6.872000217437744, -6.881800174713135, -6.760000228881836, -6.827300071716309, -5.785999774932861, -7.19950008392334, -7.206500053405762, -6.411300182342529, -7.418399810791016, -7.418900012969971, -6.098400115966797, -7.283599853515625, -7.217899799346924, -7.065299987792969, -7.575200080871582, -7.043399810791016, -7.623700141906738, -6.145299911499023, -7.761000156402588, -7.761199951171875, -7.761000156402588, -7.761199951171875, -7.76140022277832, -7.761499881744385, -6.960400104522705, -6.56850004196167, -4.4182000160217285, -5.524899959564209, -6.399899959564209, -6.833799839019775, -5.39169979095459, -6.7281999588012695, -6.422599792480469, -5.951499938964844, -6.055799961090088, -6.413400173187256, -6.061800003051758, -5.752299785614014, -6.1732001304626465, -6.127699851989746, -6.582600116729736, -6.0569000244140625, -6.321499824523926, -6.382199764251709, -6.436100006103516, -6.394100189208984, -6.4542999267578125, -6.496099948883057, -6.46999979019165, -5.890200138092041, -5.215700149536133, -6.349599838256836, -6.461100101470947, -6.522600173950195, -6.528299808502197, -6.202300071716309, -6.812099933624268, -6.8206000328063965, -6.4629998207092285, -7.102200031280518, -6.815499782562256, -7.2204999923706055, -7.221799850463867, -7.22189998626709, -7.224299907684326, -6.306000232696533, -7.3572998046875, -7.362299919128418, -6.150000095367432, -7.365099906921387, -7.369999885559082, -7.224899768829346, -6.5346999168396, -7.512800216674805, -7.513400077819824, -7.5157999992370605, -7.527699947357178, -7.698599815368652, -7.69950008392334, -7.106299877166748, -6.831299781799316, -4.5625, -6.089099884033203, -6.823599815368652, -6.247499942779541, -6.003399848937988, -5.827199935913086, -5.98390007019043, -6.034900188446045, -5.665599822998047, -6.28000020980835, -6.761000156402588, -6.5883002281188965, -6.781199932098389, -6.517199993133545, -6.559800148010254, -6.742499828338623, -6.769400119781494, -6.745100021362305, -6.812699794769287, -9.097599983215332, -9.097700119018555, -9.097599983215332, -9.097599983215332, -9.097700119018555, -9.097700119018555, -9.097700119018555, -9.097800254821777, -9.097700119018555, -9.097800254821777, -9.097800254821777, -9.097599983215332, -9.097700119018555, -9.097800254821777, -9.097800254821777, -9.097800254821777, -9.097800254821777, -9.097800254821777, -9.097700119018555, -9.097900390625, -9.097700119018555, -9.097700119018555, -9.097700119018555, -9.097800254821777, -9.097800254821777, -9.097800254821777, -9.097700119018555, -9.097800254821777, -9.097800254821777, -9.097800254821777, -9.097700119018555, -9.097299575805664, -9.097399711608887, -9.097399711608887, -9.09749984741211, -9.097399711608887, -9.09749984741211, -9.09749984741211, -9.09749984741211, -9.09749984741211, -9.09749984741211, -9.097599983215332, -9.094400405883789, -9.097599983215332, -9.09469985961914, -9.097599983215332, -9.094799995422363, -9.09469985961914, -9.094799995422363, -9.094799995422363, -9.094900131225586, -9.094900131225586, -9.094900131225586, -9.094900131225586, -9.094900131225586, -9.095000267028809, -9.095000267028809, -9.095000267028809, -9.095000267028809, -9.095000267028809, -9.095000267028809, -9.095000267028809, -9.095100402832031, -9.095100402832031, -9.095199584960938, -9.095199584960938, -9.095199584960938, -9.09529972076416, -9.09529972076416, -9.09529972076416, -9.09529972076416, -9.09529972076416, -9.09529972076416, -9.09529972076416, -8.358599662780762, -8.403300285339355, -8.461799621582031, -8.55090045928955, -8.54419994354248, -8.575499534606934, -8.546199798583984, -8.621100425720215, -8.629300117492676, -8.675800323486328, -8.703700065612793, -8.667200088500977, -9.085000038146973, -8.68809986114502, -8.758999824523926, -8.718999862670898, -8.694700241088867, -8.72719955444336, -8.735699653625488, -8.834600448608398, -9.02079963684082, -8.724599838256836, -8.742799758911133, -8.831600189208984, -8.810600280761719, -8.809599876403809, -8.942000389099121, -8.772100448608398, -9.063899993896484, -8.8056001663208, -8.795499801635742, -8.792699813842773, -8.820799827575684, -8.819700241088867, -8.812000274658203, -8.82409954071045], \"loglift\": [30.0, 29.0, 28.0, 27.0, 26.0, 25.0, 24.0, 23.0, 22.0, 21.0, 20.0, 19.0, 18.0, 17.0, 16.0, 15.0, 14.0, 13.0, 12.0, 11.0, 10.0, 9.0, 8.0, 7.0, 6.0, 5.0, 4.0, 3.0, 2.0, 1.0, 0.41819998621940613, 0.4156000018119812, 0.4124999940395355, 0.41130000352859497, 0.4104999899864197, 0.4097999930381775, 0.4074999988079071, 0.40700000524520874, 0.40059998631477356, 0.3955000042915344, 0.3953000009059906, 0.3928000032901764, 0.3896999955177307, 0.3880000114440918, 0.3873000144958496, 0.3869999945163727, 0.38679999113082886, 0.38659998774528503, 0.38429999351501465, 0.383899986743927, 0.3837999999523163, 0.3837999999523163, 0.3833000063896179, 0.38199999928474426, 0.3817000091075897, 0.38089999556541443, 0.3801000118255615, 0.37860000133514404, 0.37779998779296875, 0.37779998779296875, 0.3752000033855438, 0.3718000054359436, 0.3675999939441681, 0.36550000309944153, 0.367900013923645, 0.3743000030517578, 0.364300012588501, 0.33640000224113464, 0.36649999022483826, 0.3547999858856201, 0.27639999985694885, 0.3319999873638153, 0.2296999990940094, 0.23240000009536743, 0.3165000081062317, 0.3587999939918518, 0.23720000684261322, 0.2231999933719635, 0.23240000009536743, 0.2840000092983246, 0.20730000734329224, 0.2531999945640564, 0.11559999734163284, 0.13279999792575836, 0.1655000001192093, 0.2152000069618225, 0.14990000426769257, 0.19099999964237213, -0.018200000748038292, 0.11590000241994858, 0.18549999594688416, 0.16120000183582306, 0.07639999687671661, 0.07670000195503235, 0.18230000138282776, 0.16449999809265137, 0.05829999968409538, 0.14630000293254852, 0.08460000157356262, 1.8183000087738037, 1.8140000104904175, 1.7723000049591064, 1.7515000104904175, 1.743299961090088, 1.742400050163269, 1.7009999752044678, 1.6964000463485718, 1.6895999908447266, 1.6864999532699585, 1.6533000469207764, 1.6490000486373901, 1.6466000080108643, 1.6455999612808228, 1.6401000022888184, 1.6396000385284424, 1.6370999813079834, 1.6263999938964844, 1.6238000392913818, 1.614799976348877, 1.613800048828125, 1.6039999723434448, 1.598099946975708, 1.5889999866485596, 1.5872999429702759, 1.5866999626159668, 1.5849000215530396, 1.5794999599456787, 1.5621999502182007, 1.5605000257492065, 1.5562000274658203, 1.4700000286102295, 1.3309999704360962, 1.5269999504089355, 1.3701000213623047, 1.3940999507904053, 1.180899977684021, 1.062399983406067, 1.0583000183105469, 0.8174999952316284, 0.6725000143051147, 1.055999994277954, 0.3718999922275543, 1.0331000089645386, 0.9348999857902527, 0.9121000170707703, 0.8248999714851379, 0.6151000261306763, 0.9659000039100647, 0.8345999717712402, 0.7994999885559082, 1.0227999687194824, 0.7290999889373779, 0.760699987411499, 0.7050999999046326, 0.3012000024318695, 0.043800000101327896, -0.273499995470047, 0.6862999796867371, -0.2563000023365021, -0.13109999895095825, 0.14890000224113464, -0.45730000734329224, -0.10670000314712524, -0.20749999582767487, -0.04820000007748604, -0.513700008392334, -0.032099999487400055, -0.13830000162124634, 0.35519999265670776, -0.032600000500679016, -0.09070000052452087, -0.4293999969959259, -0.323199987411499, 2.0973000526428223, 2.087899923324585, 2.0653998851776123, 2.044100046157837, 2.041800022125244, 2.0241000652313232, 2.0206000804901123, 2.0107998847961426, 2.0048000812530518, 2.0002999305725098, 1.9960999488830566, 1.9917999505996704, 1.9852999448776245, 1.9773999452590942, 1.9523999691009521, 1.9515000581741333, 1.9458999633789062, 1.9402999877929688, 1.9397000074386597, 1.9381999969482422, 1.9264999628067017, 1.9210000038146973, 1.9021999835968018, 1.8950999975204468, 1.892899990081787, 1.8867000341415405, 1.88510000705719, 1.8840999603271484, 1.8832999467849731, 1.872499942779541, 1.8523999452590942, 1.808899998664856, 1.830199956893921, 1.8351000547409058, 1.5700000524520874, 1.7503000497817993, 1.6545000076293945, 1.398900032043457, 1.1109000444412231, 1.0477999448776245, 1.0551999807357788, 1.070199966430664, 0.8834999799728394, 1.3588999509811401, 0.211899995803833, 1.2401000261306763, 0.5874999761581421, 1.1885000467300415, 0.018200000748038292, 0.6807000041007996, 1.2481000423431396, 0.3163999915122986, 0.1589999943971634, 0.00139999995008111, 0.8389999866485596, 0.04560000076889992, -0.09130000323057175, -0.04989999905228615, 0.19220000505447388, 0.18140000104904175, -0.18050000071525574, -0.6891000270843506, -0.013799999840557575, -0.18310000002384186, -0.14190000295639038, 0.12610000371932983, -0.01209999993443489, -0.8371000289916992, -0.37560001015663147, 2.9289000034332275, 2.8603999614715576, 2.8096001148223877, 2.7967000007629395, 2.7844998836517334, 2.7665998935699463, 2.728300094604492, 2.723900079727173, 2.719399929046631, 2.708400011062622, 2.703200101852417, 2.7030999660491943, 2.681299924850464, 2.675800085067749, 2.6754000186920166, 2.6684000492095947, 2.651700019836426, 2.65120005607605, 2.614500045776367, 2.6124000549316406, 2.6010000705718994, 2.589600086212158, 2.575000047683716, 2.5743000507354736, 2.5250000953674316, 2.4923999309539795, 2.4890999794006348, 2.464200019836426, 2.4637999534606934, 2.463099956512451, 2.4611001014709473, 2.454900026321411, 2.4147000312805176, 2.351300001144409, 2.4131999015808105, 2.2648000717163086, 2.049299955368042, 1.8327000141143799, 2.0290000438690186, 1.7297999858856201, 1.4012000560760498, 2.1349000930786133, 1.5901999473571777, 1.5336999893188477, 1.0116000175476074, 0.3312000036239624, 1.3580000400543213, 0.6434000134468079, 1.2835999727249146, 0.8195000290870667, 0.03200000151991844, 1.0408999919891357, 0.5410000085830688, 0.9330999851226807, 1.2603000402450562, 0.01850000023841858, -0.07590000331401825, 0.27219998836517334, 0.09870000183582306, -0.12690000236034393, -0.0674000009894371, -0.43810001015663147, -0.30410000681877136, -0.8348000049591064, -0.6514999866485596, 3.6031999588012695, 3.580699920654297, 3.4976999759674072, 3.459700107574463, 3.433199882507324, 3.3375000953674316, 3.3278000354766846, 3.314300060272217, 3.2950000762939453, 3.2943999767303467, 3.279900074005127, 3.2290000915527344, 3.044100046157837, 3.04010009765625, 3.0341999530792236, 3.026700019836426, 2.9911999702453613, 2.9749999046325684, 2.905100107192993, 2.8850998878479004, 2.86899995803833, 2.86680006980896, 2.8605000972747803, 2.8434998989105225, 2.8364999294281006, 2.8076000213623047, 2.803499937057495, 2.774399995803833, 2.7607998847961426, 2.759700059890747, 2.7416999340057373, 2.6598000526428223, 2.3910000324249268, 2.1364998817443848, 2.6893999576568604, 2.5548999309539795, 1.257599949836731, 1.6272000074386597, 1.1800999641418457, 1.6607999801635742, 1.942199945449829, 1.3418999910354614, 1.5260000228881836, 1.5293999910354614, 0.09910000115633011, 0.5963000059127808, 1.8193000555038452, 0.7002000212669373, -0.10689999908208847, -1.0470999479293823, -1.4062999486923218, -0.5338000059127808, -0.9704999923706055, -1.5422999858856201, 3.7063000202178955, 3.6816000938415527, 3.6775999069213867, 3.6142001152038574, 3.5827999114990234, 3.5006000995635986, 3.443700075149536, 3.422499895095825, 3.4135000705718994, 3.396399974822998, 3.3017001152038574, 3.197200059890747, 3.1816000938415527, 3.1666998863220215, 3.1140999794006348, 3.113100051879883, 3.1019999980926514, 3.0625998973846436, 3.030100107192993, 3.0153000354766846, 3.0074000358581543, 2.9298999309539795, 2.9147000312805176, 2.904599905014038, 2.8743999004364014, 2.8742001056671143, 2.8740999698638916, 2.874000072479248, 2.874000072479248, 2.873500108718872, 2.6884000301361084, 2.5910000801086426, 1.6569000482559204, 2.062700033187866, 2.3861000537872314, 2.5144999027252197, 1.905900001525879, 2.3396999835968018, 2.0183000564575195, 1.3798999786376953, 1.186400055885315, 1.5220999717712402, 0.7156999707221985, -0.13349999487400055, 0.3635999858379364, 0.08420000225305557, 1.4687000513076782, -0.5458999872207642, 0.44670000672340393, -0.6101999878883362, -0.34869998693466187, -1.031000018119812, -0.5627999901771545, -0.1420000046491623, -1.7244000434875488, 3.844899892807007, 3.8041000366210938, 3.7177999019622803, 3.6717000007629395, 3.640399932861328, 3.6305999755859375, 3.6133999824523926, 3.499000072479248, 3.4832000732421875, 3.3577001094818115, 3.3359999656677246, 3.265500068664551, 3.26419997215271, 3.2620999813079834, 3.2611000537872314, 3.2558000087738037, 3.2286999225616455, 3.1740000247955322, 3.1638998985290527, 3.1607000827789307, 3.1596999168395996, 3.150700092315674, 3.114000082015991, 3.091599941253662, 3.0697999000549316, 3.06820011138916, 3.0636000633239746, 3.0436999797821045, 2.936500072479248, 2.934999942779541, 2.924799919128418, 2.831899881362915, 2.468899965286255, 2.519200086593628, 2.6282999515533447, 2.1617000102996826, 1.7926000356674194, 1.4510999917984009, 0.8105999827384949, 0.746999979019165, -0.15459999442100525, 1.1318999528884888, 1.961400032043457, 1.4361000061035156, 1.8615000247955322, 0.6510999798774719, 0.5055000185966492, 1.3395999670028687, 0.3012999892234802, -2.152899980545044, 0.996399998664856, 1.71589994430542, 1.71589994430542, 1.71589994430542, 1.7158000469207764, 1.7158000469207764, 1.7158000469207764, 1.7158000469207764, 1.7158000469207764, 1.7158000469207764, 1.7158000469207764, 1.7158000469207764, 1.7157000303268433, 1.7157000303268433, 1.7157000303268433, 1.7157000303268433, 1.7157000303268433, 1.7157000303268433, 1.7157000303268433, 1.7157000303268433, 1.7157000303268433, 1.7157000303268433, 1.7157000303268433, 1.7157000303268433, 1.7156000137329102, 1.7156000137329102, 1.7156000137329102, 1.7156000137329102, 1.7156000137329102, 1.7156000137329102, 1.7156000137329102, 1.7156000137329102, 1.715399980545044, 1.7151999473571777, 1.7151999473571777, 1.7151999473571777, 1.7151999473571777, 1.7151999473571777, 1.7151000499725342, 1.7151000499725342, 1.7151000499725342, 1.715000033378601, 1.7151000499725342, 1.704699993133545, 1.715000033378601, 1.7043999433517456, 1.715000033378601, 1.7043999433517456, 1.704200029373169, 1.704300045967102, 1.7043999433517456, 1.704300045967102, 1.704200029373169, 1.704200029373169, 1.704200029373169, 1.7039999961853027, 1.704200029373169, 1.704200029373169, 1.7041000127792358, 1.7041000127792358, 1.7041000127792358, 1.7039999961853027, 1.7039999961853027, 1.7041000127792358, 1.7038999795913696, 1.7039999961853027, 1.7038999795913696, 1.7038999795913696, 1.7038999795913696, 1.7037999629974365, 1.7037999629974365, 1.7037999629974365, 1.7036999464035034, 1.7036999464035034, 1.7036000490188599, -3.4265999794006348, -3.657599925994873, -3.424999952316284, -3.164099931716919, -3.390700101852417, -3.5757999420166016, -3.9540998935699463, -3.246500015258789, -3.266200065612793, -2.8733999729156494, -2.616300106048584, -3.1135001182556152, 1.5898000001907349, -3.0692999362945557, -2.2221999168395996, -2.946000099182129, -3.2992000579833984, -2.955199956893921, -2.8480000495910645, -1.5782999992370605, 0.8384000062942505, -3.304500102996826, -3.231800079345703, -1.9175000190734863, -2.4565999507904053, -2.4762001037597656, -0.4415999948978424, -3.2418999671936035, 1.2403000593185425, -2.835700035095215, -3.1266000270843506, -3.248500108718872, -2.7637999057769775, -2.8496999740600586, -3.52239990234375, -2.9326000213623047]}, \"token.table\": {\"Topic\": [1, 2, 3, 1, 2, 3, 4, 1, 2, 3, 4, 1, 2, 3, 1, 2, 3, 1, 2, 3, 4, 5, 6, 1, 2, 3, 1, 2, 3, 1, 2, 3, 5, 7, 1, 2, 3, 4, 5, 6, 7, 1, 2, 3, 4, 1, 2, 3, 1, 2, 3, 4, 1, 2, 3, 5, 1, 2, 3, 5, 1, 2, 3, 4, 1, 2, 3, 4, 1, 2, 3, 4, 5, 6, 1, 2, 3, 4, 5, 6, 7, 1, 2, 3, 1, 2, 3, 6, 1, 2, 3, 1, 2, 3, 6, 1, 2, 3, 4, 5, 6, 1, 2, 3, 1, 2, 3, 1, 2, 3, 4, 6, 1, 2, 3, 1, 2, 3, 4, 5, 1, 2, 3, 1, 2, 3, 6, 7, 1, 2, 3, 6, 1, 2, 3, 4, 5, 6, 7, 1, 2, 3, 1, 2, 3, 4, 5, 7, 1, 2, 3, 1, 2, 3, 1, 2, 3, 6, 1, 2, 3, 1, 2, 3, 4, 6, 1, 2, 3, 6, 1, 2, 3, 4, 1, 2, 3, 4, 5, 6, 1, 2, 3, 4, 6, 1, 2, 3, 1, 2, 3, 4, 1, 2, 3, 5, 1, 2, 3, 5, 1, 2, 3, 7, 1, 2, 3, 7, 1, 2, 3, 1, 2, 3, 1, 2, 3, 4, 5, 6, 1, 2, 3, 1, 2, 3, 4, 5, 7, 1, 2, 3, 4, 1, 2, 3, 4, 1, 2, 3, 6, 1, 2, 3, 7, 1, 2, 3, 7, 1, 2, 3, 1, 2, 3, 4, 1, 2, 3, 7, 1, 2, 3, 4, 1, 2, 3, 4, 7, 1, 2, 3, 4, 5, 6, 1, 2, 3, 4, 1, 2, 3, 4, 1, 2, 3, 4, 1, 2, 3, 4, 5, 1, 2, 3, 1, 2, 3, 7, 1, 2, 3, 4, 5, 1, 2, 3, 4, 1, 2, 3, 4, 5, 6, 1, 2, 3, 4, 1, 2, 3, 4, 5, 6, 7, 1, 2, 3, 6, 1, 2, 3, 6, 1, 2, 3, 4, 1, 2, 3, 4, 1, 2, 3, 4, 1, 2, 3, 7, 1, 2, 3, 1, 2, 3, 4, 5, 1, 2, 3, 4, 5, 6, 1, 2, 3, 4, 5, 6, 7, 1, 2, 3, 4, 5, 7, 1, 2, 3, 5, 1, 2, 3, 1, 2, 3, 1, 2, 3, 1, 2, 3, 4, 6, 7, 1, 2, 3, 4, 1, 2, 3, 4, 1, 2, 3, 4, 1, 2, 3, 1, 2, 3, 1, 2, 3, 4, 1, 2, 3, 1, 2, 3, 1, 2, 3, 4, 5, 6, 7, 1, 2, 3, 4, 1, 2, 3, 1, 2, 3, 1, 2, 3, 4, 5, 7, 1, 2, 3, 4, 5, 6, 7, 1, 2, 3, 1, 2, 3, 7, 1, 2, 3, 4, 7, 1, 2, 3, 4, 6, 1, 2, 3, 1, 2, 3, 1, 2, 3, 4, 5, 6, 7, 1, 2, 3, 4, 5, 1, 2, 3, 6, 7, 1, 2, 3, 4, 5, 6, 7, 1, 2, 3, 1, 2, 3, 4, 1, 2, 3, 4, 1, 2, 3, 4, 6, 1, 2, 3, 5, 6, 1, 2, 3, 4, 5, 6, 7, 1, 2, 3, 1, 2, 3, 1, 2, 3, 1, 2, 3, 5, 7, 1, 2, 3, 4, 5, 6, 1, 2, 3, 1, 2, 3, 1, 2, 3, 7, 1, 2, 3, 1, 2, 3, 4, 5, 6, 1, 2, 3, 4, 5, 1, 2, 3, 1, 2, 3, 1, 2, 3, 4, 5, 6, 1, 2, 3, 1, 2, 3, 5, 1, 2, 3, 1, 2, 3, 4, 5, 1, 2, 3, 5, 1, 2, 3, 1, 2, 3, 1, 2, 3, 7, 1, 2, 3, 4, 5, 7, 1, 2, 3, 1, 2, 3, 4, 5, 7, 1, 2, 3, 4, 5, 6, 7, 1, 2, 3, 6, 1, 2, 3, 4, 5, 1, 2, 3, 7, 1, 2, 3, 1, 2, 3, 4, 5, 6, 7, 1, 2, 3, 5, 1, 2, 3, 6, 1, 2, 3, 1, 2, 3, 4, 5, 6, 7, 1, 2, 3, 1, 2, 3, 7, 1, 2, 3, 4, 6, 1, 2, 3, 1, 2, 3, 4, 1, 2, 3, 6, 1, 2, 3, 1, 2, 3, 1, 2, 3, 1, 2, 3, 4, 5, 6, 7, 1, 2, 3, 1, 2, 3, 1, 2, 3, 1, 2, 3, 4, 7, 1, 2, 3, 1, 2, 3, 4, 1, 2, 3, 4, 1, 2, 3, 4, 5, 1, 2, 3, 4, 6, 1, 2, 3, 6, 1, 2, 3, 1, 2, 3, 1, 2, 3, 5, 1, 2, 3, 6, 1, 2, 3, 5, 1, 2, 3, 6, 1, 2, 3, 1, 2, 3, 5, 1, 2, 3, 4, 5, 1, 2, 3, 4, 5, 6, 7, 1, 2, 3, 1, 2, 3, 7, 1, 2, 3, 4, 5, 1, 2, 3, 1, 2, 3, 4, 6, 1, 2, 3, 5, 1, 2, 3, 1, 2, 3, 1, 2, 3, 7, 1, 2, 3, 4, 5, 6, 7, 1, 2, 3, 1, 2, 3, 6, 1, 2, 3, 4, 1, 2, 3, 5, 1, 2, 3, 5, 1, 2, 3, 1, 2, 3, 1, 2, 3, 5, 7, 1, 2, 3, 7, 1, 2, 3, 7, 1, 2, 3, 4, 1, 2, 3, 1, 2, 3, 4, 6, 7, 1, 2, 3, 7, 1, 2, 3, 6, 1, 2, 3, 4, 5, 1, 2, 3, 1, 2, 3, 1, 2, 3, 4, 5, 6, 1, 2, 3, 4, 1, 2, 3, 4, 5, 6, 1, 2, 3, 5, 1, 2, 3, 4, 5, 6, 7, 1, 2, 3, 4, 6, 1, 2, 3, 1, 2, 3, 4, 5, 7, 1, 2, 3, 7, 1, 2, 3, 4, 5, 6, 1, 2, 3, 4, 1, 2, 3, 6, 1, 2, 3, 1, 2, 3, 1, 2, 3, 4, 5, 1, 2, 3, 1, 2, 3, 4, 1, 2, 3, 1, 2, 3, 4, 5, 6, 1, 2, 3, 1, 2, 3, 5, 7, 1, 2, 3, 4, 5, 6, 1, 2, 3, 4, 5, 6, 1, 2, 3, 4, 5, 7, 1, 2, 3, 1, 2, 3, 4, 5, 6, 7, 1, 2, 3, 4, 1, 2, 3, 4, 1, 2, 3, 1, 2, 3, 4, 1, 2, 3, 7, 1, 2, 3, 1, 2, 3, 1, 2, 3, 4, 5, 6, 7, 1, 2, 3, 4, 5, 7, 1, 2, 3, 4, 5, 7, 1, 2, 3, 5, 1, 2, 3, 4, 7, 1, 2, 3, 5, 1, 2, 3, 1, 2, 3, 4, 5, 6, 7, 1, 2, 3, 6, 1, 2, 3, 6, 1, 2, 3, 1, 2, 3, 1, 2, 3, 4, 6, 7, 1, 2, 3, 1, 2, 3, 4, 6, 1, 2, 3, 5, 7, 1, 2, 3, 4, 5, 6, 7, 1, 2, 3, 4, 1, 2, 3, 5, 1, 2, 3, 4, 5, 6, 7, 1, 2, 3, 5, 1, 2, 3, 1, 2, 3, 4, 5, 7, 1, 2, 3, 1, 2, 3, 4, 1, 2, 3, 1, 2, 3, 1, 2, 3, 4, 1, 2, 3, 1, 2, 3, 4, 5, 1, 2, 3, 1, 2, 3, 7, 1, 2, 3, 4, 1, 2, 3, 1, 2, 3, 5, 1, 2, 3, 1, 2, 3, 4, 5, 6, 1, 2, 3, 4, 1, 2, 3, 4, 6, 1, 2, 3, 6, 1, 2, 3, 5, 1, 2, 3, 4, 6, 1, 2, 3, 7, 1, 2, 3, 4, 7, 1, 2, 3, 4, 5, 6, 7, 1, 2, 3, 7, 1, 2, 3, 4, 1, 2, 3, 1, 2, 3, 1, 2, 3, 4, 6, 1, 2, 3, 4, 6, 1, 2, 3, 4, 6, 7, 1, 2, 3, 4, 5, 6, 1, 2, 3, 4, 5, 6, 7, 1, 2, 3, 5, 6, 1, 2, 3, 4, 1, 2, 3, 1, 2, 3, 4, 1, 2, 3, 1, 2, 3, 4, 5, 7, 1, 2, 3, 4, 1, 2, 3, 5, 1, 2, 3, 1, 2, 3, 1, 2, 3, 7, 1, 2, 3, 4, 1, 2, 3, 6, 1, 2, 3, 4, 1, 2, 3, 4, 1, 2, 3, 4, 5, 7, 1, 2, 3, 1, 2, 3, 4, 1, 2, 3, 4, 1, 2, 3, 4, 5, 7, 1, 2, 3, 1, 2, 3, 6, 1, 2, 3, 1, 2, 3, 5, 1, 2, 3, 4, 1, 2, 3, 7, 1, 2, 3, 4, 1, 2, 3, 6, 1, 2, 3, 1, 2, 3, 1, 2, 3, 1, 2, 3, 4, 5, 6, 7, 1, 2, 3, 7, 1, 2, 3, 5, 1, 2, 3, 6, 1, 2, 3, 4, 1, 2, 3, 5, 1, 2, 3, 5, 1, 2, 3, 4, 1, 2, 3, 4, 6, 1, 2, 3, 6, 1, 2, 3, 6, 1, 2, 3, 6, 1, 2, 3, 4, 5, 6, 7, 1, 2, 3, 4, 5, 1, 2, 3, 6, 1, 2, 3, 6, 1, 2, 3, 6, 1, 2, 3, 1, 2, 3, 4, 5, 6, 1, 2, 3, 1, 2, 3, 1, 2, 3, 4, 5, 6, 1, 2, 3, 6, 1, 2, 3, 4, 1, 2, 3, 4, 5, 6, 7, 1, 2, 3, 1, 2, 3, 4, 5, 6, 7, 1, 2, 3, 5, 1, 2, 3, 4, 5, 1, 2, 3, 4, 1, 2, 3, 4, 5, 6, 7, 1, 2, 3, 7, 1, 2, 3, 5, 1, 2, 3, 1, 2, 3, 4, 5, 6, 7, 1, 2, 3, 1, 2, 3, 4, 1, 2, 3, 6, 1, 2, 3, 4, 5, 7, 1, 2, 3, 4, 5, 7, 1, 2, 3, 1, 2, 3, 1, 2, 3, 4, 5, 6, 7, 1, 2, 3, 4, 6, 7, 1, 2, 3, 4, 5, 6, 7, 1, 2, 3, 4, 6, 7, 1, 2, 3, 1, 2, 3, 4, 1, 2, 3, 4, 1, 2, 3, 4, 1, 2, 3, 7, 1, 2, 3, 1, 2, 3, 5, 1, 2, 3, 4, 5, 7, 1, 2, 3, 1, 2, 3, 4, 1, 2, 3, 4, 5, 1, 2, 3, 5, 1, 2, 3, 4, 5, 1, 2, 3, 4, 5, 1, 2, 3, 4, 1, 2, 3, 1, 2, 3, 5, 1, 2, 3, 1, 2, 3, 4, 5, 6, 1, 2, 3, 1, 2, 3, 1, 2, 3, 5, 1, 2, 3, 4, 5, 6, 7, 1, 2, 3, 4, 1, 2, 3, 4, 6, 1, 2, 3, 6, 1, 2, 3, 4, 5, 7, 1, 2, 3, 4, 5, 7, 1, 2, 3, 1, 2, 3, 4, 5, 1, 2, 3, 5, 1, 2, 3, 7, 1, 2, 3, 4, 6, 1, 2, 3, 1, 2, 3, 4, 5, 1, 2, 3, 1, 2, 3, 4, 7, 1, 2, 3, 4, 1, 2, 3, 4, 5, 6, 1, 2, 3, 4, 5, 6, 7, 1, 2, 3, 4, 1, 2, 3, 4, 1, 2, 3, 4, 5, 6, 7, 1, 2, 3, 4, 6, 7, 1, 2, 3, 4, 1, 2, 3, 4, 5, 6, 7, 1, 2, 3, 1, 2, 3, 1, 2, 3, 1, 2, 3, 5, 7, 1, 2, 3, 1, 2, 3, 6, 7, 1, 2, 3, 5, 7, 1, 2, 3, 7, 1, 2, 3, 1, 2, 3, 1, 2, 3, 5, 1, 2, 3, 1, 2, 3, 1, 2, 3, 4, 1, 2, 3, 1, 2, 3], \"Freq\": [0.28609877824783325, 0.28609877824783325, 0.28609877824783325, 0.16370345652103424, 0.16370345652103424, 0.16370345652103424, 0.4911103844642639, 0.13277651369571686, 0.13277651369571686, 0.13277651369571686, 0.6638825535774231, 0.28613343834877014, 0.28613343834877014, 0.28613343834877014, 0.2819983959197998, 0.2819983959197998, 0.2819983959197998, 0.9232786893844604, 0.025364799425005913, 0.025364799425005913, 0.010145919397473335, 0.010145919397473335, 0.005072959698736668, 0.0667586699128151, 0.0667586699128151, 0.8011040091514587, 0.9333808422088623, 0.0227653868496418, 0.0227653868496418, 0.09731433540582657, 0.09731433540582657, 0.09731433540582657, 0.09731433540582657, 0.681200385093689, 0.5859014987945557, 0.11581774055957794, 0.01362561620771885, 0.25207391381263733, 0.006812808103859425, 0.006812808103859425, 0.01362561620771885, 0.24995988607406616, 0.06248997151851654, 0.06248997151851654, 0.5624097585678101, 0.14532916247844696, 0.726645827293396, 0.07266458123922348, 0.3891991972923279, 0.20676207542419434, 0.048649899661540985, 0.3527117669582367, 0.30191266536712646, 0.15095633268356323, 0.15095633268356323, 0.30191266536712646, 0.20411717891693115, 0.20411717891693115, 0.20411717891693115, 0.4082343578338623, 0.048883963376283646, 0.19553585350513458, 0.684375524520874, 0.048883963376283646, 0.09211516380310059, 0.09211516380310059, 0.09211516380310059, 0.7369213104248047, 0.5972259640693665, 0.15014059841632843, 0.1985192447900772, 0.05004686862230301, 0.0016682288842275739, 0.0033364577684551477, 0.6979974508285522, 0.14996762573719025, 0.10923567414283752, 0.03332613781094551, 0.00555435661226511, 0.0037029043305665255, 0.0018514521652832627, 0.10604625195264816, 0.10604625195264816, 0.7423237562179565, 0.15864038467407227, 0.15864038467407227, 0.15864038467407227, 0.4759211540222168, 0.28199514746665955, 0.28199514746665955, 0.28199514746665955, 0.23937924206256866, 0.23937924206256866, 0.23937924206256866, 0.23937924206256866, 0.7712419629096985, 0.1387125849723816, 0.0684315413236618, 0.00924750603735447, 0.0036990023218095303, 0.0073980046436190605, 0.2820315361022949, 0.2820315361022949, 0.2820315361022949, 0.011640939861536026, 0.9545570611953735, 0.023281879723072052, 0.2568686008453369, 0.06421715021133423, 0.06421715021133423, 0.5137372016906738, 0.06421715021133423, 0.09136003255844116, 0.8222402930259705, 0.04568001627922058, 0.45018270611763, 0.07503045350313187, 0.07503045350313187, 0.07503045350313187, 0.30012181401252747, 0.16740873456001282, 0.7533392906188965, 0.041852183640003204, 0.29428213834762573, 0.34332916140556335, 0.04904702305793762, 0.2452351152896881, 0.04904702305793762, 0.18698957562446594, 0.18698957562446594, 0.18698957562446594, 0.3739791512489319, 0.7555403113365173, 0.11193189024925232, 0.09131286293268204, 0.03387412428855896, 0.0014727880479767919, 0.004418364260345697, 0.0014727880479767919, 0.07357572019100189, 0.8093329071998596, 0.07357572019100189, 0.9273377060890198, 0.037342458963394165, 0.024894971400499344, 0.006223742850124836, 0.006223742850124836, 0.006223742850124836, 0.2820376455783844, 0.2820376455783844, 0.2820376455783844, 0.2820359766483307, 0.2820359766483307, 0.2820359766483307, 0.18859687447547913, 0.18859687447547913, 0.18859687447547913, 0.37719374895095825, 0.05467294529080391, 0.05467294529080391, 0.8200941681861877, 0.5164172053337097, 0.35533297061920166, 0.06632881611585617, 0.0568532720208168, 0.0047377729788422585, 0.23943667113780975, 0.23943667113780975, 0.23943667113780975, 0.23943667113780975, 0.21128496527671814, 0.07042831927537918, 0.03521415963768959, 0.633854866027832, 0.564152717590332, 0.3123821020126343, 0.08858596533536911, 0.02797451615333557, 0.004662419203668833, 0.004662419203668833, 0.42323026061058044, 0.17634594440460205, 0.017634594812989235, 0.3350572884082794, 0.017634594812989235, 0.28584542870521545, 0.28584542870521545, 0.28584542870521545, 0.21974144876003265, 0.10987072438001633, 0.10987072438001633, 0.5493536591529846, 0.2647767663002014, 0.1323883831501007, 0.1323883831501007, 0.3971651494503021, 0.18032076954841614, 0.18032076954841614, 0.18032076954841614, 0.3606415390968323, 0.22691725194454193, 0.22691725194454193, 0.22691725194454193, 0.22691725194454193, 0.17313961684703827, 0.17313961684703827, 0.17313961684703827, 0.5194188356399536, 0.2819921374320984, 0.2819921374320984, 0.2819921374320984, 0.05778830870985985, 0.8668246269226074, 0.05778830870985985, 0.6492698192596436, 0.16477680206298828, 0.12542712688446045, 0.049187105149030685, 0.004918710794299841, 0.0024593553971499205, 0.04446053132414818, 0.04446053132414818, 0.88921058177948, 0.8118741512298584, 0.01399783045053482, 0.02799566090106964, 0.01399783045053482, 0.05599132180213928, 0.08398698270320892, 0.09917886555194855, 0.09917886555194855, 0.694252073764801, 0.09917886555194855, 0.13278508186340332, 0.13278508186340332, 0.13278508186340332, 0.6639254093170166, 0.6402403712272644, 0.026676682755351067, 0.21341346204280853, 0.10670673102140427, 0.4399239718914032, 0.2199619859457016, 0.0733206644654274, 0.2199619859457016, 0.47790729999542236, 0.07965121418237686, 0.07965121418237686, 0.31860485672950745, 0.2861180007457733, 0.2861180007457733, 0.2861180007457733, 0.1724637746810913, 0.03449275717139244, 0.6208696365356445, 0.13797102868556976, 0.5093116164207458, 0.06366395205259323, 0.06366395205259323, 0.31831976771354675, 0.08067069947719574, 0.08067069947719574, 0.08067069947719574, 0.7260363101959229, 0.7253737449645996, 0.0630759745836258, 0.0315379872918129, 0.0315379872918129, 0.15768994390964508, 0.8779407739639282, 0.04638177528977394, 0.03975581005215645, 0.02981685660779476, 0.0033129840157926083, 0.0033129840157926083, 0.12490072101354599, 0.12490072101354599, 0.12490072101354599, 0.6245036125183105, 0.12493110448122025, 0.12493110448122025, 0.12493110448122025, 0.624655544757843, 0.9463419914245605, 0.02150777354836464, 0.025809327140450478, 0.008603109046816826, 0.9171233177185059, 0.006694330833852291, 0.040165986865758896, 0.026777323335409164, 0.006694330833852291, 0.07771758735179901, 0.7771758437156677, 0.07771758735179901, 0.21435721218585968, 0.21435721218585968, 0.21435721218585968, 0.42871442437171936, 0.9356626272201538, 0.02462269924581051, 0.02462269924581051, 0.008207567036151886, 0.008207567036151886, 0.13457292318344116, 0.02446780540049076, 0.8196714520454407, 0.01223390270024538, 0.5149945020675659, 0.17702935636043549, 0.20921650528907776, 0.016093578189611435, 0.016093578189611435, 0.06437431275844574, 0.5693274736404419, 0.08240266144275665, 0.15731418132781982, 0.17229647934436798, 0.7547063827514648, 0.11254393309354782, 0.07944277673959732, 0.03641127049922943, 0.0033101155422627926, 0.01324046216905117, 0.0033101155422627926, 0.2393411099910736, 0.2393411099910736, 0.2393411099910736, 0.2393411099910736, 0.17931324243545532, 0.17931324243545532, 0.17931324243545532, 0.35862648487091064, 0.16369551420211792, 0.16369551420211792, 0.16369551420211792, 0.49108654260635376, 0.11793051660060883, 0.11793051660060883, 0.11793051660060883, 0.7075830698013306, 0.14175589382648468, 0.14175589382648468, 0.14175589382648468, 0.5670235753059387, 0.20595398545265198, 0.20595398545265198, 0.20595398545265198, 0.41190797090530396, 0.2861190736293793, 0.2861190736293793, 0.2861190736293793, 0.6679815649986267, 0.04453210532665253, 0.08906421065330505, 0.022266052663326263, 0.15586236119270325, 0.7264471650123596, 0.1292099803686142, 0.07752598822116852, 0.045941323041915894, 0.0028713326901197433, 0.014356663450598717, 0.45243769884109497, 0.3290455937385559, 0.11310942471027374, 0.0668373852968216, 0.005141337402164936, 0.005141337402164936, 0.030848024412989616, 0.7826136946678162, 0.13043561577796936, 0.018633659929037094, 0.018633659929037094, 0.018633659929037094, 0.055900976061820984, 0.09382456541061401, 0.09382456541061401, 0.09382456541061401, 0.6567719578742981, 0.28203845024108887, 0.28203845024108887, 0.28203845024108887, 0.28204408288002014, 0.28204408288002014, 0.28204408288002014, 0.17991524934768677, 0.022489406168460846, 0.7646397948265076, 0.6950309872627258, 0.08407633006572723, 0.033630531281232834, 0.18216536939144135, 0.0028025442734360695, 0.0028025442734360695, 0.3820593059062958, 0.06367655098438263, 0.06367655098438263, 0.509412407875061, 0.1177285835146904, 0.1177285835146904, 0.1177285835146904, 0.7063714861869812, 0.5079336166381836, 0.05975689738988876, 0.02987844869494438, 0.38841983675956726, 0.2820415794849396, 0.2820415794849396, 0.2820415794849396, 0.08705621212720871, 0.08705621212720871, 0.783505916595459, 0.04456210136413574, 0.04456210136413574, 0.04456210136413574, 0.8466799259185791, 0.07689867168664932, 0.768986701965332, 0.07689867168664932, 0.2819931209087372, 0.2819931209087372, 0.2819931209087372, 0.6842218637466431, 0.09122958034276962, 0.03258199244737625, 0.01954919472336769, 0.006516398396342993, 0.006516398396342993, 0.16290996968746185, 0.1316457837820053, 0.1316457837820053, 0.1316457837820053, 0.658228874206543, 0.2820073664188385, 0.2820073664188385, 0.2820073664188385, 0.2820270359516144, 0.2820270359516144, 0.2820270359516144, 0.26347121596336365, 0.08106806129217148, 0.5674764513969421, 0.02026701532304287, 0.04053403064608574, 0.02026701532304287, 0.8123132586479187, 0.10026991367340088, 0.038077183067798615, 0.04569261893630028, 0.001269239466637373, 0.001269239466637373, 0.001269239466637373, 0.28585147857666016, 0.28585147857666016, 0.28585147857666016, 0.22713357210159302, 0.22713357210159302, 0.22713357210159302, 0.22713357210159302, 0.3979569673538208, 0.08378041535615921, 0.020945103839039803, 0.4817374050617218, 0.020945103839039803, 0.7380955219268799, 0.21738429367542267, 0.00505544850602746, 0.00505544850602746, 0.030332691967487335, 0.054486896842718124, 0.054486896842718124, 0.87179034948349, 0.28608274459838867, 0.28608274459838867, 0.28608274459838867, 0.7697685360908508, 0.11146921664476395, 0.09464367479085922, 0.014722349122166634, 0.004206385463476181, 0.0021031927317380905, 0.0021031927317380905, 0.09152472764253616, 0.04576236382126808, 0.04576236382126808, 0.7321978211402893, 0.04576236382126808, 0.32838818430900574, 0.21892546117305756, 0.21892546117305756, 0.21892546117305756, 0.05473136529326439, 0.5566787123680115, 0.3017949163913727, 0.09538595378398895, 0.042220015078783035, 0.0015637042233720422, 0.0015637042233720422, 0.0015637042233720422, 0.2858583331108093, 0.2858583331108093, 0.2858583331108093, 0.9239866137504578, 0.05974051356315613, 0.003982700873166323, 0.007965401746332645, 0.17095069587230682, 0.08547534793615341, 0.08547534793615341, 0.6838027834892273, 0.7769341468811035, 0.10840941965579987, 0.018068235367536545, 0.018068235367536545, 0.05420470982789993, 0.28508666157722473, 0.1710519939661026, 0.11403466761112213, 0.057017333805561066, 0.3421039879322052, 0.39204806089401245, 0.5004868507385254, 0.01668289676308632, 0.00834144838154316, 0.02502434328198433, 0.00834144838154316, 0.05839013680815697, 0.2858726680278778, 0.2858726680278778, 0.2858726680278778, 0.286128968000412, 0.286128968000412, 0.286128968000412, 0.28610867261886597, 0.28610867261886597, 0.28610867261886597, 0.7495068311691284, 0.07753518968820572, 0.025845063850283623, 0.025845063850283623, 0.12922531366348267, 0.7936151027679443, 0.05218290910124779, 0.07175150513648987, 0.07827436923980713, 0.002174288034439087, 0.002174288034439087, 0.2820020914077759, 0.2820020914077759, 0.2820020914077759, 0.28608837723731995, 0.28608837723731995, 0.28608837723731995, 0.22640278935432434, 0.22640278935432434, 0.22640278935432434, 0.22640278935432434, 0.2820022404193878, 0.2820022404193878, 0.2820022404193878, 0.775992214679718, 0.06863813102245331, 0.0648249015212059, 0.08579766005277634, 0.001906614750623703, 0.001906614750623703, 0.46919289231300354, 0.11729822307825089, 0.11729822307825089, 0.11729822307825089, 0.35189467668533325, 0.28204676508903503, 0.28204676508903503, 0.28204676508903503, 0.28612786531448364, 0.28612786531448364, 0.28612786531448364, 0.6911649107933044, 0.15025323629379272, 0.05258863419294357, 0.025042206048965454, 0.002504220698028803, 0.07512661814689636, 0.28587907552719116, 0.28587907552719116, 0.28587907552719116, 0.29994016885757446, 0.6229526996612549, 0.023072320967912674, 0.023072320967912674, 0.28202682733535767, 0.28202682733535767, 0.28202682733535767, 0.8396339416503906, 0.028623884543776512, 0.009541294537484646, 0.009541294537484646, 0.11449553817510605, 0.14101190865039825, 0.14101190865039825, 0.14101190865039825, 0.564047634601593, 0.08256873488426208, 0.7431185841560364, 0.08256873488426208, 0.2820347845554352, 0.2820347845554352, 0.2820347845554352, 0.17186209559440613, 0.17186209559440613, 0.17186209559440613, 0.515586256980896, 0.9738065600395203, 0.013839628547430038, 0.008807036094367504, 0.0012581479968503118, 0.0012581479968503118, 0.0012581479968503118, 0.28610938787460327, 0.28610938787460327, 0.28610938787460327, 0.7912468314170837, 0.09533094614744186, 0.009533094242215157, 0.038132376968860626, 0.019066188484430313, 0.038132376968860626, 0.8087681531906128, 0.0951491966843605, 0.07582201808691025, 0.011893649585545063, 0.0059468247927725315, 0.0014867061981931329, 0.0029734123963862658, 0.08926823735237122, 0.26780471205711365, 0.35707294940948486, 0.17853647470474243, 0.4247855544090271, 0.06535162031650543, 0.032675810158252716, 0.032675810158252716, 0.4247855544090271, 0.22460512816905975, 0.22460512816905975, 0.22460512816905975, 0.22460512816905975, 0.28608784079551697, 0.28608784079551697, 0.28608784079551697, 0.6208171844482422, 0.2076311707496643, 0.1328839510679245, 0.029068363830447197, 0.004152623470872641, 0.006228934973478317, 0.0020763117354363203, 0.9400495290756226, 0.017408324405550957, 0.017408324405550957, 0.017408324405550957, 0.21730028092861176, 0.21730028092861176, 0.21730028092861176, 0.21730028092861176, 0.09972745925188065, 0.09972745925188065, 0.6980922222137451, 0.8082345724105835, 0.09227202087640762, 0.04784475266933441, 0.04699038341641426, 0.0017087411833927035, 0.0025631117168813944, 0.0008543705916963518, 0.2860914170742035, 0.2860914170742035, 0.2860914170742035, 0.43645617365837097, 0.08729123324155807, 0.08729123324155807, 0.26187369227409363, 0.520630419254303, 0.4462546408176422, 0.01716363988816738, 0.005721213296055794, 0.005721213296055794, 0.0922871083021164, 0.0922871083021164, 0.7382968664169312, 0.13773098587989807, 0.747682511806488, 0.09837927669286728, 0.019675854593515396, 0.4124419391155243, 0.13748064637184143, 0.13748064637184143, 0.27496129274368286, 0.09396639466285706, 0.7517311573028564, 0.09396639466285706, 0.2820604741573334, 0.2820604741573334, 0.2820604741573334, 0.2861349582672119, 0.2861349582672119, 0.2861349582672119, 0.743542492389679, 0.13360530138015747, 0.07406380772590637, 0.0392102487385273, 0.0014522314304485917, 0.004356694407761097, 0.0029044628608971834, 0.28607046604156494, 0.28607046604156494, 0.28607046604156494, 0.09957379847764969, 0.09957379847764969, 0.6970165967941284, 0.28204143047332764, 0.28204143047332764, 0.28204143047332764, 0.5224792957305908, 0.3438538908958435, 0.008931269869208336, 0.11610650271177292, 0.004465634934604168, 0.2820194363594055, 0.2820194363594055, 0.2820194363594055, 0.36994805932044983, 0.27983251214027405, 0.33674758672714233, 0.014228771440684795, 0.11152700334787369, 0.11152700334787369, 0.11152700334787369, 0.6691620349884033, 0.5503244400024414, 0.06641846895217896, 0.3605574071407318, 0.009488352574408054, 0.009488352574408054, 0.4821138381958008, 0.23416957259178162, 0.11019744724035263, 0.16529616713523865, 0.006887340452522039, 0.1268853396177292, 0.04229511320590973, 0.7613120675086975, 0.04229511320590973, 0.9665800333023071, 0.014645151793956757, 0.014645151793956757, 0.28607484698295593, 0.28607484698295593, 0.28607484698295593, 0.4864547550678253, 0.06949353218078613, 0.06949353218078613, 0.27797412872314453, 0.1663496047258377, 0.3326992094516754, 0.08317480236291885, 0.3326992094516754, 0.9028903245925903, 0.015434022061526775, 0.03086804412305355, 0.04630206897854805, 0.21592192351818085, 0.21592192351818085, 0.21592192351818085, 0.4318438470363617, 0.04174792021512985, 0.8767063021659851, 0.04174792021512985, 0.1708534210920334, 0.1708534210920334, 0.1708534210920334, 0.5125603079795837, 0.9675949215888977, 0.005978959612548351, 0.01793687790632248, 0.0009964932687580585, 0.007971946150064468, 0.666602611541748, 0.17019641399383545, 0.07091517001390457, 0.02836606837809086, 0.01418303418904543, 0.01418303418904543, 0.04254910349845886, 0.28609004616737366, 0.28609004616737366, 0.28609004616737366, 0.20559445023536682, 0.20559445023536682, 0.20559445023536682, 0.41118890047073364, 0.31074413657188416, 0.075331911444664, 0.5273233652114868, 0.037665955722332, 0.04708244651556015, 0.033487092703580856, 0.9041514992713928, 0.033487092703580856, 0.7510473728179932, 0.15100423991680145, 0.07152832299470901, 0.0039737955667078495, 0.01986897736787796, 0.1892508715391159, 0.1892508715391159, 0.1892508715391159, 0.3785017430782318, 0.2861168086528778, 0.2861168086528778, 0.2861168086528778, 0.2861378490924835, 0.2861378490924835, 0.2861378490924835, 0.21350646018981934, 0.21350646018981934, 0.21350646018981934, 0.21350646018981934, 0.8967992067337036, 0.051863089203834534, 0.02160961925983429, 0.010804809629917145, 0.012965772300958633, 0.0021609619725495577, 0.004321923945099115, 0.2861000895500183, 0.2861000895500183, 0.2861000895500183, 0.23940028250217438, 0.23940028250217438, 0.23940028250217438, 0.23940028250217438, 0.9722440242767334, 0.007840677164494991, 0.007840677164494991, 0.007840677164494991, 0.4144764244556427, 0.10361910611391068, 0.10361910611391068, 0.4144764244556427, 0.7884832620620728, 0.01971208117902279, 0.07884832471609116, 0.0985604077577591, 0.077708400785923, 0.7770839929580688, 0.077708400785923, 0.2861105501651764, 0.2861105501651764, 0.2861105501651764, 0.21097660064697266, 0.10548830032348633, 0.10548830032348633, 0.10548830032348633, 0.5274415016174316, 0.14485633373260498, 0.14485633373260498, 0.14485633373260498, 0.5794253349304199, 0.21466293931007385, 0.21466293931007385, 0.21466293931007385, 0.4293258786201477, 0.08321468532085419, 0.041607342660427094, 0.7073248028755188, 0.16642937064170837, 0.09388608485460281, 0.7510886788368225, 0.09388608485460281, 0.9580916166305542, 0.013589952141046524, 0.013589952141046524, 0.006794976070523262, 0.006794976070523262, 0.006794976070523262, 0.21576836705207825, 0.21576836705207825, 0.21576836705207825, 0.4315367341041565, 0.1928166151046753, 0.0642722025513649, 0.0642722025513649, 0.5784498453140259, 0.6452410817146301, 0.00324241747148335, 0.21724197268486023, 0.12321186065673828, 0.0064848349429667, 0.2860713005065918, 0.2860713005065918, 0.2860713005065918, 0.07338780909776688, 0.8072658777236938, 0.07338780909776688, 0.8449992537498474, 0.1197008416056633, 0.01330009289085865, 0.019506802782416344, 0.0026600186247378588, 0.0008866728749126196, 0.13496699929237366, 0.7760602235794067, 0.033741749823093414, 0.033741749823093414, 0.7420659065246582, 0.17983213067054749, 0.01653628796339035, 0.059944044798612595, 0.002067035995423794, 0.002067035995423794, 0.32730522751808167, 0.16365261375904083, 0.16365261375904083, 0.32730522751808167, 0.3702649474143982, 0.239129438996315, 0.3162679672241211, 0.06171082332730293, 0.0038569264579564333, 0.0038569264579564333, 0.0038569264579564333, 0.6774806380271912, 0.04632345959544182, 0.25477904081344604, 0.011580864898860455, 0.005790432449430227, 0.286131352186203, 0.286131352186203, 0.286131352186203, 0.817062258720398, 0.1158953532576561, 0.040563374757766724, 0.005794767756015062, 0.005794767756015062, 0.011589535512030125, 0.26169371604919434, 0.26169371604919434, 0.13084685802459717, 0.26169371604919434, 0.6022213101387024, 0.35302627086639404, 0.024919500574469566, 0.012459750287234783, 0.004153250250965357, 0.004153250250965357, 0.13424275815486908, 0.8054565787315369, 0.03356068953871727, 0.03356068953871727, 0.24905669689178467, 0.24905669689178467, 0.24905669689178467, 0.24905669689178467, 0.057708460837602615, 0.8656269311904907, 0.057708460837602615, 0.03671073541045189, 0.03671073541045189, 0.881057620048523, 0.9401046633720398, 0.023041781038045883, 0.027650136500597, 0.0046083563938736916, 0.0046083563938736916, 0.281983345746994, 0.281983345746994, 0.281983345746994, 0.09647353738546371, 0.09647353738546371, 0.09647353738546371, 0.6753147840499878, 0.2820093333721161, 0.2820093333721161, 0.2820093333721161, 0.7603750228881836, 0.10628898441791534, 0.08993683010339737, 0.01907750964164734, 0.01907750964164734, 0.00545071717351675, 0.04451046139001846, 0.8902091979980469, 0.04451046139001846, 0.31803396344184875, 0.10601132363080978, 0.10601132363080978, 0.10601132363080978, 0.42404529452323914, 0.8893552422523499, 0.008159222081303596, 0.008159222081303596, 0.008159222081303596, 0.08159222453832626, 0.008159222081303596, 0.8005385994911194, 0.09323042631149292, 0.09198735654354095, 0.009944579564034939, 0.0012430724455043674, 0.0024861448910087347, 0.6362609267234802, 0.141391322016716, 0.070695661008358, 0.035347830504179, 0.035347830504179, 0.1060434877872467, 0.2858901917934418, 0.2858901917934418, 0.2858901917934418, 0.6292229890823364, 0.22338268160820007, 0.13641691207885742, 0.006252441555261612, 0.001705211354419589, 0.0011368074920028448, 0.001705211354419589, 0.4252190887928009, 0.10630477219820023, 0.026576193049550056, 0.4252190887928009, 0.9600821137428284, 0.01333447452634573, 0.01333447452634573, 0.01333447452634573, 0.2858408987522125, 0.2858408987522125, 0.2858408987522125, 0.10019881278276443, 0.10019881278276443, 0.10019881278276443, 0.7013916969299316, 0.17798615992069244, 0.17798615992069244, 0.17798615992069244, 0.3559723198413849, 0.28613168001174927, 0.28613168001174927, 0.28613168001174927, 0.2861083745956421, 0.2861083745956421, 0.2861083745956421, 0.7882406711578369, 0.08975017815828323, 0.0325181782245636, 0.011706545017659664, 0.07544218003749847, 0.0013007271336391568, 0.0013007271336391568, 0.7898096442222595, 0.10823317617177963, 0.023401767015457153, 0.005850441753864288, 0.07020530104637146, 0.002925220876932144, 0.7685711979866028, 0.024953609332442284, 0.009981444105505943, 0.004990722052752972, 0.18465670943260193, 0.009981444105505943, 0.17060279846191406, 0.17060279846191406, 0.17060279846191406, 0.5118083953857422, 0.24399825930595398, 0.5828847289085388, 0.1423323154449463, 0.006777729373425245, 0.02033318765461445, 0.19189026951789856, 0.19189026951789856, 0.19189026951789856, 0.3837805390357971, 0.28587526082992554, 0.28587526082992554, 0.28587526082992554, 0.6791688203811646, 0.14757639169692993, 0.12853428721427917, 0.02697633020579815, 0.003173686098307371, 0.012694744393229485, 0.0015868430491536856, 0.5273932814598083, 0.2636966407299042, 0.03767094761133194, 0.15068379044532776, 0.23943018913269043, 0.23943018913269043, 0.23943018913269043, 0.23943018913269043, 0.09094787389039993, 0.045473936945199966, 0.8185309171676636, 0.28203028440475464, 0.28203028440475464, 0.28203028440475464, 0.7581719160079956, 0.0922490581870079, 0.03459339588880539, 0.10378018766641617, 0.008648348972201347, 0.002882783068343997, 0.076678566634655, 0.8690237402915955, 0.025559522211551666, 0.24968770146369934, 0.0998750850558281, 0.24968770146369934, 0.24968770146369934, 0.14981262385845184, 0.08522135764360428, 0.08522135764360428, 0.08522135764360428, 0.5965495109558105, 0.17044271528720856, 0.6098940968513489, 0.10544898360967636, 0.2678973972797394, 0.0113998893648386, 0.00284997234120965, 0.00284997234120965, 0.00284997234120965, 0.026102880015969276, 0.07830864191055298, 0.8613950610160828, 0.026102880015969276, 0.20658588409423828, 0.20658588409423828, 0.20658588409423828, 0.41317176818847656, 0.8943569660186768, 0.036880698055028915, 0.03380730748176575, 0.006146783009171486, 0.024587132036685944, 0.003073391504585743, 0.003073391504585743, 0.20381534099578857, 0.20381534099578857, 0.20381534099578857, 0.40763068199157715, 0.2860954701900482, 0.2860954701900482, 0.2860954701900482, 0.6490864157676697, 0.28577524423599243, 0.037660304456949234, 0.019937807694077492, 0.0022153120953589678, 0.00664593605324626, 0.2860567569732666, 0.2860567569732666, 0.2860567569732666, 0.06439518928527832, 0.06439518928527832, 0.8371374607086182, 0.06439518928527832, 0.10702262818813324, 0.05351131409406662, 0.7491583824157715, 0.0823945626616478, 0.7415510416030884, 0.0823945626616478, 0.44863712787628174, 0.04078519344329834, 0.27733930945396423, 0.22024005651474, 0.15653155744075775, 0.7304806113243103, 0.1043543741106987, 0.9618515372276306, 0.018737368285655975, 0.006245789583772421, 0.006245789583772421, 0.006245789583772421, 0.2858596742153168, 0.2858596742153168, 0.2858596742153168, 0.13567015528678894, 0.13567015528678894, 0.13567015528678894, 0.5426806211471558, 0.09407965838909149, 0.03135988488793373, 0.8153570294380188, 0.03135988488793373, 0.28202584385871887, 0.28202584385871887, 0.28202584385871887, 0.9554877877235413, 0.013457574881613255, 0.013457574881613255, 0.013457574881613255, 0.2861135005950928, 0.2861135005950928, 0.2861135005950928, 0.7557088136672974, 0.1170816496014595, 0.10856661945581436, 0.010643785819411278, 0.0042575146071612835, 0.0021287573035806417, 0.11152401566505432, 0.11152401566505432, 0.11152401566505432, 0.6691440939903259, 0.3571224510669708, 0.24658454954624176, 0.008502915501594543, 0.28059619665145874, 0.09353207051753998, 0.2394438236951828, 0.2394438236951828, 0.2394438236951828, 0.2394438236951828, 0.13752320408821106, 0.13752320408821106, 0.13752320408821106, 0.5500928163528442, 0.29447609186172485, 0.6744452118873596, 0.018998457118868828, 0.009499228559434414, 0.009499228559434414, 0.20578208565711975, 0.20578208565711975, 0.20578208565711975, 0.4115641713142395, 0.9207739233970642, 0.026459021493792534, 0.03704262897372246, 0.005291804205626249, 0.010583608411252499, 0.5222479701042175, 0.19584298133850098, 0.09792149066925049, 0.06528099626302719, 0.032640498131513596, 0.032640498131513596, 0.09792149066925049, 0.059127263724803925, 0.7095271348953247, 0.11825452744960785, 0.059127263724803925, 0.3214871287345886, 0.09891911596059799, 0.024729778990149498, 0.544055163860321, 0.28607475757598877, 0.28607475757598877, 0.28607475757598877, 0.28204187750816345, 0.28204187750816345, 0.28204187750816345, 0.5948723554611206, 0.06609693169593811, 0.06609693169593811, 0.06609693169593811, 0.19829079508781433, 0.5331830382347107, 0.3815438449382782, 0.05869905278086662, 0.014674763195216656, 0.009783175773918629, 0.683664083480835, 0.14381957054138184, 0.13339786231517792, 0.027096441015601158, 0.00833736639469862, 0.002084341598674655, 0.7187868356704712, 0.12532693147659302, 0.10443910956382751, 0.041775643825531006, 0.002457390772178769, 0.004914781544357538, 0.7314972877502441, 0.07991147041320801, 0.116793692111969, 0.006147036328911781, 0.03688221797347069, 0.012294072657823563, 0.012294072657823563, 0.2123381346464157, 0.10616906732320786, 0.10616906732320786, 0.4246762692928314, 0.10616906732320786, 0.25619614124298096, 0.2903556227684021, 0.38429421186447144, 0.06831897050142288, 0.9414367079734802, 0.017762957140803337, 0.017762957140803337, 0.9604126811027527, 0.012005158700048923, 0.012005158700048923, 0.012005158700048923, 0.9341840744018555, 0.022242479026317596, 0.022242479026317596, 0.3406613767147064, 0.1996980458498001, 0.38764914870262146, 0.0587347187101841, 0.011746943928301334, 0.011746943928301334, 0.9539960026741028, 0.011357095092535019, 0.011357095092535019, 0.011357095092535019, 0.11976337432861328, 0.11976337432861328, 0.11976337432861328, 0.5988168716430664, 0.08411695808172226, 0.8411695957183838, 0.04205847904086113, 0.28589582443237305, 0.28589582443237305, 0.28589582443237305, 0.13753603398799896, 0.2750720679759979, 0.13753603398799896, 0.4126081168651581, 0.7344267964363098, 0.009180334396660328, 0.03672133758664131, 0.21114769577980042, 0.150863915681839, 0.150863915681839, 0.150863915681839, 0.45259177684783936, 0.34063228964805603, 0.18924015760421753, 0.44471436738967896, 0.009462008252739906, 0.10373015701770782, 0.05186507850885391, 0.7779761552810669, 0.05186507850885391, 0.6150161623954773, 0.31782716512680054, 0.024765752255916595, 0.03714862838387489, 0.004127625375986099, 0.004127625375986099, 0.10097989439964294, 0.7068592309951782, 0.10097989439964294, 0.111690953373909, 0.111690953373909, 0.111690953373909, 0.6701456904411316, 0.14197783172130585, 0.23662970960140228, 0.047325942665338516, 0.5205853581428528, 0.9400104284286499, 0.017407599836587906, 0.017407599836587906, 0.008703799918293953, 0.008703799918293953, 0.008703799918293953, 0.2861078083515167, 0.2861078083515167, 0.2861078083515167, 0.17194387316703796, 0.17194387316703796, 0.17194387316703796, 0.5158316493034363, 0.2820322811603546, 0.2820322811603546, 0.2820322811603546, 0.17016148567199707, 0.17016148567199707, 0.17016148567199707, 0.5104844570159912, 0.08259790390729904, 0.08259790390729904, 0.08259790390729904, 0.6607832312583923, 0.14929135143756866, 0.14929135143756866, 0.14929135143756866, 0.4478740394115448, 0.5257980823516846, 0.4419752061367035, 0.015240523964166641, 0.007620261982083321, 0.02114921621978283, 0.9446650147438049, 0.007049738895148039, 0.02114921621978283, 0.10081253945827484, 0.7056877613067627, 0.10081253945827484, 0.9370770454406738, 0.01952243782579899, 0.01952243782579899, 0.28201431035995483, 0.28201431035995483, 0.28201431035995483, 0.691986620426178, 0.16158688068389893, 0.11101388931274414, 0.029603704810142517, 0.0024669754784554243, 0.0037004631012678146, 0.0012334877392277122, 0.2392224222421646, 0.2392224222421646, 0.2392224222421646, 0.2392224222421646, 0.10282132774591446, 0.10282132774591446, 0.10282132774591446, 0.7197492718696594, 0.15840254724025726, 0.7603322267532349, 0.03168050944805145, 0.03168050944805145, 0.3405057191848755, 0.6093260049819946, 0.01792135275900364, 0.01792135275900364, 0.28311973810195923, 0.028311975300312042, 0.08493592590093613, 0.5662394762039185, 0.07284694910049438, 0.07284694910049438, 0.07284694910049438, 0.801316499710083, 0.9416970610618591, 0.03363203629851341, 0.013452814891934395, 0.006726407445967197, 0.611011803150177, 0.20033174753189087, 0.10016587376594543, 0.0651078149676323, 0.02504146844148636, 0.11023271083831787, 0.22046542167663574, 0.11023271083831787, 0.4409308433532715, 0.2271403819322586, 0.2271403819322586, 0.2271403819322586, 0.2271403819322586, 0.21602806448936462, 0.21602806448936462, 0.21602806448936462, 0.43205612897872925, 0.5662239193916321, 0.34844550490379333, 0.05392609164118767, 0.024888964369893074, 0.0020740802865475416, 0.004148160573095083, 0.0020740802865475416, 0.4664859175682068, 0.43255966901779175, 0.06785249710083008, 0.03392624855041504, 0.00848156213760376, 0.20781250298023224, 0.10390625149011612, 0.05195312574505806, 0.571484386920929, 0.17390641570091248, 0.17390641570091248, 0.17390641570091248, 0.521719217300415, 0.22802196443080902, 0.11401098221540451, 0.11401098221540451, 0.5700548887252808, 0.28614190220832825, 0.28614190220832825, 0.28614190220832825, 0.6554514169692993, 0.2194591760635376, 0.08778367191553116, 0.02926122397184372, 0.002926122397184372, 0.002926122397184372, 0.943947434425354, 0.011948701925575733, 0.023897403851151466, 0.9659542441368103, 0.007727633696049452, 0.015455267392098904, 0.6114367842674255, 0.12872353196144104, 0.06436176598072052, 0.13676874339580536, 0.008045220747590065, 0.04827132448554039, 0.14525502920150757, 0.14525502920150757, 0.14525502920150757, 0.5810201168060303, 0.08973750472068787, 0.04486875236034393, 0.7627688050270081, 0.04486875236034393, 0.719407856464386, 0.09741149097681046, 0.11258213967084885, 0.06307793408632278, 0.0047907293774187565, 0.0023953646887093782, 0.0007984548574313521, 0.28587204217910767, 0.28587204217910767, 0.28587204217910767, 0.7318107485771179, 0.13471712172031403, 0.1004670038819313, 0.023975079879164696, 0.0045666820369660854, 0.0011416705092415214, 0.0022833410184830427, 0.2248830944299698, 0.07496103644371033, 0.07496103644371033, 0.5996882915496826, 0.27089056372642517, 0.13544528186321259, 0.13544528186321259, 0.13544528186321259, 0.40633586049079895, 0.9360337257385254, 0.026367148384451866, 0.026367148384451866, 0.013183574192225933, 0.6683547496795654, 0.21105939149856567, 0.017588282003998756, 0.017588282003998756, 0.03517656400799751, 0.017588282003998756, 0.05276484787464142, 0.19657912850379944, 0.19657912850379944, 0.19657912850379944, 0.3931582570075989, 0.08762848377227783, 0.08762848377227783, 0.08762848377227783, 0.7010278701782227, 0.2820473313331604, 0.2820473313331604, 0.2820473313331604, 0.8518900275230408, 0.09849978238344193, 0.026621563360095024, 0.018635094165802002, 0.002662156242877245, 0.002662156242877245, 0.002662156242877245, 0.08782678097486496, 0.7904410362243652, 0.08782678097486496, 0.9456580281257629, 0.011674790643155575, 0.02334958128631115, 0.011674790643155575, 0.4940134286880493, 0.12350335717201233, 0.12350335717201233, 0.24700671434402466, 0.9339662194252014, 0.014943460002541542, 0.007471730001270771, 0.007471730001270771, 0.014943460002541542, 0.029886920005083084, 0.7594159841537476, 0.0330180861055851, 0.0330180861055851, 0.0330180861055851, 0.1320723444223404, 0.0330180861055851, 0.07333268225193024, 0.806659460067749, 0.07333268225193024, 0.2820560038089752, 0.2820560038089752, 0.2820560038089752, 0.636383593082428, 0.04545597359538078, 0.14773191511631012, 0.011363993398845196, 0.03409197926521301, 0.11363992840051651, 0.02272798679769039, 0.5365553498268127, 0.18471577763557434, 0.20230774581432343, 0.01759197935461998, 0.06157192587852478, 0.00879598967730999, 0.7304333448410034, 0.07115969806909561, 0.15069112181663513, 0.03767278045415878, 0.002092932350933552, 0.002092932350933552, 0.006278796587139368, 0.3842480182647705, 0.40447160601615906, 0.05392954498529434, 0.12134148180484772, 0.006741193123161793, 0.020223580300807953, 0.03981770575046539, 0.03981770575046539, 0.8759894967079163, 0.6421328186988831, 0.008232472464442253, 0.18111439049243927, 0.15641698241233826, 0.1177346259355545, 0.1177346259355545, 0.1177346259355545, 0.7064077258110046, 0.40112632513046265, 0.022284794598817825, 0.06685438752174377, 0.5125502943992615, 0.20499657094478607, 0.20499657094478607, 0.20499657094478607, 0.40999314188957214, 0.9444745779037476, 0.011660180054605007, 0.023320360109210014, 0.06235191226005554, 0.06235191226005554, 0.06235191226005554, 0.8105748891830444, 0.8247033953666687, 0.13556768000125885, 0.020335150882601738, 0.004518922418355942, 0.009037844836711884, 0.002259461209177971, 0.285884290933609, 0.285884290933609, 0.285884290933609, 0.15190474689006805, 0.15190474689006805, 0.15190474689006805, 0.6076189875602722, 0.9315720796585083, 0.027332188561558723, 0.03416523337364197, 0.002277682302519679, 0.004555364605039358, 0.6749076247215271, 0.017760727554559708, 0.05328218266367912, 0.2308894544839859, 0.7223479747772217, 0.14094595611095428, 0.03523648902773857, 0.017618244513869286, 0.10570946335792542, 0.9299185872077942, 0.04871002212166786, 0.013284550979733467, 0.004428183659911156, 0.002214091829955578, 0.9431816935539246, 0.024184145033359528, 0.012092072516679764, 0.012092072516679764, 0.07788444310426712, 0.15576888620853424, 0.7399021983146667, 0.3939458429813385, 0.16221298277378082, 0.42870575189590454, 0.011586641892790794, 0.28609731793403625, 0.28609731793403625, 0.28609731793403625, 0.2350199967622757, 0.3084637522697449, 0.32315248250961304, 0.12730249762535095, 0.004896249622106552, 0.004896249622106552, 0.09259016066789627, 0.09259016066789627, 0.7407212853431702, 0.28585782647132874, 0.28585782647132874, 0.28585782647132874, 0.20124883949756622, 0.20124883949756622, 0.20124883949756622, 0.40249767899513245, 0.692350447177887, 0.13818517327308655, 0.11539173871278763, 0.02564260922372341, 0.008547536097466946, 0.008547536097466946, 0.011396714486181736, 0.5268752574920654, 0.4420907199382782, 0.018168112263083458, 0.00605603726580739, 0.4075257480144501, 0.10188143700361252, 0.05094071850180626, 0.05094071850180626, 0.4075257480144501, 0.32508203387260437, 0.16254101693630219, 0.16254101693630219, 0.32508203387260437, 0.9133121371269226, 0.033472172915935516, 0.009563477709889412, 0.019126955419778824, 0.019126955419778824, 0.004781738854944706, 0.9242769479751587, 0.02930634096264839, 0.02930634096264839, 0.011271669529378414, 0.004508668091148138, 0.002254334045574069, 0.9491433501243591, 0.018610654398798943, 0.018610654398798943, 0.5845541954040527, 0.2839263379573822, 0.008350774645805359, 0.008350774645805359, 0.10856006294488907, 0.1695190668106079, 0.1695190668106079, 0.1695190668106079, 0.5085572004318237, 0.1486792415380478, 0.1486792415380478, 0.1486792415380478, 0.44603773951530457, 0.6121344566345215, 0.008328360505402088, 0.3164776861667633, 0.05829852074384689, 0.004164180252701044, 0.10388460755348206, 0.05194230377674103, 0.8310768604278564, 0.1135835275053978, 0.1135835275053978, 0.1135835275053978, 0.1135835275053978, 0.5679176449775696, 0.09915574640035629, 0.09915574640035629, 0.6940902471542358, 0.8479174375534058, 0.07108289748430252, 0.01015469990670681, 0.03554144874215126, 0.03046409972012043, 0.1637338250875473, 0.1637338250875473, 0.1637338250875473, 0.4912014901638031, 0.5136196613311768, 0.394293874502182, 0.025940386578440666, 0.05188077315688133, 0.005188077222555876, 0.005188077222555876, 0.8058014512062073, 0.11729182302951813, 0.05566391348838806, 0.012590647675096989, 0.005301325116306543, 0.0026506625581532717, 0.0006626656395383179, 0.24287472665309906, 0.08095823973417282, 0.04047911986708641, 0.6071867942810059, 0.9386035203933716, 0.01618281938135624, 0.01618281938135624, 0.01618281938135624, 0.7518796920776367, 0.14163315296173096, 0.08043363690376282, 0.01573701575398445, 0.0034971146378666162, 0.005245672073215246, 0.0017485573189333081, 0.7985813617706299, 0.16225145757198334, 0.020281432196497917, 0.005070358049124479, 0.010140716098248959, 0.0025351790245622396, 0.5206576585769653, 0.43388140201568604, 0.028925426304340363, 0.007231356576085091, 0.7371312975883484, 0.16906681656837463, 0.08115207403898239, 0.011271120980381966, 0.0022542241495102644, 0.0022542241495102644, 0.0022542241495102644, 0.03705686703324318, 0.277926504611969, 0.676287829875946, 0.09912189096212387, 0.09912189096212387, 0.6938532590866089, 0.13216626644134521, 0.06608313322067261, 0.7269144654273987, 0.4528326392173767, 0.09056653082370758, 0.09056653082370758, 0.09056653082370758, 0.27169957756996155, 0.9337669014930725, 0.0339551605284214, 0.0169775802642107, 0.11017435044050217, 0.11017435044050217, 0.11017435044050217, 0.550871729850769, 0.11017435044050217, 0.19039005041122437, 0.04759751260280609, 0.04759751260280609, 0.04759751260280609, 0.6187676787376404, 0.2393856942653656, 0.2393856942653656, 0.2393856942653656, 0.2393856942653656, 0.26057106256484985, 0.03722443804144859, 0.6700398921966553, 0.2820315659046173, 0.2820315659046173, 0.2820315659046173, 0.1423528641462326, 0.2847057282924652, 0.1423528641462326, 0.2847057282924652, 0.08705469220876694, 0.08705469220876694, 0.7834922075271606, 0.09765202552080154, 0.04882601276040077, 0.8300421833992004, 0.1266166716814041, 0.042205553501844406, 0.042205553501844406, 0.8019055724143982, 0.9396241903305054, 0.03660873696208, 0.012202912010252476, 0.060312818735837936, 0.8443794846534729, 0.060312818735837936], \"Term\": [\"abolishe\", \"abolishe\", \"abolishe\", \"abstain\", \"abstain\", \"abstain\", \"abstain\", \"abstention\", \"abstention\", \"abstention\", \"abstention\", \"accumulation\", \"accumulation\", \"accumulation\", \"accuracie\", \"accuracie\", \"accuracie\", \"accuracy\", \"accuracy\", \"accuracy\", \"accuracy\", \"accuracy\", \"accuracy\", \"acnn\", \"acnn\", \"acnn\", \"acquisition\", \"acquisition\", \"acquisition\", \"action_potential\", \"action_potential\", \"action_potential\", \"action_potential\", \"action_potential\", \"active\", \"active\", \"active\", \"active\", \"active\", \"active\", \"active\", \"adaboost\", \"adaboost\", \"adaboost\", \"adaboost\", \"adahedge\", \"adahedge\", \"adahedge\", \"adaptive\", \"adaptive\", \"adaptive\", \"adaptive\", \"affine_transformation\", \"affine_transformation\", \"affine_transformation\", \"affine_transformation\", \"affine_transformations\", \"affine_transformations\", \"affine_transformations\", \"affine_transformations\", \"aggregation\", \"aggregation\", \"aggregation\", \"aggregation\", \"agnostic\", \"agnostic\", \"agnostic\", \"agnostic\", \"algorithm\", \"algorithm\", \"algorithm\", \"algorithm\", \"algorithm\", \"algorithm\", \"also\", \"also\", \"also\", \"also\", \"also\", \"also\", \"also\", \"amendment\", \"amendment\", \"amendment\", \"amise\", \"amise\", \"amise\", \"amise\", \"annotated\", \"annotated\", \"annotated\", \"anode\", \"anode\", \"anode\", \"anode\", \"approach\", \"approach\", \"approach\", \"approach\", \"approach\", \"approach\", \"argmaxe\", \"argmaxe\", \"argmaxe\", \"arm\", \"arm\", \"arm\", \"asymptotically\", \"asymptotically\", \"asymptotically\", \"asymptotically\", \"asymptotically\", \"autoregressive\", \"autoregressive\", \"autoregressive\", \"balanced\", \"balanced\", \"balanced\", \"balanced\", \"balanced\", \"bandit\", \"bandit\", \"bandit\", \"bandwidth\", \"bandwidth\", \"bandwidth\", \"bandwidth\", \"bandwidth\", \"barcode\", \"barcode\", \"barcode\", \"barcode\", \"base\", \"base\", \"base\", \"base\", \"base\", \"base\", \"base\", \"baseband\", \"baseband\", \"baseband\", \"basis\", \"basis\", \"basis\", \"basis\", \"basis\", \"basis\", \"beneficially\", \"beneficially\", \"beneficially\", \"bertsima\", \"bertsima\", \"bertsima\", \"betti_number\", \"betti_number\", \"betti_number\", \"betti_number\", \"bf\", \"bf\", \"bf\", \"bind\", \"bind\", \"bind\", \"bind\", \"bind\", \"bo\", \"bo\", \"bo\", \"bo\", \"bootstrap\", \"bootstrap\", \"bootstrap\", \"bootstrap\", \"bound\", \"bound\", \"bound\", \"bound\", \"bound\", \"bound\", \"budget\", \"budget\", \"budget\", \"budget\", \"budget\", \"burrow\", \"burrow\", \"burrow\", \"business\", \"business\", \"business\", \"business\", \"calcium\", \"calcium\", \"calcium\", \"calcium\", \"calcium_imaging\", \"calcium_imaging\", \"calcium_imaging\", \"calcium_imaging\", \"capacitance\", \"capacitance\", \"capacitance\", \"capacitance\", \"capacitor\", \"capacitor\", \"capacitor\", \"capacitor\", \"carpediem\", \"carpediem\", \"carpediem\", \"cascade\", \"cascade\", \"cascade\", \"case\", \"case\", \"case\", \"case\", \"case\", \"case\", \"cc\", \"cc\", \"cc\", \"cell\", \"cell\", \"cell\", \"cell\", \"cell\", \"cell\", \"censor\", \"censor\", \"censor\", \"censor\", \"centralize\", \"centralize\", \"centralize\", \"centralize\", \"chain\", \"chain\", \"chain\", \"chain\", \"channel\", \"channel\", \"channel\", \"channel\", \"charge\", \"charge\", \"charge\", \"charge\", \"chemistry\", \"chemistry\", \"chemistry\", \"child\", \"child\", \"child\", \"child\", \"chip\", \"chip\", \"chip\", \"chip\", \"chunky_em\", \"chunky_em\", \"chunky_em\", \"chunky_em\", \"circuit\", \"circuit\", \"circuit\", \"circuit\", \"circuit\", \"class\", \"class\", \"class\", \"class\", \"class\", \"class\", \"classication\", \"classication\", \"classication\", \"classication\", \"classier\", \"classier\", \"classier\", \"classier\", \"classification\", \"classification\", \"classification\", \"classification\", \"classifier\", \"classifier\", \"classifier\", \"classifier\", \"classifier\", \"clv\", \"clv\", \"clv\", \"cmo\", \"cmo\", \"cmo\", \"cmo\", \"code\", \"code\", \"code\", \"code\", \"code\", \"community\", \"community\", \"community\", \"community\", \"complete\", \"complete\", \"complete\", \"complete\", \"complete\", \"complete\", \"complexity\", \"complexity\", \"complexity\", \"complexity\", \"compute\", \"compute\", \"compute\", \"compute\", \"compute\", \"compute\", \"compute\", \"concurrency\", \"concurrency\", \"concurrency\", \"concurrency\", \"concurrent\", \"concurrent\", \"concurrent\", \"concurrent\", \"condence\", \"condence\", \"condence\", \"condence\", \"condence_rate\", \"condence_rate\", \"condence_rate\", \"condence_rate\", \"condence_rated\", \"condence_rated\", \"condence_rated\", \"condence_rated\", \"conductance\", \"conductance\", \"conductance\", \"conductance\", \"conformational\", \"conformational\", \"conformational\", \"connectivity\", \"connectivity\", \"connectivity\", \"connectivity\", \"connectivity\", \"consider\", \"consider\", \"consider\", \"consider\", \"consider\", \"consider\", \"constant\", \"constant\", \"constant\", \"constant\", \"constant\", \"constant\", \"constant\", \"continuous\", \"continuous\", \"continuous\", \"continuous\", \"continuous\", \"continuous\", \"convnet\", \"convnet\", \"convnet\", \"convnet\", \"coordinate_descent\", \"coordinate_descent\", \"coordinate_descent\", \"copyright\", \"copyright\", \"copyright\", \"correspondence\", \"correspondence\", \"correspondence\", \"cost\", \"cost\", \"cost\", \"cost\", \"cost\", \"cost\", \"cost_sensitive\", \"cost_sensitive\", \"cost_sensitive\", \"cost_sensitive\", \"cost_sensitively\", \"cost_sensitively\", \"cost_sensitively\", \"cost_sensitively\", \"coverage\", \"coverage\", \"coverage\", \"coverage\", \"cp\", \"cp\", \"cp\", \"crowd\", \"crowd\", \"crowd\", \"cs_em\", \"cs_em\", \"cs_em\", \"cs_em\", \"cumulative_mixability\", \"cumulative_mixability\", \"cumulative_mixability\", \"curacy\", \"curacy\", \"curacy\", \"current\", \"current\", \"current\", \"current\", \"current\", \"current\", \"current\", \"customer\", \"customer\", \"customer\", \"customer\", \"cutdelaye\", \"cutdelaye\", \"cutdelaye\", \"cutting\", \"cutting\", \"cutting\", \"cycle\", \"cycle\", \"cycle\", \"cycle\", \"cycle\", \"cycle\", \"datum\", \"datum\", \"datum\", \"datum\", \"datum\", \"datum\", \"datum\", \"decremente\", \"decremente\", \"decremente\", \"deflection\", \"deflection\", \"deflection\", \"deflection\", \"delay\", \"delay\", \"delay\", \"delay\", \"delay\", \"density\", \"density\", \"density\", \"density\", \"density\", \"der\", \"der\", \"der\", \"destexhe\", \"destexhe\", \"destexhe\", \"different\", \"different\", \"different\", \"different\", \"different\", \"different\", \"different\", \"disagreement\", \"disagreement\", \"disagreement\", \"disagreement\", \"disagreement\", \"display\", \"display\", \"display\", \"display\", \"display\", \"distribution\", \"distribution\", \"distribution\", \"distribution\", \"distribution\", \"distribution\", \"distribution\", \"dji\", \"dji\", \"dji\", \"document\", \"document\", \"document\", \"document\", \"doom\", \"doom\", \"doom\", \"doom\", \"dual\", \"dual\", \"dual\", \"dual\", \"dual\", \"duration\", \"duration\", \"duration\", \"duration\", \"duration\", \"dynamic\", \"dynamic\", \"dynamic\", \"dynamic\", \"dynamic\", \"dynamic\", \"dynamic\", \"eager\", \"eager\", \"eager\", \"efflux\", \"efflux\", \"efflux\", \"energetically\", \"energetically\", \"energetically\", \"energy\", \"energy\", \"energy\", \"energy\", \"energy\", \"error\", \"error\", \"error\", \"error\", \"error\", \"error\", \"essage\", \"essage\", \"essage\", \"evolved\", \"evolved\", \"evolved\", \"evxj\", \"evxj\", \"evxj\", \"evxj\", \"exactness\", \"exactness\", \"exactness\", \"example\", \"example\", \"example\", \"example\", \"example\", \"example\", \"excitation\", \"excitation\", \"excitation\", \"excitation\", \"excitation\", \"exhaustively\", \"exhaustively\", \"exhaustively\", \"expenditure\", \"expenditure\", \"expenditure\", \"experiment\", \"experiment\", \"experiment\", \"experiment\", \"experiment\", \"experiment\", \"experimenter\", \"experimenter\", \"experimenter\", \"expert\", \"expert\", \"expert\", \"expert\", \"extendable\", \"extendable\", \"extendable\", \"face\", \"face\", \"face\", \"face\", \"face\", \"face_verification\", \"face_verification\", \"face_verification\", \"face_verification\", \"fade\", \"fade\", \"fade\", \"fastest\", \"fastest\", \"fastest\", \"fdkm\", \"fdkm\", \"fdkm\", \"fdkm\", \"feature\", \"feature\", \"feature\", \"feature\", \"feature\", \"feature\", \"fibre\", \"fibre\", \"fibre\", \"fig\", \"fig\", \"fig\", \"fig\", \"fig\", \"fig\", \"figure\", \"figure\", \"figure\", \"figure\", \"figure\", \"figure\", \"figure\", \"finish\", \"finish\", \"finish\", \"finish\", \"firing_rate\", \"firing_rate\", \"firing_rate\", \"firing_rate\", \"firing_rate\", \"floating_gate\", \"floating_gate\", \"floating_gate\", \"floating_gate\", \"flux\", \"flux\", \"flux\", \"follow\", \"follow\", \"follow\", \"follow\", \"follow\", \"follow\", \"follow\", \"frame\", \"frame\", \"frame\", \"frame\", \"ftop\", \"ftop\", \"ftop\", \"ftop\", \"fujishige\", \"fujishige\", \"fujishige\", \"function\", \"function\", \"function\", \"function\", \"function\", \"function\", \"function\", \"gas\", \"gas\", \"gas\", \"gate\", \"gate\", \"gate\", \"gate\", \"gaussian\", \"gaussian\", \"gaussian\", \"gaussian\", \"gaussian\", \"gcc\", \"gcc\", \"gcc\", \"generative\", \"generative\", \"generative\", \"generative\", \"generator\", \"generator\", \"generator\", \"generator\", \"geometric_measure\", \"geometric_measure\", \"geometric_measure\", \"getm\", \"getm\", \"getm\", \"giant\", \"giant\", \"giant\", \"give\", \"give\", \"give\", \"give\", \"give\", \"give\", \"give\", \"gna\", \"gna\", \"gna\", \"good_major\", \"good_major\", \"good_major\", \"governmental\", \"governmental\", \"governmental\", \"gradient\", \"gradient\", \"gradient\", \"gradient\", \"gradient\", \"grandparent\", \"grandparent\", \"grandparent\", \"graph\", \"graph\", \"graph\", \"graph\", \"greedy_policie\", \"greedy_policie\", \"greedy_policie\", \"greedy_policie\", \"group\", \"group\", \"group\", \"group\", \"group\", \"guarantee\", \"guarantee\", \"guarantee\", \"guarantee\", \"guarantee\", \"guess\", \"guess\", \"guess\", \"guess\", \"hint\", \"hint\", \"hint\", \"hippocampal\", \"hippocampal\", \"hippocampal\", \"hopfield\", \"hopfield\", \"hopfield\", \"hopfield\", \"horizon\", \"horizon\", \"horizon\", \"horizon\", \"human\", \"human\", \"human\", \"human\", \"hydrogen\", \"hydrogen\", \"hydrogen\", \"hydrogen\", \"iaf\", \"iaf\", \"iaf\", \"illumination\", \"illumination\", \"illumination\", \"illumination\", \"image\", \"image\", \"image\", \"image\", \"image\", \"implementation\", \"implementation\", \"implementation\", \"implementation\", \"implementation\", \"implementation\", \"implementation\", \"ina\", \"ina\", \"ina\", \"inactivation\", \"inactivation\", \"inactivation\", \"inactivation\", \"individual\", \"individual\", \"individual\", \"individual\", \"individual\", \"infect\", \"infect\", \"infect\", \"inference\", \"inference\", \"inference\", \"inference\", \"inference\", \"inhomogeneity\", \"inhomogeneity\", \"inhomogeneity\", \"inhomogeneity\", \"initio\", \"initio\", \"initio\", \"inject\", \"inject\", \"inject\", \"injection\", \"injection\", \"injection\", \"injection\", \"input\", \"input\", \"input\", \"input\", \"input\", \"input\", \"input\", \"instantaneously\", \"instantaneously\", \"instantaneously\", \"intelligently\", \"intelligently\", \"intelligently\", \"intelligently\", \"interaction\", \"interaction\", \"interaction\", \"interaction\", \"interconnection\", \"interconnection\", \"interconnection\", \"interconnection\", \"invariance\", \"invariance\", \"invariance\", \"invariance\", \"inverse_autoregressive\", \"inverse_autoregressive\", \"inverse_autoregressive\", \"inwardly\", \"inwardly\", \"inwardly\", \"ion\", \"ion\", \"ion\", \"ion\", \"ion\", \"ionic\", \"ionic\", \"ionic\", \"ionic\", \"iout\", \"iout\", \"iout\", \"iout\", \"item\", \"item\", \"item\", \"item\", \"itin\", \"itin\", \"itin\", \"kernel\", \"kernel\", \"kernel\", \"kernel\", \"kernel\", \"kernel\", \"kinetic\", \"kinetic\", \"kinetic\", \"kinetic\", \"lab\", \"lab\", \"lab\", \"lab\", \"label\", \"label\", \"label\", \"label\", \"label\", \"latch\", \"latch\", \"latch\", \"leader\", \"leader\", \"leader\", \"learn\", \"learn\", \"learn\", \"learn\", \"learn\", \"learn\", \"learner\", \"learner\", \"learner\", \"learner\", \"learning\", \"learning\", \"learning\", \"learning\", \"learning\", \"learning\", \"legal\", \"legal\", \"legal\", \"legal\", \"let\", \"let\", \"let\", \"let\", \"let\", \"let\", \"let\", \"level\", \"level\", \"level\", \"level\", \"level\", \"lindstedt\", \"lindstedt\", \"lindstedt\", \"line\", \"line\", \"line\", \"line\", \"line\", \"line\", \"load\", \"load\", \"load\", \"load\", \"local\", \"local\", \"local\", \"local\", \"local\", \"local\", \"localization\", \"localization\", \"localization\", \"localization\", \"lp\", \"lp\", \"lp\", \"lp\", \"lwr\", \"lwr\", \"lwr\", \"mallow\", \"mallow\", \"mallow\", \"map\", \"map\", \"map\", \"map\", \"map\", \"massachusetts\", \"massachusetts\", \"massachusetts\", \"master\", \"master\", \"master\", \"master\", \"maxxn\", \"maxxn\", \"maxxn\", \"may\", \"may\", \"may\", \"may\", \"may\", \"may\", \"meanvariance\", \"meanvariance\", \"meanvariance\", \"membrane\", \"membrane\", \"membrane\", \"membrane\", \"membrane\", \"message\", \"message\", \"message\", \"message\", \"message\", \"message\", \"method\", \"method\", \"method\", \"method\", \"method\", \"method\", \"minimal\", \"minimal\", \"minimal\", \"minimal\", \"minimal\", \"minimal\", \"mod\", \"mod\", \"mod\", \"model\", \"model\", \"model\", \"model\", \"model\", \"model\", \"model\", \"modular\", \"modular\", \"modular\", \"modular\", \"motif\", \"motif\", \"motif\", \"motif\", \"motivating\", \"motivating\", \"motivating\", \"mpt\", \"mpt\", \"mpt\", \"mpt\", \"multiplier\", \"multiplier\", \"multiplier\", \"multiplier\", \"myelinate\", \"myelinate\", \"myelinate\", \"nervous\", \"nervous\", \"nervous\", \"network\", \"network\", \"network\", \"network\", \"network\", \"network\", \"network\", \"neural\", \"neural\", \"neural\", \"neural\", \"neural\", \"neural\", \"neuron\", \"neuron\", \"neuron\", \"neuron\", \"neuron\", \"neuron\", \"neuroscientist\", \"neuroscientist\", \"neuroscientist\", \"neuroscientist\", \"norm\", \"norm\", \"norm\", \"norm\", \"norm\", \"normalized_dot\", \"normalized_dot\", \"normalized_dot\", \"normalized_dot\", \"npexperimental\", \"npexperimental\", \"npexperimental\", \"number\", \"number\", \"number\", \"number\", \"number\", \"number\", \"number\", \"offline\", \"offline\", \"offline\", \"offline\", \"ofstage\", \"ofstage\", \"ofstage\", \"ofstage\", \"ompr\", \"ompr\", \"ompr\", \"onedirectional\", \"onedirectional\", \"onedirectional\", \"optimization\", \"optimization\", \"optimization\", \"optimization\", \"optimization\", \"optimization\", \"option\", \"option\", \"option\", \"oracle\", \"oracle\", \"oracle\", \"oracle\", \"oracle\", \"orbit\", \"orbit\", \"orbit\", \"orbit\", \"orbit\", \"order\", \"order\", \"order\", \"order\", \"order\", \"order\", \"order\", \"ordering\", \"ordering\", \"ordering\", \"ordering\", \"oscine\", \"oscine\", \"oscine\", \"oscine\", \"output\", \"output\", \"output\", \"output\", \"output\", \"output\", \"output\", \"overlay\", \"overlay\", \"overlay\", \"overlay\", \"paradox\", \"paradox\", \"paradox\", \"parameter\", \"parameter\", \"parameter\", \"parameter\", \"parameter\", \"parameter\", \"pare\", \"pare\", \"pare\", \"partial_ranking\", \"partial_ranking\", \"partial_ranking\", \"partial_ranking\", \"participant\", \"participant\", \"participant\", \"particle_filter\", \"particle_filter\", \"particle_filter\", \"partition\", \"partition\", \"partition\", \"partition\", \"patient\", \"patient\", \"patient\", \"pattern\", \"pattern\", \"pattern\", \"pattern\", \"pattern\", \"performer\", \"performer\", \"performer\", \"permeability\", \"permeability\", \"permeability\", \"permeability\", \"permutation\", \"permutation\", \"permutation\", \"permutation\", \"pivoting\", \"pivoting\", \"pivoting\", \"pixel\", \"pixel\", \"pixel\", \"pixel\", \"pna\", \"pna\", \"pna\", \"point\", \"point\", \"point\", \"point\", \"point\", \"point\", \"pointwise\", \"pointwise\", \"pointwise\", \"pointwise\", \"policy\", \"policy\", \"policy\", \"policy\", \"policy\", \"policy_switching\", \"policy_switching\", \"policy_switching\", \"policy_switching\", \"port\", \"port\", \"port\", \"port\", \"posterior\", \"posterior\", \"posterior\", \"posterior\", \"posterior\", \"potassium\", \"potassium\", \"potassium\", \"potassium\", \"potential\", \"potential\", \"potential\", \"potential\", \"potential\", \"power\", \"power\", \"power\", \"power\", \"power\", \"power\", \"power\", \"power_law\", \"power_law\", \"power_law\", \"power_law\", \"predictor\", \"predictor\", \"predictor\", \"predictor\", \"premature\", \"premature\", \"premature\", \"prescriptive\", \"prescriptive\", \"prescriptive\", \"primal\", \"primal\", \"primal\", \"primal\", \"primal\", \"prior\", \"prior\", \"prior\", \"prior\", \"prior\", \"probability\", \"probability\", \"probability\", \"probability\", \"probability\", \"probability\", \"problem\", \"problem\", \"problem\", \"problem\", \"problem\", \"problem\", \"produce\", \"produce\", \"produce\", \"produce\", \"produce\", \"produce\", \"produce\", \"production\", \"production\", \"production\", \"production\", \"production\", \"proof\", \"proof\", \"proof\", \"proof\", \"proposal\", \"proposal\", \"proposal\", \"protein\", \"protein\", \"protein\", \"protein\", \"prototype\", \"prototype\", \"prototype\", \"prove\", \"prove\", \"prove\", \"prove\", \"prove\", \"prove\", \"prune\", \"prune\", \"prune\", \"prune\", \"pubfig\", \"pubfig\", \"pubfig\", \"pubfig\", \"pull\", \"pull\", \"pull\", \"purposefully\", \"purposefully\", \"purposefully\", \"quadrant\", \"quadrant\", \"quadrant\", \"quadrant\", \"query\", \"query\", \"query\", \"query\", \"racetrack\", \"racetrack\", \"racetrack\", \"racetrack\", \"rank\", \"rank\", \"rank\", \"rank\", \"ranking\", \"ranking\", \"ranking\", \"ranking\", \"rate\", \"rate\", \"rate\", \"rate\", \"rate\", \"rate\", \"rdp\", \"rdp\", \"rdp\", \"realizable_case\", \"realizable_case\", \"realizable_case\", \"realizable_case\", \"realization\", \"realization\", \"realization\", \"realization\", \"recognition\", \"recognition\", \"recognition\", \"recognition\", \"recognition\", \"recognition\", \"rectifier\", \"rectifier\", \"rectifier\", \"reduced_cost\", \"reduced_cost\", \"reduced_cost\", \"reduced_cost\", \"reducedcost\", \"reducedcost\", \"reducedcost\", \"reevaluation\", \"reevaluation\", \"reevaluation\", \"reevaluation\", \"refinement\", \"refinement\", \"refinement\", \"refinement\", \"regenerate\", \"regenerate\", \"regenerate\", \"regenerate\", \"regression\", \"regression\", \"regression\", \"regression\", \"regret\", \"regret\", \"regret\", \"regret\", \"reshape\", \"reshape\", \"reshape\", \"resolution\", \"resolution\", \"resolution\", \"restricted_lp\", \"restricted_lp\", \"restricted_lp\", \"result\", \"result\", \"result\", \"result\", \"result\", \"result\", \"result\", \"resurgence\", \"resurgence\", \"resurgence\", \"resurgence\", \"rmin\", \"rmin\", \"rmin\", \"rmin\", \"robot\", \"robot\", \"robot\", \"robot\", \"round\", \"round\", \"round\", \"round\", \"route\", \"route\", \"route\", \"route\", \"router\", \"router\", \"router\", \"router\", \"rule\", \"rule\", \"rule\", \"rule\", \"run\", \"run\", \"run\", \"run\", \"run\", \"safe\", \"safe\", \"safe\", \"safe\", \"safe_execution\", \"safe_execution\", \"safe_execution\", \"safe_execution\", \"safeness\", \"safeness\", \"safeness\", \"safeness\", \"sample\", \"sample\", \"sample\", \"sample\", \"sample\", \"sample\", \"sample\", \"sampling\", \"sampling\", \"sampling\", \"sampling\", \"sampling\", \"schedule\", \"schedule\", \"schedule\", \"schedule\", \"scheduler\", \"scheduler\", \"scheduler\", \"scheduler\", \"scheduling\", \"scheduling\", \"scheduling\", \"scheduling\", \"secular\", \"secular\", \"secular\", \"see\", \"see\", \"see\", \"see\", \"see\", \"see\", \"segment\", \"segment\", \"segment\", \"segmentation\", \"segmentation\", \"segmentation\", \"select\", \"select\", \"select\", \"select\", \"select\", \"select\", \"selectbatch\", \"selectbatch\", \"selectbatch\", \"selectbatch\", \"separator\", \"separator\", \"separator\", \"separator\", \"set\", \"set\", \"set\", \"set\", \"set\", \"set\", \"set\", \"shekel\", \"shekel\", \"shekel\", \"show\", \"show\", \"show\", \"show\", \"show\", \"show\", \"show\", \"signature\", \"signature\", \"signature\", \"signature\", \"silent\", \"silent\", \"silent\", \"silent\", \"silent\", \"similarity\", \"similarity\", \"similarity\", \"similarity\", \"simulation\", \"simulation\", \"simulation\", \"simulation\", \"simulation\", \"simulation\", \"simulation\", \"sodium\", \"sodium\", \"sodium\", \"sodium\", \"song\", \"song\", \"song\", \"song\", \"sontag\", \"sontag\", \"sontag\", \"space\", \"space\", \"space\", \"space\", \"space\", \"space\", \"space\", \"spatial_frequency\", \"spatial_frequency\", \"spatial_frequency\", \"speech\", \"speech\", \"speech\", \"speech\", \"spherical\", \"spherical\", \"spherical\", \"spherical\", \"spike\", \"spike\", \"spike\", \"spike\", \"spike\", \"spike\", \"spiking\", \"spiking\", \"spiking\", \"spiking\", \"spiking\", \"spiking\", \"ssgpr\", \"ssgpr\", \"ssgpr\", \"ssl\", \"ssl\", \"ssl\", \"stage\", \"stage\", \"stage\", \"stage\", \"stage\", \"stage\", \"stage\", \"start\", \"start\", \"start\", \"start\", \"start\", \"start\", \"state\", \"state\", \"state\", \"state\", \"state\", \"state\", \"state\", \"stochastic\", \"stochastic\", \"stochastic\", \"stochastic\", \"stochastic\", \"stochastic\", \"subgraph\", \"subgraph\", \"subgraph\", \"submodular\", \"submodular\", \"submodular\", \"submodular\", \"submodular_wrt\", \"submodular_wrt\", \"submodular_wrt\", \"submodular_wrt\", \"submodularity\", \"submodularity\", \"submodularity\", \"submodularity\", \"subthreshold\", \"subthreshold\", \"subthreshold\", \"subthreshold\", \"summary\", \"summary\", \"summary\", \"syllable\", \"syllable\", \"syllable\", \"syllable\", \"system\", \"system\", \"system\", \"system\", \"system\", \"system\", \"szeg\", \"szeg\", \"szeg\", \"target_excess\", \"target_excess\", \"target_excess\", \"target_excess\", \"task\", \"task\", \"task\", \"task\", \"task\", \"template\", \"template\", \"template\", \"template\", \"temporal\", \"temporal\", \"temporal\", \"temporal\", \"temporal\", \"test\", \"test\", \"test\", \"test\", \"test\", \"text\", \"text\", \"text\", \"text\", \"texton\", \"texton\", \"texton\", \"texture\", \"texture\", \"texture\", \"texture\", \"thalamocortical\", \"thalamocortical\", \"thalamocortical\", \"theorem\", \"theorem\", \"theorem\", \"theorem\", \"theorem\", \"theorem\", \"thurstonian\", \"thurstonian\", \"thurstonian\", \"tightly\", \"tightly\", \"tightly\", \"tightly_balance\", \"tightly_balance\", \"tightly_balance\", \"tightly_balance\", \"time\", \"time\", \"time\", \"time\", \"time\", \"time\", \"time\", \"topic\", \"topic\", \"topic\", \"topic\", \"topological\", \"topological\", \"topological\", \"topological\", \"topological\", \"topologically\", \"topologically\", \"topologically\", \"topologically\", \"train\", \"train\", \"train\", \"train\", \"train\", \"train\", \"training\", \"training\", \"training\", \"training\", \"training\", \"training\", \"transfer\", \"transfer\", \"transfer\", \"transformation\", \"transformation\", \"transformation\", \"transformation\", \"transformation\", \"transiently\", \"transiently\", \"transiently\", \"transiently\", \"transistor\", \"transistor\", \"transistor\", \"transistor\", \"tree\", \"tree\", \"tree\", \"tree\", \"tree\", \"triangulate\", \"triangulate\", \"triangulate\", \"tuning_curve\", \"tuning_curve\", \"tuning_curve\", \"tuning_curve\", \"tuning_curve\", \"unchorded\", \"unchorded\", \"unchorded\", \"unit\", \"unit\", \"unit\", \"unit\", \"unit\", \"unlabelle\", \"unlabelle\", \"unlabelle\", \"unlabelle\", \"update\", \"update\", \"update\", \"update\", \"update\", \"update\", \"use\", \"use\", \"use\", \"use\", \"use\", \"use\", \"use\", \"utility\", \"utility\", \"utility\", \"utility\", \"validation\", \"validation\", \"validation\", \"validation\", \"value\", \"value\", \"value\", \"value\", \"value\", \"value\", \"value\", \"variable\", \"variable\", \"variable\", \"variable\", \"variable\", \"variable\", \"variance\", \"variance\", \"variance\", \"variance\", \"vector\", \"vector\", \"vector\", \"vector\", \"vector\", \"vector\", \"vector\", \"vertex\", \"vertex\", \"vertex\", \"vi_vj\", \"vi_vj\", \"vi_vj\", \"vij\", \"vij\", \"vij\", \"visible\", \"visible\", \"visible\", \"visible\", \"visible\", \"visual\", \"visual\", \"visual\", \"viterbi\", \"viterbi\", \"viterbi\", \"viterbi\", \"viterbi\", \"voltage\", \"voltage\", \"voltage\", \"voltage\", \"voltage\", \"voltage_dependent\", \"voltage_dependent\", \"voltage_dependent\", \"voltage_dependent\", \"wavelet\", \"wavelet\", \"wavelet\", \"widerange\", \"widerange\", \"widerange\", \"wild\", \"wild\", \"wild\", \"wild\", \"wisdom\", \"wisdom\", \"wisdom\", \"wolfe\", \"wolfe\", \"wolfe\", \"worker\", \"worker\", \"worker\", \"worker\", \"world\", \"world\", \"world\", \"wt\", \"wt\", \"wt\"]}, \"R\": 30, \"lambda.step\": 0.01, \"plot.opts\": {\"xlab\": \"PC1\", \"ylab\": \"PC2\"}, \"topic.order\": [5, 7, 4, 6, 3, 8, 2, 1]};\n",
       "\n",
       "function LDAvis_load_lib(url, callback){\n",
       "  var s = document.createElement('script');\n",
       "  s.src = url;\n",
       "  s.async = true;\n",
       "  s.onreadystatechange = s.onload = callback;\n",
       "  s.onerror = function(){console.warn(\"failed to load library \" + url);};\n",
       "  document.getElementsByTagName(\"head\")[0].appendChild(s);\n",
       "}\n",
       "\n",
       "if(typeof(LDAvis) !== \"undefined\"){\n",
       "   // already loaded: just create the visualization\n",
       "   !function(LDAvis){\n",
       "       new LDAvis(\"#\" + \"ldavis_el885214833913745362271077515\", ldavis_el885214833913745362271077515_data);\n",
       "   }(LDAvis);\n",
       "}else if(typeof define === \"function\" && define.amd){\n",
       "   // require.js is available: use it to load d3/LDAvis\n",
       "   require.config({paths: {d3: \"https://cdnjs.cloudflare.com/ajax/libs/d3/3.5.5/d3.min\"}});\n",
       "   require([\"d3\"], function(d3){\n",
       "      window.d3 = d3;\n",
       "      LDAvis_load_lib(\"https://cdn.rawgit.com/bmabey/pyLDAvis/files/ldavis.v1.0.0.js\", function(){\n",
       "        new LDAvis(\"#\" + \"ldavis_el885214833913745362271077515\", ldavis_el885214833913745362271077515_data);\n",
       "      });\n",
       "    });\n",
       "}else{\n",
       "    // require.js not available: dynamically load d3 & LDAvis\n",
       "    LDAvis_load_lib(\"https://cdnjs.cloudflare.com/ajax/libs/d3/3.5.5/d3.min.js\", function(){\n",
       "         LDAvis_load_lib(\"https://cdn.rawgit.com/bmabey/pyLDAvis/files/ldavis.v1.0.0.js\", function(){\n",
       "                 new LDAvis(\"#\" + \"ldavis_el885214833913745362271077515\", ldavis_el885214833913745362271077515_data);\n",
       "            })\n",
       "         });\n",
       "}\n",
       "</script>"
      ],
      "text/plain": [
       "PreparedData(topic_coordinates=              x         y  topics  cluster       Freq\n",
       "topic                                                \n",
       "4      0.165930  0.029427       1        1  64.063240\n",
       "6      0.092651 -0.005703       2        1  15.418943\n",
       "3      0.067401 -0.023068       3        1  11.029826\n",
       "5      0.011218 -0.043000       4        1   4.514937\n",
       "2     -0.071047  0.062812       5        1   2.156259\n",
       "7     -0.054756 -0.009715       6        1   1.448881\n",
       "1     -0.088941  0.008854       7        1   1.367326\n",
       "0     -0.122456 -0.019606       8        1   0.000576, topic_info=             Term         Freq        Total Category  logprob  loglift\n",
       "229       network   768.000000   768.000000  Default  30.0000  30.0000\n",
       "533    experiment   399.000000   399.000000  Default  29.0000  29.0000\n",
       "312           set  1252.000000  1252.000000  Default  28.0000  28.0000\n",
       "218         model  1759.000000  1759.000000  Default  27.0000  27.0000\n",
       "230        neural   341.000000   341.000000  Default  26.0000  26.0000\n",
       "...           ...          ...          ...      ...      ...      ...\n",
       "420          base     0.000152   678.984314   Topic8  -8.7927  -3.2485\n",
       "50           case     0.000148   406.610626   Topic8  -8.8208  -2.7638\n",
       "836      training     0.000148   443.589996   Topic8  -8.8197  -2.8497\n",
       "315          show     0.000149   875.909485   Topic8  -8.8120  -3.5224\n",
       "1182  probability     0.000147   479.767792   Topic8  -8.8241  -2.9326\n",
       "\n",
       "[577 rows x 6 columns], token_table=      Topic      Freq      Term\n",
       "term                           \n",
       "6905      1  0.286099  abolishe\n",
       "6905      2  0.286099  abolishe\n",
       "6905      3  0.286099  abolishe\n",
       "8149      1  0.163703   abstain\n",
       "8149      2  0.163703   abstain\n",
       "...     ...       ...       ...\n",
       "1330      2  0.036609     world\n",
       "1330      3  0.012203     world\n",
       "2981      1  0.060313        wt\n",
       "2981      2  0.844379        wt\n",
       "2981      3  0.060313        wt\n",
       "\n",
       "[1895 rows x 3 columns], R=30, lambda_step=0.01, plot_opts={'xlab': 'PC1', 'ylab': 'PC2'}, topic_order=[5, 7, 4, 6, 3, 8, 2, 1])"
      ]
     },
     "execution_count": 17,
     "metadata": {},
     "output_type": "execute_result"
    }
   ],
   "source": [
    "import pyLDAvis.gensim\n",
    "import pickle \n",
    "import pyLDAvis\n",
    "\n",
    "# Visualize the topics\n",
    "pyLDAvis.enable_notebook()\n",
    "\n",
    "LDAvis_prepared = pyLDAvis.gensim.prepare(lda_model, corpus, id2word)\n",
    "\n",
    "LDAvis_prepared"
   ]
  },
  {
   "cell_type": "code",
   "execution_count": null,
   "metadata": {},
   "outputs": [],
   "source": []
  }
 ],
 "metadata": {
  "kernelspec": {
   "display_name": "Python 3",
   "language": "python",
   "name": "python3"
  },
  "language_info": {
   "codemirror_mode": {
    "name": "ipython",
    "version": 3
   },
   "file_extension": ".py",
   "mimetype": "text/x-python",
   "name": "python",
   "nbconvert_exporter": "python",
   "pygments_lexer": "ipython3",
   "version": "3.7.6"
  }
 },
 "nbformat": 4,
 "nbformat_minor": 4
}

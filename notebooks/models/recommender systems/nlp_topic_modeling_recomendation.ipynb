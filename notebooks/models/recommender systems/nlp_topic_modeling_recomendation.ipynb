{
 "cells": [
  {
   "cell_type": "markdown",
   "metadata": {
    "colab_type": "text",
    "id": "Ug0ZdoCQ8v_-"
   },
   "source": [
    "# Sistemas Recomendadores: Content based"
   ]
  },
  {
   "cell_type": "markdown",
   "metadata": {
    "colab_type": "text",
    "id": "8VO7sT3xSI9G"
   },
   "source": [
    "Germán Cheuque"
   ]
  },
  {
   "cell_type": "markdown",
   "metadata": {
    "colab_type": "text",
    "id": "QYb_yqvJ9Azs"
   },
   "source": [
    "## Setup"
   ]
  },
  {
   "cell_type": "markdown",
   "metadata": {
    "colab_type": "text",
    "id": "uDf4Fq2sVXoe"
   },
   "source": [
    "**Paso 1:** Descarga de archivos que serán utilizados posteriormente.\n",
    "\n",
    "*   Recursos:\n",
    "  * `dictionary.p`\n",
    "  * `dictionary-stemm.p`\n",
    "  * `tfidf_model.p`\n",
    "  * `tfidf_model-stemm.p`\n",
    "*   Dataset:\n",
    "  *  `corpus1.csv`"
   ]
  },
  {
   "cell_type": "code",
   "execution_count": null,
   "metadata": {
    "colab": {
     "base_uri": "https://localhost:8080/",
     "height": 199
    },
    "colab_type": "code",
    "id": "nAU2KqtbO-H0",
    "outputId": "9dd76423-b2aa-4866-950a-4d45a47f8b79"
   },
   "outputs": [],
   "source": [
    "# Descarga de recursos\n",
    "!curl -L -o 'resources.tar.gz' 'https://github.com/PUC-RecSys-Class/Syllabus/blob/master/Practico%204/files/resources.tar.gz?raw=true'\n",
    "\n",
    "# Descompresión del archivo\n",
    "!tar -xvf resources.tar.gz"
   ]
  },
  {
   "cell_type": "code",
   "execution_count": 2,
   "metadata": {
    "colab": {
     "base_uri": "https://localhost:8080/",
     "height": 145
    },
    "colab_type": "code",
    "id": "Oe-uwhdrQflY",
    "outputId": "e6825688-1527-48c8-b938-b0a82477c116"
   },
   "outputs": [
    {
     "name": "stdout",
     "output_type": "stream",
     "text": [
      "  % Total    % Received % Xferd  Average Speed   Time    Time     Time  Current\r\n",
      "                                 Dload  Upload   Total   Spent    Left  Speed\n",
      "100   155    0   155    0     0    155      0 --:--:-- --:--:-- --:--:--   315\n",
      "100   166  100   166    0     0    166      0  0:00:01 --:--:--  0:00:01  162k\n",
      "100 3117k  100 3117k    0     0  3117k      0  0:00:01  0:00:01 --:--:-- 3117k\n",
      "./._corpus1.csv\n",
      "corpus1.csv\n"
     ]
    }
   ],
   "source": [
    "# Descarga del dataset\n",
    "!curl -L -o 'dataset.tar.gz' 'https://github.com/PUC-RecSys-Class/Syllabus/blob/master/Practico%204/files/dataset.tar.gz?raw=true'\n",
    "\n",
    "# Descompresión del archivo\n",
    "!tar -xvf dataset.tar.gz"
   ]
  },
  {
   "cell_type": "markdown",
   "metadata": {
    "colab_type": "text",
    "id": "C38vKnWX9CFM"
   },
   "source": [
    "**Paso 2:** Para este práctico es necesario instalar las siguentes dependencias:"
   ]
  },
  {
   "cell_type": "code",
   "execution_count": 3,
   "metadata": {
    "colab": {
     "base_uri": "https://localhost:8080/",
     "height": 1092
    },
    "colab_type": "code",
    "id": "qrQao0AE9ZgV",
    "outputId": "3ab16a2a-8f91-46d4-95f1-1e1c66cbf1b1"
   },
   "outputs": [
    {
     "name": "stdout",
     "output_type": "stream",
     "text": [
      "Requirement already satisfied: nltk in /usr/local/lib/python3.6/dist-packages (3.2.5)\n",
      "Requirement already satisfied: six in /usr/local/lib/python3.6/dist-packages (from nltk) (1.11.0)\n",
      "Collecting sklearn\n",
      "  Downloading https://files.pythonhosted.org/packages/1e/7a/dbb3be0ce9bd5c8b7e3d87328e79063f8b263b2b1bfa4774cb1147bfcd3f/sklearn-0.0.tar.gz\n",
      "Requirement already satisfied: scikit-learn in /usr/local/lib/python3.6/dist-packages (from sklearn) (0.19.2)\n",
      "Building wheels for collected packages: sklearn\n",
      "  Running setup.py bdist_wheel for sklearn ... \u001b[?25l-\b \bdone\n",
      "\u001b[?25h  Stored in directory: /root/.cache/pip/wheels/76/03/bb/589d421d27431bcd2c6da284d5f2286c8e3b2ea3cf1594c074\n",
      "Successfully built sklearn\n",
      "Installing collected packages: sklearn\n",
      "Successfully installed sklearn-0.0\n",
      "Collecting gensim\n",
      "\u001b[?25l  Downloading https://files.pythonhosted.org/packages/86/f3/37504f07651330ddfdefa631ca5246974a60d0908216539efda842fd080f/gensim-3.5.0-cp36-cp36m-manylinux1_x86_64.whl (23.5MB)\n",
      "\u001b[K    100% |████████████████████████████████| 23.5MB 580kB/s \n",
      "\u001b[?25hRequirement already satisfied: six>=1.5.0 in /usr/local/lib/python3.6/dist-packages (from gensim) (1.11.0)\n",
      "Collecting smart-open>=1.2.1 (from gensim)\n",
      "  Downloading https://files.pythonhosted.org/packages/cf/3d/5f3a9a296d0ba8e00e263a8dee76762076b9eb5ddc254ccaa834651c8d65/smart_open-1.6.0.tar.gz\n",
      "Requirement already satisfied: numpy>=1.11.3 in /usr/local/lib/python3.6/dist-packages (from gensim) (1.14.5)\n",
      "Requirement already satisfied: scipy>=0.18.1 in /usr/local/lib/python3.6/dist-packages (from gensim) (0.19.1)\n",
      "Collecting boto>=2.32 (from smart-open>=1.2.1->gensim)\n",
      "\u001b[?25l  Downloading https://files.pythonhosted.org/packages/23/10/c0b78c27298029e4454a472a1919bde20cb182dab1662cec7f2ca1dcc523/boto-2.49.0-py2.py3-none-any.whl (1.4MB)\n",
      "\u001b[K    100% |████████████████████████████████| 1.4MB 12.0MB/s \n",
      "\u001b[?25hCollecting bz2file (from smart-open>=1.2.1->gensim)\n",
      "  Downloading https://files.pythonhosted.org/packages/61/39/122222b5e85cd41c391b68a99ee296584b2a2d1d233e7ee32b4532384f2d/bz2file-0.98.tar.gz\n",
      "Requirement already satisfied: requests in /usr/local/lib/python3.6/dist-packages (from smart-open>=1.2.1->gensim) (2.18.4)\n",
      "Collecting boto3 (from smart-open>=1.2.1->gensim)\n",
      "\u001b[?25l  Downloading https://files.pythonhosted.org/packages/a8/45/810f786ce144bfd19d9f2f700a8cd4358435559a2b88b2c235f7bb3f29df/boto3-1.8.6-py2.py3-none-any.whl (128kB)\n",
      "\u001b[K    100% |████████████████████████████████| 133kB 18.7MB/s \n",
      "\u001b[?25hRequirement already satisfied: chardet<3.1.0,>=3.0.2 in /usr/local/lib/python3.6/dist-packages (from requests->smart-open>=1.2.1->gensim) (3.0.4)\n",
      "Requirement already satisfied: urllib3<1.23,>=1.21.1 in /usr/local/lib/python3.6/dist-packages (from requests->smart-open>=1.2.1->gensim) (1.22)\n",
      "Requirement already satisfied: certifi>=2017.4.17 in /usr/local/lib/python3.6/dist-packages (from requests->smart-open>=1.2.1->gensim) (2018.8.24)\n",
      "Requirement already satisfied: idna<2.7,>=2.5 in /usr/local/lib/python3.6/dist-packages (from requests->smart-open>=1.2.1->gensim) (2.6)\n",
      "Collecting jmespath<1.0.0,>=0.7.1 (from boto3->smart-open>=1.2.1->gensim)\n",
      "  Downloading https://files.pythonhosted.org/packages/b7/31/05c8d001f7f87f0f07289a5fc0fc3832e9a57f2dbd4d3b0fee70e0d51365/jmespath-0.9.3-py2.py3-none-any.whl\n",
      "Collecting botocore<1.12.0,>=1.11.6 (from boto3->smart-open>=1.2.1->gensim)\n",
      "\u001b[?25l  Downloading https://files.pythonhosted.org/packages/52/86/73e2825c9f452f6ea7ebbd715aa4621eb1f5d5e51e37cd2019437535909c/botocore-1.11.6-py2.py3-none-any.whl (4.6MB)\n",
      "\u001b[K    100% |████████████████████████████████| 4.6MB 5.6MB/s \n",
      "\u001b[?25hCollecting s3transfer<0.2.0,>=0.1.10 (from boto3->smart-open>=1.2.1->gensim)\n",
      "\u001b[?25l  Downloading https://files.pythonhosted.org/packages/d7/14/2a0004d487464d120c9fb85313a75cd3d71a7506955be458eebfe19a6b1d/s3transfer-0.1.13-py2.py3-none-any.whl (59kB)\n",
      "\u001b[K    100% |████████████████████████████████| 61kB 14.4MB/s \n",
      "\u001b[?25hCollecting docutils>=0.10 (from botocore<1.12.0,>=1.11.6->boto3->smart-open>=1.2.1->gensim)\n",
      "\u001b[?25l  Downloading https://files.pythonhosted.org/packages/36/fa/08e9e6e0e3cbd1d362c3bbee8d01d0aedb2155c4ac112b19ef3cae8eed8d/docutils-0.14-py3-none-any.whl (543kB)\n",
      "\u001b[K    100% |████████████████████████████████| 552kB 19.4MB/s \n",
      "\u001b[?25hRequirement already satisfied: python-dateutil<3.0.0,>=2.1; python_version >= \"2.7\" in /usr/local/lib/python3.6/dist-packages (from botocore<1.12.0,>=1.11.6->boto3->smart-open>=1.2.1->gensim) (2.5.3)\n",
      "Building wheels for collected packages: smart-open, bz2file\n",
      "  Running setup.py bdist_wheel for smart-open ... \u001b[?25l-\b \b\\\b \bdone\n",
      "\u001b[?25h  Stored in directory: /root/.cache/pip/wheels/73/f1/9b/ccf93d4ba073b6f79b1ed9df68ab5ce048d8136d0efcf90b30\n",
      "  Running setup.py bdist_wheel for bz2file ... \u001b[?25l-\b \bdone\n",
      "\u001b[?25h  Stored in directory: /root/.cache/pip/wheels/81/75/d6/e1317bf09bf1af5a30befc2a007869fa6e1f516b8f7c591cb9\n",
      "Successfully built smart-open bz2file\n",
      "Installing collected packages: boto, bz2file, jmespath, docutils, botocore, s3transfer, boto3, smart-open, gensim\n",
      "Successfully installed boto-2.49.0 boto3-1.8.6 botocore-1.11.6 bz2file-0.98 docutils-0.14 gensim-3.5.0 jmespath-0.9.3 s3transfer-0.1.13 smart-open-1.6.0\n",
      "Requirement already satisfied: pandas in /usr/local/lib/python3.6/dist-packages (0.22.0)\n",
      "Requirement already satisfied: python-dateutil>=2 in /usr/local/lib/python3.6/dist-packages (from pandas) (2.5.3)\n",
      "Requirement already satisfied: pytz>=2011k in /usr/local/lib/python3.6/dist-packages (from pandas) (2018.5)\n",
      "Requirement already satisfied: numpy>=1.9.0 in /usr/local/lib/python3.6/dist-packages (from pandas) (1.14.5)\n",
      "Requirement already satisfied: six>=1.5 in /usr/local/lib/python3.6/dist-packages (from python-dateutil>=2->pandas) (1.11.0)\n",
      "Requirement already satisfied: numpy in /usr/local/lib/python3.6/dist-packages (1.14.5)\n"
     ]
    }
   ],
   "source": [
    "!pip install nltk\n",
    "!pip install sklearn\n",
    "!pip install gensim\n",
    "!pip install pandas\n",
    "!pip install numpy"
   ]
  },
  {
   "cell_type": "code",
   "execution_count": 0,
   "metadata": {
    "colab": {},
    "colab_type": "code",
    "id": "gj38t3yY9dMW"
   },
   "outputs": [],
   "source": [
    "import string\n",
    "\n",
    "import gensim\n",
    "import nltk\n",
    "import numpy as np\n",
    "import pandas as pd\n",
    "import sklearn\n",
    "\n",
    "from collections import Counter\n",
    "from os.path import isfile\n",
    "from textwrap import wrap\n",
    "\n",
    "from gensim import corpora, models, similarities\n",
    "from nltk.corpus import stopwords\n",
    "from nltk.stem.porter import PorterStemmer\n",
    "from scipy.sparse import csr_matrix\n",
    "from sklearn.neighbors import NearestNeighbors\n",
    "from sklearn.feature_extraction.text import TfidfVectorizer\n",
    "from sklearn.decomposition import NMF"
   ]
  },
  {
   "cell_type": "markdown",
   "metadata": {
    "colab_type": "text",
    "id": "PUYnjZ1yOY-A"
   },
   "source": [
    "## Preprocesamiento de datos"
   ]
  },
  {
   "cell_type": "markdown",
   "metadata": {
    "colab_type": "text",
    "id": "me-LXrP2Ocjc"
   },
   "source": [
    "Lo primero es descargar las librerías de NLTK necesarias:"
   ]
  },
  {
   "cell_type": "code",
   "execution_count": 5,
   "metadata": {
    "colab": {
     "base_uri": "https://localhost:8080/",
     "height": 72
    },
    "colab_type": "code",
    "id": "1Ru8N7mZ9exU",
    "outputId": "7233cb07-51f6-4efa-edd2-d1c99db47130"
   },
   "outputs": [
    {
     "name": "stdout",
     "output_type": "stream",
     "text": [
      "[nltk_data] Downloading package punkt to /root/nltk_data...\n",
      "[nltk_data]   Unzipping tokenizers/punkt.zip.\n"
     ]
    },
    {
     "data": {
      "text/plain": [
       "True"
      ]
     },
     "execution_count": 5,
     "metadata": {
      "tags": []
     },
     "output_type": "execute_result"
    }
   ],
   "source": [
    "nltk.download('punkt')"
   ]
  },
  {
   "cell_type": "markdown",
   "metadata": {
    "colab_type": "text",
    "id": "zUzN9tQTQf2k"
   },
   "source": [
    "Para comenzar cargaremos el set de datos en un *dataframe* de Pandas, e imprimimos los 5 primeros registros para visualizar la estructura de los datos."
   ]
  },
  {
   "cell_type": "code",
   "execution_count": 6,
   "metadata": {
    "colab": {
     "base_uri": "https://localhost:8080/",
     "height": 198
    },
    "colab_type": "code",
    "id": "yk2PJqkW92Ha",
    "outputId": "b387a98c-ba11-4fde-9da8-8d310b20c731"
   },
   "outputs": [
    {
     "data": {
      "text/html": [
       "<div>\n",
       "<style scoped>\n",
       "    .dataframe tbody tr th:only-of-type {\n",
       "        vertical-align: middle;\n",
       "    }\n",
       "\n",
       "    .dataframe tbody tr th {\n",
       "        vertical-align: top;\n",
       "    }\n",
       "\n",
       "    .dataframe thead th {\n",
       "        text-align: right;\n",
       "    }\n",
       "</style>\n",
       "<table border=\"1\" class=\"dataframe\">\n",
       "  <thead>\n",
       "    <tr style=\"text-align: right;\">\n",
       "      <th></th>\n",
       "      <th>id</th>\n",
       "      <th>title</th>\n",
       "      <th>abstract</th>\n",
       "    </tr>\n",
       "  </thead>\n",
       "  <tbody>\n",
       "    <tr>\n",
       "      <th>0</th>\n",
       "      <td>100002</td>\n",
       "      <td>Nonlinear Shape Statistics in Mumford{Shah Bas...</td>\n",
       "      <td>We present a variational integration of nonlin...</td>\n",
       "    </tr>\n",
       "    <tr>\n",
       "      <th>1</th>\n",
       "      <td>100007</td>\n",
       "      <td>On the Complexity of Equilibria</td>\n",
       "      <td>We prove complexity, approximability, and inap...</td>\n",
       "    </tr>\n",
       "    <tr>\n",
       "      <th>2</th>\n",
       "      <td>100008</td>\n",
       "      <td>On QoS-Aware Publish-Subscribe</td>\n",
       "      <td>This position paper addresses the issue of sup...</td>\n",
       "    </tr>\n",
       "    <tr>\n",
       "      <th>3</th>\n",
       "      <td>10001</td>\n",
       "      <td>Checking Mergeable Priority Queues</td>\n",
       "      <td>We present an efficient algorithm which can ch...</td>\n",
       "    </tr>\n",
       "    <tr>\n",
       "      <th>4</th>\n",
       "      <td>100012</td>\n",
       "      <td>Mobile Code Security by Java Bytecode Instrume...</td>\n",
       "      <td>Mobile code provides significant opportunities...</td>\n",
       "    </tr>\n",
       "  </tbody>\n",
       "</table>\n",
       "</div>"
      ],
      "text/plain": [
       "       id                                              title  \\\n",
       "0  100002  Nonlinear Shape Statistics in Mumford{Shah Bas...   \n",
       "1  100007                    On the Complexity of Equilibria   \n",
       "2  100008                     On QoS-Aware Publish-Subscribe   \n",
       "3   10001                 Checking Mergeable Priority Queues   \n",
       "4  100012  Mobile Code Security by Java Bytecode Instrume...   \n",
       "\n",
       "                                            abstract  \n",
       "0  We present a variational integration of nonlin...  \n",
       "1  We prove complexity, approximability, and inap...  \n",
       "2  This position paper addresses the issue of sup...  \n",
       "3  We present an efficient algorithm which can ch...  \n",
       "4  Mobile code provides significant opportunities...  "
      ]
     },
     "execution_count": 6,
     "metadata": {
      "tags": []
     },
     "output_type": "execute_result"
    }
   ],
   "source": [
    "corpus_df = pd.read_csv('./corpus1.csv', sep='\\t',\n",
    "                        header=None, encoding='latin')\n",
    "corpus_df.columns = ['id', 'title', 'abstract']\n",
    "corpus_df = corpus_df[['id', 'title', 'abstract']]\n",
    "corpus_df.head(5)"
   ]
  },
  {
   "cell_type": "markdown",
   "metadata": {
    "colab_type": "text",
    "id": "2c2NWVPnQmFU"
   },
   "source": [
    "Lo siguiente es implementar una función que transforme texto no estructurado a una lista de *tokens* procesados."
   ]
  },
  {
   "cell_type": "code",
   "execution_count": 7,
   "metadata": {
    "colab": {
     "base_uri": "https://localhost:8080/",
     "height": 35
    },
    "colab_type": "code",
    "id": "PerFw5VF-kjf",
    "outputId": "670e92ad-15b6-4051-f87c-8775c0ec13ed"
   },
   "outputs": [
    {
     "data": {
      "text/plain": [
       "['im', 'a', 'super', 'student', 'for', 'recommender', 'systems']"
      ]
     },
     "execution_count": 7,
     "metadata": {
      "tags": []
     },
     "output_type": "execute_result"
    }
   ],
   "source": [
    "stemm = False\n",
    "stemmer = PorterStemmer()\n",
    "\n",
    "\n",
    "def get_tokens(text):\n",
    "    lowers = text.lower()\n",
    "    no_punctuation = lowers.translate(\n",
    "        {ord(c): None for c in string.punctuation})\n",
    "    tokens = nltk.word_tokenize(no_punctuation)\n",
    "    if stemm:\n",
    "        tokens = map(stemmer.stem, tokens)\n",
    "\n",
    "    return tokens\n",
    "\n",
    "\n",
    "get_tokens(\"I'm a super student for recommender systems!\")"
   ]
  },
  {
   "cell_type": "markdown",
   "metadata": {
    "colab_type": "text",
    "id": "5BuNyD3zRUrP"
   },
   "source": [
    "Ahora se tiene que generar un diccionario con todas las palabras del *corpus*. Se recomienda revisar la documentación de gensim y leer cómo usar los diccionarios: [corpora.dictionary](https://radimrehurek.com/gensim/corpora/dictionary.html)"
   ]
  },
  {
   "cell_type": "code",
   "execution_count": 8,
   "metadata": {
    "colab": {
     "base_uri": "https://localhost:8080/",
     "height": 198
    },
    "colab_type": "code",
    "id": "HRY9VYwk__HP",
    "outputId": "610f5de5-bd43-405c-ef01-91471309b033"
   },
   "outputs": [
    {
     "data": {
      "text/html": [
       "<div>\n",
       "<style scoped>\n",
       "    .dataframe tbody tr th:only-of-type {\n",
       "        vertical-align: middle;\n",
       "    }\n",
       "\n",
       "    .dataframe tbody tr th {\n",
       "        vertical-align: top;\n",
       "    }\n",
       "\n",
       "    .dataframe thead th {\n",
       "        text-align: right;\n",
       "    }\n",
       "</style>\n",
       "<table border=\"1\" class=\"dataframe\">\n",
       "  <thead>\n",
       "    <tr style=\"text-align: right;\">\n",
       "      <th></th>\n",
       "      <th>id</th>\n",
       "      <th>title</th>\n",
       "      <th>abstract</th>\n",
       "      <th>tokenized_abstract</th>\n",
       "    </tr>\n",
       "  </thead>\n",
       "  <tbody>\n",
       "    <tr>\n",
       "      <th>0</th>\n",
       "      <td>100002</td>\n",
       "      <td>Nonlinear Shape Statistics in Mumford{Shah Bas...</td>\n",
       "      <td>We present a variational integration of nonlin...</td>\n",
       "      <td>[we, present, a, variational, integration, of,...</td>\n",
       "    </tr>\n",
       "    <tr>\n",
       "      <th>1</th>\n",
       "      <td>100007</td>\n",
       "      <td>On the Complexity of Equilibria</td>\n",
       "      <td>We prove complexity, approximability, and inap...</td>\n",
       "      <td>[we, prove, complexity, approximability, and, ...</td>\n",
       "    </tr>\n",
       "    <tr>\n",
       "      <th>2</th>\n",
       "      <td>100008</td>\n",
       "      <td>On QoS-Aware Publish-Subscribe</td>\n",
       "      <td>This position paper addresses the issue of sup...</td>\n",
       "      <td>[this, position, paper, addresses, the, issue,...</td>\n",
       "    </tr>\n",
       "    <tr>\n",
       "      <th>3</th>\n",
       "      <td>10001</td>\n",
       "      <td>Checking Mergeable Priority Queues</td>\n",
       "      <td>We present an efficient algorithm which can ch...</td>\n",
       "      <td>[we, present, an, efficient, algorithm, which,...</td>\n",
       "    </tr>\n",
       "    <tr>\n",
       "      <th>4</th>\n",
       "      <td>100012</td>\n",
       "      <td>Mobile Code Security by Java Bytecode Instrume...</td>\n",
       "      <td>Mobile code provides significant opportunities...</td>\n",
       "      <td>[mobile, code, provides, significant, opportun...</td>\n",
       "    </tr>\n",
       "  </tbody>\n",
       "</table>\n",
       "</div>"
      ],
      "text/plain": [
       "       id                                              title  \\\n",
       "0  100002  Nonlinear Shape Statistics in Mumford{Shah Bas...   \n",
       "1  100007                    On the Complexity of Equilibria   \n",
       "2  100008                     On QoS-Aware Publish-Subscribe   \n",
       "3   10001                 Checking Mergeable Priority Queues   \n",
       "4  100012  Mobile Code Security by Java Bytecode Instrume...   \n",
       "\n",
       "                                            abstract  \\\n",
       "0  We present a variational integration of nonlin...   \n",
       "1  We prove complexity, approximability, and inap...   \n",
       "2  This position paper addresses the issue of sup...   \n",
       "3  We present an efficient algorithm which can ch...   \n",
       "4  Mobile code provides significant opportunities...   \n",
       "\n",
       "                                  tokenized_abstract  \n",
       "0  [we, present, a, variational, integration, of,...  \n",
       "1  [we, prove, complexity, approximability, and, ...  \n",
       "2  [this, position, paper, addresses, the, issue,...  \n",
       "3  [we, present, an, efficient, algorithm, which,...  \n",
       "4  [mobile, code, provides, significant, opportun...  "
      ]
     },
     "execution_count": 8,
     "metadata": {
      "tags": []
     },
     "output_type": "execute_result"
    }
   ],
   "source": [
    "dict_file = './resources/dictionary-stemm.p' if stemm else './resources/dictionary.p'\n",
    "if isfile(dict_file):\n",
    "    dictionary = corpora.dictionary.Dictionary().load(dict_file)\n",
    "else:\n",
    "    dictionary = corpora.dictionary.Dictionary(documents=corpus_df.tokenised_abstract.tolist())\n",
    "    dictionary.save(dict_file)\n",
    "    \n",
    "corpus_df['tokenized_abstract'] = corpus_df.abstract.map(get_tokens)\n",
    "corpus_df.head(5)"
   ]
  },
  {
   "cell_type": "code",
   "execution_count": 9,
   "metadata": {
    "colab": {
     "base_uri": "https://localhost:8080/",
     "height": 285
    },
    "colab_type": "code",
    "id": "M6QriWJKAMZn",
    "outputId": "06cd1caa-753d-495a-9dda-abc61944908d"
   },
   "outputs": [
    {
     "data": {
      "text/html": [
       "<div>\n",
       "<style scoped>\n",
       "    .dataframe tbody tr th:only-of-type {\n",
       "        vertical-align: middle;\n",
       "    }\n",
       "\n",
       "    .dataframe tbody tr th {\n",
       "        vertical-align: top;\n",
       "    }\n",
       "\n",
       "    .dataframe thead th {\n",
       "        text-align: right;\n",
       "    }\n",
       "</style>\n",
       "<table border=\"1\" class=\"dataframe\">\n",
       "  <thead>\n",
       "    <tr style=\"text-align: right;\">\n",
       "      <th></th>\n",
       "      <th>id</th>\n",
       "      <th>title</th>\n",
       "      <th>abstract</th>\n",
       "      <th>tokenized_abstract</th>\n",
       "      <th>bow</th>\n",
       "    </tr>\n",
       "  </thead>\n",
       "  <tbody>\n",
       "    <tr>\n",
       "      <th>0</th>\n",
       "      <td>100002</td>\n",
       "      <td>Nonlinear Shape Statistics in Mumford{Shah Bas...</td>\n",
       "      <td>We present a variational integration of nonlin...</td>\n",
       "      <td>[we, present, a, variational, integration, of,...</td>\n",
       "      <td>[(0, 1), (1, 1), (3, 1), (4, 1), (5, 1), (6, 1...</td>\n",
       "    </tr>\n",
       "    <tr>\n",
       "      <th>1</th>\n",
       "      <td>100007</td>\n",
       "      <td>On the Complexity of Equilibria</td>\n",
       "      <td>We prove complexity, approximability, and inap...</td>\n",
       "      <td>[we, prove, complexity, approximability, and, ...</td>\n",
       "      <td>[(4, 5), (7, 2), (8, 1), (10, 1), (30, 3), (35...</td>\n",
       "    </tr>\n",
       "    <tr>\n",
       "      <th>2</th>\n",
       "      <td>100008</td>\n",
       "      <td>On QoS-Aware Publish-Subscribe</td>\n",
       "      <td>This position paper addresses the issue of sup...</td>\n",
       "      <td>[this, position, paper, addresses, the, issue,...</td>\n",
       "      <td>[(1, 1), (4, 6), (7, 1), (16, 1), (22, 1), (27...</td>\n",
       "    </tr>\n",
       "    <tr>\n",
       "      <th>3</th>\n",
       "      <td>10001</td>\n",
       "      <td>Checking Mergeable Priority Queues</td>\n",
       "      <td>We present an efficient algorithm which can ch...</td>\n",
       "      <td>[we, present, an, efficient, algorithm, which,...</td>\n",
       "      <td>[(4, 7), (7, 2), (8, 1), (10, 1), (16, 1), (17...</td>\n",
       "    </tr>\n",
       "    <tr>\n",
       "      <th>4</th>\n",
       "      <td>100012</td>\n",
       "      <td>Mobile Code Security by Java Bytecode Instrume...</td>\n",
       "      <td>Mobile code provides significant opportunities...</td>\n",
       "      <td>[mobile, code, provides, significant, opportun...</td>\n",
       "      <td>[(4, 4), (5, 1), (7, 1), (10, 2), (16, 5), (22...</td>\n",
       "    </tr>\n",
       "  </tbody>\n",
       "</table>\n",
       "</div>"
      ],
      "text/plain": [
       "       id                                              title  \\\n",
       "0  100002  Nonlinear Shape Statistics in Mumford{Shah Bas...   \n",
       "1  100007                    On the Complexity of Equilibria   \n",
       "2  100008                     On QoS-Aware Publish-Subscribe   \n",
       "3   10001                 Checking Mergeable Priority Queues   \n",
       "4  100012  Mobile Code Security by Java Bytecode Instrume...   \n",
       "\n",
       "                                            abstract  \\\n",
       "0  We present a variational integration of nonlin...   \n",
       "1  We prove complexity, approximability, and inap...   \n",
       "2  This position paper addresses the issue of sup...   \n",
       "3  We present an efficient algorithm which can ch...   \n",
       "4  Mobile code provides significant opportunities...   \n",
       "\n",
       "                                  tokenized_abstract  \\\n",
       "0  [we, present, a, variational, integration, of,...   \n",
       "1  [we, prove, complexity, approximability, and, ...   \n",
       "2  [this, position, paper, addresses, the, issue,...   \n",
       "3  [we, present, an, efficient, algorithm, which,...   \n",
       "4  [mobile, code, provides, significant, opportun...   \n",
       "\n",
       "                                                 bow  \n",
       "0  [(0, 1), (1, 1), (3, 1), (4, 1), (5, 1), (6, 1...  \n",
       "1  [(4, 5), (7, 2), (8, 1), (10, 1), (30, 3), (35...  \n",
       "2  [(1, 1), (4, 6), (7, 1), (16, 1), (22, 1), (27...  \n",
       "3  [(4, 7), (7, 2), (8, 1), (10, 1), (16, 1), (17...  \n",
       "4  [(4, 4), (5, 1), (7, 1), (10, 2), (16, 5), (22...  "
      ]
     },
     "execution_count": 9,
     "metadata": {
      "tags": []
     },
     "output_type": "execute_result"
    }
   ],
   "source": [
    "corpus_df['bow'] = corpus_df.tokenized_abstract.map(dictionary.doc2bow)\n",
    "#del corpus_df['tokenized_abstract']\n",
    "corpus = corpus_df['bow'].tolist()\n",
    "corpus_df.head(5)"
   ]
  },
  {
   "cell_type": "markdown",
   "metadata": {
    "colab_type": "text",
    "id": "f23GriULTHgV"
   },
   "source": [
    "## Tf-idf"
   ]
  },
  {
   "cell_type": "markdown",
   "metadata": {
    "colab_type": "text",
    "id": "lQqcAAVrfwZw"
   },
   "source": [
    "Esto fue trabajado y comentado durante el último práctico:"
   ]
  },
  {
   "cell_type": "code",
   "execution_count": 10,
   "metadata": {
    "colab": {
     "base_uri": "https://localhost:8080/",
     "height": 285
    },
    "colab_type": "code",
    "id": "C7ju5n3xTKtj",
    "outputId": "940e1193-1635-432b-c4c4-469f077254e8"
   },
   "outputs": [
    {
     "data": {
      "text/html": [
       "<div>\n",
       "<style scoped>\n",
       "    .dataframe tbody tr th:only-of-type {\n",
       "        vertical-align: middle;\n",
       "    }\n",
       "\n",
       "    .dataframe tbody tr th {\n",
       "        vertical-align: top;\n",
       "    }\n",
       "\n",
       "    .dataframe thead th {\n",
       "        text-align: right;\n",
       "    }\n",
       "</style>\n",
       "<table border=\"1\" class=\"dataframe\">\n",
       "  <thead>\n",
       "    <tr style=\"text-align: right;\">\n",
       "      <th></th>\n",
       "      <th>id</th>\n",
       "      <th>title</th>\n",
       "      <th>abstract</th>\n",
       "      <th>tokenized_abstract</th>\n",
       "      <th>bow</th>\n",
       "      <th>tf_idf</th>\n",
       "    </tr>\n",
       "  </thead>\n",
       "  <tbody>\n",
       "    <tr>\n",
       "      <th>0</th>\n",
       "      <td>100002</td>\n",
       "      <td>Nonlinear Shape Statistics in Mumford{Shah Bas...</td>\n",
       "      <td>We present a variational integration of nonlin...</td>\n",
       "      <td>[we, present, a, variational, integration, of,...</td>\n",
       "      <td>[(0, 1), (1, 1), (3, 1), (4, 1), (5, 1), (6, 1...</td>\n",
       "      <td>[(0, 0.19689725999527163), (1, 0.0861613877917...</td>\n",
       "    </tr>\n",
       "    <tr>\n",
       "      <th>1</th>\n",
       "      <td>100007</td>\n",
       "      <td>On the Complexity of Equilibria</td>\n",
       "      <td>We prove complexity, approximability, and inap...</td>\n",
       "      <td>[we, prove, complexity, approximability, and, ...</td>\n",
       "      <td>[(4, 5), (7, 2), (8, 1), (10, 1), (30, 3), (35...</td>\n",
       "      <td>[(4, 0.0033554011043417254), (7, 0.02333778550...</td>\n",
       "    </tr>\n",
       "    <tr>\n",
       "      <th>2</th>\n",
       "      <td>100008</td>\n",
       "      <td>On QoS-Aware Publish-Subscribe</td>\n",
       "      <td>This position paper addresses the issue of sup...</td>\n",
       "      <td>[this, position, paper, addresses, the, issue,...</td>\n",
       "      <td>[(1, 1), (4, 6), (7, 1), (16, 1), (22, 1), (27...</td>\n",
       "      <td>[(1, 0.06276351152911328), (4, 0.0049492930133...</td>\n",
       "    </tr>\n",
       "    <tr>\n",
       "      <th>3</th>\n",
       "      <td>10001</td>\n",
       "      <td>Checking Mergeable Priority Queues</td>\n",
       "      <td>We present an efficient algorithm which can ch...</td>\n",
       "      <td>[we, present, an, efficient, algorithm, which,...</td>\n",
       "      <td>[(4, 7), (7, 2), (8, 1), (10, 1), (16, 1), (17...</td>\n",
       "      <td>[(4, 0.0022699486545179476), (7, 0.01127724975...</td>\n",
       "    </tr>\n",
       "    <tr>\n",
       "      <th>4</th>\n",
       "      <td>100012</td>\n",
       "      <td>Mobile Code Security by Java Bytecode Instrume...</td>\n",
       "      <td>Mobile code provides significant opportunities...</td>\n",
       "      <td>[mobile, code, provides, significant, opportun...</td>\n",
       "      <td>[(4, 4), (5, 1), (7, 1), (10, 2), (16, 5), (22...</td>\n",
       "      <td>[(4, 0.001715799318906219), (5, 0.031751265629...</td>\n",
       "    </tr>\n",
       "  </tbody>\n",
       "</table>\n",
       "</div>"
      ],
      "text/plain": [
       "       id                                              title  \\\n",
       "0  100002  Nonlinear Shape Statistics in Mumford{Shah Bas...   \n",
       "1  100007                    On the Complexity of Equilibria   \n",
       "2  100008                     On QoS-Aware Publish-Subscribe   \n",
       "3   10001                 Checking Mergeable Priority Queues   \n",
       "4  100012  Mobile Code Security by Java Bytecode Instrume...   \n",
       "\n",
       "                                            abstract  \\\n",
       "0  We present a variational integration of nonlin...   \n",
       "1  We prove complexity, approximability, and inap...   \n",
       "2  This position paper addresses the issue of sup...   \n",
       "3  We present an efficient algorithm which can ch...   \n",
       "4  Mobile code provides significant opportunities...   \n",
       "\n",
       "                                  tokenized_abstract  \\\n",
       "0  [we, present, a, variational, integration, of,...   \n",
       "1  [we, prove, complexity, approximability, and, ...   \n",
       "2  [this, position, paper, addresses, the, issue,...   \n",
       "3  [we, present, an, efficient, algorithm, which,...   \n",
       "4  [mobile, code, provides, significant, opportun...   \n",
       "\n",
       "                                                 bow  \\\n",
       "0  [(0, 1), (1, 1), (3, 1), (4, 1), (5, 1), (6, 1...   \n",
       "1  [(4, 5), (7, 2), (8, 1), (10, 1), (30, 3), (35...   \n",
       "2  [(1, 1), (4, 6), (7, 1), (16, 1), (22, 1), (27...   \n",
       "3  [(4, 7), (7, 2), (8, 1), (10, 1), (16, 1), (17...   \n",
       "4  [(4, 4), (5, 1), (7, 1), (10, 2), (16, 5), (22...   \n",
       "\n",
       "                                              tf_idf  \n",
       "0  [(0, 0.19689725999527163), (1, 0.0861613877917...  \n",
       "1  [(4, 0.0033554011043417254), (7, 0.02333778550...  \n",
       "2  [(1, 0.06276351152911328), (4, 0.0049492930133...  \n",
       "3  [(4, 0.0022699486545179476), (7, 0.01127724975...  \n",
       "4  [(4, 0.001715799318906219), (5, 0.031751265629...  "
      ]
     },
     "execution_count": 10,
     "metadata": {
      "tags": []
     },
     "output_type": "execute_result"
    }
   ],
   "source": [
    "tfidf_model_file = 'resources/tfidf_model-stemm.p' if stemm else 'resources/tfidf_model.p'\n",
    "if isfile(tfidf_model_file):\n",
    "    tfidf_model = models.tfidfmodel.TfidfModel().load(tfidf_model_file)\n",
    "else:\n",
    "    tfidf_model = models.tfidfmodel.TfidfModel(corpus, dictionary=dictionary)\n",
    "    tfidf_model.save(tfidf_model_file)\n",
    "\n",
    "corpus_df['tf_idf'] = tfidf_model[corpus_df.bow.tolist()]\n",
    "corpus_df.head(5)"
   ]
  },
  {
   "cell_type": "markdown",
   "metadata": {
    "colab_type": "text",
    "id": "bxqEz_S0ensc"
   },
   "source": [
    "## LDA"
   ]
  },
  {
   "cell_type": "markdown",
   "metadata": {
    "colab_type": "text",
    "id": "hmECljYRgt-g"
   },
   "source": [
    "A continuación utilizaremos el modelo LDA para identificar 10 tópicos sobre los documentos del dataset:"
   ]
  },
  {
   "cell_type": "code",
   "execution_count": 11,
   "metadata": {
    "colab": {
     "base_uri": "https://localhost:8080/",
     "height": 371
    },
    "colab_type": "code",
    "id": "lZI94exTemz4",
    "outputId": "a372a425-bec0-4660-d142-984e03a890ab"
   },
   "outputs": [
    {
     "data": {
      "text/html": [
       "<div>\n",
       "<style scoped>\n",
       "    .dataframe tbody tr th:only-of-type {\n",
       "        vertical-align: middle;\n",
       "    }\n",
       "\n",
       "    .dataframe tbody tr th {\n",
       "        vertical-align: top;\n",
       "    }\n",
       "\n",
       "    .dataframe thead th {\n",
       "        text-align: right;\n",
       "    }\n",
       "</style>\n",
       "<table border=\"1\" class=\"dataframe\">\n",
       "  <thead>\n",
       "    <tr style=\"text-align: right;\">\n",
       "      <th></th>\n",
       "      <th>id</th>\n",
       "      <th>title</th>\n",
       "      <th>abstract</th>\n",
       "      <th>tokenized_abstract</th>\n",
       "      <th>bow</th>\n",
       "      <th>tf_idf</th>\n",
       "      <th>lda</th>\n",
       "    </tr>\n",
       "  </thead>\n",
       "  <tbody>\n",
       "    <tr>\n",
       "      <th>0</th>\n",
       "      <td>100002</td>\n",
       "      <td>Nonlinear Shape Statistics in Mumford{Shah Bas...</td>\n",
       "      <td>We present a variational integration of nonlin...</td>\n",
       "      <td>[we, present, a, variational, integration, of,...</td>\n",
       "      <td>[(0, 1), (1, 1), (3, 1), (4, 1), (5, 1), (6, 1...</td>\n",
       "      <td>[(0, 0.19689725999527163), (1, 0.0861613877917...</td>\n",
       "      <td>[(8, 0.98084867)]</td>\n",
       "    </tr>\n",
       "    <tr>\n",
       "      <th>1</th>\n",
       "      <td>100007</td>\n",
       "      <td>On the Complexity of Equilibria</td>\n",
       "      <td>We prove complexity, approximability, and inap...</td>\n",
       "      <td>[we, prove, complexity, approximability, and, ...</td>\n",
       "      <td>[(4, 5), (7, 2), (8, 1), (10, 1), (30, 3), (35...</td>\n",
       "      <td>[(4, 0.0033554011043417254), (7, 0.02333778550...</td>\n",
       "      <td>[(0, 0.024081161), (2, 0.018405233), (6, 0.069...</td>\n",
       "    </tr>\n",
       "    <tr>\n",
       "      <th>2</th>\n",
       "      <td>100008</td>\n",
       "      <td>On QoS-Aware Publish-Subscribe</td>\n",
       "      <td>This position paper addresses the issue of sup...</td>\n",
       "      <td>[this, position, paper, addresses, the, issue,...</td>\n",
       "      <td>[(1, 1), (4, 6), (7, 1), (16, 1), (22, 1), (27...</td>\n",
       "      <td>[(1, 0.06276351152911328), (4, 0.0049492930133...</td>\n",
       "      <td>[(0, 0.31600896), (9, 0.6731788)]</td>\n",
       "    </tr>\n",
       "    <tr>\n",
       "      <th>3</th>\n",
       "      <td>10001</td>\n",
       "      <td>Checking Mergeable Priority Queues</td>\n",
       "      <td>We present an efficient algorithm which can ch...</td>\n",
       "      <td>[we, present, an, efficient, algorithm, which,...</td>\n",
       "      <td>[(4, 7), (7, 2), (8, 1), (10, 1), (16, 1), (17...</td>\n",
       "      <td>[(4, 0.0022699486545179476), (7, 0.01127724975...</td>\n",
       "      <td>[(7, 0.4857462), (8, 0.015793603), (9, 0.49353...</td>\n",
       "    </tr>\n",
       "    <tr>\n",
       "      <th>4</th>\n",
       "      <td>100012</td>\n",
       "      <td>Mobile Code Security by Java Bytecode Instrume...</td>\n",
       "      <td>Mobile code provides significant opportunities...</td>\n",
       "      <td>[mobile, code, provides, significant, opportun...</td>\n",
       "      <td>[(4, 4), (5, 1), (7, 1), (10, 2), (16, 5), (22...</td>\n",
       "      <td>[(4, 0.001715799318906219), (5, 0.031751265629...</td>\n",
       "      <td>[(0, 0.2669521), (4, 0.010791673), (9, 0.71687...</td>\n",
       "    </tr>\n",
       "  </tbody>\n",
       "</table>\n",
       "</div>"
      ],
      "text/plain": [
       "       id                                              title  \\\n",
       "0  100002  Nonlinear Shape Statistics in Mumford{Shah Bas...   \n",
       "1  100007                    On the Complexity of Equilibria   \n",
       "2  100008                     On QoS-Aware Publish-Subscribe   \n",
       "3   10001                 Checking Mergeable Priority Queues   \n",
       "4  100012  Mobile Code Security by Java Bytecode Instrume...   \n",
       "\n",
       "                                            abstract  \\\n",
       "0  We present a variational integration of nonlin...   \n",
       "1  We prove complexity, approximability, and inap...   \n",
       "2  This position paper addresses the issue of sup...   \n",
       "3  We present an efficient algorithm which can ch...   \n",
       "4  Mobile code provides significant opportunities...   \n",
       "\n",
       "                                  tokenized_abstract  \\\n",
       "0  [we, present, a, variational, integration, of,...   \n",
       "1  [we, prove, complexity, approximability, and, ...   \n",
       "2  [this, position, paper, addresses, the, issue,...   \n",
       "3  [we, present, an, efficient, algorithm, which,...   \n",
       "4  [mobile, code, provides, significant, opportun...   \n",
       "\n",
       "                                                 bow  \\\n",
       "0  [(0, 1), (1, 1), (3, 1), (4, 1), (5, 1), (6, 1...   \n",
       "1  [(4, 5), (7, 2), (8, 1), (10, 1), (30, 3), (35...   \n",
       "2  [(1, 1), (4, 6), (7, 1), (16, 1), (22, 1), (27...   \n",
       "3  [(4, 7), (7, 2), (8, 1), (10, 1), (16, 1), (17...   \n",
       "4  [(4, 4), (5, 1), (7, 1), (10, 2), (16, 5), (22...   \n",
       "\n",
       "                                              tf_idf  \\\n",
       "0  [(0, 0.19689725999527163), (1, 0.0861613877917...   \n",
       "1  [(4, 0.0033554011043417254), (7, 0.02333778550...   \n",
       "2  [(1, 0.06276351152911328), (4, 0.0049492930133...   \n",
       "3  [(4, 0.0022699486545179476), (7, 0.01127724975...   \n",
       "4  [(4, 0.001715799318906219), (5, 0.031751265629...   \n",
       "\n",
       "                                                 lda  \n",
       "0                                  [(8, 0.98084867)]  \n",
       "1  [(0, 0.024081161), (2, 0.018405233), (6, 0.069...  \n",
       "2                  [(0, 0.31600896), (9, 0.6731788)]  \n",
       "3  [(7, 0.4857462), (8, 0.015793603), (9, 0.49353...  \n",
       "4  [(0, 0.2669521), (4, 0.010791673), (9, 0.71687...  "
      ]
     },
     "execution_count": 11,
     "metadata": {
      "tags": []
     },
     "output_type": "execute_result"
    }
   ],
   "source": [
    "topic_number = 10\n",
    "\n",
    "lda_model = models.LdaModel(corpus, num_topics=topic_number,\n",
    "                            id2word=dictionary, passes=5, iterations=200)\n",
    "corpus_df['lda'] = lda_model[corpus_df.bow.tolist()]\n",
    "corpus_df.head(5)"
   ]
  },
  {
   "cell_type": "markdown",
   "metadata": {
    "colab_type": "text",
    "id": "2i60zO2fgyVF"
   },
   "source": [
    "**Pregunta:** Explique qué representa la columna `lda`, ¿qué significan cada tupla de números?\n",
    "\n",
    "**Respuesta:** La columna `lda` muestra una representación de la probabilidad de los temas acerca de los cuales *puede* tratar el paper. De esta manera al elegir un total de 10 tópicos, el algoritmo es capaz de agrupar palabras que puedan ser contingentes a un tema, luego realiza un mapeo sobre cada uno de los documentos y entrega una distribución de los temas que puedan estar presente en el texto y en qué medida (probabilidad) este tema constituye parte del documento presentado."
   ]
  },
  {
   "cell_type": "markdown",
   "metadata": {
    "colab_type": "text",
    "id": "aGcprvI8hbT_"
   },
   "source": [
    "En la siguiente celda se mostrarán 10 tópicos del modelo LDA."
   ]
  },
  {
   "cell_type": "code",
   "execution_count": 12,
   "metadata": {
    "colab": {
     "base_uri": "https://localhost:8080/",
     "height": 401
    },
    "colab_type": "code",
    "id": "Bjxu2Boug4FB",
    "outputId": "25fa1a5d-5490-4c98-ad10-2c5fe569d719"
   },
   "outputs": [
    {
     "data": {
      "text/plain": [
       "[(0,\n",
       "  '0.043*\"the\" + 0.037*\"and\" + 0.030*\"of\" + 0.027*\"to\" + 0.020*\"a\" + 0.019*\"in\" + 0.012*\"for\" + 0.010*\"system\" + 0.009*\"systems\" + 0.009*\"this\"'),\n",
       " (1,\n",
       "  '0.013*\"file\" + 0.009*\"de\" + 0.006*\"figure\" + 0.005*\"des\" + 0.004*\"parsers\" + 0.004*\"calcium\" + 0.003*\"sc\" + 0.003*\"neuron\" + 0.002*\"resume\" + 0.002*\"manipulators\"'),\n",
       " (2,\n",
       "  '0.037*\"logic\" + 0.016*\"and\" + 0.013*\"of\" + 0.008*\"the\" + 0.008*\"programming\" + 0.008*\"semantics\" + 0.008*\"logics\" + 0.008*\"in\" + 0.007*\"temporal\" + 0.005*\"language\"'),\n",
       " (3,\n",
       "  '0.005*\"conference\" + 0.002*\"serializability\" + 0.002*\"israel\" + 0.002*\"fds\" + 0.002*\"assertion\" + 0.002*\"1983\" + 0.002*\"nurbs\" + 0.002*\"commitments\" + 0.002*\"engaged\" + 0.001*\"unclassified\"'),\n",
       " (4,\n",
       "  '0.031*\"and\" + 0.015*\"software\" + 0.011*\"of\" + 0.009*\"to\" + 0.009*\"the\" + 0.007*\"engineering\" + 0.007*\"project\" + 0.007*\"research\" + 0.007*\"systems\" + 0.007*\"i\"'),\n",
       " (5,\n",
       "  '0.022*\"2\" + 0.022*\"1\" + 0.016*\"3\" + 0.012*\"4\" + 0.011*\"r\" + 0.011*\"5\" + 0.010*\"the\" + 0.009*\"6\" + 0.008*\"s\" + 0.008*\"11\"'),\n",
       " (6,\n",
       "  '0.045*\"of\" + 0.041*\"the\" + 0.026*\"a\" + 0.024*\"in\" + 0.020*\"we\" + 0.019*\"and\" + 0.018*\"is\" + 0.014*\"to\" + 0.014*\"that\" + 0.011*\"for\"'),\n",
       " (7,\n",
       "  '0.063*\"the\" + 0.039*\"of\" + 0.028*\"a\" + 0.022*\"and\" + 0.021*\"to\" + 0.020*\"in\" + 0.017*\"is\" + 0.016*\"we\" + 0.014*\"that\" + 0.014*\"for\"'),\n",
       " (8,\n",
       "  '0.067*\"the\" + 0.048*\"of\" + 0.034*\"a\" + 0.023*\"and\" + 0.021*\"in\" + 0.021*\"to\" + 0.018*\"is\" + 0.013*\"for\" + 0.011*\"we\" + 0.010*\"this\"'),\n",
       " (9,\n",
       "  '0.062*\"the\" + 0.045*\"of\" + 0.033*\"a\" + 0.030*\"and\" + 0.027*\"to\" + 0.021*\"in\" + 0.017*\"is\" + 0.016*\"for\" + 0.012*\"that\" + 0.012*\"this\"')]"
      ]
     },
     "execution_count": 12,
     "metadata": {
      "tags": []
     },
     "output_type": "execute_result"
    }
   ],
   "source": [
    "lda_model.print_topics(10)"
   ]
  },
  {
   "cell_type": "markdown",
   "metadata": {
    "colab_type": "text",
    "id": "th7K6SUbhCkf"
   },
   "source": [
    "**Pregunta:** ¿Qué representa lo impreso en la celda anterior?\n",
    "\n",
    "**Respuesta:** Representa las palabras que definen cada uno de los tópicos presentes en el corpus y que han sido identificados por `lda`, atribuyendoles de paso un peso particular, de modo de representar con tan relevantes son estas palabras para el tema identificado."
   ]
  },
  {
   "cell_type": "markdown",
   "metadata": {
    "colab_type": "text",
    "id": "g4Cc-fSNhJI6"
   },
   "source": [
    "**Pregunta:** A su parecer, ¿son buenos los tópicos encontrados por el modelo? ¿cómo se podrían mejorar?\n",
    "\n",
    "**Respuesta:** No son muy buenos, en general se puede observar que en gran parte de  los tópicos encontrados se comparten palabras comunes que se corresponden con las palabras que se encuentran con mayor frecuencia en un texto, tales como artículos, conectores o número. Estos resultados se podrían mejorar de dos maneras:\n",
    "\n",
    "1. Eliminando para la selección de temas aquellas palabras del corpus que no son relevantes para la definición de un tópico, justamente las correspondientes a las categorías mencionadas, también diferenciables, en general, como palabras compuestas por 1, 2 o 3 letras.\n",
    "\n",
    "2. Disminuyendo el número de tópicos solicitado. Ya que si los papers refieren a temas muy similares será difícil elegir nuevos temas y se caerá en este problema de seleccionar tópicos poco informativos."
   ]
  },
  {
   "cell_type": "markdown",
   "metadata": {
    "colab_type": "text",
    "id": "EuNk3cw3SblR"
   },
   "source": [
    "## Generar recomendaciones"
   ]
  },
  {
   "cell_type": "markdown",
   "metadata": {
    "colab_type": "text",
    "id": "vHexXEF-SdH2"
   },
   "source": [
    "En esta sección se implementan las funciones necesarias para poder generar recomendaciones dado lo que un usuario ha consumido. De manera artificial, se \"samplearán\" 3 documentos aleatorios que representarán al usuario objetivo (`sample`). Luego tendrás que generar diferentes recomendaciones y evaluar los resultados."
   ]
  },
  {
   "cell_type": "code",
   "execution_count": 14,
   "metadata": {
    "colab": {
     "base_uri": "https://localhost:8080/",
     "height": 1090
    },
    "colab_type": "code",
    "id": "iwM9JHgpAwwu",
    "outputId": "13dfd0d9-46c5-4b92-c7dd-b25a1610bb90"
   },
   "outputs": [
    {
     "name": "stdout",
     "output_type": "stream",
     "text": [
      "1) Generative Model-based Clustering of Directional Data\n",
      "\n",
      "High dimensional directional data is becoming increasingly important\n",
      "in contemporary applications such as analysis of text and gene-\n",
      "expression data. A natural model for multivariate directional data is\n",
      "provided by the von Mises-Fisher (vMF) distribution on the unit\n",
      "hypersphere that is analogous to the multi-variate Gaussian\n",
      "distribution in R . In this paper, we propose modeling complex\n",
      "directional data as a mixture of vMF distributions. We derive and\n",
      "analyze two variants of the Expectation Maximization (EM) framework\n",
      "for estimating the parameters of this mixture. We also propose two\n",
      "clustering algorithms corresponding to these variants. An interesting\n",
      "aspect of our methodology is that the spherical kmeans algorithm\n",
      "(kmeans with cosine similarity) can be shown to be a special case of\n",
      "both our algorithms. Thus, modeling text data by vMF distributions\n",
      "lends theoretical validity to the use of cosine similarity which has\n",
      "been widely used by the information retrieval community. As part of\n",
      "experimental validation, we present results on modeling high-\n",
      "dimensional text and gene-expression data as a mixture of vMF\n",
      "distributions. The results indicate that our approach yields superior\n",
      "clusterings especially for dicult clustering tasks in high-dimensional\n",
      "spaces.\n",
      "\n",
      "\n",
      "2) The Role of Context in Question Answering Systems\n",
      "\n",
      "Despite recent advances in natural language question answering\n",
      "technology, the problem of designing effective user interfaces has\n",
      "been largely unexplored. We conducted a user study to investigate the\n",
      "problem and discovered that overall, users prefer a paragraph-sized\n",
      "chunk of text over just an exact phrase as the answer to their\n",
      "questions. Furthermore, users generally prefer answers embedded in\n",
      "context, regardless of the perceived reliability of the source\n",
      "documents. When users research a topic, increasing the amount of text\n",
      "returned to users significantly decreases the number of queries that\n",
      "they pose to the system, suggesting that users utilize supporting text\n",
      "to answer related questions. We believe that these results can serve\n",
      "to guide future developments in question answering user interfaces.\n",
      "\n",
      "\n",
      "3) AutoAdmin What-if Index Analysis Utility\n",
      "\n",
      "As databases get widely deployed, it becomes increasingly important to\n",
      "reduce the overhead of database administration. An important aspect of\n",
      "data administration that critically influences performance is the\n",
      "ability to select indexes for a database. In order to decide the right\n",
      "indexes for a database, it is crucial for the database administrator\n",
      "(DBA) to be able to perform a quantitative analysis of the existing\n",
      "indexes. Furthermore, the DBA should have the ability to propose\n",
      "hypothetical (what-if) indexes and quantitatively analyze their impact\n",
      "on performance of the system. Such impact analysis may consist of\n",
      "analyzing workloads over the database, estimating changes in the cost\n",
      "of a workload, and studying index usage while taking into account\n",
      "projected changes in the sizes of the database tables. In this paper\n",
      "we describe a novel index analysis utility that we have prototyped for\n",
      "Microsoft SQL Server 7.0. We describe the interfaces exposed by this\n",
      "utility that can be leveraged by a...\n",
      "\n",
      "\n"
     ]
    }
   ],
   "source": [
    "# Random users\n",
    "np.random.seed(279)\n",
    "samples = corpus_df.sample(3)\n",
    "samples_ids = []\n",
    "\n",
    "for n, (ix, paper) in enumerate(samples.iterrows()):\n",
    "    samples_ids.append(ix)\n",
    "    idx, title, abstract, bow, tf_idf, lda = paper[[\n",
    "        'id', 'title', 'abstract', 'bow', 'tf_idf', 'lda']]\n",
    "    print('%d) %s' % (n+1, title))\n",
    "    print('')\n",
    "    print(\"\\n\".join(wrap(abstract)))\n",
    "    print('\\n')"
   ]
  },
  {
   "cell_type": "code",
   "execution_count": 0,
   "metadata": {
    "colab": {},
    "colab_type": "code",
    "id": "IarDHEPrAwm_"
   },
   "outputs": [],
   "source": [
    "# Recommendation functions\n",
    "\n",
    "N = len(dictionary)\n",
    "\n",
    "\n",
    "def to_sparse(matrix):\n",
    "    return csr_matrix([\n",
    "        gensim.matutils.sparse2full(row, length=N)\n",
    "        for row in matrix\n",
    "    ])\n",
    "\n",
    "\n",
    "def make_recommendations(model, metric, neighbors):\n",
    "    M = len(corpus)\n",
    "\n",
    "    X = to_sparse(corpus_df[model].tolist())\n",
    "    document_index = NearestNeighbors(\n",
    "        n_neighbors=(neighbors + 1),\n",
    "        algorithm='brute',\n",
    "        metric=metric).fit(X)\n",
    "    return document_index\n",
    "\n",
    "\n",
    "def print_recommendations(indexes, model):\n",
    "    for n, (ix, paper) in enumerate(samples.iterrows()):\n",
    "        dists, neighbors = indexes.kneighbors([gensim.matutils.sparse2full(paper[model], length=N)])\n",
    "        print(paper['title'])\n",
    "        print('')\n",
    "        print('Documentos cercanos: ')\n",
    "        i = 1\n",
    "        for neighbour in neighbors[0]:\n",
    "            if ix != neighbour:\n",
    "                line = str(i) + \". \" + corpus_df.iloc[neighbour]['title']\n",
    "                print(line)\n",
    "                i += 1\n",
    "        print('\\n')"
   ]
  },
  {
   "cell_type": "markdown",
   "metadata": {
    "colab_type": "text",
    "id": "dPe8hn3ZTqYO"
   },
   "source": [
    "A continuación deberá utilizar las funciones implementadas anteriormente para generar nuevas recomendaciones variando los parámetros del modelo. **Agregue nuevas celdas para cada implementación y/o pregunta.**\n"
   ]
  },
  {
   "cell_type": "markdown",
   "metadata": {
    "colab_type": "text",
    "id": "wocbAgaljoJy"
   },
   "source": [
    "Aquí hay 2 ejemplos, puede crear más celdas para hacer las pruebas necesarias:"
   ]
  },
  {
   "cell_type": "code",
   "execution_count": 16,
   "metadata": {
    "colab": {
     "base_uri": "https://localhost:8080/",
     "height": 563
    },
    "colab_type": "code",
    "id": "QfHLV4NrA0-U",
    "outputId": "d2ddbc2f-673d-4837-d1ed-3470abe92a45"
   },
   "outputs": [
    {
     "name": "stdout",
     "output_type": "stream",
     "text": [
      "Generative Model-based Clustering of Directional Data\n",
      "\n",
      "Documentos cercanos: \n",
      "1. Expectation Maximization for Clustering on Hyperspheres\n",
      "2. Modeling Data using Directional Distributions\n",
      "3. Iterative Clustering of High Dimensional Text Data Augmented by Local Search\n",
      "4. Clustering Binary Data Streams with K-means\n",
      "5. Unsupervised Classification with Non-Gaussian Mixture Models using ICA\n",
      "\n",
      "\n",
      "The Role of Context in Question Answering Systems\n",
      "\n",
      "Documentos cercanos: \n",
      "1. Overview of the TREC-9 Question Answering Track\n",
      "2. Text Segmentation by Topic\n",
      "3. Probabilistic Question Answering on the Web\n",
      "4. Web Question Answering: Is More Always Better?\n",
      "5. AskMSR: Question Answering Using the Worldwide Web\n",
      "\n",
      "\n",
      "AutoAdmin What-if Index Analysis Utility\n",
      "\n",
      "Documentos cercanos: \n",
      "1. Updates for Structure Indexes\n",
      "2. Covering Indexes for Branching Path Queries\n",
      "3. Efficient Peer-To-Peer Searches Using Result-Caching\n",
      "4. Determining Text Databases to Search in the Internet\n",
      "5. On Implementing a Language for Specifying Active Database Execution Models\n",
      "\n",
      "\n"
     ]
    }
   ],
   "source": [
    "# Recommendation example: TF-IDF\n",
    "doc_idx = make_recommendations('tf_idf', 'euclidean', 5)\n",
    "print_recommendations(doc_idx, 'tf_idf')"
   ]
  },
  {
   "cell_type": "code",
   "execution_count": 17,
   "metadata": {
    "colab": {
     "base_uri": "https://localhost:8080/",
     "height": 563
    },
    "colab_type": "code",
    "id": "IkSP6I1Chm0L",
    "outputId": "81f24068-4d8b-4fc6-c8f7-b5fed52b18a1"
   },
   "outputs": [
    {
     "name": "stdout",
     "output_type": "stream",
     "text": [
      "Generative Model-based Clustering of Directional Data\n",
      "\n",
      "Documentos cercanos: \n",
      "1. Expectation Maximization for Clustering on Hyperspheres\n",
      "2. The Princeton Shape Benchmark\n",
      "3. Nonlinear Shape Statistics in Mumford{Shah Based Segmentation\n",
      "4. Optimal Linear Representations of Images for Object Recognition\n",
      "5. Approximation of Glossy Reflection with Prefiltered Environment Maps\n",
      "\n",
      "\n",
      "The Role of Context in Question Answering Systems\n",
      "\n",
      "Documentos cercanos: \n",
      "1. Policy Driven Management For Distributed Systems\n",
      "2. CoWare - A design environment for heterogeneous hardware/software systems\n",
      "3. Performance Characteristics of the SPEC OMP2001 Benchmarks\n",
      "4. Designing Distributed Applications with Mobile Code Paradigms\n",
      "5. Timewarp: Techniques for Autonomous Collaboration\n",
      "\n",
      "\n",
      "AutoAdmin What-if Index Analysis Utility\n",
      "\n",
      "Documentos cercanos: \n",
      "1. Verification Techniques for Cache Coherence Protocols.\n",
      "2. A Modular and Retargetable Framework for Tree-based WCET Analysis\n",
      "3. Closer to the solution: Iterative linear solvers\n",
      "4. A Quick Safari through the Reconfiguration Jungle\n",
      "5. Deterministic Scheduling for Transactional Multithreaded Replicas\n",
      "\n",
      "\n"
     ]
    }
   ],
   "source": [
    "# Recommendation example: LDA\n",
    "doc_idx = make_recommendations('lda', 'euclidean', 5)\n",
    "print_recommendations(doc_idx, 'lda')"
   ]
  },
  {
   "cell_type": "markdown",
   "metadata": {
    "colab_type": "text",
    "id": "EXwYjORwTr17"
   },
   "source": [
    "**Pregunta:** Ejecute el modelo utilizando como representación tf-idf y una métrica de distancia euclideana. Modifique el parámetro nearest_neighbors a [5, 10, 20]. ¿Qué efecto tiene este cambio en el modelo en las recomendaciones observadas?\n",
    "\n",
    "**Respuesta:** Esencialmente las recomendaciones son las mismas y lo que se logra es aumentar el núnero de recomendaciones entregadas por el modelo."
   ]
  },
  {
   "cell_type": "code",
   "execution_count": 18,
   "metadata": {
    "colab": {
     "base_uri": "https://localhost:8080/",
     "height": 2745
    },
    "colab_type": "code",
    "id": "2Og3Bxw6Kcxn",
    "outputId": "a9622332-5b79-4483-ac19-2af348e52d68"
   },
   "outputs": [
    {
     "name": "stdout",
     "output_type": "stream",
     "text": [
      "Generative Model-based Clustering of Directional Data\n",
      "\n",
      "Documentos cercanos: \n",
      "1. Expectation Maximization for Clustering on Hyperspheres\n",
      "2. Modeling Data using Directional Distributions\n",
      "3. Iterative Clustering of High Dimensional Text Data Augmented by Local Search\n",
      "4. Clustering Binary Data Streams with K-means\n",
      "5. Unsupervised Classification with Non-Gaussian Mixture Models using ICA\n",
      "\n",
      "\n",
      "The Role of Context in Question Answering Systems\n",
      "\n",
      "Documentos cercanos: \n",
      "1. Overview of the TREC-9 Question Answering Track\n",
      "2. Text Segmentation by Topic\n",
      "3. Probabilistic Question Answering on the Web\n",
      "4. Web Question Answering: Is More Always Better?\n",
      "5. AskMSR: Question Answering Using the Worldwide Web\n",
      "\n",
      "\n",
      "AutoAdmin What-if Index Analysis Utility\n",
      "\n",
      "Documentos cercanos: \n",
      "1. Updates for Structure Indexes\n",
      "2. Covering Indexes for Branching Path Queries\n",
      "3. Efficient Peer-To-Peer Searches Using Result-Caching\n",
      "4. Determining Text Databases to Search in the Internet\n",
      "5. On Implementing a Language for Specifying Active Database Execution Models\n",
      "\n",
      "\n",
      "Generative Model-based Clustering of Directional Data\n",
      "\n",
      "Documentos cercanos: \n",
      "1. Expectation Maximization for Clustering on Hyperspheres\n",
      "2. Modeling Data using Directional Distributions\n",
      "3. Iterative Clustering of High Dimensional Text Data Augmented by Local Search\n",
      "4. Clustering Binary Data Streams with K-means\n",
      "5. Unsupervised Classification with Non-Gaussian Mixture Models using ICA\n",
      "6. Convergence Properties of the K-Means Algorithms\n",
      "7. Comparing and Unifying Search-Based and Similarity-Based Approaches to Semi-Supervised Clustering\n",
      "8. Refining Initial Points for K-Means Clustering\n",
      "9. Chapter 7. Paper 3:\n",
      "10. The EM Algorithm for Mixtures of Factor Analyzers\n",
      "\n",
      "\n",
      "The Role of Context in Question Answering Systems\n",
      "\n",
      "Documentos cercanos: \n",
      "1. Overview of the TREC-9 Question Answering Track\n",
      "2. Text Segmentation by Topic\n",
      "3. Probabilistic Question Answering on the Web\n",
      "4. Web Question Answering: Is More Always Better?\n",
      "5. AskMSR: Question Answering Using the Worldwide Web\n",
      "6. The Efficacy of GlOSS for the Text Database Discovery Problem\n",
      "7. LCC Tools for Question Answering\n",
      "8. Notes on Concurrency Control in Groupware\n",
      "9. Answering What-Is Questions by Virtual Annotation\n",
      "10. Perfectly-Secure Key Distribution for Dynamic Conferences\n",
      "\n",
      "\n",
      "AutoAdmin What-if Index Analysis Utility\n",
      "\n",
      "Documentos cercanos: \n",
      "1. Updates for Structure Indexes\n",
      "2. Covering Indexes for Branching Path Queries\n",
      "3. Efficient Peer-To-Peer Searches Using Result-Caching\n",
      "4. Determining Text Databases to Search in the Internet\n",
      "5. On Implementing a Language for Specifying Active Database Execution Models\n",
      "6. A Functional Database\n",
      "7. CiteSeer: An Automatic Citation Indexing System\n",
      "8. An Axiom System for Database Transactions\n",
      "9. Quickly Generating Billion-Record Synthetic Databases\n",
      "10. Discovery and Maintenance of Functional Dependencies by Independencies\n",
      "\n",
      "\n",
      "Generative Model-based Clustering of Directional Data\n",
      "\n",
      "Documentos cercanos: \n",
      "1. Expectation Maximization for Clustering on Hyperspheres\n",
      "2. Modeling Data using Directional Distributions\n",
      "3. Iterative Clustering of High Dimensional Text Data Augmented by Local Search\n",
      "4. Clustering Binary Data Streams with K-means\n",
      "5. Unsupervised Classification with Non-Gaussian Mixture Models using ICA\n",
      "6. Convergence Properties of the K-Means Algorithms\n",
      "7. Comparing and Unifying Search-Based and Similarity-Based Approaches to Semi-Supervised Clustering\n",
      "8. Refining Initial Points for K-Means Clustering\n",
      "9. Chapter 7. Paper 3:\n",
      "10. The EM Algorithm for Mixtures of Factor Analyzers\n",
      "11. Applying the Multiple Cause Mixture Model to Text Categorization\n",
      "12. A Method for Decentralized Clustering in Large Multi-Agent Systems\n",
      "13. Learning and Data Clustering\n",
      "14. Similarity between Words Computed by Spreading Activation on an English Dictionary\n",
      "15. Learning High-Dimensional Data\n",
      "16. Clustering with Bregman Divergences\n",
      "17. Clustering by Similarity in an Auxiliary Space\n",
      "18. Two Aspects of Directional Types\n",
      "19. The Graphical Specification of Similarity Queries\n",
      "20. Clustering with Soft and Group Constraints\n",
      "\n",
      "\n",
      "The Role of Context in Question Answering Systems\n",
      "\n",
      "Documentos cercanos: \n",
      "1. Overview of the TREC-9 Question Answering Track\n",
      "2. Text Segmentation by Topic\n",
      "3. Probabilistic Question Answering on the Web\n",
      "4. Web Question Answering: Is More Always Better?\n",
      "5. AskMSR: Question Answering Using the Worldwide Web\n",
      "6. The Efficacy of GlOSS for the Text Database Discovery Problem\n",
      "7. LCC Tools for Question Answering\n",
      "8. Notes on Concurrency Control in Groupware\n",
      "9. Answering What-Is Questions by Virtual Annotation\n",
      "10. Perfectly-Secure Key Distribution for Dynamic Conferences\n",
      "11. Introducing New Concepts Via Comparison: A New Look at User Modelling in Text Generation\n",
      "12. GaiaOS: An Infrastructure for Active Spaces\n",
      "13. Is Question Answering an Acquired Skill?\n",
      "14. Proactively searching the Web: Can we agree on what's relevant?\n",
      "15. Designing Statistical Language Learners: Experiments on Noun Compounds\n",
      "16. IBM's Statistical Question Answering System\n",
      "17. Modeling User Navigation\n",
      "18. FALCON: Boosting Knowledge for Answer Engines\n",
      "19. Recent Developments In Natural Language Text Retrieval\n",
      "20. Exploiting Lexical Regularities in Designing Natural Language Systems\n",
      "\n",
      "\n",
      "AutoAdmin What-if Index Analysis Utility\n",
      "\n",
      "Documentos cercanos: \n",
      "1. Updates for Structure Indexes\n",
      "2. Covering Indexes for Branching Path Queries\n",
      "3. Efficient Peer-To-Peer Searches Using Result-Caching\n",
      "4. Determining Text Databases to Search in the Internet\n",
      "5. On Implementing a Language for Specifying Active Database Execution Models\n",
      "6. A Functional Database\n",
      "7. CiteSeer: An Automatic Citation Indexing System\n",
      "8. An Axiom System for Database Transactions\n",
      "9. Quickly Generating Billion-Record Synthetic Databases\n",
      "10. Discovery and Maintenance of Functional Dependencies by Independencies\n",
      "11. Querying and Updating the File\n",
      "12. Querying the Internet with PIER\n",
      "13. Fuzzy Queries in Multimedia Database Systems\n",
      "14. Structures for Manipulating Proposed Updates in Object-Oriented Databases\n",
      "15. The Deductive Synthesis of Database Transactions\n",
      "16. Turbo-charging Vertical Mining of Large Databases\n",
      "17. Assigning an Appropriate Meaning to Database Logic with Negation\n",
      "18. Integrating Active Concepts into an Object-Oriented Database System\n",
      "19. Data Indexing in Peer-to-Peer DHT Networks\n",
      "20. A Performance Analysis of Alternative Multi-Attribute Declustering Strategies\n",
      "\n",
      "\n"
     ]
    }
   ],
   "source": [
    "# Recommendation example: TF-IDF\n",
    "doc_idx = make_recommendations('tf_idf', 'euclidean', 5)\n",
    "print_recommendations(doc_idx, 'tf_idf')\n",
    "\n",
    "doc_idx = make_recommendations('tf_idf', 'euclidean', 10)\n",
    "print_recommendations(doc_idx, 'tf_idf')\n",
    "\n",
    "doc_idx = make_recommendations('tf_idf', 'euclidean', 20)\n",
    "print_recommendations(doc_idx, 'tf_idf')"
   ]
  },
  {
   "cell_type": "markdown",
   "metadata": {
    "colab_type": "text",
    "id": "CRNEpJy7T6OQ"
   },
   "source": [
    "**Pregunta:** Eligiendo un valor fijo para *nearest neighbors* y utilizando representación tf-idf, ejecute el modelo con métrica de distancia *cosine*.¿Qué efecto tiene la métrica de distancia en las recomendaciones observadas?\n",
    "\n",
    "**Respuesta:** Nuevamente las recomendaciones entregadas son las mismas, pudiendo solo notar algunos mínimos cambios en el orden. De esta manera, se plantea que los papers están en un espacio de tópicos bien definidos como clusters.\n"
   ]
  },
  {
   "cell_type": "code",
   "execution_count": 20,
   "metadata": {
    "colab": {
     "base_uri": "https://localhost:8080/",
     "height": 1145
    },
    "colab_type": "code",
    "id": "on82VCM5LVHM",
    "outputId": "a7b8ffa0-fe61-43c9-e566-29973955aa07"
   },
   "outputs": [
    {
     "name": "stdout",
     "output_type": "stream",
     "text": [
      "Usando distancia Euclideana\n",
      "Generative Model-based Clustering of Directional Data\n",
      "\n",
      "Documentos cercanos: \n",
      "1. Expectation Maximization for Clustering on Hyperspheres\n",
      "2. Modeling Data using Directional Distributions\n",
      "3. Iterative Clustering of High Dimensional Text Data Augmented by Local Search\n",
      "4. Clustering Binary Data Streams with K-means\n",
      "5. Unsupervised Classification with Non-Gaussian Mixture Models using ICA\n",
      "\n",
      "\n",
      "The Role of Context in Question Answering Systems\n",
      "\n",
      "Documentos cercanos: \n",
      "1. Overview of the TREC-9 Question Answering Track\n",
      "2. Text Segmentation by Topic\n",
      "3. Probabilistic Question Answering on the Web\n",
      "4. Web Question Answering: Is More Always Better?\n",
      "5. AskMSR: Question Answering Using the Worldwide Web\n",
      "\n",
      "\n",
      "AutoAdmin What-if Index Analysis Utility\n",
      "\n",
      "Documentos cercanos: \n",
      "1. Updates for Structure Indexes\n",
      "2. Covering Indexes for Branching Path Queries\n",
      "3. Efficient Peer-To-Peer Searches Using Result-Caching\n",
      "4. Determining Text Databases to Search in the Internet\n",
      "5. On Implementing a Language for Specifying Active Database Execution Models\n",
      "\n",
      "\n",
      "Usando distancia Cosine\n",
      "Generative Model-based Clustering of Directional Data\n",
      "\n",
      "Documentos cercanos: \n",
      "1. Expectation Maximization for Clustering on Hyperspheres\n",
      "2. Modeling Data using Directional Distributions\n",
      "3. Iterative Clustering of High Dimensional Text Data Augmented by Local Search\n",
      "4. Clustering Binary Data Streams with K-means\n",
      "5. Unsupervised Classification with Non-Gaussian Mixture Models using ICA\n",
      "\n",
      "\n",
      "The Role of Context in Question Answering Systems\n",
      "\n",
      "Documentos cercanos: \n",
      "1. Overview of the TREC-9 Question Answering Track\n",
      "2. Text Segmentation by Topic\n",
      "3. Probabilistic Question Answering on the Web\n",
      "4. Web Question Answering: Is More Always Better?\n",
      "5. AskMSR: Question Answering Using the Worldwide Web\n",
      "\n",
      "\n",
      "AutoAdmin What-if Index Analysis Utility\n",
      "\n",
      "Documentos cercanos: \n",
      "1. Updates for Structure Indexes\n",
      "2. Covering Indexes for Branching Path Queries\n",
      "3. Efficient Peer-To-Peer Searches Using Result-Caching\n",
      "4. Determining Text Databases to Search in the Internet\n",
      "5. On Implementing a Language for Specifying Active Database Execution Models\n",
      "\n",
      "\n"
     ]
    }
   ],
   "source": [
    "doc_idx = make_recommendations('tf_idf', 'euclidean', 5)\n",
    "doc_idx2 = make_recommendations('tf_idf', 'cosine', 5)\n",
    "print('Usando distancia Euclideana')\n",
    "print_recommendations(doc_idx, 'tf_idf')\n",
    "print('Usando distancia Cosine')\n",
    "print_recommendations(doc_idx2, 'tf_idf')"
   ]
  },
  {
   "cell_type": "markdown",
   "metadata": {
    "colab_type": "text",
    "id": "4AUbaWOpoAvc"
   },
   "source": [
    "**Pregunta:** Eligiendo un valor fijo de nearest_neighbors y modelo lda ¿Qué efecto tiene el usar LDA versus TF-IDF en las recomendaciones observadas bajo la misma métrica de distancia?\n",
    "\n",
    "**Respuesta:** Las recomendaciones cambian completamente, de acuerdo a ellas que estén más cercanas en tema, no obstante, como se observó anteriormente, los tópicos identificados por lda no son realmente representativos."
   ]
  },
  {
   "cell_type": "code",
   "execution_count": 21,
   "metadata": {
    "colab": {
     "base_uri": "https://localhost:8080/",
     "height": 563
    },
    "colab_type": "code",
    "id": "ornHK9LLMVlH",
    "outputId": "23339b61-17a0-476f-b813-8913123b2198"
   },
   "outputs": [
    {
     "name": "stdout",
     "output_type": "stream",
     "text": [
      "Generative Model-based Clustering of Directional Data\n",
      "\n",
      "Documentos cercanos: \n",
      "1. Expectation Maximization for Clustering on Hyperspheres\n",
      "2. The Princeton Shape Benchmark\n",
      "3. Nonlinear Shape Statistics in Mumford{Shah Based Segmentation\n",
      "4. Optimal Linear Representations of Images for Object Recognition\n",
      "5. Approximation of Glossy Reflection with Prefiltered Environment Maps\n",
      "\n",
      "\n",
      "The Role of Context in Question Answering Systems\n",
      "\n",
      "Documentos cercanos: \n",
      "1. Policy Driven Management For Distributed Systems\n",
      "2. CoWare - A design environment for heterogeneous hardware/software systems\n",
      "3. Performance Characteristics of the SPEC OMP2001 Benchmarks\n",
      "4. Designing Distributed Applications with Mobile Code Paradigms\n",
      "5. Timewarp: Techniques for Autonomous Collaboration\n",
      "\n",
      "\n",
      "AutoAdmin What-if Index Analysis Utility\n",
      "\n",
      "Documentos cercanos: \n",
      "1. Verification Techniques for Cache Coherence Protocols.\n",
      "2. A Modular and Retargetable Framework for Tree-based WCET Analysis\n",
      "3. Closer to the solution: Iterative linear solvers\n",
      "4. A Quick Safari through the Reconfiguration Jungle\n",
      "5. Deterministic Scheduling for Transactional Multithreaded Replicas\n",
      "\n",
      "\n"
     ]
    }
   ],
   "source": [
    "doc_idx = make_recommendations('lda', 'euclidean', 5)\n",
    "print_recommendations(doc_idx, 'lda')"
   ]
  },
  {
   "cell_type": "markdown",
   "metadata": {
    "colab_type": "text",
    "id": "GfgYZ8SLoFsV"
   },
   "source": [
    "**Pregunta:** Pruebe nuevamente con LDA usando 5 tópicos y con 20 tópicos ¿qué efecto tiene el número de tópicos en las recomendaciones observadas?\n",
    "\n",
    "**Respuesta:** Cambiar el número de tópicos tiene un efecto dramático en las recomendaciones realizadas por el modelo. Como se observa en las siguientes líneas, los documentos  hallados como cercanos cambian completamente al cambiar este parámetro. Al modificar los tópicos que determinan los textos cambiamos inmediatamente en cuántas maneras podemos clasificarlos, eliminando categorías relevantes (cambio a 5 tópicos) o incluyendo algunas que dispersan el sentido particular del documento (cambio a 20 tópicos)."
   ]
  },
  {
   "cell_type": "code",
   "execution_count": 23,
   "metadata": {
    "colab": {
     "base_uri": "https://localhost:8080/",
     "height": 617
    },
    "colab_type": "code",
    "id": "pGfUmM0mNOD6",
    "outputId": "b14bf840-7f81-475c-8728-7fc397757cf7"
   },
   "outputs": [
    {
     "name": "stdout",
     "output_type": "stream",
     "text": [
      "Generative Model-based Clustering of Directional Data\n",
      "\n",
      "Documentos cercanos: \n",
      "1. Branch-and-Price: Column Generation for Solving Huge Integer Programs\n",
      "2. VC Dimension and Learnability of Sparse Polynomials and Rational Functions\n",
      "3. On the Computational Power of DNA Annealing and Ligation\n",
      "4. Exact Geometric Computation in LEDA\n",
      "5. A Sub-quadratic Algorithm for Approximate Limited Expression Matching\n",
      "6. Power: A Metric for Evaluating Watermarking Algorithms (Extended Abstract)\n",
      "\n",
      "\n",
      "The Role of Context in Question Answering Systems\n",
      "\n",
      "Documentos cercanos: \n",
      "1. On the Complexity of Relational Problems for Finite State Processes (Extended Abstract)\n",
      "2. Multiparty Secret Key Exchange Using a Random Deal of Cards (Extended Abstract)\n",
      "3. Secret-Key Certificates\n",
      "4. On Diophantine Complexity and Statistical Zero-Knowledge Arguments\n",
      "5. Faster Circle Packing with Application to Nonobtuse Triangulation\n",
      "6. A two-phase exact algorithm for MAX-SAT and weighted MAX-SAT problems\n",
      "\n",
      "\n",
      "AutoAdmin What-if Index Analysis Utility\n",
      "\n",
      "Documentos cercanos: \n",
      "1. Branch-and-Price: Column Generation for Solving Huge Integer Programs\n",
      "2. VC Dimension and Learnability of Sparse Polynomials and Rational Functions\n",
      "3. On the Computational Power of DNA Annealing and Ligation\n",
      "4. Exact Geometric Computation in LEDA\n",
      "5. A Sub-quadratic Algorithm for Approximate Limited Expression Matching\n",
      "6. Power: A Metric for Evaluating Watermarking Algorithms (Extended Abstract)\n",
      "\n",
      "\n"
     ]
    }
   ],
   "source": [
    "# Usando 5 tópicos\n",
    "topic_number = 5\n",
    "lda_model = models.LdaModel(corpus, num_topics=topic_number,\n",
    "                            id2word=dictionary, passes=5, iterations=200)\n",
    "corpus_df['lda'] = lda_model[corpus_df.bow.tolist()]\n",
    "doc_idx = make_recommendations('lda', 'euclidean', 5)\n",
    "print_recommendations(doc_idx, 'lda')"
   ]
  },
  {
   "cell_type": "code",
   "execution_count": 25,
   "metadata": {
    "colab": {
     "base_uri": "https://localhost:8080/",
     "height": 617
    },
    "colab_type": "code",
    "id": "bWentsccOUnw",
    "outputId": "9a3db9dd-e1a6-46f4-c94b-847c0ddd98cf"
   },
   "outputs": [
    {
     "name": "stdout",
     "output_type": "stream",
     "text": [
      "Generative Model-based Clustering of Directional Data\n",
      "\n",
      "Documentos cercanos: \n",
      "1. On the effect and control of self-similar network traffic: A simulation perspective\n",
      "2. Observation and Analysis of BGP Behavior Under Stress\n",
      "3. On Interactive Visualization of High-dimensional Data using the Hyperbolic Plane\n",
      "4. A Formal Model for Procedure Calling Conventions\n",
      "5. Multilingual Processing of Auxiliaries within LFG\n",
      "6. An Annotated Bibliography on Temporal and Evolution Aspects in the World Wide Web\n",
      "\n",
      "\n",
      "The Role of Context in Question Answering Systems\n",
      "\n",
      "Documentos cercanos: \n",
      "1. Notions of Computation and Monads\n",
      "2. PDL-based framework for reasoning about actions\n",
      "3. A Logical Framework for Program Analysis\n",
      "4. On Using Temporal Logic for Refinement and Compositional Verification of Concurrent Systems\n",
      "5. A Generalized Semantics for Constraint Logic Programs\n",
      "6. Logic Programming with Focusing Proofs in Linear Logic\n",
      "\n",
      "\n",
      "AutoAdmin What-if Index Analysis Utility\n",
      "\n",
      "Documentos cercanos: \n",
      "1. External Polymorphism - An Object Structural Pattern for Transparently Extending C++ Concrete Data Types\n",
      "2. On the Complexity of Relational Problems for Finite State Processes (Extended Abstract)\n",
      "3. Hypercoherences: A Strongly Stable Model of Linear Logic\n",
      "4. Solving Symbolic Ordering Constraints\n",
      "5. Orthogonal Arrays, Resilient Functions, Error Correcting Codes and Linear Programming Bounds\n",
      "6. A Crash Course in Arrow Logic\n",
      "\n",
      "\n"
     ]
    }
   ],
   "source": [
    "# Usando 20 tópicos\n",
    "topic_number = 20\n",
    "lda_model = models.LdaModel(corpus, num_topics=topic_number,\n",
    "                            id2word=dictionary, passes=5, iterations=200)\n",
    "corpus_df['lda'] = lda_model[corpus_df.bow.tolist()]\n",
    "doc_idx = make_recommendations('lda', 'euclidean', 5)\n",
    "print_recommendations(doc_idx, 'lda')"
   ]
  },
  {
   "cell_type": "markdown",
   "metadata": {
    "colab_type": "text",
    "id": "gfInn_xVSmZ6"
   },
   "source": [
    "## Stop words"
   ]
  },
  {
   "cell_type": "markdown",
   "metadata": {
    "colab_type": "text",
    "id": "1LgcEzIcxM4W"
   },
   "source": [
    "A continuación, intentaremos mejorar los resultados obtenidos con LDA eliminando las *stopwords*. ¿Qué son las *stopwords*? Son palabras vacías, sin significado, que no aportan (de manera significativa) al sentido de una frase, como los artículos, pronombres, etc."
   ]
  },
  {
   "cell_type": "code",
   "execution_count": 26,
   "metadata": {
    "colab": {
     "base_uri": "https://localhost:8080/",
     "height": 72
    },
    "colab_type": "code",
    "id": "aNlhgqHaVZuE",
    "outputId": "2364758e-2502-42bf-abd2-96b314c12869"
   },
   "outputs": [
    {
     "name": "stdout",
     "output_type": "stream",
     "text": [
      "[nltk_data] Downloading package stopwords to /root/nltk_data...\n",
      "[nltk_data]   Unzipping corpora/stopwords.zip.\n"
     ]
    },
    {
     "data": {
      "text/plain": [
       "True"
      ]
     },
     "execution_count": 26,
     "metadata": {
      "tags": []
     },
     "output_type": "execute_result"
    }
   ],
   "source": [
    "nltk.download('stopwords')"
   ]
  },
  {
   "cell_type": "code",
   "execution_count": 0,
   "metadata": {
    "colab": {},
    "colab_type": "code",
    "id": "mTKiDBwpoJ4A"
   },
   "outputs": [],
   "source": [
    "from nltk.corpus import stopwords\n",
    "\n",
    "def remove_stopwords(text):\n",
    "    filtered_words = [\n",
    "        word for word in text if word not in stopwords.words('english')\n",
    "    ]\n",
    "    return filtered_words"
   ]
  },
  {
   "cell_type": "markdown",
   "metadata": {
    "colab_type": "text",
    "id": "cQFhKTk1xM4p"
   },
   "source": [
    "Ahora, repetimos el proceso realizado anteriormente (sin tanto detalle, ya que estos se comentaron previamente)"
   ]
  },
  {
   "cell_type": "code",
   "execution_count": 28,
   "metadata": {
    "colab": {
     "base_uri": "https://localhost:8080/",
     "height": 54
    },
    "colab_type": "code",
    "id": "DqQRTEtiUf1n",
    "outputId": "522e7498-c9fc-4cb1-a9f1-4bf86e9589f7"
   },
   "outputs": [
    {
     "name": "stdout",
     "output_type": "stream",
     "text": [
      "CPU times: user 2min 52s, sys: 23.5 s, total: 3min 15s\n",
      "Wall time: 3min 15s\n"
     ]
    }
   ],
   "source": [
    "%%time\n",
    "# Puede que se demore un poco esta celda\n",
    "corpus_df['tokenized_abstract_without_stopwords'] = corpus_df.tokenized_abstract.map(remove_stopwords)"
   ]
  },
  {
   "cell_type": "code",
   "execution_count": 0,
   "metadata": {
    "colab": {},
    "colab_type": "code",
    "id": "zsAcYiECX0FO"
   },
   "outputs": [],
   "source": [
    "corpus_df['bow_without_stopwords'] = corpus_df.tokenized_abstract_without_stopwords.map(dictionary.doc2bow)\n",
    "del corpus_df['tokenized_abstract_without_stopwords']\n",
    "corpus = corpus_df['bow_without_stopwords'].tolist()"
   ]
  },
  {
   "cell_type": "code",
   "execution_count": 31,
   "metadata": {
    "colab": {
     "base_uri": "https://localhost:8080/",
     "height": 1099
    },
    "colab_type": "code",
    "id": "J2CWQqabaUFo",
    "outputId": "067e0fa7-b688-4352-941d-752b1a21a3a5"
   },
   "outputs": [
    {
     "data": {
      "text/html": [
       "<div>\n",
       "<style scoped>\n",
       "    .dataframe tbody tr th:only-of-type {\n",
       "        vertical-align: middle;\n",
       "    }\n",
       "\n",
       "    .dataframe tbody tr th {\n",
       "        vertical-align: top;\n",
       "    }\n",
       "\n",
       "    .dataframe thead th {\n",
       "        text-align: right;\n",
       "    }\n",
       "</style>\n",
       "<table border=\"1\" class=\"dataframe\">\n",
       "  <thead>\n",
       "    <tr style=\"text-align: right;\">\n",
       "      <th></th>\n",
       "      <th>id</th>\n",
       "      <th>title</th>\n",
       "      <th>abstract</th>\n",
       "      <th>tokenized_abstract</th>\n",
       "      <th>bow</th>\n",
       "      <th>tf_idf</th>\n",
       "      <th>lda</th>\n",
       "      <th>bow_without_stopwords</th>\n",
       "      <th>tf_idf_without_stopwords</th>\n",
       "    </tr>\n",
       "  </thead>\n",
       "  <tbody>\n",
       "    <tr>\n",
       "      <th>0</th>\n",
       "      <td>100002</td>\n",
       "      <td>Nonlinear Shape Statistics in Mumford{Shah Bas...</td>\n",
       "      <td>We present a variational integration of nonlin...</td>\n",
       "      <td>[we, present, a, variational, integration, of,...</td>\n",
       "      <td>[(0, 1), (1, 1), (3, 1), (4, 1), (5, 1), (6, 1...</td>\n",
       "      <td>[(0, 0.19689725999527163), (1, 0.0861613877917...</td>\n",
       "      <td>[(11, 0.13165994), (19, 0.8491911)]</td>\n",
       "      <td>[(0, 1), (1, 1), (3, 1), (6, 1), (9, 1), (11, ...</td>\n",
       "      <td>[(0, 0.19859067348407708), (1, 0.0869024181966...</td>\n",
       "    </tr>\n",
       "    <tr>\n",
       "      <th>1</th>\n",
       "      <td>100007</td>\n",
       "      <td>On the Complexity of Equilibria</td>\n",
       "      <td>We prove complexity, approximability, and inap...</td>\n",
       "      <td>[we, prove, complexity, approximability, and, ...</td>\n",
       "      <td>[(4, 5), (7, 2), (8, 1), (10, 1), (30, 3), (35...</td>\n",
       "      <td>[(4, 0.0033554011043417254), (7, 0.02333778550...</td>\n",
       "      <td>[(6, 0.23517402), (9, 0.07385617), (18, 0.0635...</td>\n",
       "      <td>[(42, 1), (43, 1), (44, 1), (45, 1), (46, 1), ...</td>\n",
       "      <td>[(42, 0.1372259998572753), (43, 0.045914969188...</td>\n",
       "    </tr>\n",
       "    <tr>\n",
       "      <th>2</th>\n",
       "      <td>100008</td>\n",
       "      <td>On QoS-Aware Publish-Subscribe</td>\n",
       "      <td>This position paper addresses the issue of sup...</td>\n",
       "      <td>[this, position, paper, addresses, the, issue,...</td>\n",
       "      <td>[(1, 1), (4, 6), (7, 1), (16, 1), (22, 1), (27...</td>\n",
       "      <td>[(1, 0.06276351152911328), (4, 0.0049492930133...</td>\n",
       "      <td>[(0, 0.1642398), (5, 0.8235981)]</td>\n",
       "      <td>[(1, 1), (90, 1), (91, 3), (92, 1), (93, 1), (...</td>\n",
       "      <td>[(1, 0.06604705077143881), (90, 0.172432977199...</td>\n",
       "    </tr>\n",
       "    <tr>\n",
       "      <th>3</th>\n",
       "      <td>10001</td>\n",
       "      <td>Checking Mergeable Priority Queues</td>\n",
       "      <td>We present an efficient algorithm which can ch...</td>\n",
       "      <td>[we, present, an, efficient, algorithm, which,...</td>\n",
       "      <td>[(4, 7), (7, 2), (8, 1), (10, 1), (16, 1), (17...</td>\n",
       "      <td>[(4, 0.0022699486545179476), (7, 0.01127724975...</td>\n",
       "      <td>[(0, 0.2208829), (3, 0.04900045), (5, 0.321130...</td>\n",
       "      <td>[(29, 1), (85, 2), (95, 1), (133, 1), (134, 1)...</td>\n",
       "      <td>[(29, 0.020859058995752067), (85, 0.0447629771...</td>\n",
       "    </tr>\n",
       "    <tr>\n",
       "      <th>4</th>\n",
       "      <td>100012</td>\n",
       "      <td>Mobile Code Security by Java Bytecode Instrume...</td>\n",
       "      <td>Mobile code provides significant opportunities...</td>\n",
       "      <td>[mobile, code, provides, significant, opportun...</td>\n",
       "      <td>[(4, 4), (5, 1), (7, 1), (10, 2), (16, 5), (22...</td>\n",
       "      <td>[(4, 0.001715799318906219), (5, 0.031751265629...</td>\n",
       "      <td>[(0, 0.72633517), (5, 0.25781852)]</td>\n",
       "      <td>[(25, 1), (29, 1), (103, 1), (108, 1), (172, 3...</td>\n",
       "      <td>[(25, 0.04074940143660829), (29, 0.02767893128...</td>\n",
       "    </tr>\n",
       "  </tbody>\n",
       "</table>\n",
       "</div>"
      ],
      "text/plain": [
       "       id                                              title  \\\n",
       "0  100002  Nonlinear Shape Statistics in Mumford{Shah Bas...   \n",
       "1  100007                    On the Complexity of Equilibria   \n",
       "2  100008                     On QoS-Aware Publish-Subscribe   \n",
       "3   10001                 Checking Mergeable Priority Queues   \n",
       "4  100012  Mobile Code Security by Java Bytecode Instrume...   \n",
       "\n",
       "                                            abstract  \\\n",
       "0  We present a variational integration of nonlin...   \n",
       "1  We prove complexity, approximability, and inap...   \n",
       "2  This position paper addresses the issue of sup...   \n",
       "3  We present an efficient algorithm which can ch...   \n",
       "4  Mobile code provides significant opportunities...   \n",
       "\n",
       "                                  tokenized_abstract  \\\n",
       "0  [we, present, a, variational, integration, of,...   \n",
       "1  [we, prove, complexity, approximability, and, ...   \n",
       "2  [this, position, paper, addresses, the, issue,...   \n",
       "3  [we, present, an, efficient, algorithm, which,...   \n",
       "4  [mobile, code, provides, significant, opportun...   \n",
       "\n",
       "                                                 bow  \\\n",
       "0  [(0, 1), (1, 1), (3, 1), (4, 1), (5, 1), (6, 1...   \n",
       "1  [(4, 5), (7, 2), (8, 1), (10, 1), (30, 3), (35...   \n",
       "2  [(1, 1), (4, 6), (7, 1), (16, 1), (22, 1), (27...   \n",
       "3  [(4, 7), (7, 2), (8, 1), (10, 1), (16, 1), (17...   \n",
       "4  [(4, 4), (5, 1), (7, 1), (10, 2), (16, 5), (22...   \n",
       "\n",
       "                                              tf_idf  \\\n",
       "0  [(0, 0.19689725999527163), (1, 0.0861613877917...   \n",
       "1  [(4, 0.0033554011043417254), (7, 0.02333778550...   \n",
       "2  [(1, 0.06276351152911328), (4, 0.0049492930133...   \n",
       "3  [(4, 0.0022699486545179476), (7, 0.01127724975...   \n",
       "4  [(4, 0.001715799318906219), (5, 0.031751265629...   \n",
       "\n",
       "                                                 lda  \\\n",
       "0                [(11, 0.13165994), (19, 0.8491911)]   \n",
       "1  [(6, 0.23517402), (9, 0.07385617), (18, 0.0635...   \n",
       "2                   [(0, 0.1642398), (5, 0.8235981)]   \n",
       "3  [(0, 0.2208829), (3, 0.04900045), (5, 0.321130...   \n",
       "4                 [(0, 0.72633517), (5, 0.25781852)]   \n",
       "\n",
       "                               bow_without_stopwords  \\\n",
       "0  [(0, 1), (1, 1), (3, 1), (6, 1), (9, 1), (11, ...   \n",
       "1  [(42, 1), (43, 1), (44, 1), (45, 1), (46, 1), ...   \n",
       "2  [(1, 1), (90, 1), (91, 3), (92, 1), (93, 1), (...   \n",
       "3  [(29, 1), (85, 2), (95, 1), (133, 1), (134, 1)...   \n",
       "4  [(25, 1), (29, 1), (103, 1), (108, 1), (172, 3...   \n",
       "\n",
       "                            tf_idf_without_stopwords  \n",
       "0  [(0, 0.19859067348407708), (1, 0.0869024181966...  \n",
       "1  [(42, 0.1372259998572753), (43, 0.045914969188...  \n",
       "2  [(1, 0.06604705077143881), (90, 0.172432977199...  \n",
       "3  [(29, 0.020859058995752067), (85, 0.0447629771...  \n",
       "4  [(25, 0.04074940143660829), (29, 0.02767893128...  "
      ]
     },
     "execution_count": 31,
     "metadata": {
      "tags": []
     },
     "output_type": "execute_result"
    }
   ],
   "source": [
    "tfidf_model_file_without_stopwords = 'resources/tfidf_model-stemm.p' if stemm else 'resources/tfidf_model.p'\n",
    "if isfile(tfidf_model_file):\n",
    "    tfidf_model_without_stopwords = models.tfidfmodel.TfidfModel().load(tfidf_model_file)\n",
    "else:\n",
    "    tfidf_model_without_stopwords = models.tfidfmodel.TfidfModel(corpus, dictionary=dictionary)\n",
    "    tfidf_model_without_stopwords.save(tfidf_model_file_without_stopwords)\n",
    "\n",
    "corpus_df['tf_idf_without_stopwords'] = tfidf_model_without_stopwords[corpus_df.bow_without_stopwords.tolist()]\n",
    "\n",
    "corpus_df.head()"
   ]
  },
  {
   "cell_type": "code",
   "execution_count": 0,
   "metadata": {
    "colab": {},
    "colab_type": "code",
    "id": "Ncp8832Uataa"
   },
   "outputs": [],
   "source": [
    "topic_number = 10\n",
    "\n",
    "lda_model_without_stopwords = models.LdaModel(corpus, num_topics=topic_number, id2word=dictionary, passes=5, iterations=200)\n",
    "corpus_df['lda_without_stopwords'] = lda_model_without_stopwords[corpus_df.bow_without_stopwords.tolist()]"
   ]
  },
  {
   "cell_type": "code",
   "execution_count": 33,
   "metadata": {
    "colab": {
     "base_uri": "https://localhost:8080/",
     "height": 401
    },
    "colab_type": "code",
    "id": "Ah0mFrEWhXgA",
    "outputId": "9b426e08-c39e-49dd-af5d-855ef2c11e96"
   },
   "outputs": [
    {
     "data": {
      "text/plain": [
       "[(0,\n",
       "  '0.008*\"speech\" + 0.008*\"model\" + 0.006*\"recognition\" + 0.006*\"clustering\" + 0.005*\"word\" + 0.005*\"et\" + 0.005*\"models\" + 0.005*\"al\" + 0.005*\"words\" + 0.004*\"one\"'),\n",
       " (1,\n",
       "  '0.029*\"n\" + 0.019*\"2\" + 0.017*\"1\" + 0.014*\"x\" + 0.014*\"p\" + 0.012*\"c\" + 0.012*\"k\" + 0.012*\"f\" + 0.011*\"0\" + 0.010*\"g\"'),\n",
       " (2,\n",
       "  '0.011*\"network\" + 0.009*\"type\" + 0.008*\"control\" + 0.008*\"traffic\" + 0.007*\"protocol\" + 0.007*\"networks\" + 0.007*\"paper\" + 0.006*\"model\" + 0.006*\"system\" + 0.006*\"types\"'),\n",
       " (3,\n",
       "  '0.013*\"performance\" + 0.010*\"parallel\" + 0.009*\"memory\" + 0.008*\"data\" + 0.007*\"network\" + 0.007*\"system\" + 0.007*\"paper\" + 0.005*\"time\" + 0.005*\"code\" + 0.005*\"distributed\"'),\n",
       " (4,\n",
       "  '0.019*\"motion\" + 0.009*\"sequences\" + 0.008*\"sequence\" + 0.007*\"objects\" + 0.007*\"image\" + 0.006*\"v\" + 0.006*\"images\" + 0.006*\"camera\" + 0.006*\"video\" + 0.006*\"scene\"'),\n",
       " (5,\n",
       "  '0.010*\"logic\" + 0.009*\"language\" + 0.007*\"paper\" + 0.007*\"program\" + 0.006*\"model\" + 0.006*\"1\" + 0.006*\"languages\" + 0.006*\"programs\" + 0.006*\"semantics\" + 0.005*\"programming\"'),\n",
       " (6,\n",
       "  '0.019*\"systems\" + 0.018*\"system\" + 0.011*\"paper\" + 0.011*\"software\" + 0.010*\"design\" + 0.006*\"introduction\" + 0.006*\"control\" + 0.006*\"agents\" + 0.006*\"object\" + 0.006*\"applications\"'),\n",
       " (7,\n",
       "  '0.021*\"data\" + 0.017*\"information\" + 0.008*\"user\" + 0.008*\"web\" + 0.008*\"users\" + 0.007*\"database\" + 0.007*\"query\" + 0.007*\"system\" + 0.007*\"retrieval\" + 0.006*\"document\"'),\n",
       " (8,\n",
       "  '0.015*\"1\" + 0.012*\"2\" + 0.009*\"3\" + 0.008*\"research\" + 0.008*\"science\" + 0.007*\"computer\" + 0.007*\"university\" + 0.007*\"planning\" + 0.007*\"4\" + 0.007*\"introduction\"'),\n",
       " (9,\n",
       "  '0.012*\"algorithm\" + 0.010*\"problem\" + 0.010*\"algorithms\" + 0.009*\"learning\" + 0.008*\"paper\" + 0.007*\"method\" + 0.007*\"1\" + 0.007*\"problems\" + 0.006*\"results\" + 0.006*\"model\"')]"
      ]
     },
     "execution_count": 33,
     "metadata": {
      "tags": []
     },
     "output_type": "execute_result"
    }
   ],
   "source": [
    "lda_model_without_stopwords.print_topics(10)"
   ]
  },
  {
   "cell_type": "markdown",
   "metadata": {
    "colab_type": "text",
    "id": "yaclTipvxM5E"
   },
   "source": [
    "**Pregunta:** ¿Qué puede decir de estos nuevos tópicos comparándolos con los obtenidos previamente (sección LDA)?\n",
    "\n",
    "**Respuesta:** Los nuevos tópicos encontrados son mucho más informativos que anteriormente, en esta oportunidad si es posible separar algunos temas y lograr identificar a qué pueden referir. No obstante, tampoco es bueno hacer esta generalización sin mencionar que el tema 1 y 8, por ejemplo, contienen números y palabras poco relevantes como \"et. al.\" que son muy comunes en papers pero no hablan de un tema particular."
   ]
  },
  {
   "cell_type": "code",
   "execution_count": 34,
   "metadata": {
    "colab": {
     "base_uri": "https://localhost:8080/",
     "height": 1090
    },
    "colab_type": "code",
    "id": "_ODPKrtce-6O",
    "outputId": "752dc906-7a49-42dd-92e2-d7eeb308490a"
   },
   "outputs": [
    {
     "name": "stdout",
     "output_type": "stream",
     "text": [
      "1) Generative Model-based Clustering of Directional Data\n",
      "\n",
      "High dimensional directional data is becoming increasingly important\n",
      "in contemporary applications such as analysis of text and gene-\n",
      "expression data. A natural model for multivariate directional data is\n",
      "provided by the von Mises-Fisher (vMF) distribution on the unit\n",
      "hypersphere that is analogous to the multi-variate Gaussian\n",
      "distribution in R . In this paper, we propose modeling complex\n",
      "directional data as a mixture of vMF distributions. We derive and\n",
      "analyze two variants of the Expectation Maximization (EM) framework\n",
      "for estimating the parameters of this mixture. We also propose two\n",
      "clustering algorithms corresponding to these variants. An interesting\n",
      "aspect of our methodology is that the spherical kmeans algorithm\n",
      "(kmeans with cosine similarity) can be shown to be a special case of\n",
      "both our algorithms. Thus, modeling text data by vMF distributions\n",
      "lends theoretical validity to the use of cosine similarity which has\n",
      "been widely used by the information retrieval community. As part of\n",
      "experimental validation, we present results on modeling high-\n",
      "dimensional text and gene-expression data as a mixture of vMF\n",
      "distributions. The results indicate that our approach yields superior\n",
      "clusterings especially for dicult clustering tasks in high-dimensional\n",
      "spaces.\n",
      "\n",
      "\n",
      "2) The Role of Context in Question Answering Systems\n",
      "\n",
      "Despite recent advances in natural language question answering\n",
      "technology, the problem of designing effective user interfaces has\n",
      "been largely unexplored. We conducted a user study to investigate the\n",
      "problem and discovered that overall, users prefer a paragraph-sized\n",
      "chunk of text over just an exact phrase as the answer to their\n",
      "questions. Furthermore, users generally prefer answers embedded in\n",
      "context, regardless of the perceived reliability of the source\n",
      "documents. When users research a topic, increasing the amount of text\n",
      "returned to users significantly decreases the number of queries that\n",
      "they pose to the system, suggesting that users utilize supporting text\n",
      "to answer related questions. We believe that these results can serve\n",
      "to guide future developments in question answering user interfaces.\n",
      "\n",
      "\n",
      "3) AutoAdmin What-if Index Analysis Utility\n",
      "\n",
      "As databases get widely deployed, it becomes increasingly important to\n",
      "reduce the overhead of database administration. An important aspect of\n",
      "data administration that critically influences performance is the\n",
      "ability to select indexes for a database. In order to decide the right\n",
      "indexes for a database, it is crucial for the database administrator\n",
      "(DBA) to be able to perform a quantitative analysis of the existing\n",
      "indexes. Furthermore, the DBA should have the ability to propose\n",
      "hypothetical (what-if) indexes and quantitatively analyze their impact\n",
      "on performance of the system. Such impact analysis may consist of\n",
      "analyzing workloads over the database, estimating changes in the cost\n",
      "of a workload, and studying index usage while taking into account\n",
      "projected changes in the sizes of the database tables. In this paper\n",
      "we describe a novel index analysis utility that we have prototyped for\n",
      "Microsoft SQL Server 7.0. We describe the interfaces exposed by this\n",
      "utility that can be leveraged by a...\n",
      "\n",
      "\n"
     ]
    }
   ],
   "source": [
    "# Rellocate user\n",
    "\n",
    "samples = corpus_df.iloc[samples_ids]\n",
    "\n",
    "for n, (ix, paper) in enumerate(samples.iterrows()):\n",
    "    idx, title, abstract, bow, tf_idf, lda, bow_without_stopwords, tf_idf_without_stopwords, lda_without_stopwords = paper[[\n",
    "        'id', 'title', 'abstract', 'bow', 'tf_idf', 'lda', 'bow_without_stopwords', 'tf_idf_without_stopwords', 'lda_without_stopwords']]\n",
    "    print('%d) %s' % (n+1, title))\n",
    "    print('')\n",
    "    print(\"\\n\".join(wrap(abstract)))\n",
    "    print('\\n')"
   ]
  },
  {
   "cell_type": "markdown",
   "metadata": {
    "colab_type": "text",
    "id": "ioMco6YHf2ex"
   },
   "source": [
    "**Pregunta:** Compare las recomendaciones hechas por los métodos cuando quitamos las *stopwords* del diccionario con su versión de las secciones anteriores.\n",
    "\n",
    "**Respuesta:**  Como se observa a continuación, al modificar lda con la eliminación de las stopwords el modelo cambia completamente las recomendaciones realizadas ya que han cambiado los tópicos generados por lda."
   ]
  },
  {
   "cell_type": "code",
   "execution_count": 36,
   "metadata": {
    "colab": {
     "base_uri": "https://localhost:8080/",
     "height": 563
    },
    "colab_type": "code",
    "id": "AkGPN64IfVSp",
    "outputId": "408d8dfb-3a42-4470-8b12-a9c576c40f44"
   },
   "outputs": [
    {
     "name": "stdout",
     "output_type": "stream",
     "text": [
      "Generative Model-based Clustering of Directional Data\n",
      "\n",
      "Documentos cercanos: \n",
      "1. Expectation Maximization for Clustering on Hyperspheres\n",
      "2. Practical Feature Subset Selection for Machine Learning\n",
      "3. Multivariate Decision Trees\n",
      "4. Margin Analysis of the LVQ Algorithm\n",
      "5. Modeling Data using Directional Distributions\n",
      "\n",
      "\n",
      "The Role of Context in Question Answering Systems\n",
      "\n",
      "Documentos cercanos: \n",
      "1. Integrating Diverse Information Management Systems: A Brief Survey\n",
      "2. Information Retrieval On The Semantic Web\n",
      "3. Querying in Highly Mobile Distributed Environments\n",
      "4. NewsComm: A Hand-Held Interface for Interactive Access to Structured Audio\n",
      "5. The KDD Process for Extracting Useful Knowledge from Volumes of Data\n",
      "\n",
      "\n",
      "AutoAdmin What-if Index Analysis Utility\n",
      "\n",
      "Documentos cercanos: \n",
      "1. Microsoft Cambridge at TREC--10: Filtering and web tracks\n",
      "2. Automated Index Management for Distributed Web Search\n",
      "3. A Parallel Software Infrastructure for Structured Adaptive Mesh Methods\n",
      "4. Efficient Peer-to-Peer Keyword Searching\n",
      "5. Modeling and Simulation of the Automated Highway System\n",
      "\n",
      "\n"
     ]
    }
   ],
   "source": [
    "# lda Original\n",
    "\n",
    "doc_idx = make_recommendations('lda', 'euclidean', 5)\n",
    "print_recommendations(doc_idx, 'lda')"
   ]
  },
  {
   "cell_type": "code",
   "execution_count": 35,
   "metadata": {
    "colab": {
     "base_uri": "https://localhost:8080/",
     "height": 563
    },
    "colab_type": "code",
    "id": "mTgW3fEMTM4p",
    "outputId": "2e8c71d5-10d9-4895-8e49-e11b84e3ae44"
   },
   "outputs": [
    {
     "name": "stdout",
     "output_type": "stream",
     "text": [
      "Generative Model-based Clustering of Directional Data\n",
      "\n",
      "Documentos cercanos: \n",
      "1. Expectation Maximization for Clustering on Hyperspheres\n",
      "2. Support Vector Machine Prediction Of Signal Peptide Cleavage Site\n",
      "3. Active Shape Model Search using Local Grey-Level Models: A Quantitative Evaluation\n",
      "4. On Training Neural Nets through Stochastic Minimization\n",
      "5. A Family of Algorithms for Finding Temporal Structure in Data\n",
      "\n",
      "\n",
      "The Role of Context in Question Answering Systems\n",
      "\n",
      "Documentos cercanos: \n",
      "1. Burg --- Fast Optimal Instruction Selection and Tree Parsing\n",
      "2. Improving Interactive Information Retrieval Effectiveness with 3-D Graphics\n",
      "3. Visualising Multiple Overlapping Classification Hierarchies\n",
      "4. On The Relationship Between Abduction And Deduction\n",
      "5. A Power Model for Routers: Modeling Alpha 21364 and InfiniBand Routers\n",
      "\n",
      "\n",
      "AutoAdmin What-if Index Analysis Utility\n",
      "\n",
      "Documentos cercanos: \n",
      "1. Authenticated Data Structures for Graph and Geometric Searching\n",
      "2. Overview of the TREC-9 Question Answering Track\n",
      "3. Overview of Evaluation in Speech and Natural Language Processing\n",
      "4. Global Communication and Memory Optimizing Transformations for Low Power Signal Processing Systems\n",
      "5. Recent-Secure Authentication: Enforcing Revocation in Distributed Systems\n",
      "\n",
      "\n"
     ]
    }
   ],
   "source": [
    "# Quitando StopWords\n",
    "\n",
    "doc_idx = make_recommendations('lda_without_stopwords', 'euclidean', 5)\n",
    "print_recommendations(doc_idx, 'lda_without_stopwords')"
   ]
  },
  {
   "cell_type": "markdown",
   "metadata": {
    "colab_type": "text",
    "id": "uIfyEAdGxgoK"
   },
   "source": [
    "**Pregunta:** ¿Cómo cambian las recomendaciones entre ambos métodos ahora que no consideramos las *stopwords*?\n",
    "\n",
    "**Respuesta:** Las recomendaciones siguen siendo bastante diferentes entre sí, aunque en contados casos como el primer documento revisado ocurre que el primer documento recomendado es igual en ambos métodos. Este hecho me llevó a consultar con otras métricas, en particular cosine, no obstante, los resultados no cambiaron mucho. A mi parecer, la definición de los tópicos con lda aún carece de cierta mejora en su definición."
   ]
  },
  {
   "cell_type": "code",
   "execution_count": 39,
   "metadata": {
    "colab": {
     "base_uri": "https://localhost:8080/",
     "height": 563
    },
    "colab_type": "code",
    "id": "scQsJAc7cOhV",
    "outputId": "ceb9ad71-e115-476a-b879-63f640aad7c1"
   },
   "outputs": [
    {
     "name": "stdout",
     "output_type": "stream",
     "text": [
      "Generative Model-based Clustering of Directional Data\n",
      "\n",
      "Documentos cercanos: \n",
      "1. Expectation Maximization for Clustering on Hyperspheres\n",
      "2. Modeling Data using Directional Distributions\n",
      "3. Iterative Clustering of High Dimensional Text Data Augmented by Local Search\n",
      "4. Clustering Binary Data Streams with K-means\n",
      "5. Unsupervised Classification with Non-Gaussian Mixture Models using ICA\n",
      "\n",
      "\n",
      "The Role of Context in Question Answering Systems\n",
      "\n",
      "Documentos cercanos: \n",
      "1. Overview of the TREC-9 Question Answering Track\n",
      "2. Text Segmentation by Topic\n",
      "3. Probabilistic Question Answering on the Web\n",
      "4. Web Question Answering: Is More Always Better?\n",
      "5. AskMSR: Question Answering Using the Worldwide Web\n",
      "\n",
      "\n",
      "AutoAdmin What-if Index Analysis Utility\n",
      "\n",
      "Documentos cercanos: \n",
      "1. Updates for Structure Indexes\n",
      "2. Covering Indexes for Branching Path Queries\n",
      "3. Efficient Peer-To-Peer Searches Using Result-Caching\n",
      "4. On Implementing a Language for Specifying Active Database Execution Models\n",
      "5. A Functional Database\n",
      "\n",
      "\n"
     ]
    }
   ],
   "source": [
    "# Recommendation example: TF-IDF without stopwords\n",
    "\n",
    "doc_idx = make_recommendations('tf_idf_without_stopwords', 'cosine', 5)\n",
    "print_recommendations(doc_idx, 'tf_idf_without_stopwords')"
   ]
  },
  {
   "cell_type": "code",
   "execution_count": 40,
   "metadata": {
    "colab": {
     "base_uri": "https://localhost:8080/",
     "height": 563
    },
    "colab_type": "code",
    "id": "RUXP52_Kckb_",
    "outputId": "09ed97ef-8f52-429e-9b07-f1185d0f59c2"
   },
   "outputs": [
    {
     "name": "stdout",
     "output_type": "stream",
     "text": [
      "Generative Model-based Clustering of Directional Data\n",
      "\n",
      "Documentos cercanos: \n",
      "1. Expectation Maximization for Clustering on Hyperspheres\n",
      "2. Support Vector Machine Prediction Of Signal Peptide Cleavage Site\n",
      "3. On Training Neural Nets through Stochastic Minimization\n",
      "4. Active Shape Model Search using Local Grey-Level Models: A Quantitative Evaluation\n",
      "5. Nonparametric Markov Random Field Models for Natural Texture Images\n",
      "\n",
      "\n",
      "The Role of Context in Question Answering Systems\n",
      "\n",
      "Documentos cercanos: \n",
      "1. Visualising Multiple Overlapping Classification Hierarchies\n",
      "2. Burg --- Fast Optimal Instruction Selection and Tree Parsing\n",
      "3. Improving Interactive Information Retrieval Effectiveness with 3-D Graphics\n",
      "4. An Investigation of Documents from the World Wide Web\n",
      "5. A Hierarchical Characterization of a Live Streaming Media Workload\n",
      "\n",
      "\n",
      "AutoAdmin What-if Index Analysis Utility\n",
      "\n",
      "Documentos cercanos: \n",
      "1. Authenticated Data Structures for Graph and Geometric Searching\n",
      "2. Overview of the TREC-9 Question Answering Track\n",
      "3. Overview of Evaluation in Speech and Natural Language Processing\n",
      "4. Global Communication and Memory Optimizing Transformations for Low Power Signal Processing Systems\n",
      "5. Analysing Approximate Confinement under Uniform Attacks\n",
      "\n",
      "\n"
     ]
    }
   ],
   "source": [
    "# Recommendation example: LDA without stopwords\n",
    "\n",
    "doc_idx = make_recommendations('lda_without_stopwords', 'cosine', 5)\n",
    "print_recommendations(doc_idx, 'lda_without_stopwords')"
   ]
  },
  {
   "cell_type": "markdown",
   "metadata": {
    "colab_type": "text",
    "id": "ncn1B8W5mPWb"
   },
   "source": [
    "**Pregunta:** Realice el siguiente gráfico. Pruebe graficando los items con respecto al tópico con mayor probabilidad de pertenencia, para poder hacer el gráfico deberá usar algún método de reducción de dimensionalidad como PCA o T-SNE a los valores de LDA que están en el dataframe.\n",
    "\n",
    "Ejemplo:"
   ]
  },
  {
   "cell_type": "markdown",
   "metadata": {
    "colab_type": "text",
    "id": "rauMml6Hquox"
   },
   "source": [
    "![Expected plot](https://raw.githubusercontent.com/PUC-RecSys-Class/Syllabus/master/Practico%204/files/plot.png)"
   ]
  },
  {
   "cell_type": "code",
   "execution_count": 0,
   "metadata": {
    "colab": {},
    "colab_type": "code",
    "id": "LALKKBQcnzlg"
   },
   "outputs": [],
   "source": [
    "from sklearn.decomposition import PCA\n",
    "\n",
    "data = []\n",
    "target = []\n",
    "\n",
    "for doc in corpus_df['lda_without_stopwords']:\n",
    "  vect = np.zeros(10)\n",
    "  for val in doc:\n",
    "    vect[val[0]] = val[1]\n",
    "  target.append( int( np.where(vect == max(vect) )[0][0]) ) \n",
    "  data.append(vect)"
   ]
  },
  {
   "cell_type": "code",
   "execution_count": 0,
   "metadata": {
    "colab": {},
    "colab_type": "code",
    "id": "ILk4a-JRm9YJ"
   },
   "outputs": [],
   "source": [
    "data = np.array(data)\n",
    "\n",
    "pca = PCA(n_components= 2, copy=True, whiten= True, svd_solver= 'full')\n",
    "datafin = pca.fit_transform(data)"
   ]
  },
  {
   "cell_type": "code",
   "execution_count": 81,
   "metadata": {
    "colab": {
     "base_uri": "https://localhost:8080/",
     "height": 198
    },
    "colab_type": "code",
    "id": "pitCaJlxnK9X",
    "outputId": "aa99447c-2ac3-46db-fe0b-8306b088f1d1"
   },
   "outputs": [
    {
     "data": {
      "text/html": [
       "<div>\n",
       "<style scoped>\n",
       "    .dataframe tbody tr th:only-of-type {\n",
       "        vertical-align: middle;\n",
       "    }\n",
       "\n",
       "    .dataframe tbody tr th {\n",
       "        vertical-align: top;\n",
       "    }\n",
       "\n",
       "    .dataframe thead th {\n",
       "        text-align: right;\n",
       "    }\n",
       "</style>\n",
       "<table border=\"1\" class=\"dataframe\">\n",
       "  <thead>\n",
       "    <tr style=\"text-align: right;\">\n",
       "      <th></th>\n",
       "      <th>pc_1</th>\n",
       "      <th>pc_2</th>\n",
       "      <th>target</th>\n",
       "    </tr>\n",
       "  </thead>\n",
       "  <tbody>\n",
       "    <tr>\n",
       "      <th>0</th>\n",
       "      <td>2.254475</td>\n",
       "      <td>-0.031501</td>\n",
       "      <td>9.0</td>\n",
       "    </tr>\n",
       "    <tr>\n",
       "      <th>1</th>\n",
       "      <td>0.831270</td>\n",
       "      <td>-0.096159</td>\n",
       "      <td>9.0</td>\n",
       "    </tr>\n",
       "    <tr>\n",
       "      <th>2</th>\n",
       "      <td>-0.686544</td>\n",
       "      <td>-0.082589</td>\n",
       "      <td>2.0</td>\n",
       "    </tr>\n",
       "    <tr>\n",
       "      <th>3</th>\n",
       "      <td>1.067593</td>\n",
       "      <td>0.188168</td>\n",
       "      <td>9.0</td>\n",
       "    </tr>\n",
       "    <tr>\n",
       "      <th>4</th>\n",
       "      <td>-0.975871</td>\n",
       "      <td>0.324082</td>\n",
       "      <td>5.0</td>\n",
       "    </tr>\n",
       "  </tbody>\n",
       "</table>\n",
       "</div>"
      ],
      "text/plain": [
       "       pc_1      pc_2  target\n",
       "0  2.254475 -0.031501     9.0\n",
       "1  0.831270 -0.096159     9.0\n",
       "2 -0.686544 -0.082589     2.0\n",
       "3  1.067593  0.188168     9.0\n",
       "4 -0.975871  0.324082     5.0"
      ]
     },
     "execution_count": 81,
     "metadata": {
      "tags": []
     },
     "output_type": "execute_result"
    }
   ],
   "source": [
    "principalDf = pd.DataFrame(np.column_stack( (datafin, target)), columns = ['pc_1', 'pc_2', 'target'])\n",
    "principalDf.head()"
   ]
  },
  {
   "cell_type": "code",
   "execution_count": 86,
   "metadata": {
    "colab": {
     "base_uri": "https://localhost:8080/",
     "height": 35
    },
    "colab_type": "code",
    "id": "SKDpt32OtDOs",
    "outputId": "4128e9a8-4b97-41fb-f479-92ce7d34bb7a"
   },
   "outputs": [
    {
     "name": "stdout",
     "output_type": "stream",
     "text": [
      "<class 'numpy.float64'>\n"
     ]
    }
   ],
   "source": [
    "print( type( principalDf['target'][0]) )"
   ]
  },
  {
   "cell_type": "code",
   "execution_count": 90,
   "metadata": {
    "colab": {
     "base_uri": "https://localhost:8080/",
     "height": 523
    },
    "colab_type": "code",
    "id": "vVgNl4ZvpBQ-",
    "outputId": "1cee33e7-7536-4a62-cf62-0b2625a0cd6b"
   },
   "outputs": [
    {
     "data": {
      "image/png": "[encoded data removed]",
      "text/plain": [
       "<matplotlib.figure.Figure at 0x7fecf582b9e8>"
      ]
     },
     "metadata": {
      "tags": []
     },
     "output_type": "display_data"
    }
   ],
   "source": [
    "import matplotlib.pyplot as plt\n",
    "\n",
    "fig = plt.figure(figsize = (8,8))\n",
    "ax = fig.add_subplot(1,1,1) \n",
    "ax.set_xlabel('Principal Component 1', fontsize = 15)\n",
    "ax.set_ylabel('Principal Component 2', fontsize = 15)\n",
    "ax.set_title('2 component PCA', fontsize = 20)\n",
    "targets = [0.0, 1.0, 2.0, 3.0, 4.0, 5.0, 6.0, 7.0, 8.0, 9.0]\n",
    "colors = ['black', 'g', 'b', 'y', 'brown', 'red', 'pink', 'orange', 'grey']\n",
    "for target, color in zip(targets,colors):\n",
    "    indicesToKeep = principalDf['target'] == target\n",
    "    ax.scatter(principalDf.loc[indicesToKeep, 'pc_1']\n",
    "               , principalDf.loc[indicesToKeep, 'pc_2']\n",
    "               , c = color\n",
    "               , s = 50)\n",
    "ax.legend(targets)\n",
    "ax.grid()"
   ]
  },
  {
   "cell_type": "markdown",
   "metadata": {
    "colab_type": "text",
    "id": "X60ZefJhxM5c"
   },
   "source": [
    "## Otro método: Non-negative Matrix Factorization (NMF)"
   ]
  },
  {
   "cell_type": "markdown",
   "metadata": {
    "colab_type": "text",
    "id": "Rs2eNlQWnAK2"
   },
   "source": [
    "A continuación, utilizaremos el modelo NMF para generar recomendaciones:"
   ]
  },
  {
   "cell_type": "code",
   "execution_count": 91,
   "metadata": {
    "colab": {
     "base_uri": "https://localhost:8080/",
     "height": 910
    },
    "colab_type": "code",
    "id": "qXlGYDIcjcKi",
    "outputId": "6f4494a9-fac1-4f8d-8842-a7c7a1a5cce4"
   },
   "outputs": [
    {
     "name": "stdout",
     "output_type": "stream",
     "text": [
      "Tópicos:\n",
      "Tópico #0: algorithm problem algorithms problems model method set paper results methods number search based models approach new used space using graph\n",
      "\n",
      "Tópico #1: logic language programming type semantics languages programs program calculus proof theory types order specification reasoning functional temporal knowledge properties logics\n",
      "\n",
      "Tópico #2: software systems parallel memory performance design distributed applications application code paper architecture support user hardware development level communication implementation process\n",
      "\n",
      "Tópico #3: data query web information database queries databases retrieval documents xml relational text user sources document semantic knowledge mining search access\n",
      "\n",
      "Tópico #4: agents agent planning mobile autonomous actions environment information action robot plan multi behavior negotiation plans coordination cooperative control intelligent interaction\n",
      "\n",
      "Tópico #5: image images motion video shape camera recognition visual based 3d tracking vision face human scene segmentation method features surface objects\n",
      "\n",
      "Tópico #6: network networks routing nodes protocol traffic peer protocols service internet multicast wireless tcp packet neural communication end hoc ad mobile\n",
      "\n",
      "Tópico #7: learning neural training reinforcement machine networks learn knowledge examples tasks supervised bayesian classification task robot pac rules network inductive recurrent\n",
      "\n",
      "Tópico #8: object oriented objects database languages classes inheritance class type language model programming databases features systems views complex concurrent design types\n",
      "\n",
      "Tópico #9: time real scheduling systems timing run temporal constraints tasks timed control applications log series execution world resource requirements clock qos\n",
      "\n",
      "\n",
      "\n",
      "\n",
      "Tópicos con divergencia KL:\n",
      "Tópico #0: paper used using results new techniques use present problem set work based number time introduction method approach simple data proposed\n",
      "\n",
      "Tópico #1: language programming paper systems programs software program object languages use oriented semantics types specification introduction design type tools support implementation\n",
      "\n",
      "Tópico #2: network performance paper distributed systems networks service applications communication time support use user high provide users memory large protocol software\n",
      "\n",
      "Tópico #3: information data user web query text database queries retrieval systems based world large users semantic using document databases structure processing\n",
      "\n",
      "Tópico #4: paper systems work research introduction knowledge theory used world reasoning use task process based information agents agent planning model understanding\n",
      "\n",
      "Tópico #5: image paper visual using images vision model objects motion real method used object recognition based shape surface use space video\n",
      "\n",
      "Tópico #6: theory properties order using present type given set study proof prove terms simple model logic new theorem result based non\n",
      "\n",
      "Tópico #7: learning training networks network neural models model data machine weights learn tasks algorithms methods selection classification task statistical performance patterns\n",
      "\n",
      "Tópico #8: problem problems time algorithm algorithms solution search number set solutions optimal solving solve optimization graph tree introduction given space known\n",
      "\n",
      "Tópico #9: systems time state model real temporal processes models verification introduction university properties states logic science control constraints execution transition supported\n",
      "\n",
      "\n",
      "\n",
      "\n"
     ]
    }
   ],
   "source": [
    "n_components = 10\n",
    "n_top_words = 20\n",
    "\n",
    "\n",
    "def print_top_words(model, feature_names, n_top_words):\n",
    "    for topic_idx, topic in enumerate(model.components_):\n",
    "        message = \"Tópico #%d: \" % topic_idx\n",
    "        message += \" \".join([feature_names[i]\n",
    "                             for i in topic.argsort()[:-n_top_words - 1:-1]])\n",
    "        print(message)\n",
    "        print()\n",
    "    print()\n",
    "\n",
    "\n",
    "data_samples = corpus_df['abstract'].values\n",
    "\n",
    "# Formato TF-IDF de sklearn\n",
    "tfidf_vectorizer = TfidfVectorizer(max_df=0.95, min_df=2, stop_words='english')\n",
    "tfidf = tfidf_vectorizer.fit_transform(data_samples)\n",
    "\n",
    "# Fit NMF\n",
    "nmf = NMF(n_components=n_components, random_state=1,\n",
    "          alpha=.1, l1_ratio=.5,\n",
    "          ).fit(tfidf)\n",
    "nmf_transform_1 = nmf.transform(tfidf)\n",
    "# Display NMF\n",
    "print(\"Tópicos:\")\n",
    "tfidf_feature_names = tfidf_vectorizer.get_feature_names()\n",
    "print_top_words(nmf, tfidf_feature_names, n_top_words)\n",
    "print()\n",
    "print()\n",
    "\n",
    "# Fit NMF with KL-Divergence\n",
    "nmf = NMF(n_components=n_components, random_state=1,\n",
    "          beta_loss='kullback-leibler', solver='mu', max_iter=1000, alpha=.1,\n",
    "          l1_ratio=.5,\n",
    "          ).fit(tfidf)\n",
    "# Display NMF with KL-Divergence\n",
    "print(\"Tópicos con divergencia KL:\")\n",
    "tfidf_feature_names = tfidf_vectorizer.get_feature_names()\n",
    "print_top_words(nmf, tfidf_feature_names, n_top_words)\n",
    "print()\n",
    "print()"
   ]
  },
  {
   "cell_type": "markdown",
   "metadata": {
    "colab_type": "text",
    "id": "iGQPLsSOo17R"
   },
   "source": [
    "**Pregunta:** ¿Le parece significativa la diferencia en la calidad de los tópicos al usar la divergencia KL? ¿Son mejores estos tópicos que los obtenidos anteriormente?\n",
    "\n",
    "**Respuesta:** Los tópicos obtenidos son mucho mejores a los encontrados anteriormente, en ellos casi no hay rastro de palabras ambigüas, a excepción de algunos verbos que permanecen sin jugar un papel fundamental en la diferenciación de temas. Por otro lado, las palabras que encontramos sí otorgan cierto sentido particular o al menos, denotan un tema en común, cosa que aún al usar lda sin stop words no se lograba del todo."
   ]
  },
  {
   "cell_type": "markdown",
   "metadata": {
    "colab_type": "text",
    "id": "Mwv337wWoX6e"
   },
   "source": [
    "Agregamos los valores obtenidos como una columna en el *dataframe*:"
   ]
  },
  {
   "cell_type": "code",
   "execution_count": 94,
   "metadata": {
    "colab": {
     "base_uri": "https://localhost:8080/",
     "height": 199
    },
    "colab_type": "code",
    "id": "96s0zV2PqttB",
    "outputId": "55a57051-af62-44eb-ba94-c7539a1279cd"
   },
   "outputs": [
    {
     "data": {
      "text/plain": [
       "[(0, 0.017552312942651277),\n",
       " (1, 0.0),\n",
       " (2, 0.00024942073208881885),\n",
       " (3, 0.0),\n",
       " (4, 0.0),\n",
       " (5, 0.016201010036704863),\n",
       " (6, 0.0),\n",
       " (7, 0.001184297742430841),\n",
       " (8, 0.0),\n",
       " (9, 0.0)]"
      ]
     },
     "execution_count": 94,
     "metadata": {
      "tags": []
     },
     "output_type": "execute_result"
    }
   ],
   "source": [
    "corpus_df['NMF'] = [[(i, prob) for i, prob in enumerate(l)] for l in nmf_transform_1.tolist()]\n",
    "\n",
    "corpus_df['NMF'][0]"
   ]
  },
  {
   "cell_type": "markdown",
   "metadata": {
    "colab_type": "text",
    "id": "Mz2ybg7KowBA"
   },
   "source": [
    "**Pregunta:** Explique qué representa la columna `NMF`, ¿qué significan los valores?\n",
    "\n",
    "**Respuesta:** Nuevamente MMF entrega una distribución por tema que compone cada uno de los documentos, donde se indexa los 10 tópicos encontrados con su respectiva probabilidad de que este se haya generado a partir de la consideración de este."
   ]
  },
  {
   "cell_type": "markdown",
   "metadata": {
    "colab_type": "text",
    "id": "jXLq5NDiodTp"
   },
   "source": [
    "Repetimos el proceso de *sampling* para inspeccionar los resultados:"
   ]
  },
  {
   "cell_type": "code",
   "execution_count": 95,
   "metadata": {
    "colab": {
     "base_uri": "https://localhost:8080/",
     "height": 1090
    },
    "colab_type": "code",
    "id": "h3kaYZhntt5X",
    "outputId": "a1dc19e1-2a84-4fd3-e89a-d057b1c7c253"
   },
   "outputs": [
    {
     "name": "stdout",
     "output_type": "stream",
     "text": [
      "1) Generative Model-based Clustering of Directional Data\n",
      "\n",
      "High dimensional directional data is becoming increasingly important\n",
      "in contemporary applications such as analysis of text and gene-\n",
      "expression data. A natural model for multivariate directional data is\n",
      "provided by the von Mises-Fisher (vMF) distribution on the unit\n",
      "hypersphere that is analogous to the multi-variate Gaussian\n",
      "distribution in R . In this paper, we propose modeling complex\n",
      "directional data as a mixture of vMF distributions. We derive and\n",
      "analyze two variants of the Expectation Maximization (EM) framework\n",
      "for estimating the parameters of this mixture. We also propose two\n",
      "clustering algorithms corresponding to these variants. An interesting\n",
      "aspect of our methodology is that the spherical kmeans algorithm\n",
      "(kmeans with cosine similarity) can be shown to be a special case of\n",
      "both our algorithms. Thus, modeling text data by vMF distributions\n",
      "lends theoretical validity to the use of cosine similarity which has\n",
      "been widely used by the information retrieval community. As part of\n",
      "experimental validation, we present results on modeling high-\n",
      "dimensional text and gene-expression data as a mixture of vMF\n",
      "distributions. The results indicate that our approach yields superior\n",
      "clusterings especially for dicult clustering tasks in high-dimensional\n",
      "spaces.\n",
      "\n",
      "\n",
      "2) The Role of Context in Question Answering Systems\n",
      "\n",
      "Despite recent advances in natural language question answering\n",
      "technology, the problem of designing effective user interfaces has\n",
      "been largely unexplored. We conducted a user study to investigate the\n",
      "problem and discovered that overall, users prefer a paragraph-sized\n",
      "chunk of text over just an exact phrase as the answer to their\n",
      "questions. Furthermore, users generally prefer answers embedded in\n",
      "context, regardless of the perceived reliability of the source\n",
      "documents. When users research a topic, increasing the amount of text\n",
      "returned to users significantly decreases the number of queries that\n",
      "they pose to the system, suggesting that users utilize supporting text\n",
      "to answer related questions. We believe that these results can serve\n",
      "to guide future developments in question answering user interfaces.\n",
      "\n",
      "\n",
      "3) AutoAdmin What-if Index Analysis Utility\n",
      "\n",
      "As databases get widely deployed, it becomes increasingly important to\n",
      "reduce the overhead of database administration. An important aspect of\n",
      "data administration that critically influences performance is the\n",
      "ability to select indexes for a database. In order to decide the right\n",
      "indexes for a database, it is crucial for the database administrator\n",
      "(DBA) to be able to perform a quantitative analysis of the existing\n",
      "indexes. Furthermore, the DBA should have the ability to propose\n",
      "hypothetical (what-if) indexes and quantitatively analyze their impact\n",
      "on performance of the system. Such impact analysis may consist of\n",
      "analyzing workloads over the database, estimating changes in the cost\n",
      "of a workload, and studying index usage while taking into account\n",
      "projected changes in the sizes of the database tables. In this paper\n",
      "we describe a novel index analysis utility that we have prototyped for\n",
      "Microsoft SQL Server 7.0. We describe the interfaces exposed by this\n",
      "utility that can be leveraged by a...\n",
      "\n",
      "\n"
     ]
    }
   ],
   "source": [
    "# Rellocate user\n",
    "\n",
    "samples = corpus_df.iloc[samples_ids]\n",
    "\n",
    "for n, (ix, paper) in enumerate(samples.iterrows()):\n",
    "    idx, title, abstract, bow, tf_idf, lda, bow_without_stopwords, tf_idf_without_stopwords, lda_without_stopwords, nmf = paper[[\n",
    "        'id', 'title', 'abstract', 'bow', 'tf_idf', 'lda', 'bow_without_stopwords', 'tf_idf_without_stopwords', 'lda_without_stopwords', 'NMF']]\n",
    "    print('%d) %s' % (n+1, title))\n",
    "    print('')\n",
    "    print(\"\\n\".join(wrap(abstract)))\n",
    "    print('\\n')"
   ]
  },
  {
   "cell_type": "markdown",
   "metadata": {
    "colab_type": "text",
    "id": "nl155tv3pMnW"
   },
   "source": [
    "**Pregunta:** Compare y comente sobre las recomendaciones hechas por los métodos anteriores con las obtenidas usando NMF.\n",
    "\n",
    "**Respuesta:** Las recomendaciones son variadas entre los diferentes modelos, por esto mismo, es necesario mirar con detalle cuales son las sugerencias para afirmar cual algoritmo es el que se comporta mejor. Observando se puede ver td_idf con NMF son los que más se parecen, logrando en algunas publicaciones coincidar hasta en dos recomendaciones similares, por su parte lda es el que muestra una mayor gamma de opciones. Cuando observamos en particular el paper \"The Role of Context in Question Answering Systems\" y las recomendaciones que se nos hacen al respecto, se aprecia que td-idf es el único capaz de rescatar una real similaridad temática (Question Answering) en los paper sugeridos, por su parte, el método NMF tiende a perderse dándole importancia quizá a otros aspectos o fundamentando una similaridad temática más amplia (computación)."
   ]
  },
  {
   "cell_type": "code",
   "execution_count": 99,
   "metadata": {
    "colab": {
     "base_uri": "https://localhost:8080/",
     "height": 563
    },
    "colab_type": "code",
    "id": "VDsYQUgjwT9W",
    "outputId": "bbbcb7dc-9b48-4382-a301-9ccc3745eee6"
   },
   "outputs": [
    {
     "name": "stdout",
     "output_type": "stream",
     "text": [
      "Generative Model-based Clustering of Directional Data\n",
      "\n",
      "Documentos cercanos: \n",
      "1. Expectation Maximization for Clustering on Hyperspheres\n",
      "2. Support Vector Machine Prediction Of Signal Peptide Cleavage Site\n",
      "3. Active Shape Model Search using Local Grey-Level Models: A Quantitative Evaluation\n",
      "4. On Training Neural Nets through Stochastic Minimization\n",
      "5. A Family of Algorithms for Finding Temporal Structure in Data\n",
      "\n",
      "\n",
      "The Role of Context in Question Answering Systems\n",
      "\n",
      "Documentos cercanos: \n",
      "1. Burg --- Fast Optimal Instruction Selection and Tree Parsing\n",
      "2. Improving Interactive Information Retrieval Effectiveness with 3-D Graphics\n",
      "3. Visualising Multiple Overlapping Classification Hierarchies\n",
      "4. On The Relationship Between Abduction And Deduction\n",
      "5. A Power Model for Routers: Modeling Alpha 21364 and InfiniBand Routers\n",
      "\n",
      "\n",
      "AutoAdmin What-if Index Analysis Utility\n",
      "\n",
      "Documentos cercanos: \n",
      "1. Authenticated Data Structures for Graph and Geometric Searching\n",
      "2. Overview of the TREC-9 Question Answering Track\n",
      "3. Overview of Evaluation in Speech and Natural Language Processing\n",
      "4. Global Communication and Memory Optimizing Transformations for Low Power Signal Processing Systems\n",
      "5. Recent-Secure Authentication: Enforcing Revocation in Distributed Systems\n",
      "\n",
      "\n"
     ]
    }
   ],
   "source": [
    "doc_idx = make_recommendations('lda_without_stopwords', 'euclidean', 5)\n",
    "print_recommendations(doc_idx, 'lda_without_stopwords')"
   ]
  },
  {
   "cell_type": "code",
   "execution_count": 101,
   "metadata": {
    "colab": {
     "base_uri": "https://localhost:8080/",
     "height": 563
    },
    "colab_type": "code",
    "id": "PtuPvqt3wlf0",
    "outputId": "0106f2c7-8d9e-4900-b51c-ade7bfaa5b9c"
   },
   "outputs": [
    {
     "name": "stdout",
     "output_type": "stream",
     "text": [
      "Generative Model-based Clustering of Directional Data\n",
      "\n",
      "Documentos cercanos: \n",
      "1. Expectation Maximization for Clustering on Hyperspheres\n",
      "2. Modeling Data using Directional Distributions\n",
      "3. Iterative Clustering of High Dimensional Text Data Augmented by Local Search\n",
      "4. Clustering Binary Data Streams with K-means\n",
      "5. Unsupervised Classification with Non-Gaussian Mixture Models using ICA\n",
      "\n",
      "\n",
      "The Role of Context in Question Answering Systems\n",
      "\n",
      "Documentos cercanos: \n",
      "1. Overview of the TREC-9 Question Answering Track\n",
      "2. Text Segmentation by Topic\n",
      "3. Probabilistic Question Answering on the Web\n",
      "4. Web Question Answering: Is More Always Better?\n",
      "5. AskMSR: Question Answering Using the Worldwide Web\n",
      "\n",
      "\n",
      "AutoAdmin What-if Index Analysis Utility\n",
      "\n",
      "Documentos cercanos: \n",
      "1. Updates for Structure Indexes\n",
      "2. Covering Indexes for Branching Path Queries\n",
      "3. Efficient Peer-To-Peer Searches Using Result-Caching\n",
      "4. On Implementing a Language for Specifying Active Database Execution Models\n",
      "5. A Functional Database\n",
      "\n",
      "\n"
     ]
    }
   ],
   "source": [
    "doc_idx = make_recommendations('tf_idf_without_stopwords', 'euclidean', 5)\n",
    "print_recommendations(doc_idx, 'tf_idf_without_stopwords')"
   ]
  },
  {
   "cell_type": "code",
   "execution_count": 96,
   "metadata": {
    "colab": {
     "base_uri": "https://localhost:8080/",
     "height": 563
    },
    "colab_type": "code",
    "id": "ZIwj5hu3sVRn",
    "outputId": "4845b23b-8c44-4538-ce16-543cd1c6e076"
   },
   "outputs": [
    {
     "name": "stdout",
     "output_type": "stream",
     "text": [
      "Generative Model-based Clustering of Directional Data\n",
      "\n",
      "Documentos cercanos: \n",
      "1. Data Exchange: Getting to the Core\n",
      "2. Expectation Maximization for Clustering on Hyperspheres\n",
      "3. Modeling Data using Directional Distributions\n",
      "4. Search and Ranking Algorithms for Locating Resources on the World Wide Web\n",
      "5. On Comparing Classifiers: A Critique of Current Research and Methods\n",
      "\n",
      "\n",
      "The Role of Context in Question Answering Systems\n",
      "\n",
      "Documentos cercanos: \n",
      "1. An Automated System for Web Portal Personalization\n",
      "2. World Wide Web Implementation of the Langley Technical Report Server\n",
      "3. Translating Web Data\n",
      "4. The WWW Based Data Mining Toolbox Architecture\n",
      "5. Automatic Generation of Warehouse Mediators Using an Ontology Engine\n",
      "\n",
      "\n",
      "AutoAdmin What-if Index Analysis Utility\n",
      "\n",
      "Documentos cercanos: \n",
      "1. Query Processing for High-Volume XML Message Brokering\n",
      "2. The KDD Process for Extracting Useful Knowledge from Volumes of Data\n",
      "3. STREAM: The Stanford Stream Data Manager\n",
      "4. Indexing Open Schemas\n",
      "5. A Meta-Wrapper for Scaling up to Multiple Autonomous Distributed Information Sources\n",
      "\n",
      "\n"
     ]
    }
   ],
   "source": [
    "doc_idx = make_recommendations('NMF', 'euclidean', 5)\n",
    "print_recommendations(doc_idx, 'NMF')"
   ]
  },
  {
   "cell_type": "code",
   "execution_count": 0,
   "metadata": {
    "colab": {},
    "colab_type": "code",
    "id": "ntl9a3AjwJbQ"
   },
   "outputs": [],
   "source": []
  }
 ],
 "metadata": {
  "colab": {
   "collapsed_sections": [],
   "name": "practico_4_content_based.ipynb",
   "provenance": [],
   "version": "0.3.2"
  },
  "kernelspec": {
   "display_name": "Python 3 (ipykernel)",
   "language": "python",
   "name": "python3"
  },
  "language_info": {
   "codemirror_mode": {
    "name": "ipython",
    "version": 3
   },
   "file_extension": ".py",
   "mimetype": "text/x-python",
   "name": "python",
   "nbconvert_exporter": "python",
   "pygments_lexer": "ipython3",
   "version": "3.7.3"
  }
 },
 "nbformat": 4,
 "nbformat_minor": 1
}

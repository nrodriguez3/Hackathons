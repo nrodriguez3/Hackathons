{
  "cells": [
    {
      "cell_type": "markdown",
      "source": [
        "# Hyperparameter Tuning\n",
        "\n",
        "Optuna"
      ],
      "metadata": {
        "application/vnd.databricks.v1+cell": {
          "showTitle": false,
          "cellMetadata": {},
          "nuid": "c51b29f5-e0bc-4301-8940-b53dd56a392d",
          "inputWidgets": {},
          "title": ""
        },
        "id": "ij2NdEOLpVDY"
      }
    },
    {
      "cell_type": "markdown",
      "source": [
        "## I. Preparacion"
      ],
      "metadata": {
        "application/vnd.databricks.v1+cell": {
          "showTitle": false,
          "cellMetadata": {},
          "nuid": "a7ba3a5f-dff7-40cb-8802-6417b3b91324",
          "inputWidgets": {},
          "title": ""
        },
        "id": "hFroMVFypVDc"
      }
    },
    {
      "cell_type": "markdown",
      "source": [
        "### Librerias"
      ],
      "metadata": {
        "application/vnd.databricks.v1+cell": {
          "showTitle": false,
          "cellMetadata": {},
          "nuid": "abfc9537-6237-4165-94b3-7c606e65f682",
          "inputWidgets": {},
          "title": ""
        },
        "id": "EKwcuDEOpVDc"
      }
    },
    {
      "cell_type": "code",
      "source": [
        "%pip install imblearn joblib ptitprince shap --quiet unidecode "
      ],
      "metadata": {
        "application/vnd.databricks.v1+cell": {
          "showTitle": false,
          "cellMetadata": {},
          "nuid": "682ba92a-72ec-4331-b040-38f02b260a4d",
          "inputWidgets": {},
          "title": ""
        },
        "id": "IQSq732qpVDd"
      },
      "outputs": [],
      "execution_count": null
    },
    {
      "cell_type": "code",
      "source": [
        "from sklearn.metrics import confusion_matrix, accuracy_score, recall_score, precision_score, f1_score, roc_auc_score, precision_recall_curve, roc_auc_score\n",
        "from sklearn.model_selection import train_test_split\n",
        "from imblearn.ensemble import BalancedRandomForestClassifier, BalancedBaggingClassifier, RUSBoostClassifier, EasyEnsembleClassifier\n",
        "from sklearn.tree import DecisionTreeClassifier\n",
        "from sklearn.linear_model import LogisticRegression\n",
        "from sklearn.preprocessing import MinMaxScaler, OneHotEncoder\n",
        "from sklearn.compose import ColumnTransformer\n",
        "from sklearn.metrics import precision_recall_curve, auc, roc_curve, roc_auc_score\n",
        "\n",
        "from unidecode import unidecode\n",
        "import string\n",
        "\n",
        "import joblib\n",
        "\n",
        "from dateutil.relativedelta import relativedelta\n",
        "from pyspark.sql import SparkSession\n",
        "from matplotlib.pyplot import figure\n",
        "from pyspark.sql.functions import *\n",
        "from pyspark.sql.window import *\n",
        "from pyspark.sql.types import *\n",
        "from matplotlib import interactive\n",
        "import plotly.figure_factory as ff\n",
        "import pyspark.pandas as ps\n",
        "import matplotlib.pyplot as plt\n",
        "import plotly.express as px\n",
        "import builtins as py_builtin\n",
        "import seaborn as sns \n",
        "import joblib\n",
        "import pandas as pd\n",
        "import pyspark.pandas as ps\n",
        "import numpy as np\n",
        "import datetime as dt\n",
        "import time\n",
        "import pytz\n",
        "import re\n",
        "import random\n",
        "import warnings\n",
        "from imblearn.over_sampling import SMOTE\n",
        "warnings.simplefilter('ignore')"
      ],
      "metadata": {
        "application/vnd.databricks.v1+cell": {
          "showTitle": false,
          "cellMetadata": {},
          "nuid": "d15bc4a4-8081-49a9-b04b-bdeddce0a7af",
          "inputWidgets": {},
          "title": ""
        },
        "id": "iCEeYtkJpVDe"
      },
      "outputs": [],
      "execution_count": null
    },
    {
      "cell_type": "markdown",
      "source": [
        "### Fechas"
      ],
      "metadata": {
        "application/vnd.databricks.v1+cell": {
          "showTitle": false,
          "cellMetadata": {},
          "nuid": "d003f9ec-58f2-43cc-9169-942207f085cf",
          "inputWidgets": {},
          "title": ""
        },
        "id": "PiBUELdspVDf"
      }
    },
    {
      "cell_type": "code",
      "source": [
        "#Parámetro de mes de ejecución\n",
        "#La construcción de los datos se realiza con un mes de diferencia respecto al periodo actual\n",
        "\n",
        "today = dt.date.today()\n",
        "today_file = dt.datetime.now(pytz.timezone('America/Santiago')).strftime('%Y%m%d')\n",
        "today_path = dt.datetime.now(pytz.timezone('America/Santiago')).strftime('%Y/%m/%d')\n",
        "\n",
        "first = today.replace(day=1)\n",
        "lastMonth = first - dt.timedelta(days=1)\n",
        "penMonth  = first - dt.timedelta(days=32)\n",
        "lastpenMonth  = first - dt.timedelta(days=64)\n",
        "lastyear = first - dt.timedelta(days=365)\n",
        "\n",
        "lastPeriod = lastMonth.strftime(\"%Y%m\")\n",
        "penPeriod  = penMonth.strftime(\"%Y%m\")\n",
        "lastpenPeriod  = lastpenMonth.strftime(\"%Y%m\")\n",
        "actualPeriod = today.strftime(\"%Y%m\")\n",
        "lastyearPeriod = lastyear.strftime(\"%Y%m\")\n",
        "\n",
        "print(actualPeriod,lastPeriod,penPeriod,lastpenPeriod, lastyearPeriod,today_path, today_file)"
      ],
      "metadata": {
        "application/vnd.databricks.v1+cell": {
          "showTitle": false,
          "cellMetadata": {},
          "nuid": "8bbb8f2d-f95d-4c11-944d-00925fcb4e0f",
          "inputWidgets": {},
          "title": ""
        },
        "id": "Qk7E_-HxpVDf"
      },
      "outputs": [],
      "execution_count": null
    },
    {
      "cell_type": "markdown",
      "source": [
        "### Paths"
      ],
      "metadata": {
        "application/vnd.databricks.v1+cell": {
          "showTitle": false,
          "cellMetadata": {},
          "nuid": "8a68518f-0fab-4bf2-b335-6704a886a6d9",
          "inputWidgets": {},
          "title": ""
        },
        "id": "5uH5FvmEpVDg"
      }
    },
    {
      "cell_type": "code",
      "source": [],
      "metadata": {
        "application/vnd.databricks.v1+cell": {
          "showTitle": false,
          "cellMetadata": {},
          "nuid": "813e1899-c357-4fbc-9fa9-ecb785d230ba",
          "inputWidgets": {},
          "title": ""
        },
        "id": "kifpdx0_pVDg"
      },
      "outputs": [],
      "execution_count": null
    },
    {
      "cell_type": "markdown",
      "source": [
        "### Functions"
      ],
      "metadata": {
        "application/vnd.databricks.v1+cell": {
          "showTitle": false,
          "cellMetadata": {},
          "nuid": "05c41390-aa0c-4137-9f5e-bff8dd478edd",
          "inputWidgets": {},
          "title": ""
        },
        "id": "qf-j-AsypVDh"
      }
    },
    {
      "cell_type": "code",
      "source": [],
      "metadata": {
        "application/vnd.databricks.v1+cell": {
          "showTitle": false,
          "cellMetadata": {},
          "nuid": "5313d84a-3ea0-4ffc-805e-cc626a6e0268",
          "inputWidgets": {},
          "title": ""
        },
        "id": "dlA1iOYnpVDi"
      },
      "outputs": [],
      "execution_count": null
    },
    {
      "cell_type": "markdown",
      "source": [
        "## II. Master"
      ],
      "metadata": {
        "application/vnd.databricks.v1+cell": {
          "showTitle": false,
          "cellMetadata": {},
          "nuid": "c2898bbb-762e-471d-9ccd-2f7563698eeb",
          "inputWidgets": {},
          "title": ""
        },
        "id": "K_662o1ApVDk"
      }
    },
    {
      "cell_type": "markdown",
      "source": [
        "### Imputations"
      ],
      "metadata": {
        "application/vnd.databricks.v1+cell": {
          "showTitle": false,
          "cellMetadata": {},
          "nuid": "4fbd75fc-b50c-4025-b445-d08818c4171d",
          "inputWidgets": {},
          "title": ""
        },
        "id": "j1ieYimbpVDk"
      }
    },
    {
      "cell_type": "code",
      "source": [],
      "metadata": {
        "id": "xS4aMsNnpgki"
      },
      "execution_count": null,
      "outputs": []
    },
    {
      "cell_type": "markdown",
      "source": [
        "### Registro único por empresa"
      ],
      "metadata": {
        "application/vnd.databricks.v1+cell": {
          "showTitle": false,
          "cellMetadata": {},
          "nuid": "0d57f727-3194-47ef-8502-23d5c5359840",
          "inputWidgets": {},
          "title": ""
        },
        "id": "mJ6VbRE6pVDm"
      }
    },
    {
      "cell_type": "code",
      "source": [],
      "metadata": {
        "application/vnd.databricks.v1+cell": {
          "showTitle": false,
          "cellMetadata": {},
          "nuid": "b4aa4956-e7f2-4b34-ab2c-b2ae868ee48b",
          "inputWidgets": {},
          "title": ""
        },
        "id": "2RxJt2QipVDm"
      },
      "outputs": [],
      "execution_count": null
    },
    {
      "cell_type": "markdown",
      "source": [
        "### Consolidado"
      ],
      "metadata": {
        "application/vnd.databricks.v1+cell": {
          "showTitle": false,
          "cellMetadata": {},
          "nuid": "39e15fed-c45e-4e27-aba9-54a0bfa8689a",
          "inputWidgets": {},
          "title": ""
        },
        "id": "hGgQUEJdpVDn"
      }
    },
    {
      "cell_type": "code",
      "source": [],
      "metadata": {
        "application/vnd.databricks.v1+cell": {
          "showTitle": false,
          "cellMetadata": {},
          "nuid": "31f8acc6-34df-41ed-9e2d-1339edf11a6f",
          "inputWidgets": {},
          "title": ""
        },
        "id": "R0M_N1SCpVDn"
      },
      "outputs": [],
      "execution_count": null
    },
    {
      "cell_type": "markdown",
      "source": [
        "## III. Transformations"
      ],
      "metadata": {
        "application/vnd.databricks.v1+cell": {
          "showTitle": false,
          "cellMetadata": {},
          "nuid": "6b1017e7-33f4-4785-b367-c92580077974",
          "inputWidgets": {},
          "title": ""
        },
        "id": "SGM3NsRMpVDn"
      }
    },
    {
      "cell_type": "code",
      "source": [
        "useless = []\n",
        "to_bool = []\n",
        "bools = []\n",
        "nums = []"
      ],
      "metadata": {
        "application/vnd.databricks.v1+cell": {
          "showTitle": false,
          "cellMetadata": {},
          "nuid": "f0554bbc-4ff7-45d8-85ea-ec255b4c3954",
          "inputWidgets": {},
          "title": ""
        },
        "id": "w68ktb67pVDo"
      },
      "outputs": [],
      "execution_count": null
    },
    {
      "cell_type": "code",
      "source": [
        "a = (to_bool + bools + nums + useless)  \n",
        "a.sort()\n",
        "\n",
        "b = master_desa_train.columns.tolist() \n",
        "b.sort()\n",
        "\n",
        "print(a==b)\n",
        "\n",
        "# temp = []\n",
        "# for i in b:\n",
        "#   if i not in a:\n",
        "#     temp.append(i)\n",
        "# print(temp)"
      ],
      "metadata": {
        "application/vnd.databricks.v1+cell": {
          "showTitle": false,
          "cellMetadata": {},
          "nuid": "df83f4bb-3c2b-4df8-93f4-12f99a40789d",
          "inputWidgets": {},
          "title": ""
        },
        "id": "9EDY3cA3pVDo"
      },
      "outputs": [],
      "execution_count": null
    },
    {
      "cell_type": "markdown",
      "source": [
        "## V. Data preparation"
      ],
      "metadata": {
        "application/vnd.databricks.v1+cell": {
          "showTitle": false,
          "cellMetadata": {},
          "nuid": "65e67f87-1bd2-4b09-88a3-c2269a69f1b4",
          "inputWidgets": {},
          "title": ""
        },
        "id": "GQAH1PFrpVDo"
      }
    },
    {
      "cell_type": "code",
      "source": [],
      "metadata": {
        "id": "j6Bxmc_9pr0x"
      },
      "execution_count": null,
      "outputs": []
    },
    {
      "cell_type": "markdown",
      "source": [
        "## VI. Models"
      ],
      "metadata": {
        "application/vnd.databricks.v1+cell": {
          "showTitle": false,
          "cellMetadata": {},
          "nuid": "8a4b6c18-5640-4d6a-8b01-c6604c89b63e",
          "inputWidgets": {},
          "title": ""
        },
        "id": "N1q4vpT8pVDp"
      }
    },
    {
      "cell_type": "markdown",
      "source": [
        "## Hyperparameter Tuning"
      ],
      "metadata": {
        "application/vnd.databricks.v1+cell": {
          "showTitle": false,
          "cellMetadata": {},
          "nuid": "14ab8bf8-ad50-4b86-8270-5bd1f5c95742",
          "inputWidgets": {},
          "title": ""
        },
        "id": "VaDGOoQspVDp"
      }
    },
    {
      "cell_type": "code",
      "source": [
        "!pip install optuna --quiet"
      ],
      "metadata": {
        "application/vnd.databricks.v1+cell": {
          "showTitle": false,
          "cellMetadata": {},
          "nuid": "852c0c2d-15d7-49e7-95e3-8e7454f531a1",
          "inputWidgets": {},
          "title": ""
        },
        "id": "QYQ8inxFpVDp"
      },
      "outputs": [],
      "execution_count": null
    },
    {
      "cell_type": "code",
      "source": [
        "from sklearn.model_selection import cross_val_score\n",
        "from sklearn.inspection import permutation_importance\n",
        "from sklearn.preprocessing import StandardScaler\n",
        "from sklearn import metrics\n",
        "import statsmodels.api as sm\n",
        "\n",
        "import optuna"
      ],
      "metadata": {
        "application/vnd.databricks.v1+cell": {
          "showTitle": false,
          "cellMetadata": {},
          "nuid": "dee9251b-5b21-4bbb-bb67-3bccd45128a4",
          "inputWidgets": {},
          "title": ""
        },
        "id": "nKGrWvoNpVDp"
      },
      "outputs": [],
      "execution_count": null
    },
    {
      "cell_type": "markdown",
      "source": [
        "### ROC-AUC"
      ],
      "metadata": {
        "application/vnd.databricks.v1+cell": {
          "showTitle": false,
          "cellMetadata": {},
          "nuid": "bb44a60a-c751-463e-8739-ece08b36b537",
          "inputWidgets": {},
          "title": ""
        },
        "id": "vNr0h3QGpVDq"
      }
    },
    {
      "cell_type": "code",
      "source": [
        "def objective_brfc(trial):\n",
        "  \n",
        "  x, y = X_train, y_train\n",
        "  \n",
        "  max_depth = trial.suggest_int(\"brfc_max_depth\", 2, 30)\n",
        "  n_estimators = trial.suggest_int(\"brfc_n_estimators\", 100, 200)\n",
        "  max_samples = trial.suggest_float(\"brfc_max_samples\", 0.2, 1)\n",
        "  \n",
        "  brfc_model = BalancedRandomForestClassifier(\n",
        "      max_samples = max_samples,\n",
        "      n_estimators = n_estimators,\n",
        "      max_depth = max_depth,\n",
        "      random_state = 42)\n",
        "  \n",
        "  score = cross_val_score(brfc_model, x, y, scoring='roc_auc', cv=10).mean()\n",
        "  return score"
      ],
      "metadata": {
        "application/vnd.databricks.v1+cell": {
          "showTitle": false,
          "cellMetadata": {},
          "nuid": "67809ea2-aedf-4bdf-a5a8-d76024e75ebf",
          "inputWidgets": {},
          "title": ""
        },
        "id": "K9Me2bX3pVDq"
      },
      "outputs": [],
      "execution_count": null
    },
    {
      "cell_type": "markdown",
      "source": [
        "#### Grupo 1"
      ],
      "metadata": {
        "application/vnd.databricks.v1+cell": {
          "showTitle": false,
          "cellMetadata": {},
          "nuid": "5e49ab47-28b2-4ed8-a83c-5f1df9142451",
          "inputWidgets": {},
          "title": ""
        },
        "id": "71SxBACapVDq"
      }
    },
    {
      "cell_type": "code",
      "source": [
        "study_brfc = optuna.create_study(study_name = 'BalancedRandomForestClassifier Hyperparameter Optimization | G1 | auc',direction = \"maximize\")\n",
        "study_brfc.optimize(objective_brfc, n_trials = 20)\n",
        "trial = study_brfc.best_trial\n",
        "print(\"Best Score BalancedRandomForestClassifier: \", trial.value)\n",
        "print(\"Best Params BalancedRandomForestClassifier: \")\n",
        "for key, value in trial.params.items():\n",
        "    print(\"  {}: {}\".format(key, value))"
      ],
      "metadata": {
        "application/vnd.databricks.v1+cell": {
          "showTitle": false,
          "cellMetadata": {},
          "nuid": "df09d0a2-274b-48f2-83e5-c30671befbe0",
          "inputWidgets": {},
          "title": ""
        },
        "id": "OwJ1-zbMpVDq"
      },
      "outputs": [],
      "execution_count": null
    },
    {
      "cell_type": "code",
      "source": [
        "# brfc_max_depth: 30\n",
        "#   brfc_n_estimators: 163\n",
        "#   brfc_max_samples: 0.7045364142880505"
      ],
      "metadata": {
        "application/vnd.databricks.v1+cell": {
          "showTitle": false,
          "cellMetadata": {},
          "nuid": "0be7eafd-965d-40ad-bc79-e8ba862a890d",
          "inputWidgets": {},
          "title": ""
        },
        "id": "bOXOnnFJpVDr"
      },
      "outputs": [],
      "execution_count": null
    },
    {
      "cell_type": "code",
      "source": [
        "optuna.visualization.plot_param_importances(study_brfc)"
      ],
      "metadata": {
        "application/vnd.databricks.v1+cell": {
          "showTitle": false,
          "cellMetadata": {},
          "nuid": "5b8d3d7c-1a97-468d-b603-48f929d97950",
          "inputWidgets": {},
          "title": ""
        },
        "id": "9yN0_aVHpVDr"
      },
      "outputs": [],
      "execution_count": null
    },
    {
      "cell_type": "markdown",
      "source": [
        "### F1-Score"
      ],
      "metadata": {
        "application/vnd.databricks.v1+cell": {
          "showTitle": false,
          "cellMetadata": {},
          "nuid": "e245e526-188d-4d26-9b82-01e51edb8089",
          "inputWidgets": {},
          "title": ""
        },
        "id": "Zdw2xqwkpVDr"
      }
    },
    {
      "cell_type": "code",
      "source": [
        "def objective_f1(trial):\n",
        "  \n",
        "  x, y = X_train, y_train\n",
        "  \n",
        "  max_depth = trial.suggest_int(\"brfc_max_depth\", 2, 30)\n",
        "  n_estimators = trial.suggest_int(\"brfc_n_estimators\", 100, 200)\n",
        "  max_samples = trial.suggest_float(\"brfc_max_samples\", 0.2, 1)\n",
        "  \n",
        "  brfc_model = BalancedRandomForestClassifier(\n",
        "      max_samples = max_samples,\n",
        "      n_estimators = n_estimators,\n",
        "      max_depth = max_depth,\n",
        "      random_state = 42)\n",
        "  \n",
        "  score = cross_val_score(brfc_model, x, y, scoring='f1', cv=10).mean()\n",
        "  return score"
      ],
      "metadata": {
        "application/vnd.databricks.v1+cell": {
          "showTitle": false,
          "cellMetadata": {},
          "nuid": "4a2c531e-631c-42de-9571-8d71b163d33c",
          "inputWidgets": {},
          "title": ""
        },
        "id": "Z-O1CFKJpVDs"
      },
      "outputs": [],
      "execution_count": null
    },
    {
      "cell_type": "markdown",
      "source": [
        "#### Grupo 1"
      ],
      "metadata": {
        "application/vnd.databricks.v1+cell": {
          "showTitle": false,
          "cellMetadata": {},
          "nuid": "06111bf4-9bd1-4d29-9a0f-1024e978743a",
          "inputWidgets": {},
          "title": ""
        },
        "id": "_sa90Ox5pVDs"
      }
    },
    {
      "cell_type": "code",
      "source": [
        "study_f1 = optuna.create_study(study_name = 'BalancedRandomForestClassifier Hyperparameter Optimization | G1 | f1-score',direction = \"maximize\")\n",
        "study_f1.optimize(objective_f1, n_trials = 20)\n",
        "trial_f1 = study_f1.best_trial\n",
        "print(\"Best Score BalancedRandomForestClassifier: \", trial_f1.value)\n",
        "print(\"Best Params BalancedRandomForestClassifier: \")\n",
        "for key, value in trial_f1.params.items():\n",
        "    print(\"  {}: {}\".format(key, value))"
      ],
      "metadata": {
        "application/vnd.databricks.v1+cell": {
          "showTitle": false,
          "cellMetadata": {},
          "nuid": "93329f9c-320c-46d0-99b0-6f02b282d61f",
          "inputWidgets": {},
          "title": ""
        },
        "id": "1z9TuMw9pVDs"
      },
      "outputs": [],
      "execution_count": null
    },
    {
      "cell_type": "markdown",
      "source": [
        "### Recall"
      ],
      "metadata": {
        "application/vnd.databricks.v1+cell": {
          "showTitle": false,
          "cellMetadata": {},
          "nuid": "47b147f4-2eb7-47df-88b9-dd6fec02d65a",
          "inputWidgets": {},
          "title": ""
        },
        "id": "8RARRkMcpVDs"
      }
    },
    {
      "cell_type": "code",
      "source": [
        "def objective_recall(trial):\n",
        "  \n",
        "  x, y = X_train, y_train\n",
        "  \n",
        "  max_depth = trial.suggest_int(\"brfc_max_depth\", 2, 30)\n",
        "  n_estimators = trial.suggest_int(\"brfc_n_estimators\", 100, 200)\n",
        "  max_samples = trial.suggest_float(\"brfc_max_samples\", 0.2, 1)\n",
        "  \n",
        "  brfc_model = BalancedRandomForestClassifier(\n",
        "      max_samples = max_samples,\n",
        "      n_estimators = n_estimators,\n",
        "      max_depth = max_depth,\n",
        "      random_state = 42)\n",
        "  \n",
        "  score = cross_val_score(brfc_model, x, y, scoring='recall', cv=10).mean()\n",
        "  return score"
      ],
      "metadata": {
        "application/vnd.databricks.v1+cell": {
          "showTitle": false,
          "cellMetadata": {},
          "nuid": "8d63c14b-2fd1-449e-80a2-c358ca0609a6",
          "inputWidgets": {},
          "title": ""
        },
        "id": "5_8nrLqApVDs"
      },
      "outputs": [],
      "execution_count": null
    },
    {
      "cell_type": "markdown",
      "source": [
        "#### Grupo 1"
      ],
      "metadata": {
        "application/vnd.databricks.v1+cell": {
          "showTitle": false,
          "cellMetadata": {},
          "nuid": "7593521b-f857-4f64-ae2f-ab30ab3b0ad4",
          "inputWidgets": {},
          "title": ""
        },
        "id": "mMmw5SoKpVDs"
      }
    },
    {
      "cell_type": "code",
      "source": [
        "study_recall = optuna.create_study(study_name = 'BalancedRandomForestClassifier Hyperparameter Optimization | G1 | recall',direction = \"maximize\")\n",
        "study_recall.optimize(objective_recall, n_trials = 10)\n",
        "trial_recall = study_recall.best_trial\n",
        "print(\"Best Score BalancedRandomForestClassifier: \", trial_recall.value)\n",
        "print(\"Best Params BalancedRandomForestClassifier: \")\n",
        "for key, value in trial_recall.params.items():\n",
        "    print(\"  {}: {}\".format(key, value))"
      ],
      "metadata": {
        "application/vnd.databricks.v1+cell": {
          "showTitle": false,
          "cellMetadata": {},
          "nuid": "bc1e0699-04ca-4431-9351-827a26af6ed8",
          "inputWidgets": {},
          "title": ""
        },
        "id": "58YPoI8WpVDt"
      },
      "outputs": [],
      "execution_count": null
    },
    {
      "cell_type": "markdown",
      "source": [
        "### Precision"
      ],
      "metadata": {
        "application/vnd.databricks.v1+cell": {
          "showTitle": false,
          "cellMetadata": {},
          "nuid": "33030994-e8b7-4fb7-9ec2-faf334e1ac82",
          "inputWidgets": {},
          "title": ""
        },
        "id": "xSEMXbp2pVDt"
      }
    },
    {
      "cell_type": "code",
      "source": [
        "def objective_precision(trial):\n",
        "  \n",
        "  x, y = X_train, y_train\n",
        "  \n",
        "  max_depth = trial.suggest_int(\"brfc_max_depth\", 2, 30)\n",
        "  n_estimators = trial.suggest_int(\"brfc_n_estimators\", 100, 200)\n",
        "  max_samples = trial.suggest_float(\"brfc_max_samples\", 0.2, 1)\n",
        "  \n",
        "  brfc_model = BalancedRandomForestClassifier(\n",
        "      max_samples = max_samples,\n",
        "      n_estimators = n_estimators,\n",
        "      max_depth = max_depth,\n",
        "      random_state = 42)\n",
        "  \n",
        "  score = cross_val_score(brfc_model, x, y, scoring='precision', cv=10).mean()\n",
        "  return score"
      ],
      "metadata": {
        "application/vnd.databricks.v1+cell": {
          "showTitle": false,
          "cellMetadata": {},
          "nuid": "f15493a3-c130-45be-abe2-fca91a5d0716",
          "inputWidgets": {},
          "title": ""
        },
        "id": "qdapzd8PpVDt"
      },
      "outputs": [],
      "execution_count": null
    },
    {
      "cell_type": "markdown",
      "source": [
        "#### Grupo 1"
      ],
      "metadata": {
        "application/vnd.databricks.v1+cell": {
          "showTitle": false,
          "cellMetadata": {},
          "nuid": "26193e7b-7f35-4f4c-b457-f57a4bb7fe4b",
          "inputWidgets": {},
          "title": ""
        },
        "id": "SWK6aENQpVDt"
      }
    },
    {
      "cell_type": "code",
      "source": [
        "study_precision = optuna.create_study(study_name = 'BalancedRandomForestClassifier Hyperparameter Optimization | G1 | precision',direction = \"maximize\")\n",
        "study_precision.optimize(objective_precision, n_trials = 20)\n",
        "trial_precision = study_precision.best_trial\n",
        "print(\"Best Score BalancedRandomForestClassifier: \", trial_precision.value)\n",
        "print(\"Best Params BalancedRandomForestClassifier: \")\n",
        "for key, value in trial_precision.params.items():\n",
        "    print(\"  {}: {}\".format(key, value))"
      ],
      "metadata": {
        "application/vnd.databricks.v1+cell": {
          "showTitle": false,
          "cellMetadata": {},
          "nuid": "19ba8ce6-263c-4d71-8c2c-60a33fd6f1a5",
          "inputWidgets": {},
          "title": ""
        },
        "id": "C1RFnADlpVDt"
      },
      "outputs": [],
      "execution_count": null
    },
    {
      "cell_type": "code",
      "source": [
        "'''\n",
        "Best Score BalancedRandomForestClassifier:  0.1556900277465459\n",
        "Best Params BalancedRandomForestClassifier: \n",
        "  brfc_max_depth: 13\n",
        "  brfc_n_estimators: 167\n",
        "  brfc_max_samples: 0.34869635507048075\n",
        "'''"
      ],
      "metadata": {
        "application/vnd.databricks.v1+cell": {
          "showTitle": false,
          "cellMetadata": {},
          "nuid": "49ae7b03-d70c-41a7-9a84-3655b3ef52e1",
          "inputWidgets": {},
          "title": ""
        },
        "id": "qdGN5gCIpVDt"
      },
      "outputs": [],
      "execution_count": null
    },
    {
      "cell_type": "code",
      "source": [
        "optuna.visualization.plot_param_importances(study_precision)"
      ],
      "metadata": {
        "application/vnd.databricks.v1+cell": {
          "showTitle": false,
          "cellMetadata": {},
          "nuid": "1e13ed49-b770-4d4d-aab6-281555e974fe",
          "inputWidgets": {},
          "title": ""
        },
        "id": "6hDx1agEpVDu"
      },
      "outputs": [],
      "execution_count": null
    }
  ],
  "metadata": {
    "application/vnd.databricks.v1+notebook": {
      "notebookName": "hyperparameter_tuning_desafiliacion_v12_optuna",
      "dashboards": [],
      "notebookMetadata": {
        "pythonIndentUnit": 2
      },
      "language": "python",
      "widgets": {},
      "notebookOrigID": 4158534058918190
    },
    "colab": {
      "provenance": [],
      "toc_visible": true
    }
  },
  "nbformat": 4,
  "nbformat_minor": 0
}